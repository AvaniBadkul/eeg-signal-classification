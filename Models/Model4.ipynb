{
  "nbformat": 4,
  "nbformat_minor": 0,
  "metadata": {
    "colab": {
      "name": "EEGSignalClassification.ipynb",
      "provenance": []
    },
    "kernelspec": {
      "name": "python3",
      "display_name": "Python 3"
    },
    "language_info": {
      "name": "python"
    }
  },
  "cells": [
    {
      "cell_type": "code",
      "metadata": {
        "id": "iuNWUJKJLY9T"
      },
      "source": [
        "%reset -f "
      ],
      "execution_count": 90,
      "outputs": []
    },
    {
      "cell_type": "code",
      "metadata": {
        "id": "yj4HfL7EcNRq"
      },
      "source": [
        "# libraries used\n",
        "#  https://stats.stackexchange.com/questions/181/how-to-choose-the-number-of-hidden-layers-and-nodes-in-a-feedforward-neural-netw\n",
        "import numpy as np\n",
        "import pandas as pd\n",
        "import seaborn as sns \n",
        "import matplotlib.pyplot as plt\n",
        "from sklearn.model_selection import train_test_split\n",
        "from sklearn.metrics import confusion_matrix, classification_report\n",
        "from sklearn import preprocessing\n",
        "import tensorflow as tf\n",
        "from tensorflow.keras import datasets, layers, models\n",
        "import keras \n",
        "from keras.models import Sequential\n",
        "from keras.layers import Dense, Dropout\n",
        "import itertools"
      ],
      "execution_count": 91,
      "outputs": []
    },
    {
      "cell_type": "code",
      "metadata": {
        "colab": {
          "base_uri": "https://localhost:8080/"
        },
        "id": "WYIp8Qr9ck8Z",
        "outputId": "f071a5e7-8b05-48fa-c40e-af064300f6d3"
      },
      "source": [
        "emotions = pd.read_csv(\"drive/MyDrive/EEG/emotions.csv\")\n",
        "emotions.replace(['NEGATIVE', 'POSITIVE', 'NEUTRAL'], [2, 1, 0], inplace=True)\n",
        "emotions['label'].unique()"
      ],
      "execution_count": 92,
      "outputs": [
        {
          "output_type": "execute_result",
          "data": {
            "text/plain": [
              "array([2, 0, 1])"
            ]
          },
          "metadata": {
            "tags": []
          },
          "execution_count": 92
        }
      ]
    },
    {
      "cell_type": "code",
      "metadata": {
        "id": "PvT5tTotcoS3"
      },
      "source": [
        "X = emotions.drop('label', axis=1).copy()\n",
        "y = (emotions['label'].copy())"
      ],
      "execution_count": 93,
      "outputs": []
    },
    {
      "cell_type": "code",
      "metadata": {
        "id": "GUZOuZK7crNV"
      },
      "source": [
        "# Splitting data into training and testing as 80-20 \n",
        "X_train, X_test, y_train, y_test = train_test_split(X, y, test_size=0.2, random_state=1)\n",
        "\n",
        "x = X_train #returns a numpy array\n",
        "min_max_scaler = preprocessing.MinMaxScaler()\n",
        "x_scaled = min_max_scaler.fit_transform(x)\n",
        "df = pd.DataFrame(x_scaled)"
      ],
      "execution_count": 94,
      "outputs": []
    },
    {
      "cell_type": "code",
      "metadata": {
        "id": "BhRoXS4mj6CV"
      },
      "source": [
        "#  resetting the data - https://www.tensorflow.org/api_docs/python/tf/keras/backend/clear_session\n",
        "tf.keras.backend.clear_session()"
      ],
      "execution_count": 95,
      "outputs": []
    },
    {
      "cell_type": "code",
      "metadata": {
        "colab": {
          "base_uri": "https://localhost:8080/"
        },
        "id": "k4a4vwF5cxvU",
        "outputId": "62a8b9ae-b6a7-4818-ef1a-c1860c215e11"
      },
      "source": [
        "model = Sequential()\n",
        "model.add(Dense((2*X_train.shape[1]/3), input_dim=X_train.shape[1], activation='relu'))\n",
        "model.add(Dense((2*X_train.shape[1]/3), activation='relu'))\n",
        "model.add(Dense((1*X_train.shape[1]/3), activation='relu'))\n",
        "model.add(Dense((1*X_train.shape[1]/3), activation='relu'))\n",
        "model.add(Dense(3, activation='softmax'))\n",
        "#model.compile(loss='categorical_crossentropy', optimizer='adam', metrics=['accuracy'])\n",
        "print(model.summary())\n",
        "\n",
        "\n",
        "\n"
      ],
      "execution_count": 96,
      "outputs": [
        {
          "output_type": "stream",
          "text": [
            "Model: \"sequential\"\n",
            "_________________________________________________________________\n",
            "Layer (type)                 Output Shape              Param #   \n",
            "=================================================================\n",
            "dense (Dense)                (None, 1698)              4328202   \n",
            "_________________________________________________________________\n",
            "dense_1 (Dense)              (None, 1698)              2884902   \n",
            "_________________________________________________________________\n",
            "dense_2 (Dense)              (None, 849)               1442451   \n",
            "_________________________________________________________________\n",
            "dense_3 (Dense)              (None, 849)               721650    \n",
            "_________________________________________________________________\n",
            "dense_4 (Dense)              (None, 3)                 2550      \n",
            "=================================================================\n",
            "Total params: 9,379,755\n",
            "Trainable params: 9,379,755\n",
            "Non-trainable params: 0\n",
            "_________________________________________________________________\n",
            "None\n"
          ],
          "name": "stdout"
        }
      ]
    },
    {
      "cell_type": "code",
      "metadata": {
        "id": "A2Q9BOrneeUM"
      },
      "source": [
        "# for categorical entropy\n",
        "# https://stackoverflow.com/questions/63211181/error-while-using-categorical-crossentropy\n",
        "from tensorflow.keras.utils import to_categorical\n",
        "Y_one_hot=to_categorical(y_train) # convert Y into an one-hot vector"
      ],
      "execution_count": 97,
      "outputs": []
    },
    {
      "cell_type": "code",
      "metadata": {
        "id": "NEs5ddrJeBeG"
      },
      "source": [
        "# https://stackoverflow.com/questions/59737875/keras-change-learning-rate\n",
        "#optimizer = tf.keras.optimizers.Adam(0.001)\n",
        "#optimizer.learning_rate.assign(0.01)\n",
        "\n",
        "opt = keras.optimizers.Adamax(learning_rate=0.01)\n",
        "\n",
        "model.compile(\n",
        "    optimizer=opt,\n",
        "    loss='sparse_categorical_crossentropy',\n",
        "    metrics=['accuracy']\n",
        ")\n",
        "\n",
        "# to be run for categorical cross entropy\n",
        "# model.compile(loss='categorical_crossentropy', optimizer=tf.keras.optimizers.Adam(lr=0.01), metrics=['accuracy'])\n"
      ],
      "execution_count": 98,
      "outputs": []
    },
    {
      "cell_type": "code",
      "metadata": {
        "id": "ASdP3qvxes8r",
        "colab": {
          "base_uri": "https://localhost:8080/"
        },
        "outputId": "e4b4a70f-a7b1-4b9d-df05-ad361200f314"
      },
      "source": [
        "# make sure that the input data is shuffled before hand so that the model doesn't notice patterns and generalizes well\n",
        "# change y_train to y_hot_encoded when using categorical cross entorpy\n",
        "import time\n",
        "start_time = time.time()\n",
        "history = model.fit(\n",
        "    df,\n",
        "    y_train,\n",
        "    validation_split=0.2,\n",
        "    batch_size=32,\n",
        "    epochs=75)"
      ],
      "execution_count": 99,
      "outputs": [
        {
          "output_type": "stream",
          "text": [
            "Epoch 1/75\n",
            "43/43 [==============================] - 6s 113ms/step - loss: 209.1536 - accuracy: 0.4313 - val_loss: 0.6781 - val_accuracy: 0.6510\n",
            "Epoch 2/75\n",
            "43/43 [==============================] - 4s 89ms/step - loss: 0.6349 - accuracy: 0.7028 - val_loss: 0.5960 - val_accuracy: 0.7537\n",
            "Epoch 3/75\n",
            "43/43 [==============================] - 5s 109ms/step - loss: 0.4777 - accuracy: 0.8242 - val_loss: 0.4846 - val_accuracy: 0.7390\n",
            "Epoch 4/75\n",
            "43/43 [==============================] - 4s 87ms/step - loss: 0.3897 - accuracy: 0.8437 - val_loss: 0.3488 - val_accuracy: 0.8592\n",
            "Epoch 5/75\n",
            "43/43 [==============================] - 4s 100ms/step - loss: 0.4344 - accuracy: 0.8407 - val_loss: 0.2497 - val_accuracy: 0.9355\n",
            "Epoch 6/75\n",
            "43/43 [==============================] - 4s 93ms/step - loss: 0.4597 - accuracy: 0.8241 - val_loss: 0.2394 - val_accuracy: 0.9296\n",
            "Epoch 7/75\n",
            "43/43 [==============================] - 4s 104ms/step - loss: 0.3803 - accuracy: 0.8581 - val_loss: 0.3813 - val_accuracy: 0.8299\n",
            "Epoch 8/75\n",
            "43/43 [==============================] - 5s 105ms/step - loss: 0.3676 - accuracy: 0.8687 - val_loss: 0.3140 - val_accuracy: 0.9003\n",
            "Epoch 9/75\n",
            "43/43 [==============================] - 4s 93ms/step - loss: 0.3215 - accuracy: 0.8807 - val_loss: 0.3134 - val_accuracy: 0.8798\n",
            "Epoch 10/75\n",
            "43/43 [==============================] - 4s 103ms/step - loss: 0.3567 - accuracy: 0.8699 - val_loss: 0.3825 - val_accuracy: 0.8622\n",
            "Epoch 11/75\n",
            "43/43 [==============================] - 5s 107ms/step - loss: 0.2893 - accuracy: 0.9003 - val_loss: 0.3930 - val_accuracy: 0.7977\n",
            "Epoch 12/75\n",
            "43/43 [==============================] - 5s 118ms/step - loss: 0.3411 - accuracy: 0.8755 - val_loss: 0.2566 - val_accuracy: 0.8974\n",
            "Epoch 13/75\n",
            "43/43 [==============================] - 4s 92ms/step - loss: 0.2882 - accuracy: 0.8885 - val_loss: 0.3596 - val_accuracy: 0.8534\n",
            "Epoch 14/75\n",
            "43/43 [==============================] - 4s 100ms/step - loss: 0.3656 - accuracy: 0.8475 - val_loss: 0.2812 - val_accuracy: 0.9062\n",
            "Epoch 15/75\n",
            "43/43 [==============================] - 4s 100ms/step - loss: 0.2895 - accuracy: 0.8941 - val_loss: 0.2128 - val_accuracy: 0.9326\n",
            "Epoch 16/75\n",
            "43/43 [==============================] - 4s 90ms/step - loss: 0.2699 - accuracy: 0.9008 - val_loss: 0.2268 - val_accuracy: 0.9238\n",
            "Epoch 17/75\n",
            "43/43 [==============================] - 4s 90ms/step - loss: 0.3231 - accuracy: 0.8795 - val_loss: 0.2008 - val_accuracy: 0.9326\n",
            "Epoch 18/75\n",
            "43/43 [==============================] - 4s 87ms/step - loss: 0.2391 - accuracy: 0.9196 - val_loss: 0.2343 - val_accuracy: 0.9413\n",
            "Epoch 19/75\n",
            "43/43 [==============================] - 4s 98ms/step - loss: 0.2399 - accuracy: 0.9220 - val_loss: 0.2345 - val_accuracy: 0.9238\n",
            "Epoch 20/75\n",
            "43/43 [==============================] - 4s 85ms/step - loss: 0.2832 - accuracy: 0.8852 - val_loss: 0.2244 - val_accuracy: 0.9120\n",
            "Epoch 21/75\n",
            "43/43 [==============================] - 4s 98ms/step - loss: 0.2310 - accuracy: 0.9251 - val_loss: 0.2263 - val_accuracy: 0.9267\n",
            "Epoch 22/75\n",
            "43/43 [==============================] - 4s 85ms/step - loss: 0.3016 - accuracy: 0.8958 - val_loss: 0.3312 - val_accuracy: 0.8475\n",
            "Epoch 23/75\n",
            "43/43 [==============================] - 5s 110ms/step - loss: 0.3827 - accuracy: 0.8512 - val_loss: 0.2173 - val_accuracy: 0.9326\n",
            "Epoch 24/75\n",
            "43/43 [==============================] - 4s 85ms/step - loss: 0.2676 - accuracy: 0.9001 - val_loss: 0.2942 - val_accuracy: 0.8915\n",
            "Epoch 25/75\n",
            "43/43 [==============================] - 4s 90ms/step - loss: 0.3324 - accuracy: 0.8759 - val_loss: 0.1936 - val_accuracy: 0.9296\n",
            "Epoch 26/75\n",
            "43/43 [==============================] - 4s 99ms/step - loss: 0.2279 - accuracy: 0.9110 - val_loss: 0.2933 - val_accuracy: 0.8798\n",
            "Epoch 27/75\n",
            "43/43 [==============================] - 4s 104ms/step - loss: 0.3074 - accuracy: 0.8875 - val_loss: 0.1755 - val_accuracy: 0.9326\n",
            "Epoch 28/75\n",
            "43/43 [==============================] - 4s 98ms/step - loss: 0.2122 - accuracy: 0.9193 - val_loss: 0.1824 - val_accuracy: 0.9296\n",
            "Epoch 29/75\n",
            "43/43 [==============================] - 4s 86ms/step - loss: 0.2390 - accuracy: 0.9093 - val_loss: 0.2898 - val_accuracy: 0.8944\n",
            "Epoch 30/75\n",
            "43/43 [==============================] - 4s 93ms/step - loss: 0.2349 - accuracy: 0.9148 - val_loss: 0.2001 - val_accuracy: 0.9179\n",
            "Epoch 31/75\n",
            "43/43 [==============================] - 5s 108ms/step - loss: 0.3038 - accuracy: 0.8728 - val_loss: 0.4638 - val_accuracy: 0.8387\n",
            "Epoch 32/75\n",
            "43/43 [==============================] - 4s 98ms/step - loss: 0.4520 - accuracy: 0.8293 - val_loss: 0.1822 - val_accuracy: 0.9296\n",
            "Epoch 33/75\n",
            "43/43 [==============================] - 4s 88ms/step - loss: 0.2305 - accuracy: 0.9178 - val_loss: 0.1919 - val_accuracy: 0.9120\n",
            "Epoch 34/75\n",
            "43/43 [==============================] - 4s 86ms/step - loss: 0.2130 - accuracy: 0.9126 - val_loss: 0.1909 - val_accuracy: 0.9267\n",
            "Epoch 35/75\n",
            "43/43 [==============================] - 4s 86ms/step - loss: 0.2226 - accuracy: 0.9201 - val_loss: 0.1955 - val_accuracy: 0.9208\n",
            "Epoch 36/75\n",
            "43/43 [==============================] - 4s 86ms/step - loss: 0.2260 - accuracy: 0.9090 - val_loss: 0.2425 - val_accuracy: 0.9208\n",
            "Epoch 37/75\n",
            "43/43 [==============================] - 4s 86ms/step - loss: 0.2256 - accuracy: 0.9174 - val_loss: 0.1575 - val_accuracy: 0.9326\n",
            "Epoch 38/75\n",
            "43/43 [==============================] - 4s 91ms/step - loss: 0.2023 - accuracy: 0.9232 - val_loss: 0.1873 - val_accuracy: 0.9296\n",
            "Epoch 39/75\n",
            "43/43 [==============================] - 4s 85ms/step - loss: 0.1971 - accuracy: 0.9211 - val_loss: 0.2263 - val_accuracy: 0.9296\n",
            "Epoch 40/75\n",
            "43/43 [==============================] - 4s 85ms/step - loss: 0.2570 - accuracy: 0.8919 - val_loss: 0.1539 - val_accuracy: 0.9384\n",
            "Epoch 41/75\n",
            "43/43 [==============================] - 4s 99ms/step - loss: 0.2397 - accuracy: 0.9137 - val_loss: 0.2791 - val_accuracy: 0.8915\n",
            "Epoch 42/75\n",
            "43/43 [==============================] - 4s 93ms/step - loss: 0.2050 - accuracy: 0.9114 - val_loss: 0.1590 - val_accuracy: 0.9326\n",
            "Epoch 43/75\n",
            "43/43 [==============================] - 4s 96ms/step - loss: 0.2185 - accuracy: 0.9072 - val_loss: 0.2514 - val_accuracy: 0.8827\n",
            "Epoch 44/75\n",
            "43/43 [==============================] - 5s 109ms/step - loss: 0.2175 - accuracy: 0.9025 - val_loss: 0.1558 - val_accuracy: 0.9355\n",
            "Epoch 45/75\n",
            "43/43 [==============================] - 4s 103ms/step - loss: 0.1947 - accuracy: 0.9156 - val_loss: 0.1529 - val_accuracy: 0.9355\n",
            "Epoch 46/75\n",
            "43/43 [==============================] - 4s 92ms/step - loss: 0.1510 - accuracy: 0.9523 - val_loss: 0.1790 - val_accuracy: 0.9355\n",
            "Epoch 47/75\n",
            "43/43 [==============================] - 4s 85ms/step - loss: 0.2057 - accuracy: 0.9215 - val_loss: 0.1530 - val_accuracy: 0.9384\n",
            "Epoch 48/75\n",
            "43/43 [==============================] - 4s 97ms/step - loss: 0.1703 - accuracy: 0.9375 - val_loss: 0.1674 - val_accuracy: 0.9326\n",
            "Epoch 49/75\n",
            "43/43 [==============================] - 4s 86ms/step - loss: 0.2279 - accuracy: 0.8993 - val_loss: 0.2041 - val_accuracy: 0.9062\n",
            "Epoch 50/75\n",
            "43/43 [==============================] - 4s 86ms/step - loss: 0.1998 - accuracy: 0.9214 - val_loss: 0.2717 - val_accuracy: 0.8974\n",
            "Epoch 51/75\n",
            "43/43 [==============================] - 4s 86ms/step - loss: 0.1710 - accuracy: 0.9240 - val_loss: 0.1300 - val_accuracy: 0.9501\n",
            "Epoch 52/75\n",
            "43/43 [==============================] - 4s 87ms/step - loss: 0.1393 - accuracy: 0.9519 - val_loss: 0.1561 - val_accuracy: 0.9443\n",
            "Epoch 53/75\n",
            "43/43 [==============================] - 4s 92ms/step - loss: 0.2336 - accuracy: 0.9086 - val_loss: 0.2602 - val_accuracy: 0.8768\n",
            "Epoch 54/75\n",
            "43/43 [==============================] - 4s 92ms/step - loss: 0.1735 - accuracy: 0.9450 - val_loss: 0.1316 - val_accuracy: 0.9560\n",
            "Epoch 55/75\n",
            "43/43 [==============================] - 4s 86ms/step - loss: 0.1081 - accuracy: 0.9637 - val_loss: 0.1364 - val_accuracy: 0.9443\n",
            "Epoch 56/75\n",
            "43/43 [==============================] - 4s 85ms/step - loss: 0.1598 - accuracy: 0.9449 - val_loss: 0.1089 - val_accuracy: 0.9560\n",
            "Epoch 57/75\n",
            "43/43 [==============================] - 4s 103ms/step - loss: 0.1044 - accuracy: 0.9629 - val_loss: 0.1162 - val_accuracy: 0.9560\n",
            "Epoch 58/75\n",
            "43/43 [==============================] - 4s 99ms/step - loss: 0.1307 - accuracy: 0.9556 - val_loss: 0.1707 - val_accuracy: 0.9501\n",
            "Epoch 59/75\n",
            "43/43 [==============================] - 5s 107ms/step - loss: 0.1631 - accuracy: 0.9440 - val_loss: 0.1275 - val_accuracy: 0.9589\n",
            "Epoch 60/75\n",
            "43/43 [==============================] - 5s 109ms/step - loss: 0.1595 - accuracy: 0.9349 - val_loss: 0.1026 - val_accuracy: 0.9677\n",
            "Epoch 61/75\n",
            "43/43 [==============================] - 4s 86ms/step - loss: 0.1004 - accuracy: 0.9629 - val_loss: 0.1213 - val_accuracy: 0.9589\n",
            "Epoch 62/75\n",
            "43/43 [==============================] - 4s 105ms/step - loss: 0.1849 - accuracy: 0.9246 - val_loss: 0.1266 - val_accuracy: 0.9560\n",
            "Epoch 63/75\n",
            "43/43 [==============================] - 4s 100ms/step - loss: 0.1074 - accuracy: 0.9666 - val_loss: 0.3398 - val_accuracy: 0.8563\n",
            "Epoch 64/75\n",
            "43/43 [==============================] - 4s 104ms/step - loss: 0.4397 - accuracy: 0.8694 - val_loss: 0.1514 - val_accuracy: 0.9326\n",
            "Epoch 65/75\n",
            "43/43 [==============================] - 4s 93ms/step - loss: 0.1453 - accuracy: 0.9477 - val_loss: 0.1444 - val_accuracy: 0.9501\n",
            "Epoch 66/75\n",
            "43/43 [==============================] - 4s 91ms/step - loss: 0.1045 - accuracy: 0.9682 - val_loss: 0.1497 - val_accuracy: 0.9531\n",
            "Epoch 67/75\n",
            "43/43 [==============================] - 4s 93ms/step - loss: 0.2395 - accuracy: 0.9194 - val_loss: 0.1456 - val_accuracy: 0.9238\n",
            "Epoch 68/75\n",
            "43/43 [==============================] - 4s 92ms/step - loss: 0.1607 - accuracy: 0.9323 - val_loss: 0.1820 - val_accuracy: 0.9326\n",
            "Epoch 69/75\n",
            "43/43 [==============================] - 4s 90ms/step - loss: 0.1102 - accuracy: 0.9607 - val_loss: 0.3312 - val_accuracy: 0.9179\n",
            "Epoch 70/75\n",
            "43/43 [==============================] - 4s 101ms/step - loss: 0.1711 - accuracy: 0.9390 - val_loss: 0.1457 - val_accuracy: 0.9589\n",
            "Epoch 71/75\n",
            "43/43 [==============================] - 4s 86ms/step - loss: 0.1480 - accuracy: 0.9408 - val_loss: 0.1649 - val_accuracy: 0.9443\n",
            "Epoch 72/75\n",
            "43/43 [==============================] - 4s 92ms/step - loss: 0.1216 - accuracy: 0.9492 - val_loss: 0.2138 - val_accuracy: 0.9062\n",
            "Epoch 73/75\n",
            "43/43 [==============================] - 4s 96ms/step - loss: 0.1618 - accuracy: 0.9345 - val_loss: 0.1344 - val_accuracy: 0.9648\n",
            "Epoch 74/75\n",
            "43/43 [==============================] - 4s 102ms/step - loss: 0.1245 - accuracy: 0.9505 - val_loss: 0.1434 - val_accuracy: 0.9501\n",
            "Epoch 75/75\n",
            "43/43 [==============================] - 4s 86ms/step - loss: 0.1496 - accuracy: 0.9501 - val_loss: 0.1247 - val_accuracy: 0.9472\n"
          ],
          "name": "stdout"
        }
      ]
    },
    {
      "cell_type": "code",
      "metadata": {
        "id": "vhwajgGzpvrD",
        "colab": {
          "base_uri": "https://localhost:8080/"
        },
        "outputId": "9454fba2-bc3e-4109-c9d2-d33b655524a6"
      },
      "source": [
        "history.history"
      ],
      "execution_count": 100,
      "outputs": [
        {
          "output_type": "execute_result",
          "data": {
            "text/plain": [
              "{'accuracy': [0.5212609767913818,\n",
              "  0.6737536787986755,\n",
              "  0.859237551689148,\n",
              "  0.8563050031661987,\n",
              "  0.849706768989563,\n",
              "  0.8607038259506226,\n",
              "  0.8475073575973511,\n",
              "  0.8585044145584106,\n",
              "  0.866568922996521,\n",
              "  0.8922287225723267,\n",
              "  0.892961859703064,\n",
              "  0.8973606824874878,\n",
              "  0.8731671571731567,\n",
              "  0.8504399061203003,\n",
              "  0.890762448310852,\n",
              "  0.8936949968338013,\n",
              "  0.8651026487350464,\n",
              "  0.8980938196182251,\n",
              "  0.9076246619224548,\n",
              "  0.876099705696106,\n",
              "  0.910557210445404,\n",
              "  0.8841642141342163,\n",
              "  0.8643695116043091,\n",
              "  0.8951612710952759,\n",
              "  0.900293231010437,\n",
              "  0.9068915247917175,\n",
              "  0.892961859703064,\n",
              "  0.9171554446220398,\n",
              "  0.912756621837616,\n",
              "  0.9083577990531921,\n",
              "  0.8782991170883179,\n",
              "  0.8585044145584106,\n",
              "  0.9178885817527771,\n",
              "  0.9039589166641235,\n",
              "  0.9178885817527771,\n",
              "  0.9039589166641235,\n",
              "  0.9112903475761414,\n",
              "  0.9098240733146667,\n",
              "  0.9244868159294128,\n",
              "  0.9039589166641235,\n",
              "  0.9054251909255981,\n",
              "  0.9149560332298279,\n",
              "  0.9112903475761414,\n",
              "  0.8988269567489624,\n",
              "  0.9178885817527771,\n",
              "  0.9340175986289978,\n",
              "  0.9259530901908875,\n",
              "  0.946480929851532,\n",
              "  0.8746334314346313,\n",
              "  0.9237536787986755,\n",
              "  0.9244868159294128,\n",
              "  0.9428152441978455,\n",
              "  0.9024926424026489,\n",
              "  0.936950147151947,\n",
              "  0.9560117125511169,\n",
              "  0.946480929851532,\n",
              "  0.9560117125511169,\n",
              "  0.946480929851532,\n",
              "  0.9266862273216248,\n",
              "  0.9428152441978455,\n",
              "  0.9589442610740662,\n",
              "  0.9318181872367859,\n",
              "  0.9574779868125916,\n",
              "  0.8966275453567505,\n",
              "  0.9406158328056335,\n",
              "  0.9692082405090332,\n",
              "  0.9068915247917175,\n",
              "  0.9384164214134216,\n",
              "  0.9574779868125916,\n",
              "  0.9406158328056335,\n",
              "  0.9457477927207947,\n",
              "  0.9428152441978455,\n",
              "  0.9523460268974304,\n",
              "  0.9501466155052185,\n",
              "  0.9574779868125916],\n",
              " 'loss': [67.2979736328125,\n",
              "  0.6722820401191711,\n",
              "  0.41542214155197144,\n",
              "  0.37099316716194153,\n",
              "  0.4007062613964081,\n",
              "  0.3908102512359619,\n",
              "  0.39318713545799255,\n",
              "  0.3866722881793976,\n",
              "  0.3642924129962921,\n",
              "  0.3262905776500702,\n",
              "  0.31151333451271057,\n",
              "  0.30351170897483826,\n",
              "  0.3306000530719757,\n",
              "  0.36407041549682617,\n",
              "  0.28967443108558655,\n",
              "  0.27924036979675293,\n",
              "  0.33810141682624817,\n",
              "  0.2982061505317688,\n",
              "  0.2580391764640808,\n",
              "  0.3085789978504181,\n",
              "  0.24935874342918396,\n",
              "  0.32468536496162415,\n",
              "  0.3558618128299713,\n",
              "  0.2760816216468811,\n",
              "  0.2857164740562439,\n",
              "  0.24501635134220123,\n",
              "  0.29116007685661316,\n",
              "  0.23621097207069397,\n",
              "  0.23929493129253387,\n",
              "  0.24566544592380524,\n",
              "  0.28404825925827026,\n",
              "  0.3648865818977356,\n",
              "  0.22331249713897705,\n",
              "  0.24220280349254608,\n",
              "  0.21200747787952423,\n",
              "  0.24069830775260925,\n",
              "  0.23783299326896667,\n",
              "  0.22828353941440582,\n",
              "  0.18871405720710754,\n",
              "  0.23128044605255127,\n",
              "  0.2512255907058716,\n",
              "  0.20832616090774536,\n",
              "  0.21677376329898834,\n",
              "  0.23946388065814972,\n",
              "  0.20105043053627014,\n",
              "  0.19557809829711914,\n",
              "  0.20387157797813416,\n",
              "  0.14879341423511505,\n",
              "  0.2903876304626465,\n",
              "  0.19834186136722565,\n",
              "  0.17524532973766327,\n",
              "  0.15525901317596436,\n",
              "  0.2576640248298645,\n",
              "  0.16836634278297424,\n",
              "  0.1316346824169159,\n",
              "  0.14933481812477112,\n",
              "  0.12347503751516342,\n",
              "  0.14643117785453796,\n",
              "  0.19132202863693237,\n",
              "  0.1411484181880951,\n",
              "  0.10841915756464005,\n",
              "  0.17325244843959808,\n",
              "  0.1424696147441864,\n",
              "  0.35403352975845337,\n",
              "  0.1530577391386032,\n",
              "  0.09383982419967651,\n",
              "  0.2586437463760376,\n",
              "  0.15891335904598236,\n",
              "  0.12490235269069672,\n",
              "  0.148002028465271,\n",
              "  0.14452262222766876,\n",
              "  0.1444900929927826,\n",
              "  0.12141969054937363,\n",
              "  0.12369561195373535,\n",
              "  0.12797386944293976],\n",
              " 'val_accuracy': [0.6510263681411743,\n",
              "  0.7536656856536865,\n",
              "  0.7390029430389404,\n",
              "  0.859237551689148,\n",
              "  0.9354838728904724,\n",
              "  0.929618775844574,\n",
              "  0.829912006855011,\n",
              "  0.900293231010437,\n",
              "  0.8797653913497925,\n",
              "  0.8621701002120972,\n",
              "  0.7976539731025696,\n",
              "  0.8973606824874878,\n",
              "  0.8533724546432495,\n",
              "  0.9061583280563354,\n",
              "  0.9325513243675232,\n",
              "  0.9237536787986755,\n",
              "  0.9325513243675232,\n",
              "  0.9413489699363708,\n",
              "  0.9237536787986755,\n",
              "  0.9120234847068787,\n",
              "  0.9266862273216248,\n",
              "  0.8475073575973511,\n",
              "  0.9325513243675232,\n",
              "  0.8914955854415894,\n",
              "  0.929618775844574,\n",
              "  0.8797653913497925,\n",
              "  0.9325513243675232,\n",
              "  0.929618775844574,\n",
              "  0.8944281339645386,\n",
              "  0.9178885817527771,\n",
              "  0.8387096524238586,\n",
              "  0.929618775844574,\n",
              "  0.9120234847068787,\n",
              "  0.9266862273216248,\n",
              "  0.9208211302757263,\n",
              "  0.9208211302757263,\n",
              "  0.9325513243675232,\n",
              "  0.929618775844574,\n",
              "  0.929618775844574,\n",
              "  0.9384164214134216,\n",
              "  0.8914955854415894,\n",
              "  0.9325513243675232,\n",
              "  0.8826979398727417,\n",
              "  0.9354838728904724,\n",
              "  0.9354838728904724,\n",
              "  0.9354838728904724,\n",
              "  0.9384164214134216,\n",
              "  0.9325513243675232,\n",
              "  0.9061583280563354,\n",
              "  0.8973606824874878,\n",
              "  0.9501466155052185,\n",
              "  0.9442815184593201,\n",
              "  0.8768328428268433,\n",
              "  0.9560117125511169,\n",
              "  0.9442815184593201,\n",
              "  0.9560117125511169,\n",
              "  0.9560117125511169,\n",
              "  0.9501466155052185,\n",
              "  0.9589442610740662,\n",
              "  0.9677419066429138,\n",
              "  0.9589442610740662,\n",
              "  0.9560117125511169,\n",
              "  0.8563050031661987,\n",
              "  0.9325513243675232,\n",
              "  0.9501466155052185,\n",
              "  0.9530791640281677,\n",
              "  0.9237536787986755,\n",
              "  0.9325513243675232,\n",
              "  0.9178885817527771,\n",
              "  0.9589442610740662,\n",
              "  0.9442815184593201,\n",
              "  0.9061583280563354,\n",
              "  0.9648093581199646,\n",
              "  0.9501466155052185,\n",
              "  0.9472140669822693],\n",
              " 'val_loss': [0.6780878305435181,\n",
              "  0.5960246920585632,\n",
              "  0.48461881279945374,\n",
              "  0.3488471210002899,\n",
              "  0.24971477687358856,\n",
              "  0.2394450157880783,\n",
              "  0.3812997341156006,\n",
              "  0.31395161151885986,\n",
              "  0.3133894205093384,\n",
              "  0.3824750483036041,\n",
              "  0.3929537832736969,\n",
              "  0.25658079981803894,\n",
              "  0.3595997989177704,\n",
              "  0.28120285272598267,\n",
              "  0.21282905340194702,\n",
              "  0.22682827711105347,\n",
              "  0.20084257423877716,\n",
              "  0.23432546854019165,\n",
              "  0.23453611135482788,\n",
              "  0.22441235184669495,\n",
              "  0.22631607949733734,\n",
              "  0.33119869232177734,\n",
              "  0.2173309326171875,\n",
              "  0.2942420542240143,\n",
              "  0.1936473846435547,\n",
              "  0.29326918721199036,\n",
              "  0.1755264401435852,\n",
              "  0.1823827624320984,\n",
              "  0.2898480296134949,\n",
              "  0.2000930905342102,\n",
              "  0.46381911635398865,\n",
              "  0.1821809709072113,\n",
              "  0.19189360737800598,\n",
              "  0.19091275334358215,\n",
              "  0.19552911818027496,\n",
              "  0.2425420731306076,\n",
              "  0.15747463703155518,\n",
              "  0.18730390071868896,\n",
              "  0.2262679785490036,\n",
              "  0.15393830835819244,\n",
              "  0.279122531414032,\n",
              "  0.15896204113960266,\n",
              "  0.25137001276016235,\n",
              "  0.15579386055469513,\n",
              "  0.1528722196817398,\n",
              "  0.1789967566728592,\n",
              "  0.15302674472332,\n",
              "  0.1674056500196457,\n",
              "  0.20411941409111023,\n",
              "  0.2716752290725708,\n",
              "  0.13004034757614136,\n",
              "  0.15606971085071564,\n",
              "  0.2602372467517853,\n",
              "  0.13163074851036072,\n",
              "  0.13642050325870514,\n",
              "  0.1089148074388504,\n",
              "  0.11617083102464676,\n",
              "  0.17069098353385925,\n",
              "  0.12748774886131287,\n",
              "  0.10263369232416153,\n",
              "  0.1213434487581253,\n",
              "  0.126566544175148,\n",
              "  0.3398095965385437,\n",
              "  0.1513502448797226,\n",
              "  0.1444491744041443,\n",
              "  0.14971208572387695,\n",
              "  0.14558783173561096,\n",
              "  0.18204541504383087,\n",
              "  0.3312271535396576,\n",
              "  0.1456841081380844,\n",
              "  0.16489435732364655,\n",
              "  0.21375037729740143,\n",
              "  0.1344490349292755,\n",
              "  0.14337332546710968,\n",
              "  0.12473925948143005]}"
            ]
          },
          "metadata": {
            "tags": []
          },
          "execution_count": 100
        }
      ]
    },
    {
      "cell_type": "code",
      "metadata": {
        "colab": {
          "base_uri": "https://localhost:8080/"
        },
        "id": "Kyn1dHRRJ5Wn",
        "outputId": "aa8440cd-f309-44ce-c111-d5ab2a421b36"
      },
      "source": [
        "print(\"--- %s seconds ---\" % (time.time() - start_time))\n"
      ],
      "execution_count": 101,
      "outputs": [
        {
          "output_type": "stream",
          "text": [
            "--- 323.1733500957489 seconds ---\n"
          ],
          "name": "stdout"
        }
      ]
    },
    {
      "cell_type": "code",
      "metadata": {
        "id": "rOU0i1e6jhr3"
      },
      "source": [
        "x_test = X_test #returns a numpy array\n",
        "min_max_scaler = preprocessing.MinMaxScaler()\n",
        "x_scaled_test = min_max_scaler.fit_transform(x_test)\n",
        "df_test = pd.DataFrame(x_scaled_test)"
      ],
      "execution_count": 102,
      "outputs": []
    },
    {
      "cell_type": "code",
      "metadata": {
        "id": "OgeGekJ8lW6S"
      },
      "source": [
        "predictions = model.predict(x=df_test, batch_size=32)"
      ],
      "execution_count": 103,
      "outputs": []
    },
    {
      "cell_type": "code",
      "metadata": {
        "id": "1o6zqIsfl2QX"
      },
      "source": [
        "rounded_predictions = np.argmax(predictions, axis=-1)"
      ],
      "execution_count": 104,
      "outputs": []
    },
    {
      "cell_type": "code",
      "metadata": {
        "id": "NQTy4F7TmotU"
      },
      "source": [
        "cm = confusion_matrix(y_true=y_test, y_pred=rounded_predictions)"
      ],
      "execution_count": 105,
      "outputs": []
    },
    {
      "cell_type": "code",
      "metadata": {
        "colab": {
          "base_uri": "https://localhost:8080/",
          "height": 922
        },
        "id": "rieDywHXuA6R",
        "outputId": "bdd3b1ae-412f-4ca1-9349-401521755ed8"
      },
      "source": [
        "label_mapping = {'NEGATIVE': 0, 'NEUTRAL': 1, 'POSITIVE': 2}\n",
        "# for diff dataset\n",
        "# label_mapping = {'NEGATIVE': 0, 'POSITIVE': 1}\n",
        "plt.figure(figsize=(8, 8))\n",
        "sns.heatmap(cm, annot=True, vmin=0, fmt='g', cbar=False, cmap='Blues')\n",
        "clr = classification_report(y_test, rounded_predictions, target_names=label_mapping.keys())\n",
        "plt.xticks(np.arange(3) + 0.5, label_mapping.keys())\n",
        "plt.yticks(np.arange(3) + 0.5, label_mapping.keys())\n",
        "plt.xlabel(\"Predicted\")\n",
        "plt.ylabel(\"Actual\")\n",
        "plt.title(\"Confusion Matrix\")\n",
        "plt.show()\n",
        "\n",
        "print(\"Classification Report:\\n----------------------\\n\", clr)\n",
        "\n"
      ],
      "execution_count": 106,
      "outputs": [
        {
          "output_type": "display_data",
          "data": {
            "image/png": "[encoded data removed]",
            "text/plain": [
              "<Figure size 800x800 with 1 Axes>"
            ]
          },
          "metadata": {
            "tags": []
          }
        },
        {
          "output_type": "stream",
          "text": [
            "Classification Report:\n",
            "----------------------\n",
            "               precision    recall  f1-score   support\n",
            "\n",
            "    NEGATIVE       0.61      1.00      0.76       137\n",
            "     NEUTRAL       0.35      0.41      0.38       147\n",
            "    POSITIVE       1.00      0.22      0.36       143\n",
            "\n",
            "    accuracy                           0.53       427\n",
            "   macro avg       0.65      0.54      0.50       427\n",
            "weighted avg       0.65      0.53      0.49       427\n",
            "\n"
          ],
          "name": "stdout"
        }
      ]
    },
    {
      "cell_type": "code",
      "metadata": {
        "id": "s5wbr_oav-Kb"
      },
      "source": [
        "# https://stackoverflow.com/questions/26413185/how-to-recover-matplotlib-defaults-after-setting-stylesheet\n",
        "import matplotlib as mpl\n",
        "mpl.rcParams.update(mpl.rcParamsDefault)"
      ],
      "execution_count": 107,
      "outputs": []
    },
    {
      "cell_type": "code",
      "metadata": {
        "id": "73HZGymlybP2"
      },
      "source": [
        "training_acc = history.history['accuracy']\n",
        "validation_acc = history.history['val_accuracy']\n",
        "training_loss  = history.history['loss']\n",
        "validation_loss = history.history['val_loss']"
      ],
      "execution_count": 108,
      "outputs": []
    },
    {
      "cell_type": "code",
      "metadata": {
        "colab": {
          "base_uri": "https://localhost:8080/",
          "height": 472
        },
        "id": "1jgMVKMDyxck",
        "outputId": "39b92268-eff8-49eb-f0cb-29a1aee36e7f"
      },
      "source": [
        "epochs = history.epoch\n",
        "plt.plot(epochs, training_acc, color = '#17e6e6', label='Training Accuracy')\n",
        "plt.plot(epochs, validation_acc,color = '#e61771', label='Validation Accuracy')\n",
        "plt.title('Accuracy vs Epochs')\n",
        "plt.xlabel('Epochs')\n",
        "plt.ylabel('Accuracy')\n",
        "plt.legend()\n",
        "plt.savefig('AccuracyVsEpochs.png')\n",
        "plt.show()"
      ],
      "execution_count": 109,
      "outputs": [
        {
          "output_type": "display_data",
          "data": {
            "image/png": "[encoded data removed]",
            "text/plain": [
              "<Figure size 640x480 with 1 Axes>"
            ]
          },
          "metadata": {
            "tags": []
          }
        }
      ]
    }
  ]
}