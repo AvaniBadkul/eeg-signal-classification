{
  "nbformat": 4,
  "nbformat_minor": 0,
  "metadata": {
    "colab": {
      "name": "EEGSignalClassification.ipynb",
      "provenance": []
    },
    "kernelspec": {
      "name": "python3",
      "display_name": "Python 3"
    },
    "language_info": {
      "name": "python"
    }
  },
  "cells": [
    {
      "cell_type": "code",
      "metadata": {
        "id": "iuNWUJKJLY9T"
      },
      "source": [
        "%reset -f "
      ],
      "execution_count": 110,
      "outputs": []
    },
    {
      "cell_type": "code",
      "metadata": {
        "id": "yj4HfL7EcNRq"
      },
      "source": [
        "# libraries used\n",
        "#  https://stats.stackexchange.com/questions/181/how-to-choose-the-number-of-hidden-layers-and-nodes-in-a-feedforward-neural-netw\n",
        "import numpy as np\n",
        "import pandas as pd\n",
        "import seaborn as sns \n",
        "import matplotlib.pyplot as plt\n",
        "from sklearn.model_selection import train_test_split\n",
        "from sklearn.metrics import confusion_matrix, classification_report\n",
        "from sklearn import preprocessing\n",
        "import tensorflow as tf\n",
        "from tensorflow.keras import datasets, layers, models\n",
        "import keras \n",
        "from keras.models import Sequential\n",
        "from keras.layers import Dense, Dropout\n",
        "import itertools"
      ],
      "execution_count": 111,
      "outputs": []
    },
    {
      "cell_type": "code",
      "metadata": {
        "colab": {
          "base_uri": "https://localhost:8080/"
        },
        "id": "WYIp8Qr9ck8Z",
        "outputId": "873d5fb9-6fa3-460c-8332-10d6e129d218"
      },
      "source": [
        "emotions = pd.read_csv(\"drive/MyDrive/EEG/emotions.csv\")\n",
        "emotions.replace(['NEGATIVE', 'POSITIVE', 'NEUTRAL'], [2, 1, 0], inplace=True)\n",
        "emotions['label'].unique()"
      ],
      "execution_count": 112,
      "outputs": [
        {
          "output_type": "execute_result",
          "data": {
            "text/plain": [
              "array([2, 0, 1])"
            ]
          },
          "metadata": {
            "tags": []
          },
          "execution_count": 112
        }
      ]
    },
    {
      "cell_type": "code",
      "metadata": {
        "id": "PvT5tTotcoS3"
      },
      "source": [
        "X = emotions.drop('label', axis=1).copy()\n",
        "y = (emotions['label'].copy())"
      ],
      "execution_count": 113,
      "outputs": []
    },
    {
      "cell_type": "code",
      "metadata": {
        "id": "GUZOuZK7crNV"
      },
      "source": [
        "# Splitting data into training and testing as 80-20 \n",
        "X_train, X_test, y_train, y_test = train_test_split(X, y, test_size=0.2, random_state=1)\n",
        "\n",
        "x = X_train #returns a numpy array\n",
        "min_max_scaler = preprocessing.MinMaxScaler()\n",
        "x_scaled = min_max_scaler.fit_transform(x)\n",
        "df = pd.DataFrame(x_scaled)"
      ],
      "execution_count": 114,
      "outputs": []
    },
    {
      "cell_type": "code",
      "metadata": {
        "id": "BhRoXS4mj6CV"
      },
      "source": [
        "#  resetting the data - https://www.tensorflow.org/api_docs/python/tf/keras/backend/clear_session\n",
        "tf.keras.backend.clear_session()"
      ],
      "execution_count": 115,
      "outputs": []
    },
    {
      "cell_type": "code",
      "metadata": {
        "colab": {
          "base_uri": "https://localhost:8080/"
        },
        "id": "k4a4vwF5cxvU",
        "outputId": "b4c24664-53ef-4b6d-f3c0-f2510d0ed0a5"
      },
      "source": [
        "model = Sequential()\n",
        "model.add(Dense((2*X_train.shape[1]/3), input_dim=X_train.shape[1], activation='relu'))\n",
        "model.add(Dense((2*X_train.shape[1]/3), activation='relu'))\n",
        "model.add(Dense((1*X_train.shape[1]/3), activation='relu'))\n",
        "model.add(Dense((1*X_train.shape[1]/3), activation='relu'))\n",
        "model.add(Dense(3, activation='softmax'))\n",
        "#model.compile(loss='categorical_crossentropy', optimizer='adam', metrics=['accuracy'])\n",
        "print(model.summary())\n",
        "\n",
        "\n",
        "\n"
      ],
      "execution_count": 116,
      "outputs": [
        {
          "output_type": "stream",
          "text": [
            "Model: \"sequential\"\n",
            "_________________________________________________________________\n",
            "Layer (type)                 Output Shape              Param #   \n",
            "=================================================================\n",
            "dense (Dense)                (None, 1698)              4328202   \n",
            "_________________________________________________________________\n",
            "dense_1 (Dense)              (None, 1698)              2884902   \n",
            "_________________________________________________________________\n",
            "dense_2 (Dense)              (None, 849)               1442451   \n",
            "_________________________________________________________________\n",
            "dense_3 (Dense)              (None, 849)               721650    \n",
            "_________________________________________________________________\n",
            "dense_4 (Dense)              (None, 3)                 2550      \n",
            "=================================================================\n",
            "Total params: 9,379,755\n",
            "Trainable params: 9,379,755\n",
            "Non-trainable params: 0\n",
            "_________________________________________________________________\n",
            "None\n"
          ],
          "name": "stdout"
        }
      ]
    },
    {
      "cell_type": "code",
      "metadata": {
        "id": "A2Q9BOrneeUM"
      },
      "source": [
        "# for categorical entropy\n",
        "# https://stackoverflow.com/questions/63211181/error-while-using-categorical-crossentropy\n",
        "from tensorflow.keras.utils import to_categorical\n",
        "Y_one_hot=to_categorical(y_train) # convert Y into an one-hot vector"
      ],
      "execution_count": 117,
      "outputs": []
    },
    {
      "cell_type": "code",
      "metadata": {
        "id": "NEs5ddrJeBeG"
      },
      "source": [
        "# https://stackoverflow.com/questions/59737875/keras-change-learning-rate\n",
        "#optimizer = tf.keras.optimizers.Adam(0.001)\n",
        "#optimizer.learning_rate.assign(0.01)\n",
        "\n",
        "opt = keras.optimizers.Adamax(learning_rate=0.001)\n",
        "\n",
        "model.compile(\n",
        "    optimizer=opt,\n",
        "    loss='sparse_categorical_crossentropy',\n",
        "    metrics=['accuracy']\n",
        ")\n",
        "\n",
        "# to be run for categorical cross entropy\n",
        "# model.compile(loss='categorical_crossentropy', optimizer=tf.keras.optimizers.Adam(lr=0.01), metrics=['accuracy'])\n"
      ],
      "execution_count": 118,
      "outputs": []
    },
    {
      "cell_type": "code",
      "metadata": {
        "id": "ASdP3qvxes8r",
        "colab": {
          "base_uri": "https://localhost:8080/"
        },
        "outputId": "72d01678-e997-4fe6-ea03-d936ac896dfe"
      },
      "source": [
        "# make sure that the input data is shuffled before hand so that the model doesn't notice patterns and generalizes well\n",
        "# change y_train to y_hot_encoded when using categorical cross entorpy\n",
        "import time\n",
        "start_time = time.time()\n",
        "history = model.fit(\n",
        "    df,\n",
        "    y_train,\n",
        "    validation_split=0.2,\n",
        "    batch_size=32,\n",
        "    epochs=75)"
      ],
      "execution_count": 119,
      "outputs": [
        {
          "output_type": "stream",
          "text": [
            "Epoch 1/75\n",
            "43/43 [==============================] - 5s 95ms/step - loss: 1.5793 - accuracy: 0.4826 - val_loss: 0.5238 - val_accuracy: 0.8915\n",
            "Epoch 2/75\n",
            "43/43 [==============================] - 4s 89ms/step - loss: 0.4922 - accuracy: 0.8225 - val_loss: 0.3254 - val_accuracy: 0.8886\n",
            "Epoch 3/75\n",
            "43/43 [==============================] - 4s 102ms/step - loss: 0.4242 - accuracy: 0.8492 - val_loss: 0.5241 - val_accuracy: 0.7390\n",
            "Epoch 4/75\n",
            "43/43 [==============================] - 5s 124ms/step - loss: 0.3742 - accuracy: 0.8520 - val_loss: 0.2720 - val_accuracy: 0.8974\n",
            "Epoch 5/75\n",
            "43/43 [==============================] - 4s 93ms/step - loss: 0.3886 - accuracy: 0.8466 - val_loss: 0.2901 - val_accuracy: 0.8856\n",
            "Epoch 6/75\n",
            "43/43 [==============================] - 4s 92ms/step - loss: 0.3564 - accuracy: 0.8569 - val_loss: 0.2733 - val_accuracy: 0.9062\n",
            "Epoch 7/75\n",
            "43/43 [==============================] - 4s 86ms/step - loss: 0.3365 - accuracy: 0.8634 - val_loss: 0.4045 - val_accuracy: 0.8328\n",
            "Epoch 8/75\n",
            "43/43 [==============================] - 4s 96ms/step - loss: 0.3571 - accuracy: 0.8549 - val_loss: 0.2266 - val_accuracy: 0.9296\n",
            "Epoch 9/75\n",
            "43/43 [==============================] - 4s 88ms/step - loss: 0.2874 - accuracy: 0.9051 - val_loss: 0.6655 - val_accuracy: 0.7537\n",
            "Epoch 10/75\n",
            "43/43 [==============================] - 4s 85ms/step - loss: 0.3789 - accuracy: 0.8600 - val_loss: 0.3118 - val_accuracy: 0.8798\n",
            "Epoch 11/75\n",
            "43/43 [==============================] - 4s 98ms/step - loss: 0.2882 - accuracy: 0.9007 - val_loss: 0.3268 - val_accuracy: 0.8475\n",
            "Epoch 12/75\n",
            "43/43 [==============================] - 4s 92ms/step - loss: 0.3714 - accuracy: 0.8561 - val_loss: 0.1988 - val_accuracy: 0.9326\n",
            "Epoch 13/75\n",
            "43/43 [==============================] - 4s 92ms/step - loss: 0.2865 - accuracy: 0.8982 - val_loss: 0.3110 - val_accuracy: 0.8798\n",
            "Epoch 14/75\n",
            "43/43 [==============================] - 4s 85ms/step - loss: 0.3114 - accuracy: 0.8862 - val_loss: 0.2069 - val_accuracy: 0.9296\n",
            "Epoch 15/75\n",
            "43/43 [==============================] - 4s 85ms/step - loss: 0.3094 - accuracy: 0.8817 - val_loss: 0.2043 - val_accuracy: 0.9296\n",
            "Epoch 16/75\n",
            "43/43 [==============================] - 4s 85ms/step - loss: 0.2705 - accuracy: 0.8915 - val_loss: 0.2936 - val_accuracy: 0.8651\n",
            "Epoch 17/75\n",
            "43/43 [==============================] - 4s 93ms/step - loss: 0.2856 - accuracy: 0.9011 - val_loss: 0.5897 - val_accuracy: 0.7713\n",
            "Epoch 18/75\n",
            "43/43 [==============================] - 4s 87ms/step - loss: 0.4381 - accuracy: 0.8204 - val_loss: 0.2727 - val_accuracy: 0.8915\n",
            "Epoch 19/75\n",
            "43/43 [==============================] - 4s 91ms/step - loss: 0.2904 - accuracy: 0.8902 - val_loss: 0.1962 - val_accuracy: 0.9326\n",
            "Epoch 20/75\n",
            "43/43 [==============================] - 4s 95ms/step - loss: 0.2653 - accuracy: 0.9119 - val_loss: 0.2961 - val_accuracy: 0.8710\n",
            "Epoch 21/75\n",
            "43/43 [==============================] - 4s 95ms/step - loss: 0.2910 - accuracy: 0.8830 - val_loss: 0.2271 - val_accuracy: 0.9296\n",
            "Epoch 22/75\n",
            "43/43 [==============================] - 4s 101ms/step - loss: 0.2354 - accuracy: 0.9140 - val_loss: 0.2866 - val_accuracy: 0.8798\n",
            "Epoch 23/75\n",
            "43/43 [==============================] - 4s 102ms/step - loss: 0.3065 - accuracy: 0.8746 - val_loss: 0.3057 - val_accuracy: 0.8622\n",
            "Epoch 24/75\n",
            "43/43 [==============================] - 4s 92ms/step - loss: 0.2279 - accuracy: 0.9159 - val_loss: 0.1812 - val_accuracy: 0.9267\n",
            "Epoch 25/75\n",
            "43/43 [==============================] - 4s 89ms/step - loss: 0.2224 - accuracy: 0.9216 - val_loss: 0.1933 - val_accuracy: 0.9267\n",
            "Epoch 26/75\n",
            "43/43 [==============================] - 4s 101ms/step - loss: 0.1902 - accuracy: 0.9348 - val_loss: 0.2797 - val_accuracy: 0.8827\n",
            "Epoch 27/75\n",
            "43/43 [==============================] - 4s 102ms/step - loss: 0.2246 - accuracy: 0.9169 - val_loss: 0.2517 - val_accuracy: 0.8974\n",
            "Epoch 28/75\n",
            "43/43 [==============================] - 4s 87ms/step - loss: 0.2193 - accuracy: 0.9173 - val_loss: 0.1996 - val_accuracy: 0.9355\n",
            "Epoch 29/75\n",
            "43/43 [==============================] - 5s 106ms/step - loss: 0.2051 - accuracy: 0.9156 - val_loss: 0.1775 - val_accuracy: 0.9296\n",
            "Epoch 30/75\n",
            "43/43 [==============================] - 4s 87ms/step - loss: 0.2106 - accuracy: 0.9164 - val_loss: 0.1491 - val_accuracy: 0.9472\n",
            "Epoch 31/75\n",
            "43/43 [==============================] - 4s 86ms/step - loss: 0.1790 - accuracy: 0.9328 - val_loss: 0.1373 - val_accuracy: 0.9472\n",
            "Epoch 32/75\n",
            "43/43 [==============================] - 4s 93ms/step - loss: 0.1982 - accuracy: 0.9176 - val_loss: 0.3198 - val_accuracy: 0.8299\n",
            "Epoch 33/75\n",
            "43/43 [==============================] - 4s 89ms/step - loss: 0.2161 - accuracy: 0.9129 - val_loss: 0.1808 - val_accuracy: 0.9267\n",
            "Epoch 34/75\n",
            "43/43 [==============================] - 5s 108ms/step - loss: 0.2114 - accuracy: 0.9210 - val_loss: 0.2229 - val_accuracy: 0.9150\n",
            "Epoch 35/75\n",
            "43/43 [==============================] - 4s 92ms/step - loss: 0.1655 - accuracy: 0.9416 - val_loss: 0.1742 - val_accuracy: 0.9208\n",
            "Epoch 36/75\n",
            "43/43 [==============================] - 5s 106ms/step - loss: 0.1356 - accuracy: 0.9510 - val_loss: 0.1408 - val_accuracy: 0.9501\n",
            "Epoch 37/75\n",
            "43/43 [==============================] - 4s 99ms/step - loss: 0.1478 - accuracy: 0.9531 - val_loss: 0.1835 - val_accuracy: 0.9179\n",
            "Epoch 38/75\n",
            "43/43 [==============================] - 4s 86ms/step - loss: 0.1424 - accuracy: 0.9490 - val_loss: 0.1514 - val_accuracy: 0.9472\n",
            "Epoch 39/75\n",
            "43/43 [==============================] - 4s 85ms/step - loss: 0.1790 - accuracy: 0.9387 - val_loss: 0.1410 - val_accuracy: 0.9501\n",
            "Epoch 40/75\n",
            "43/43 [==============================] - 4s 93ms/step - loss: 0.1406 - accuracy: 0.9427 - val_loss: 0.1365 - val_accuracy: 0.9472\n",
            "Epoch 41/75\n",
            "43/43 [==============================] - 4s 94ms/step - loss: 0.1382 - accuracy: 0.9469 - val_loss: 0.1281 - val_accuracy: 0.9443\n",
            "Epoch 42/75\n",
            "43/43 [==============================] - 4s 95ms/step - loss: 0.1260 - accuracy: 0.9555 - val_loss: 0.1102 - val_accuracy: 0.9677\n",
            "Epoch 43/75\n",
            "43/43 [==============================] - 4s 86ms/step - loss: 0.1359 - accuracy: 0.9444 - val_loss: 0.1168 - val_accuracy: 0.9736\n",
            "Epoch 44/75\n",
            "43/43 [==============================] - 4s 97ms/step - loss: 0.1274 - accuracy: 0.9561 - val_loss: 0.1599 - val_accuracy: 0.9443\n",
            "Epoch 45/75\n",
            "43/43 [==============================] - 5s 107ms/step - loss: 0.1231 - accuracy: 0.9502 - val_loss: 0.1080 - val_accuracy: 0.9560\n",
            "Epoch 46/75\n",
            "43/43 [==============================] - 5s 110ms/step - loss: 0.1197 - accuracy: 0.9555 - val_loss: 0.2282 - val_accuracy: 0.9091\n",
            "Epoch 47/75\n",
            "43/43 [==============================] - 4s 101ms/step - loss: 0.1329 - accuracy: 0.9528 - val_loss: 0.0980 - val_accuracy: 0.9677\n",
            "Epoch 48/75\n",
            "43/43 [==============================] - 4s 90ms/step - loss: 0.0700 - accuracy: 0.9759 - val_loss: 0.0969 - val_accuracy: 0.9707\n",
            "Epoch 49/75\n",
            "43/43 [==============================] - 4s 87ms/step - loss: 0.0691 - accuracy: 0.9765 - val_loss: 0.1118 - val_accuracy: 0.9589\n",
            "Epoch 50/75\n",
            "43/43 [==============================] - 4s 93ms/step - loss: 0.0910 - accuracy: 0.9666 - val_loss: 0.1216 - val_accuracy: 0.9648\n",
            "Epoch 51/75\n",
            "43/43 [==============================] - 4s 90ms/step - loss: 0.0959 - accuracy: 0.9600 - val_loss: 0.1685 - val_accuracy: 0.9413\n",
            "Epoch 52/75\n",
            "43/43 [==============================] - 4s 95ms/step - loss: 0.1721 - accuracy: 0.9402 - val_loss: 0.1108 - val_accuracy: 0.9531\n",
            "Epoch 53/75\n",
            "43/43 [==============================] - 4s 101ms/step - loss: 0.0948 - accuracy: 0.9630 - val_loss: 0.0979 - val_accuracy: 0.9589\n",
            "Epoch 54/75\n",
            "43/43 [==============================] - 5s 108ms/step - loss: 0.0496 - accuracy: 0.9886 - val_loss: 0.0993 - val_accuracy: 0.9707\n",
            "Epoch 55/75\n",
            "43/43 [==============================] - 4s 98ms/step - loss: 0.0595 - accuracy: 0.9785 - val_loss: 0.2111 - val_accuracy: 0.9384\n",
            "Epoch 56/75\n",
            "43/43 [==============================] - 4s 103ms/step - loss: 0.1778 - accuracy: 0.9447 - val_loss: 0.1154 - val_accuracy: 0.9619\n",
            "Epoch 57/75\n",
            "43/43 [==============================] - 4s 93ms/step - loss: 0.0717 - accuracy: 0.9692 - val_loss: 0.0836 - val_accuracy: 0.9707\n",
            "Epoch 58/75\n",
            "43/43 [==============================] - 4s 96ms/step - loss: 0.0622 - accuracy: 0.9794 - val_loss: 0.1027 - val_accuracy: 0.9648\n",
            "Epoch 59/75\n",
            "43/43 [==============================] - 4s 96ms/step - loss: 0.0718 - accuracy: 0.9762 - val_loss: 0.0815 - val_accuracy: 0.9824\n",
            "Epoch 60/75\n",
            "43/43 [==============================] - 4s 86ms/step - loss: 0.0439 - accuracy: 0.9879 - val_loss: 0.1117 - val_accuracy: 0.9619\n",
            "Epoch 61/75\n",
            "43/43 [==============================] - 4s 92ms/step - loss: 0.1192 - accuracy: 0.9554 - val_loss: 0.1380 - val_accuracy: 0.9531\n",
            "Epoch 62/75\n",
            "43/43 [==============================] - 4s 87ms/step - loss: 0.0479 - accuracy: 0.9828 - val_loss: 0.3742 - val_accuracy: 0.8387\n",
            "Epoch 63/75\n",
            "43/43 [==============================] - 4s 93ms/step - loss: 0.1110 - accuracy: 0.9598 - val_loss: 0.0938 - val_accuracy: 0.9589\n",
            "Epoch 64/75\n",
            "43/43 [==============================] - 4s 89ms/step - loss: 0.0372 - accuracy: 0.9868 - val_loss: 0.1304 - val_accuracy: 0.9501\n",
            "Epoch 65/75\n",
            "43/43 [==============================] - 5s 110ms/step - loss: 0.0505 - accuracy: 0.9801 - val_loss: 0.1164 - val_accuracy: 0.9677\n",
            "Epoch 66/75\n",
            "43/43 [==============================] - 4s 93ms/step - loss: 0.0351 - accuracy: 0.9894 - val_loss: 0.1201 - val_accuracy: 0.9707\n",
            "Epoch 67/75\n",
            "43/43 [==============================] - 4s 91ms/step - loss: 0.1285 - accuracy: 0.9534 - val_loss: 0.1580 - val_accuracy: 0.9501\n",
            "Epoch 68/75\n",
            "43/43 [==============================] - 5s 111ms/step - loss: 0.0605 - accuracy: 0.9810 - val_loss: 0.0664 - val_accuracy: 0.9883\n",
            "Epoch 69/75\n",
            "43/43 [==============================] - 4s 103ms/step - loss: 0.0315 - accuracy: 0.9930 - val_loss: 0.2266 - val_accuracy: 0.9062\n",
            "Epoch 70/75\n",
            "43/43 [==============================] - 4s 86ms/step - loss: 0.1003 - accuracy: 0.9576 - val_loss: 0.0962 - val_accuracy: 0.9648\n",
            "Epoch 71/75\n",
            "43/43 [==============================] - 4s 93ms/step - loss: 0.0805 - accuracy: 0.9645 - val_loss: 0.1658 - val_accuracy: 0.9326\n",
            "Epoch 72/75\n",
            "43/43 [==============================] - 4s 87ms/step - loss: 0.0597 - accuracy: 0.9754 - val_loss: 0.1268 - val_accuracy: 0.9560\n",
            "Epoch 73/75\n",
            "43/43 [==============================] - 4s 86ms/step - loss: 0.0496 - accuracy: 0.9787 - val_loss: 0.0748 - val_accuracy: 0.9736\n",
            "Epoch 74/75\n",
            "43/43 [==============================] - 4s 99ms/step - loss: 0.0474 - accuracy: 0.9831 - val_loss: 0.3915 - val_accuracy: 0.8915\n",
            "Epoch 75/75\n",
            "43/43 [==============================] - 4s 99ms/step - loss: 0.1708 - accuracy: 0.9501 - val_loss: 0.1537 - val_accuracy: 0.9472\n"
          ],
          "name": "stdout"
        }
      ]
    },
    {
      "cell_type": "code",
      "metadata": {
        "id": "vhwajgGzpvrD",
        "colab": {
          "base_uri": "https://localhost:8080/"
        },
        "outputId": "b811bbf6-8a36-4bcb-99a1-6805f58c3709"
      },
      "source": [
        "history.history"
      ],
      "execution_count": 120,
      "outputs": [
        {
          "output_type": "execute_result",
          "data": {
            "text/plain": [
              "{'accuracy': [0.5982404947280884,\n",
              "  0.837243378162384,\n",
              "  0.8277125954627991,\n",
              "  0.876099705696106,\n",
              "  0.8409090638160706,\n",
              "  0.8819648027420044,\n",
              "  0.8724340200424194,\n",
              "  0.8819648027420044,\n",
              "  0.8790322542190552,\n",
              "  0.8878298997879028,\n",
              "  0.8695014715194702,\n",
              "  0.8885630369186401,\n",
              "  0.8841642141342163,\n",
              "  0.892961859703064,\n",
              "  0.8753665685653687,\n",
              "  0.8878298997879028,\n",
              "  0.8900293111801147,\n",
              "  0.857038140296936,\n",
              "  0.8988269567489624,\n",
              "  0.9039589166641235,\n",
              "  0.8995600938796997,\n",
              "  0.8944281339645386,\n",
              "  0.8717008829116821,\n",
              "  0.9178885817527771,\n",
              "  0.9142228960990906,\n",
              "  0.9171554446220398,\n",
              "  0.9288856387138367,\n",
              "  0.910557210445404,\n",
              "  0.910557210445404,\n",
              "  0.9068915247917175,\n",
              "  0.9274193644523621,\n",
              "  0.9178885817527771,\n",
              "  0.9120234847068787,\n",
              "  0.9149560332298279,\n",
              "  0.9457477927207947,\n",
              "  0.9508797526359558,\n",
              "  0.9486803412437439,\n",
              "  0.953812301158905,\n",
              "  0.9530791640281677,\n",
              "  0.936950147151947,\n",
              "  0.9420821070671082,\n",
              "  0.9618768095970154,\n",
              "  0.9193548560142517,\n",
              "  0.9530791640281677,\n",
              "  0.9596773982048035,\n",
              "  0.9442815184593201,\n",
              "  0.9670087695121765,\n",
              "  0.9765396118164062,\n",
              "  0.9721407890319824,\n",
              "  0.9596773982048035,\n",
              "  0.9626099467277527,\n",
              "  0.9508797526359558,\n",
              "  0.9677419066429138,\n",
              "  0.9882698059082031,\n",
              "  0.9721407890319824,\n",
              "  0.9567448496818542,\n",
              "  0.9728739261627197,\n",
              "  0.9780058860778809,\n",
              "  0.973607063293457,\n",
              "  0.9802052974700928,\n",
              "  0.9626099467277527,\n",
              "  0.9692082405090332,\n",
              "  0.9743402004241943,\n",
              "  0.9912023544311523,\n",
              "  0.9846041202545166,\n",
              "  0.9897360801696777,\n",
              "  0.9486803412437439,\n",
              "  0.9838709831237793,\n",
              "  0.9802052974700928,\n",
              "  0.9699413776397705,\n",
              "  0.9648093581199646,\n",
              "  0.9780058860778809,\n",
              "  0.9780058860778809,\n",
              "  0.9765396118164062,\n",
              "  0.9582111239433289],\n",
              " 'loss': [1.0514525175094604,\n",
              "  0.45493239164352417,\n",
              "  0.45026126503944397,\n",
              "  0.3497351109981537,\n",
              "  0.39392542839050293,\n",
              "  0.3225395977497101,\n",
              "  0.3412633240222931,\n",
              "  0.31771790981292725,\n",
              "  0.31992119550704956,\n",
              "  0.3179619610309601,\n",
              "  0.34959936141967773,\n",
              "  0.3033309876918793,\n",
              "  0.3226674795150757,\n",
              "  0.293161004781723,\n",
              "  0.313312828540802,\n",
              "  0.2837677597999573,\n",
              "  0.2985944449901581,\n",
              "  0.3449440598487854,\n",
              "  0.2723616063594818,\n",
              "  0.2730647921562195,\n",
              "  0.2554172873497009,\n",
              "  0.26799559593200684,\n",
              "  0.3133840560913086,\n",
              "  0.23585747182369232,\n",
              "  0.23255504667758942,\n",
              "  0.2203991860151291,\n",
              "  0.2064799666404724,\n",
              "  0.25005194544792175,\n",
              "  0.22293220460414886,\n",
              "  0.22962990403175354,\n",
              "  0.17991268634796143,\n",
              "  0.20974311232566833,\n",
              "  0.22611276805400848,\n",
              "  0.21287858486175537,\n",
              "  0.15542027354240417,\n",
              "  0.14962302148342133,\n",
              "  0.15250390768051147,\n",
              "  0.1321508139371872,\n",
              "  0.1380397379398346,\n",
              "  0.15547312796115875,\n",
              "  0.14723069965839386,\n",
              "  0.11443496495485306,\n",
              "  0.2025924026966095,\n",
              "  0.12901829183101654,\n",
              "  0.10511360317468643,\n",
              "  0.1456528902053833,\n",
              "  0.09507288038730621,\n",
              "  0.07133577018976212,\n",
              "  0.07967706769704819,\n",
              "  0.11179003119468689,\n",
              "  0.09616224467754364,\n",
              "  0.14636702835559845,\n",
              "  0.08233330398797989,\n",
              "  0.04705692455172539,\n",
              "  0.07367882877588272,\n",
              "  0.135898157954216,\n",
              "  0.07169585675001144,\n",
              "  0.06799403578042984,\n",
              "  0.07363910228013992,\n",
              "  0.05739831179380417,\n",
              "  0.10418067872524261,\n",
              "  0.08008494228124619,\n",
              "  0.07616545259952545,\n",
              "  0.03232336789369583,\n",
              "  0.04644499346613884,\n",
              "  0.036996420472860336,\n",
              "  0.1456305831670761,\n",
              "  0.05117739737033844,\n",
              "  0.06304122507572174,\n",
              "  0.06997757405042648,\n",
              "  0.08385322242975235,\n",
              "  0.056040335446596146,\n",
              "  0.052732713520526886,\n",
              "  0.06301075965166092,\n",
              "  0.13660505414009094],\n",
              " 'val_accuracy': [0.8914955854415894,\n",
              "  0.8885630369186401,\n",
              "  0.7390029430389404,\n",
              "  0.8973606824874878,\n",
              "  0.8856304883956909,\n",
              "  0.9061583280563354,\n",
              "  0.8328445553779602,\n",
              "  0.929618775844574,\n",
              "  0.7536656856536865,\n",
              "  0.8797653913497925,\n",
              "  0.8475073575973511,\n",
              "  0.9325513243675232,\n",
              "  0.8797653913497925,\n",
              "  0.929618775844574,\n",
              "  0.929618775844574,\n",
              "  0.8651026487350464,\n",
              "  0.7712609767913818,\n",
              "  0.8914955854415894,\n",
              "  0.9325513243675232,\n",
              "  0.8709677457809448,\n",
              "  0.929618775844574,\n",
              "  0.8797653913497925,\n",
              "  0.8621701002120972,\n",
              "  0.9266862273216248,\n",
              "  0.9266862273216248,\n",
              "  0.8826979398727417,\n",
              "  0.8973606824874878,\n",
              "  0.9354838728904724,\n",
              "  0.929618775844574,\n",
              "  0.9472140669822693,\n",
              "  0.9472140669822693,\n",
              "  0.829912006855011,\n",
              "  0.9266862273216248,\n",
              "  0.9149560332298279,\n",
              "  0.9208211302757263,\n",
              "  0.9501466155052185,\n",
              "  0.9178885817527771,\n",
              "  0.9472140669822693,\n",
              "  0.9501466155052185,\n",
              "  0.9472140669822693,\n",
              "  0.9442815184593201,\n",
              "  0.9677419066429138,\n",
              "  0.973607063293457,\n",
              "  0.9442815184593201,\n",
              "  0.9560117125511169,\n",
              "  0.9090909361839294,\n",
              "  0.9677419066429138,\n",
              "  0.9706745147705078,\n",
              "  0.9589442610740662,\n",
              "  0.9648093581199646,\n",
              "  0.9413489699363708,\n",
              "  0.9530791640281677,\n",
              "  0.9589442610740662,\n",
              "  0.9706745147705078,\n",
              "  0.9384164214134216,\n",
              "  0.9618768095970154,\n",
              "  0.9706745147705078,\n",
              "  0.9648093581199646,\n",
              "  0.9824047088623047,\n",
              "  0.9618768095970154,\n",
              "  0.9530791640281677,\n",
              "  0.8387096524238586,\n",
              "  0.9589442610740662,\n",
              "  0.9501466155052185,\n",
              "  0.9677419066429138,\n",
              "  0.9706745147705078,\n",
              "  0.9501466155052185,\n",
              "  0.9882698059082031,\n",
              "  0.9061583280563354,\n",
              "  0.9648093581199646,\n",
              "  0.9325513243675232,\n",
              "  0.9560117125511169,\n",
              "  0.973607063293457,\n",
              "  0.8914955854415894,\n",
              "  0.9472140669822693],\n",
              " 'val_loss': [0.5238343477249146,\n",
              "  0.3254058361053467,\n",
              "  0.5241082310676575,\n",
              "  0.27195507287979126,\n",
              "  0.2900967001914978,\n",
              "  0.27329063415527344,\n",
              "  0.40451863408088684,\n",
              "  0.22655001282691956,\n",
              "  0.6655365824699402,\n",
              "  0.3117784857749939,\n",
              "  0.32680079340934753,\n",
              "  0.1988178789615631,\n",
              "  0.31095853447914124,\n",
              "  0.20686602592468262,\n",
              "  0.20433580875396729,\n",
              "  0.29363182187080383,\n",
              "  0.589678168296814,\n",
              "  0.27268528938293457,\n",
              "  0.19624850153923035,\n",
              "  0.2961236834526062,\n",
              "  0.22707499563694,\n",
              "  0.28655651211738586,\n",
              "  0.30568331480026245,\n",
              "  0.1812068521976471,\n",
              "  0.1932995766401291,\n",
              "  0.2796877324581146,\n",
              "  0.2517228126525879,\n",
              "  0.19958022236824036,\n",
              "  0.17752976715564728,\n",
              "  0.1491086781024933,\n",
              "  0.137302964925766,\n",
              "  0.31980404257774353,\n",
              "  0.18080271780490875,\n",
              "  0.22293157875537872,\n",
              "  0.17421261966228485,\n",
              "  0.1407908946275711,\n",
              "  0.18346309661865234,\n",
              "  0.15139125287532806,\n",
              "  0.14103440940380096,\n",
              "  0.13649819791316986,\n",
              "  0.1281437873840332,\n",
              "  0.1101607158780098,\n",
              "  0.11679356545209885,\n",
              "  0.15994063019752502,\n",
              "  0.10800416767597198,\n",
              "  0.22821755707263947,\n",
              "  0.09804017096757889,\n",
              "  0.09689807891845703,\n",
              "  0.11183986812829971,\n",
              "  0.12163262069225311,\n",
              "  0.1684848815202713,\n",
              "  0.11082734912633896,\n",
              "  0.09787565469741821,\n",
              "  0.0992889255285263,\n",
              "  0.21106064319610596,\n",
              "  0.11543461680412292,\n",
              "  0.08363146334886551,\n",
              "  0.10273544490337372,\n",
              "  0.08152119815349579,\n",
              "  0.11166661232709885,\n",
              "  0.13803516328334808,\n",
              "  0.3742164373397827,\n",
              "  0.09376237541437149,\n",
              "  0.13035060465335846,\n",
              "  0.11637511849403381,\n",
              "  0.12012776732444763,\n",
              "  0.15798845887184143,\n",
              "  0.06636086106300354,\n",
              "  0.22661682963371277,\n",
              "  0.09620575606822968,\n",
              "  0.1658240109682083,\n",
              "  0.12681011855602264,\n",
              "  0.07475502043962479,\n",
              "  0.3914662003517151,\n",
              "  0.15372437238693237]}"
            ]
          },
          "metadata": {
            "tags": []
          },
          "execution_count": 120
        }
      ]
    },
    {
      "cell_type": "code",
      "metadata": {
        "colab": {
          "base_uri": "https://localhost:8080/"
        },
        "id": "Kyn1dHRRJ5Wn",
        "outputId": "e5b178b4-bcd5-488e-cc4c-f10212316896"
      },
      "source": [
        "print(\"--- %s seconds ---\" % (time.time() - start_time))\n"
      ],
      "execution_count": 121,
      "outputs": [
        {
          "output_type": "stream",
          "text": [
            "--- 323.1897494792938 seconds ---\n"
          ],
          "name": "stdout"
        }
      ]
    },
    {
      "cell_type": "code",
      "metadata": {
        "id": "rOU0i1e6jhr3"
      },
      "source": [
        "x_test = X_test #returns a numpy array\n",
        "min_max_scaler = preprocessing.MinMaxScaler()\n",
        "x_scaled_test = min_max_scaler.fit_transform(x_test)\n",
        "df_test = pd.DataFrame(x_scaled_test)"
      ],
      "execution_count": 122,
      "outputs": []
    },
    {
      "cell_type": "code",
      "metadata": {
        "id": "OgeGekJ8lW6S"
      },
      "source": [
        "predictions = model.predict(x=df_test, batch_size=32)"
      ],
      "execution_count": 123,
      "outputs": []
    },
    {
      "cell_type": "code",
      "metadata": {
        "id": "1o6zqIsfl2QX"
      },
      "source": [
        "rounded_predictions = np.argmax(predictions, axis=-1)"
      ],
      "execution_count": 124,
      "outputs": []
    },
    {
      "cell_type": "code",
      "metadata": {
        "id": "NQTy4F7TmotU"
      },
      "source": [
        "cm = confusion_matrix(y_true=y_test, y_pred=rounded_predictions)"
      ],
      "execution_count": 125,
      "outputs": []
    },
    {
      "cell_type": "code",
      "metadata": {
        "colab": {
          "base_uri": "https://localhost:8080/",
          "height": 922
        },
        "id": "rieDywHXuA6R",
        "outputId": "88d2f405-cbb7-4d9d-dbcb-51fd664a91eb"
      },
      "source": [
        "label_mapping = {'NEGATIVE': 0, 'NEUTRAL': 1, 'POSITIVE': 2}\n",
        "# for diff dataset\n",
        "# label_mapping = {'NEGATIVE': 0, 'POSITIVE': 1}\n",
        "plt.figure(figsize=(8, 8))\n",
        "sns.heatmap(cm, annot=True, vmin=0, fmt='g', cbar=False, cmap='Blues')\n",
        "clr = classification_report(y_test, rounded_predictions, target_names=label_mapping.keys())\n",
        "plt.xticks(np.arange(3) + 0.5, label_mapping.keys())\n",
        "plt.yticks(np.arange(3) + 0.5, label_mapping.keys())\n",
        "plt.xlabel(\"Predicted\")\n",
        "plt.ylabel(\"Actual\")\n",
        "plt.title(\"Confusion Matrix\")\n",
        "plt.show()\n",
        "\n",
        "print(\"Classification Report:\\n----------------------\\n\", clr)\n",
        "\n"
      ],
      "execution_count": 126,
      "outputs": [
        {
          "output_type": "display_data",
          "data": {
            "image/png": "[encoded data removed]",
            "text/plain": [
              "<Figure size 800x800 with 1 Axes>"
            ]
          },
          "metadata": {
            "tags": []
          }
        },
        {
          "output_type": "stream",
          "text": [
            "Classification Report:\n",
            "----------------------\n",
            "               precision    recall  f1-score   support\n",
            "\n",
            "    NEGATIVE       0.99      0.97      0.98       137\n",
            "     NEUTRAL       0.66      0.99      0.79       147\n",
            "    POSITIVE       1.00      0.50      0.67       143\n",
            "\n",
            "    accuracy                           0.82       427\n",
            "   macro avg       0.88      0.82      0.81       427\n",
            "weighted avg       0.88      0.82      0.81       427\n",
            "\n"
          ],
          "name": "stdout"
        }
      ]
    },
    {
      "cell_type": "code",
      "metadata": {
        "id": "s5wbr_oav-Kb"
      },
      "source": [
        "# https://stackoverflow.com/questions/26413185/how-to-recover-matplotlib-defaults-after-setting-stylesheet\n",
        "import matplotlib as mpl\n",
        "mpl.rcParams.update(mpl.rcParamsDefault)"
      ],
      "execution_count": 127,
      "outputs": []
    },
    {
      "cell_type": "code",
      "metadata": {
        "id": "73HZGymlybP2"
      },
      "source": [
        "training_acc = history.history['accuracy']\n",
        "validation_acc = history.history['val_accuracy']\n",
        "training_loss  = history.history['loss']\n",
        "validation_loss = history.history['val_loss']"
      ],
      "execution_count": 128,
      "outputs": []
    },
    {
      "cell_type": "code",
      "metadata": {
        "colab": {
          "base_uri": "https://localhost:8080/",
          "height": 472
        },
        "id": "1jgMVKMDyxck",
        "outputId": "ad59c64d-cd46-4359-ed00-f0bef0afd281"
      },
      "source": [
        "epochs = history.epoch\n",
        "plt.plot(epochs, training_acc, color = '#17e6e6', label='Training Accuracy')\n",
        "plt.plot(epochs, validation_acc,color = '#e61771', label='Validation Accuracy')\n",
        "plt.title('Accuracy vs Epochs')\n",
        "plt.xlabel('Epochs')\n",
        "plt.ylabel('Accuracy')\n",
        "plt.legend()\n",
        "plt.savefig('AccuracyVsEpochs.png')\n",
        "plt.show()"
      ],
      "execution_count": 129,
      "outputs": [
        {
          "output_type": "display_data",
          "data": {
            "image/png": "[encoded data removed]",
            "text/plain": [
              "<Figure size 640x480 with 1 Axes>"
            ]
          },
          "metadata": {
            "tags": []
          }
        }
      ]
    }
  ]
}