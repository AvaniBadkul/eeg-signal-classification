{
  "nbformat": 4,
  "nbformat_minor": 0,
  "metadata": {
    "colab": {
      "name": "EEGSignalClassification.ipynb",
      "provenance": []
    },
    "kernelspec": {
      "name": "python3",
      "display_name": "Python 3"
    },
    "language_info": {
      "name": "python"
    }
  },
  "cells": [
    {
      "cell_type": "code",
      "metadata": {
        "id": "iuNWUJKJLY9T"
      },
      "source": [
        "%reset -f "
      ],
      "execution_count": 261,
      "outputs": []
    },
    {
      "cell_type": "code",
      "metadata": {
        "id": "yj4HfL7EcNRq"
      },
      "source": [
        "# libraries used\n",
        "#  https://stats.stackexchange.com/questions/181/how-to-choose-the-number-of-hidden-layers-and-nodes-in-a-feedforward-neural-netw\n",
        "import numpy as np\n",
        "import pandas as pd\n",
        "import seaborn as sns \n",
        "import matplotlib.pyplot as plt\n",
        "from sklearn.model_selection import train_test_split\n",
        "from sklearn.metrics import confusion_matrix, classification_report\n",
        "from sklearn import preprocessing\n",
        "import tensorflow as tf\n",
        "from tensorflow.keras import datasets, layers, models\n",
        "import keras \n",
        "from keras.models import Sequential\n",
        "from keras.layers import Dense, Dropout\n",
        "import itertools"
      ],
      "execution_count": 262,
      "outputs": []
    },
    {
      "cell_type": "code",
      "metadata": {
        "colab": {
          "base_uri": "https://localhost:8080/"
        },
        "id": "WYIp8Qr9ck8Z",
        "outputId": "cb6842ab-6e0d-445a-9f9f-bcb9d7d178cd"
      },
      "source": [
        "emotions = pd.read_csv(\"drive/MyDrive/EEG/emotions.csv\")\n",
        "emotions.replace(['NEGATIVE', 'POSITIVE', 'NEUTRAL'], [2, 1, 0], inplace=True)\n",
        "emotions['label'].unique()"
      ],
      "execution_count": 263,
      "outputs": [
        {
          "output_type": "execute_result",
          "data": {
            "text/plain": [
              "array([2, 0, 1])"
            ]
          },
          "metadata": {
            "tags": []
          },
          "execution_count": 263
        }
      ]
    },
    {
      "cell_type": "code",
      "metadata": {
        "id": "PvT5tTotcoS3"
      },
      "source": [
        "X = emotions.drop('label', axis=1).copy()\n",
        "y = (emotions['label'].copy())"
      ],
      "execution_count": 264,
      "outputs": []
    },
    {
      "cell_type": "code",
      "metadata": {
        "id": "GUZOuZK7crNV"
      },
      "source": [
        "# Splitting data into training and testing as 80-20 \n",
        "X_train, X_test, y_train, y_test = train_test_split(X, y, test_size=0.2, random_state=1)\n",
        "\n",
        "x = X_train #returns a numpy array\n",
        "min_max_scaler = preprocessing.MinMaxScaler()\n",
        "x_scaled = min_max_scaler.fit_transform(x)\n",
        "df = pd.DataFrame(x_scaled)"
      ],
      "execution_count": 265,
      "outputs": []
    },
    {
      "cell_type": "code",
      "metadata": {
        "id": "BhRoXS4mj6CV"
      },
      "source": [
        "#  resetting the data - https://www.tensorflow.org/api_docs/python/tf/keras/backend/clear_session\n",
        "tf.keras.backend.clear_session()"
      ],
      "execution_count": 266,
      "outputs": []
    },
    {
      "cell_type": "code",
      "metadata": {
        "colab": {
          "base_uri": "https://localhost:8080/"
        },
        "id": "k4a4vwF5cxvU",
        "outputId": "b094a2e6-50bd-40e5-9720-a299a93808f9"
      },
      "source": [
        "model = Sequential()\n",
        "model.add(Dense((2*X_train.shape[1]/3), input_dim=X_train.shape[1], activation='relu'))\n",
        "model.add(Dense((2*X_train.shape[1]/3), activation='relu'))\n",
        "model.add(Dense((1*X_train.shape[1]/3), activation='relu'))\n",
        "model.add(Dense((1*X_train.shape[1]/3), activation='relu'))\n",
        "model.add(Dense(3, activation='softmax'))\n",
        "#model.compile(loss='categorical_crossentropy', optimizer='adam', metrics=['accuracy'])\n",
        "print(model.summary())\n",
        "\n",
        "\n",
        "\n"
      ],
      "execution_count": 267,
      "outputs": [
        {
          "output_type": "stream",
          "text": [
            "Model: \"sequential\"\n",
            "_________________________________________________________________\n",
            "Layer (type)                 Output Shape              Param #   \n",
            "=================================================================\n",
            "dense (Dense)                (None, 1698)              4328202   \n",
            "_________________________________________________________________\n",
            "dense_1 (Dense)              (None, 1698)              2884902   \n",
            "_________________________________________________________________\n",
            "dense_2 (Dense)              (None, 849)               1442451   \n",
            "_________________________________________________________________\n",
            "dense_3 (Dense)              (None, 849)               721650    \n",
            "_________________________________________________________________\n",
            "dense_4 (Dense)              (None, 3)                 2550      \n",
            "=================================================================\n",
            "Total params: 9,379,755\n",
            "Trainable params: 9,379,755\n",
            "Non-trainable params: 0\n",
            "_________________________________________________________________\n",
            "None\n"
          ],
          "name": "stdout"
        }
      ]
    },
    {
      "cell_type": "code",
      "metadata": {
        "id": "A2Q9BOrneeUM"
      },
      "source": [
        "# for categorical entropy\n",
        "# https://stackoverflow.com/questions/63211181/error-while-using-categorical-crossentropy\n",
        "from tensorflow.keras.utils import to_categorical\n",
        "Y_one_hot=to_categorical(y_train) # convert Y into an one-hot vector"
      ],
      "execution_count": 268,
      "outputs": []
    },
    {
      "cell_type": "code",
      "metadata": {
        "id": "NEs5ddrJeBeG"
      },
      "source": [
        "# https://stackoverflow.com/questions/59737875/keras-change-learning-rate\n",
        "#optimizer = tf.keras.optimizers.Adam(0.001)\n",
        "#optimizer.learning_rate.assign(0.01)\n",
        "\n",
        "# opt = keras.optimizers.Adadelta(learning_rate=0.01)\n",
        "\n",
        "# model.compile(\n",
        "#    optimizer=opt,\n",
        "#    loss='categorical_crossentropy',\n",
        "#    metrics=['accuracy']\n",
        "#)\n",
        "\n",
        "# to be run for categorical cross entropy\n",
        "model.compile(loss='categorical_crossentropy', optimizer=tf.keras.optimizers.Adam(learning_rate=0.001), metrics=['accuracy'])\n"
      ],
      "execution_count": 269,
      "outputs": []
    },
    {
      "cell_type": "code",
      "metadata": {
        "id": "ASdP3qvxes8r",
        "colab": {
          "base_uri": "https://localhost:8080/"
        },
        "outputId": "029a8881-4445-458a-9031-2646c69146dd"
      },
      "source": [
        "# make sure that the input data is shuffled before hand so that the model doesn't notice patterns and generalizes well\n",
        "# change y_train to y_hot_encoded when using categorical cross entorpy\n",
        "import time\n",
        "start_time = time.time()\n",
        "#history = model.fit(\n",
        "#    df,\n",
        "#    y_train,\n",
        "#    validation_split=0.2,\n",
        "#    batch_size=32,\n",
        "#    epochs=75)\n",
        "\n",
        "\n",
        "# to be run for categorical cross entropy\n",
        "\n",
        "history = model.fit(\n",
        "    df,\n",
        "    Y_one_hot,\n",
        "    validation_split=0.2,\n",
        "    batch_size=32,\n",
        "    epochs=75)"
      ],
      "execution_count": 270,
      "outputs": [
        {
          "output_type": "stream",
          "text": [
            "Epoch 1/75\n",
            "43/43 [==============================] - 5s 96ms/step - loss: 1.9026 - accuracy: 0.3784 - val_loss: 0.6315 - val_accuracy: 0.6540\n",
            "Epoch 2/75\n",
            "43/43 [==============================] - 4s 85ms/step - loss: 0.5902 - accuracy: 0.7520 - val_loss: 0.3511 - val_accuracy: 0.9091\n",
            "Epoch 3/75\n",
            "43/43 [==============================] - 4s 85ms/step - loss: 0.4175 - accuracy: 0.8605 - val_loss: 0.3991 - val_accuracy: 0.8446\n",
            "Epoch 4/75\n",
            "43/43 [==============================] - 4s 84ms/step - loss: 0.4836 - accuracy: 0.7982 - val_loss: 0.3391 - val_accuracy: 0.8768\n",
            "Epoch 5/75\n",
            "43/43 [==============================] - 4s 84ms/step - loss: 0.3295 - accuracy: 0.8913 - val_loss: 0.2996 - val_accuracy: 0.8915\n",
            "Epoch 7/75\n",
            "43/43 [==============================] - 4s 83ms/step - loss: 0.3508 - accuracy: 0.8760 - val_loss: 0.4443 - val_accuracy: 0.7801\n",
            "Epoch 8/75\n",
            "43/43 [==============================] - 4s 83ms/step - loss: 0.3810 - accuracy: 0.8601 - val_loss: 0.3431 - val_accuracy: 0.9296\n",
            "Epoch 9/75\n",
            "43/43 [==============================] - 4s 85ms/step - loss: 0.3184 - accuracy: 0.8957 - val_loss: 0.3185 - val_accuracy: 0.8798\n",
            "Epoch 10/75\n",
            "43/43 [==============================] - 4s 84ms/step - loss: 0.3241 - accuracy: 0.8866 - val_loss: 0.2552 - val_accuracy: 0.8974\n",
            "Epoch 11/75\n",
            "43/43 [==============================] - 4s 84ms/step - loss: 0.3201 - accuracy: 0.8760 - val_loss: 0.3366 - val_accuracy: 0.8651\n",
            "Epoch 12/75\n",
            "43/43 [==============================] - 4s 85ms/step - loss: 0.3093 - accuracy: 0.8805 - val_loss: 0.2984 - val_accuracy: 0.8798\n",
            "Epoch 13/75\n",
            "43/43 [==============================] - 4s 83ms/step - loss: 0.4296 - accuracy: 0.8291 - val_loss: 0.2590 - val_accuracy: 0.8944\n",
            "Epoch 14/75\n",
            "43/43 [==============================] - 4s 91ms/step - loss: 0.3406 - accuracy: 0.8615 - val_loss: 0.4372 - val_accuracy: 0.8123\n",
            "Epoch 15/75\n",
            "43/43 [==============================] - 4s 84ms/step - loss: 0.3305 - accuracy: 0.8828 - val_loss: 0.3369 - val_accuracy: 0.8622\n",
            "Epoch 16/75\n",
            "43/43 [==============================] - 4s 84ms/step - loss: 0.2642 - accuracy: 0.9010 - val_loss: 0.2201 - val_accuracy: 0.9179\n",
            "Epoch 17/75\n",
            "43/43 [==============================] - 4s 85ms/step - loss: 0.2622 - accuracy: 0.9021 - val_loss: 0.2339 - val_accuracy: 0.9150\n",
            "Epoch 18/75\n",
            "43/43 [==============================] - 4s 85ms/step - loss: 0.2671 - accuracy: 0.8966 - val_loss: 0.2205 - val_accuracy: 0.9120\n",
            "Epoch 19/75\n",
            "43/43 [==============================] - 4s 85ms/step - loss: 0.3494 - accuracy: 0.8541 - val_loss: 0.2124 - val_accuracy: 0.9150\n",
            "Epoch 20/75\n",
            "43/43 [==============================] - 4s 95ms/step - loss: 0.3436 - accuracy: 0.8706 - val_loss: 0.2526 - val_accuracy: 0.9208\n",
            "Epoch 21/75\n",
            "43/43 [==============================] - 4s 89ms/step - loss: 0.2749 - accuracy: 0.8909 - val_loss: 0.1949 - val_accuracy: 0.9296\n",
            "Epoch 22/75\n",
            "43/43 [==============================] - 4s 90ms/step - loss: 0.3302 - accuracy: 0.8779 - val_loss: 0.1867 - val_accuracy: 0.9326\n",
            "Epoch 23/75\n",
            "43/43 [==============================] - 4s 92ms/step - loss: 0.2365 - accuracy: 0.9135 - val_loss: 0.2698 - val_accuracy: 0.8974\n",
            "Epoch 24/75\n",
            "43/43 [==============================] - 4s 86ms/step - loss: 0.2820 - accuracy: 0.8913 - val_loss: 0.1847 - val_accuracy: 0.9326\n",
            "Epoch 25/75\n",
            "43/43 [==============================] - 4s 92ms/step - loss: 0.2627 - accuracy: 0.9004 - val_loss: 0.2702 - val_accuracy: 0.8974\n",
            "Epoch 26/75\n",
            "43/43 [==============================] - 4s 91ms/step - loss: 0.2666 - accuracy: 0.8860 - val_loss: 0.2295 - val_accuracy: 0.9267\n",
            "Epoch 27/75\n",
            "43/43 [==============================] - 4s 86ms/step - loss: 0.2560 - accuracy: 0.8971 - val_loss: 0.1770 - val_accuracy: 0.9326\n",
            "Epoch 28/75\n",
            "43/43 [==============================] - 4s 86ms/step - loss: 0.2617 - accuracy: 0.8990 - val_loss: 0.1919 - val_accuracy: 0.9267\n",
            "Epoch 29/75\n",
            "43/43 [==============================] - 4s 85ms/step - loss: 0.2278 - accuracy: 0.9249 - val_loss: 0.2267 - val_accuracy: 0.9120\n",
            "Epoch 30/75\n",
            "43/43 [==============================] - 4s 86ms/step - loss: 0.2988 - accuracy: 0.8956 - val_loss: 0.1868 - val_accuracy: 0.9267\n",
            "Epoch 31/75\n",
            "43/43 [==============================] - 4s 86ms/step - loss: 0.2181 - accuracy: 0.9233 - val_loss: 0.2070 - val_accuracy: 0.9238\n",
            "Epoch 32/75\n",
            "43/43 [==============================] - 4s 85ms/step - loss: 0.3602 - accuracy: 0.8595 - val_loss: 0.2395 - val_accuracy: 0.9384\n",
            "Epoch 33/75\n",
            "43/43 [==============================] - 4s 86ms/step - loss: 0.2523 - accuracy: 0.9072 - val_loss: 0.1749 - val_accuracy: 0.9384\n",
            "Epoch 34/75\n",
            "43/43 [==============================] - 4s 85ms/step - loss: 0.2106 - accuracy: 0.9295 - val_loss: 0.3670 - val_accuracy: 0.8680\n",
            "Epoch 35/75\n",
            "43/43 [==============================] - 4s 86ms/step - loss: 0.3095 - accuracy: 0.8838 - val_loss: 0.2176 - val_accuracy: 0.9150\n",
            "Epoch 36/75\n",
            "43/43 [==============================] - 4s 86ms/step - loss: 0.2207 - accuracy: 0.9084 - val_loss: 0.3352 - val_accuracy: 0.8592\n",
            "Epoch 37/75\n",
            "43/43 [==============================] - 4s 85ms/step - loss: 0.2789 - accuracy: 0.9083 - val_loss: 0.2056 - val_accuracy: 0.9062\n",
            "Epoch 38/75\n",
            "43/43 [==============================] - 4s 93ms/step - loss: 0.2139 - accuracy: 0.9204 - val_loss: 0.2018 - val_accuracy: 0.9238\n",
            "Epoch 39/75\n",
            "43/43 [==============================] - 4s 85ms/step - loss: 0.2083 - accuracy: 0.9241 - val_loss: 0.2293 - val_accuracy: 0.9062\n",
            "Epoch 40/75\n",
            "43/43 [==============================] - 4s 85ms/step - loss: 0.2314 - accuracy: 0.9249 - val_loss: 0.2358 - val_accuracy: 0.9091\n",
            "Epoch 41/75\n",
            "43/43 [==============================] - 4s 104ms/step - loss: 0.2807 - accuracy: 0.8978 - val_loss: 0.4070 - val_accuracy: 0.8211\n",
            "Epoch 42/75\n",
            "43/43 [==============================] - 4s 98ms/step - loss: 0.3050 - accuracy: 0.8740 - val_loss: 0.1911 - val_accuracy: 0.9472\n",
            "Epoch 43/75\n",
            "43/43 [==============================] - 4s 92ms/step - loss: 0.1903 - accuracy: 0.9339 - val_loss: 0.1788 - val_accuracy: 0.9296\n",
            "Epoch 44/75\n",
            "43/43 [==============================] - 4s 86ms/step - loss: 0.2126 - accuracy: 0.9109 - val_loss: 0.2872 - val_accuracy: 0.8856\n",
            "Epoch 45/75\n",
            "43/43 [==============================] - 4s 91ms/step - loss: 0.2752 - accuracy: 0.8939 - val_loss: 0.3664 - val_accuracy: 0.7859\n",
            "Epoch 46/75\n",
            "43/43 [==============================] - 4s 86ms/step - loss: 0.2425 - accuracy: 0.9062 - val_loss: 0.2032 - val_accuracy: 0.9443\n",
            "Epoch 47/75\n",
            "43/43 [==============================] - 4s 85ms/step - loss: 0.2000 - accuracy: 0.9347 - val_loss: 0.1576 - val_accuracy: 0.9326\n",
            "Epoch 48/75\n",
            "43/43 [==============================] - 4s 85ms/step - loss: 0.1921 - accuracy: 0.9251 - val_loss: 0.1701 - val_accuracy: 0.9384\n",
            "Epoch 49/75\n",
            "43/43 [==============================] - 4s 85ms/step - loss: 0.2220 - accuracy: 0.9225 - val_loss: 0.2291 - val_accuracy: 0.9326\n",
            "Epoch 50/75\n",
            "43/43 [==============================] - 4s 86ms/step - loss: 0.2496 - accuracy: 0.9014 - val_loss: 0.1910 - val_accuracy: 0.9413\n",
            "Epoch 51/75\n",
            "43/43 [==============================] - 4s 85ms/step - loss: 0.2128 - accuracy: 0.9250 - val_loss: 0.1965 - val_accuracy: 0.9296\n",
            "Epoch 52/75\n",
            "43/43 [==============================] - 4s 86ms/step - loss: 0.1560 - accuracy: 0.9355 - val_loss: 0.1878 - val_accuracy: 0.9355\n",
            "Epoch 53/75\n",
            "43/43 [==============================] - 4s 86ms/step - loss: 0.1656 - accuracy: 0.9335 - val_loss: 0.1973 - val_accuracy: 0.9208\n",
            "Epoch 54/75\n",
            "43/43 [==============================] - 4s 86ms/step - loss: 0.1582 - accuracy: 0.9341 - val_loss: 0.1359 - val_accuracy: 0.9472\n",
            "Epoch 55/75\n",
            "43/43 [==============================] - 4s 84ms/step - loss: 0.1702 - accuracy: 0.9304 - val_loss: 0.1406 - val_accuracy: 0.9384\n",
            "Epoch 56/75\n",
            "43/43 [==============================] - 4s 91ms/step - loss: 0.1309 - accuracy: 0.9494 - val_loss: 0.3082 - val_accuracy: 0.9091\n",
            "Epoch 57/75\n",
            "43/43 [==============================] - 4s 85ms/step - loss: 0.2313 - accuracy: 0.9112 - val_loss: 0.2307 - val_accuracy: 0.9032\n",
            "Epoch 58/75\n",
            "43/43 [==============================] - 4s 86ms/step - loss: 0.1509 - accuracy: 0.9543 - val_loss: 0.2616 - val_accuracy: 0.8798\n",
            "Epoch 59/75\n",
            "43/43 [==============================] - 4s 85ms/step - loss: 0.1890 - accuracy: 0.9313 - val_loss: 0.1337 - val_accuracy: 0.9443\n",
            "Epoch 60/75\n",
            "43/43 [==============================] - 4s 85ms/step - loss: 0.1700 - accuracy: 0.9376 - val_loss: 0.1481 - val_accuracy: 0.9501\n",
            "Epoch 61/75\n",
            "43/43 [==============================] - 4s 85ms/step - loss: 0.1257 - accuracy: 0.9535 - val_loss: 0.1023 - val_accuracy: 0.9677\n",
            "Epoch 62/75\n",
            "43/43 [==============================] - 4s 93ms/step - loss: 0.1016 - accuracy: 0.9595 - val_loss: 0.3010 - val_accuracy: 0.9355\n",
            "Epoch 63/75\n",
            "43/43 [==============================] - 4s 93ms/step - loss: 0.2013 - accuracy: 0.9376 - val_loss: 0.2583 - val_accuracy: 0.9179\n",
            "Epoch 64/75\n",
            "43/43 [==============================] - 4s 86ms/step - loss: 0.2679 - accuracy: 0.8988 - val_loss: 0.1267 - val_accuracy: 0.9501\n",
            "Epoch 65/75\n",
            "43/43 [==============================] - 4s 92ms/step - loss: 0.0919 - accuracy: 0.9717 - val_loss: 0.1175 - val_accuracy: 0.9560\n",
            "Epoch 66/75\n",
            "43/43 [==============================] - 4s 86ms/step - loss: 0.1132 - accuracy: 0.9577 - val_loss: 0.4350 - val_accuracy: 0.8387\n",
            "Epoch 67/75\n",
            "43/43 [==============================] - 4s 85ms/step - loss: 0.2212 - accuracy: 0.9130 - val_loss: 0.1657 - val_accuracy: 0.9355\n",
            "Epoch 68/75\n",
            "43/43 [==============================] - 4s 85ms/step - loss: 0.1478 - accuracy: 0.9508 - val_loss: 0.0913 - val_accuracy: 0.9677\n",
            "Epoch 69/75\n",
            "43/43 [==============================] - 4s 86ms/step - loss: 0.1035 - accuracy: 0.9629 - val_loss: 0.1156 - val_accuracy: 0.9589\n",
            "Epoch 70/75\n",
            "43/43 [==============================] - 4s 85ms/step - loss: 0.1027 - accuracy: 0.9673 - val_loss: 0.2932 - val_accuracy: 0.8475\n",
            "Epoch 71/75\n",
            "43/43 [==============================] - 4s 92ms/step - loss: 0.1294 - accuracy: 0.9526 - val_loss: 0.1120 - val_accuracy: 0.9707\n",
            "Epoch 72/75\n",
            "43/43 [==============================] - 4s 85ms/step - loss: 0.1334 - accuracy: 0.9491 - val_loss: 0.1279 - val_accuracy: 0.9531\n",
            "Epoch 73/75\n",
            "43/43 [==============================] - 4s 86ms/step - loss: 0.0966 - accuracy: 0.9691 - val_loss: 0.3274 - val_accuracy: 0.8680\n",
            "Epoch 74/75\n",
            "43/43 [==============================] - 4s 86ms/step - loss: 0.2393 - accuracy: 0.9084 - val_loss: 0.1280 - val_accuracy: 0.9443\n",
            "Epoch 75/75\n",
            "43/43 [==============================] - 4s 87ms/step - loss: 0.0902 - accuracy: 0.9650 - val_loss: 0.1369 - val_accuracy: 0.9531\n"
          ],
          "name": "stdout"
        }
      ]
    },
    {
      "cell_type": "code",
      "metadata": {
        "id": "vhwajgGzpvrD",
        "colab": {
          "base_uri": "https://localhost:8080/"
        },
        "outputId": "61b2b692-efca-4177-8782-bac5c4d8e6f3"
      },
      "source": [
        "history.history"
      ],
      "execution_count": 271,
      "outputs": [
        {
          "output_type": "execute_result",
          "data": {
            "text/plain": [
              "{'accuracy': [0.47653958201408386,\n",
              "  0.7639296054840088,\n",
              "  0.8284457325935364,\n",
              "  0.8079178929328918,\n",
              "  0.8577712774276733,\n",
              "  0.8936949968338013,\n",
              "  0.8460410833358765,\n",
              "  0.873900294303894,\n",
              "  0.9039589166641235,\n",
              "  0.8900293111801147,\n",
              "  0.8709677457809448,\n",
              "  0.8988269567489624,\n",
              "  0.8548387289047241,\n",
              "  0.8658357858657837,\n",
              "  0.8878298997879028,\n",
              "  0.892961859703064,\n",
              "  0.8922287225723267,\n",
              "  0.8973606824874878,\n",
              "  0.8695014715194702,\n",
              "  0.8717008829116821,\n",
              "  0.900293231010437,\n",
              "  0.8944281339645386,\n",
              "  0.8863636255264282,\n",
              "  0.9083577990531921,\n",
              "  0.8878298997879028,\n",
              "  0.900293231010437,\n",
              "  0.9142228960990906,\n",
              "  0.8944281339645386,\n",
              "  0.9171554446220398,\n",
              "  0.8995600938796997,\n",
              "  0.910557210445404,\n",
              "  0.8621701002120972,\n",
              "  0.9090909361839294,\n",
              "  0.9017595052719116,\n",
              "  0.9090909361839294,\n",
              "  0.9032257795333862,\n",
              "  0.9112903475761414,\n",
              "  0.9098240733146667,\n",
              "  0.9178885817527771,\n",
              "  0.8995600938796997,\n",
              "  0.8966275453567505,\n",
              "  0.900293231010437,\n",
              "  0.9156891703605652,\n",
              "  0.9156891703605652,\n",
              "  0.8944281339645386,\n",
              "  0.9142228960990906,\n",
              "  0.9274193644523621,\n",
              "  0.9266862273216248,\n",
              "  0.9288856387138367,\n",
              "  0.8958944082260132,\n",
              "  0.9252199530601501,\n",
              "  0.9391495585441589,\n",
              "  0.9259530901908875,\n",
              "  0.9244868159294128,\n",
              "  0.9347507357597351,\n",
              "  0.9208211302757263,\n",
              "  0.9222874045372009,\n",
              "  0.9420821070671082,\n",
              "  0.946480929851532,\n",
              "  0.9479472041130066,\n",
              "  0.9560117125511169,\n",
              "  0.9552785754203796,\n",
              "  0.9142228960990906,\n",
              "  0.9266862273216248,\n",
              "  0.9655424952507019,\n",
              "  0.9376832842826843,\n",
              "  0.9347507357597351,\n",
              "  0.953812301158905,\n",
              "  0.9560117125511169,\n",
              "  0.9545454382896423,\n",
              "  0.9677419066429138,\n",
              "  0.9391495585441589,\n",
              "  0.9648093581199646,\n",
              "  0.936950147151947,\n",
              "  0.9714076519012451],\n",
              " 'loss': [1.2609965801239014,\n",
              "  0.5719971656799316,\n",
              "  0.45667994022369385,\n",
              "  0.4637092351913452,\n",
              "  0.3950636088848114,\n",
              "  0.32751816511154175,\n",
              "  0.41093888878822327,\n",
              "  0.3526732921600342,\n",
              "  0.29114997386932373,\n",
              "  0.3026008903980255,\n",
              "  0.33812737464904785,\n",
              "  0.2750554382801056,\n",
              "  0.37837088108062744,\n",
              "  0.35278671979904175,\n",
              "  0.3126836121082306,\n",
              "  0.28657442331314087,\n",
              "  0.2739434242248535,\n",
              "  0.2693769633769989,\n",
              "  0.341757208108902,\n",
              "  0.3345244526863098,\n",
              "  0.2606441378593445,\n",
              "  0.2886967360973358,\n",
              "  0.28325361013412476,\n",
              "  0.25573593378067017,\n",
              "  0.3000326156616211,\n",
              "  0.2588018774986267,\n",
              "  0.22988256812095642,\n",
              "  0.2713302969932556,\n",
              "  0.2438940852880478,\n",
              "  0.2835250496864319,\n",
              "  0.23616066575050354,\n",
              "  0.34396132826805115,\n",
              "  0.2507128119468689,\n",
              "  0.26342886686325073,\n",
              "  0.2539474666118622,\n",
              "  0.23178064823150635,\n",
              "  0.242435023188591,\n",
              "  0.22945469617843628,\n",
              "  0.21305781602859497,\n",
              "  0.26617881655693054,\n",
              "  0.26216092705726624,\n",
              "  0.24756790697574615,\n",
              "  0.2151588350534439,\n",
              "  0.23146012425422668,\n",
              "  0.2551305890083313,\n",
              "  0.2338726669549942,\n",
              "  0.1985660195350647,\n",
              "  0.1964203119277954,\n",
              "  0.2231454700231552,\n",
              "  0.25528159737586975,\n",
              "  0.2035166472196579,\n",
              "  0.15460555255413055,\n",
              "  0.18929889798164368,\n",
              "  0.17716166377067566,\n",
              "  0.16575320065021515,\n",
              "  0.21589452028274536,\n",
              "  0.207822784781456,\n",
              "  0.17649951577186584,\n",
              "  0.15096567571163177,\n",
              "  0.14148487150669098,\n",
              "  0.11681153625249863,\n",
              "  0.12229347974061966,\n",
              "  0.23708035051822662,\n",
              "  0.19875361025333405,\n",
              "  0.10844561457633972,\n",
              "  0.1664135605096817,\n",
              "  0.192658931016922,\n",
              "  0.12953537702560425,\n",
              "  0.12262904644012451,\n",
              "  0.13733108341693878,\n",
              "  0.09335926920175552,\n",
              "  0.1560303270816803,\n",
              "  0.10110901296138763,\n",
              "  0.1697610467672348,\n",
              "  0.07597555220127106],\n",
              " 'val_accuracy': [0.6539589166641235,\n",
              "  0.9090909361839294,\n",
              "  0.8445748090744019,\n",
              "  0.8768328428268433,\n",
              "  0.8563050031661987,\n",
              "  0.8914955854415894,\n",
              "  0.7800586223602295,\n",
              "  0.929618775844574,\n",
              "  0.8797653913497925,\n",
              "  0.8973606824874878,\n",
              "  0.8651026487350464,\n",
              "  0.8797653913497925,\n",
              "  0.8944281339645386,\n",
              "  0.8123167157173157,\n",
              "  0.8621701002120972,\n",
              "  0.9178885817527771,\n",
              "  0.9149560332298279,\n",
              "  0.9120234847068787,\n",
              "  0.9149560332298279,\n",
              "  0.9208211302757263,\n",
              "  0.929618775844574,\n",
              "  0.9325513243675232,\n",
              "  0.8973606824874878,\n",
              "  0.9325513243675232,\n",
              "  0.8973606824874878,\n",
              "  0.9266862273216248,\n",
              "  0.9325513243675232,\n",
              "  0.9266862273216248,\n",
              "  0.9120234847068787,\n",
              "  0.9266862273216248,\n",
              "  0.9237536787986755,\n",
              "  0.9384164214134216,\n",
              "  0.9384164214134216,\n",
              "  0.8680351972579956,\n",
              "  0.9149560332298279,\n",
              "  0.859237551689148,\n",
              "  0.9061583280563354,\n",
              "  0.9237536787986755,\n",
              "  0.9061583280563354,\n",
              "  0.9090909361839294,\n",
              "  0.8211143612861633,\n",
              "  0.9472140669822693,\n",
              "  0.929618775844574,\n",
              "  0.8856304883956909,\n",
              "  0.7859237790107727,\n",
              "  0.9442815184593201,\n",
              "  0.9325513243675232,\n",
              "  0.9384164214134216,\n",
              "  0.9325513243675232,\n",
              "  0.9413489699363708,\n",
              "  0.929618775844574,\n",
              "  0.9354838728904724,\n",
              "  0.9208211302757263,\n",
              "  0.9472140669822693,\n",
              "  0.9384164214134216,\n",
              "  0.9090909361839294,\n",
              "  0.9032257795333862,\n",
              "  0.8797653913497925,\n",
              "  0.9442815184593201,\n",
              "  0.9501466155052185,\n",
              "  0.9677419066429138,\n",
              "  0.9354838728904724,\n",
              "  0.9178885817527771,\n",
              "  0.9501466155052185,\n",
              "  0.9560117125511169,\n",
              "  0.8387096524238586,\n",
              "  0.9354838728904724,\n",
              "  0.9677419066429138,\n",
              "  0.9589442610740662,\n",
              "  0.8475073575973511,\n",
              "  0.9706745147705078,\n",
              "  0.9530791640281677,\n",
              "  0.8680351972579956,\n",
              "  0.9442815184593201,\n",
              "  0.9530791640281677],\n",
              " 'val_loss': [0.6314545273780823,\n",
              "  0.3510614037513733,\n",
              "  0.3991449177265167,\n",
              "  0.3390718698501587,\n",
              "  0.38042622804641724,\n",
              "  0.29963406920433044,\n",
              "  0.4443022906780243,\n",
              "  0.3431442975997925,\n",
              "  0.318484365940094,\n",
              "  0.2552020251750946,\n",
              "  0.3365757167339325,\n",
              "  0.29843035340309143,\n",
              "  0.25896453857421875,\n",
              "  0.4371783435344696,\n",
              "  0.33693554997444153,\n",
              "  0.22010557353496552,\n",
              "  0.23392318189144135,\n",
              "  0.22052282094955444,\n",
              "  0.21237334609031677,\n",
              "  0.25264349579811096,\n",
              "  0.1948920041322708,\n",
              "  0.1866864711046219,\n",
              "  0.269756942987442,\n",
              "  0.1846512109041214,\n",
              "  0.27018529176712036,\n",
              "  0.22947871685028076,\n",
              "  0.1769740730524063,\n",
              "  0.19194625318050385,\n",
              "  0.22672268748283386,\n",
              "  0.18678058683872223,\n",
              "  0.20695433020591736,\n",
              "  0.23953770101070404,\n",
              "  0.1749134063720703,\n",
              "  0.36697959899902344,\n",
              "  0.21763339638710022,\n",
              "  0.33524370193481445,\n",
              "  0.20563365519046783,\n",
              "  0.20175504684448242,\n",
              "  0.22932323813438416,\n",
              "  0.23576699197292328,\n",
              "  0.4069916009902954,\n",
              "  0.19111277163028717,\n",
              "  0.1788095384836197,\n",
              "  0.28717654943466187,\n",
              "  0.3663771152496338,\n",
              "  0.20317037403583527,\n",
              "  0.1575561761856079,\n",
              "  0.17012766003608704,\n",
              "  0.22905366122722626,\n",
              "  0.1910252571105957,\n",
              "  0.19647467136383057,\n",
              "  0.18782499432563782,\n",
              "  0.1973203718662262,\n",
              "  0.1358739733695984,\n",
              "  0.14055681228637695,\n",
              "  0.3082159459590912,\n",
              "  0.23072801530361176,\n",
              "  0.26159054040908813,\n",
              "  0.13368254899978638,\n",
              "  0.14806866645812988,\n",
              "  0.10225044190883636,\n",
              "  0.3010031282901764,\n",
              "  0.25827184319496155,\n",
              "  0.12673628330230713,\n",
              "  0.11752176284790039,\n",
              "  0.4349685609340668,\n",
              "  0.16574248671531677,\n",
              "  0.09126558899879456,\n",
              "  0.11562293767929077,\n",
              "  0.2932450771331787,\n",
              "  0.11199977993965149,\n",
              "  0.12786079943180084,\n",
              "  0.3274242579936981,\n",
              "  0.12796202301979065,\n",
              "  0.13691890239715576]}"
            ]
          },
          "metadata": {
            "tags": []
          },
          "execution_count": 271
        }
      ]
    },
    {
      "cell_type": "code",
      "metadata": {
        "colab": {
          "base_uri": "https://localhost:8080/"
        },
        "id": "Kyn1dHRRJ5Wn",
        "outputId": "ad66bdd9-424f-4670-f213-6e1b9608be50"
      },
      "source": [
        "print(\"--- %s seconds ---\" % (time.time() - start_time))\n"
      ],
      "execution_count": 272,
      "outputs": [
        {
          "output_type": "stream",
          "text": [
            "--- 322.9469566345215 seconds ---\n"
          ],
          "name": "stdout"
        }
      ]
    },
    {
      "cell_type": "code",
      "metadata": {
        "id": "rOU0i1e6jhr3"
      },
      "source": [
        "x_test = X_test #returns a numpy array\n",
        "min_max_scaler = preprocessing.MinMaxScaler()\n",
        "x_scaled_test = min_max_scaler.fit_transform(x_test)\n",
        "df_test = pd.DataFrame(x_scaled_test)"
      ],
      "execution_count": 273,
      "outputs": []
    },
    {
      "cell_type": "code",
      "metadata": {
        "id": "OgeGekJ8lW6S"
      },
      "source": [
        "predictions = model.predict(x=df_test, batch_size=32)"
      ],
      "execution_count": 274,
      "outputs": []
    },
    {
      "cell_type": "code",
      "metadata": {
        "id": "1o6zqIsfl2QX"
      },
      "source": [
        "rounded_predictions = np.argmax(predictions, axis=-1)"
      ],
      "execution_count": 275,
      "outputs": []
    },
    {
      "cell_type": "code",
      "metadata": {
        "id": "NQTy4F7TmotU"
      },
      "source": [
        "cm = confusion_matrix(y_true=y_test, y_pred=rounded_predictions)"
      ],
      "execution_count": 276,
      "outputs": []
    },
    {
      "cell_type": "code",
      "metadata": {
        "colab": {
          "base_uri": "https://localhost:8080/",
          "height": 922
        },
        "id": "rieDywHXuA6R",
        "outputId": "9eb83f07-35c5-4c57-db32-bdbeedefe6a5"
      },
      "source": [
        "label_mapping = {'NEGATIVE': 0, 'NEUTRAL': 1, 'POSITIVE': 2}\n",
        "# for diff dataset\n",
        "# label_mapping = {'NEGATIVE': 0, 'POSITIVE': 1}\n",
        "plt.figure(figsize=(8, 8))\n",
        "sns.heatmap(cm, annot=True, vmin=0, fmt='g', cbar=False, cmap='Blues')\n",
        "clr = classification_report(y_test, rounded_predictions, target_names=label_mapping.keys())\n",
        "plt.xticks(np.arange(3) + 0.5, label_mapping.keys())\n",
        "plt.yticks(np.arange(3) + 0.5, label_mapping.keys())\n",
        "plt.xlabel(\"Predicted\")\n",
        "plt.ylabel(\"Actual\")\n",
        "plt.title(\"Confusion Matrix\")\n",
        "plt.show()\n",
        "\n",
        "print(\"Classification Report:\\n----------------------\\n\", clr)\n",
        "\n"
      ],
      "execution_count": 277,
      "outputs": [
        {
          "output_type": "display_data",
          "data": {
            "image/png": "[encoded data removed]",
            "text/plain": [
              "<Figure size 800x800 with 1 Axes>"
            ]
          },
          "metadata": {
            "tags": []
          }
        },
        {
          "output_type": "stream",
          "text": [
            "Classification Report:\n",
            "----------------------\n",
            "               precision    recall  f1-score   support\n",
            "\n",
            "    NEGATIVE       0.63      1.00      0.77       137\n",
            "     NEUTRAL       0.86      0.38      0.53       147\n",
            "    POSITIVE       0.92      0.94      0.93       143\n",
            "\n",
            "    accuracy                           0.77       427\n",
            "   macro avg       0.81      0.77      0.74       427\n",
            "weighted avg       0.81      0.77      0.74       427\n",
            "\n"
          ],
          "name": "stdout"
        }
      ]
    },
    {
      "cell_type": "code",
      "metadata": {
        "id": "s5wbr_oav-Kb"
      },
      "source": [
        "# https://stackoverflow.com/questions/26413185/how-to-recover-matplotlib-defaults-after-setting-stylesheet\n",
        "import matplotlib as mpl\n",
        "mpl.rcParams.update(mpl.rcParamsDefault)"
      ],
      "execution_count": 278,
      "outputs": []
    },
    {
      "cell_type": "code",
      "metadata": {
        "id": "73HZGymlybP2"
      },
      "source": [
        "training_acc = history.history['accuracy']\n",
        "validation_acc = history.history['val_accuracy']\n",
        "training_loss  = history.history['loss']\n",
        "validation_loss = history.history['val_loss']"
      ],
      "execution_count": 279,
      "outputs": []
    },
    {
      "cell_type": "code",
      "metadata": {
        "colab": {
          "base_uri": "https://localhost:8080/",
          "height": 472
        },
        "id": "1jgMVKMDyxck",
        "outputId": "93c20695-595e-4da3-92ee-4ae36a46c16f"
      },
      "source": [
        "epochs = history.epoch\n",
        "plt.plot(epochs, training_acc, color = '#17e6e6', label='Training Accuracy')\n",
        "plt.plot(epochs, validation_acc,color = '#e61771', label='Validation Accuracy')\n",
        "plt.title('Accuracy vs Epochs')\n",
        "plt.xlabel('Epochs')\n",
        "plt.ylabel('Accuracy')\n",
        "plt.legend()\n",
        "plt.savefig('AccuracyVsEpochs.png')\n",
        "plt.show()"
      ],
      "execution_count": 280,
      "outputs": [
        {
          "output_type": "display_data",
          "data": {
            "image/png": "[encoded data removed]",
            "text/plain": [
              "<Figure size 640x480 with 1 Axes>"
            ]
          },
          "metadata": {
            "tags": []
          }
        }
      ]
    }
  ]
}