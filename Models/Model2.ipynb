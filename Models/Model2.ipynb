{
  "nbformat": 4,
  "nbformat_minor": 0,
  "metadata": {
    "colab": {
      "name": "EEGSignalClassification.ipynb",
      "provenance": []
    },
    "kernelspec": {
      "name": "python3",
      "display_name": "Python 3"
    },
    "language_info": {
      "name": "python"
    }
  },
  "cells": [
    {
      "cell_type": "code",
      "metadata": {
        "id": "iuNWUJKJLY9T"
      },
      "source": [
        "%reset -f "
      ],
      "execution_count": 50,
      "outputs": []
    },
    {
      "cell_type": "code",
      "metadata": {
        "id": "yj4HfL7EcNRq"
      },
      "source": [
        "# libraries used\n",
        "#  https://stats.stackexchange.com/questions/181/how-to-choose-the-number-of-hidden-layers-and-nodes-in-a-feedforward-neural-netw\n",
        "import numpy as np\n",
        "import pandas as pd\n",
        "import seaborn as sns \n",
        "import matplotlib.pyplot as plt\n",
        "from sklearn.model_selection import train_test_split\n",
        "from sklearn.metrics import confusion_matrix, classification_report\n",
        "from sklearn import preprocessing\n",
        "import tensorflow as tf\n",
        "from tensorflow.keras import datasets, layers, models\n",
        "import keras \n",
        "from keras.models import Sequential\n",
        "from keras.layers import Dense, Dropout\n",
        "import itertools"
      ],
      "execution_count": 51,
      "outputs": []
    },
    {
      "cell_type": "code",
      "metadata": {
        "colab": {
          "base_uri": "https://localhost:8080/"
        },
        "id": "WYIp8Qr9ck8Z",
        "outputId": "ad7c460d-382f-48b7-fad7-417d79eae26d"
      },
      "source": [
        "emotions = pd.read_csv(\"drive/MyDrive/EEG/emotions.csv\")\n",
        "emotions.replace(['NEGATIVE', 'POSITIVE', 'NEUTRAL'], [2, 1, 0], inplace=True)\n",
        "emotions['label'].unique()"
      ],
      "execution_count": 52,
      "outputs": [
        {
          "output_type": "execute_result",
          "data": {
            "text/plain": [
              "array([2, 0, 1])"
            ]
          },
          "metadata": {
            "tags": []
          },
          "execution_count": 52
        }
      ]
    },
    {
      "cell_type": "code",
      "metadata": {
        "id": "PvT5tTotcoS3"
      },
      "source": [
        "X = emotions.drop('label', axis=1).copy()\n",
        "y = (emotions['label'].copy())"
      ],
      "execution_count": 53,
      "outputs": []
    },
    {
      "cell_type": "code",
      "metadata": {
        "id": "GUZOuZK7crNV"
      },
      "source": [
        "# Splitting data into training and testing as 80-20 \n",
        "X_train, X_test, y_train, y_test = train_test_split(X, y, test_size=0.2, random_state=1)\n",
        "\n",
        "x = X_train #returns a numpy array\n",
        "min_max_scaler = preprocessing.MinMaxScaler()\n",
        "x_scaled = min_max_scaler.fit_transform(x)\n",
        "df = pd.DataFrame(x_scaled)"
      ],
      "execution_count": 54,
      "outputs": []
    },
    {
      "cell_type": "code",
      "metadata": {
        "id": "BhRoXS4mj6CV"
      },
      "source": [
        "#  resetting the data - https://www.tensorflow.org/api_docs/python/tf/keras/backend/clear_session\n",
        "tf.keras.backend.clear_session()"
      ],
      "execution_count": 55,
      "outputs": []
    },
    {
      "cell_type": "code",
      "metadata": {
        "colab": {
          "base_uri": "https://localhost:8080/"
        },
        "id": "k4a4vwF5cxvU",
        "outputId": "f2674c2e-014b-4e9a-d9af-aaadedc2154c"
      },
      "source": [
        "model = Sequential()\n",
        "model.add(Dense((2*X_train.shape[1]/3), input_dim=X_train.shape[1], activation='relu'))\n",
        "model.add(Dense((2*X_train.shape[1]/3), activation='relu'))\n",
        "model.add(Dense((1*X_train.shape[1]/3), activation='relu'))\n",
        "model.add(Dense((1*X_train.shape[1]/3), activation='relu'))\n",
        "model.add(Dense(3, activation='softmax'))\n",
        "#model.compile(loss='categorical_crossentropy', optimizer='adam', metrics=['accuracy'])\n",
        "print(model.summary())\n",
        "\n",
        "\n",
        "\n"
      ],
      "execution_count": 56,
      "outputs": [
        {
          "output_type": "stream",
          "text": [
            "Model: \"sequential\"\n",
            "_________________________________________________________________\n",
            "Layer (type)                 Output Shape              Param #   \n",
            "=================================================================\n",
            "dense (Dense)                (None, 1698)              4328202   \n",
            "_________________________________________________________________\n",
            "dense_1 (Dense)              (None, 1698)              2884902   \n",
            "_________________________________________________________________\n",
            "dense_2 (Dense)              (None, 849)               1442451   \n",
            "_________________________________________________________________\n",
            "dense_3 (Dense)              (None, 849)               721650    \n",
            "_________________________________________________________________\n",
            "dense_4 (Dense)              (None, 3)                 2550      \n",
            "=================================================================\n",
            "Total params: 9,379,755\n",
            "Trainable params: 9,379,755\n",
            "Non-trainable params: 0\n",
            "_________________________________________________________________\n",
            "None\n"
          ],
          "name": "stdout"
        }
      ]
    },
    {
      "cell_type": "code",
      "metadata": {
        "id": "A2Q9BOrneeUM"
      },
      "source": [
        "# for categorical entropy\n",
        "# https://stackoverflow.com/questions/63211181/error-while-using-categorical-crossentropy\n",
        "from tensorflow.keras.utils import to_categorical\n",
        "Y_one_hot=to_categorical(y_train) # convert Y into an one-hot vector"
      ],
      "execution_count": 57,
      "outputs": []
    },
    {
      "cell_type": "code",
      "metadata": {
        "id": "NEs5ddrJeBeG"
      },
      "source": [
        "# https://stackoverflow.com/questions/59737875/keras-change-learning-rate\n",
        "#optimizer = tf.keras.optimizers.Adam(0.001)\n",
        "#optimizer.learning_rate.assign(0.01)\n",
        "\n",
        "opt = keras.optimizers.Adadelta(learning_rate=0.01)\n",
        "\n",
        "model.compile(\n",
        "    optimizer=opt,\n",
        "    loss='sparse_categorical_crossentropy',\n",
        "    metrics=['accuracy']\n",
        ")\n",
        "\n",
        "# to be run for categorical cross entropy\n",
        "# model.compile(loss='categorical_crossentropy', optimizer=tf.keras.optimizers.Adam(lr=0.01), metrics=['accuracy'])\n"
      ],
      "execution_count": 58,
      "outputs": []
    },
    {
      "cell_type": "code",
      "metadata": {
        "id": "ASdP3qvxes8r",
        "colab": {
          "base_uri": "https://localhost:8080/"
        },
        "outputId": "34b07fe3-b7ac-41ec-ce27-e5e39d3c0ece"
      },
      "source": [
        "# make sure that the input data is shuffled before hand so that the model doesn't notice patterns and generalizes well\n",
        "# change y_train to y_hot_encoded when using categorical cross entorpy\n",
        "import time\n",
        "start_time = time.time()\n",
        "history = model.fit(\n",
        "    df,\n",
        "    y_train,\n",
        "    validation_split=0.2,\n",
        "    batch_size=32,\n",
        "    epochs=75)"
      ],
      "execution_count": 59,
      "outputs": [
        {
          "output_type": "stream",
          "text": [
            "Epoch 1/75\n",
            "43/43 [==============================] - 6s 113ms/step - loss: 0.9953 - accuracy: 0.6143 - val_loss: 0.8408 - val_accuracy: 0.6481\n",
            "Epoch 2/75\n",
            "43/43 [==============================] - 4s 99ms/step - loss: 0.7738 - accuracy: 0.7378 - val_loss: 0.7286 - val_accuracy: 0.6481\n",
            "Epoch 3/75\n",
            "43/43 [==============================] - 4s 101ms/step - loss: 0.6650 - accuracy: 0.7785 - val_loss: 0.6496 - val_accuracy: 0.8152\n",
            "Epoch 4/75\n",
            "43/43 [==============================] - 4s 96ms/step - loss: 0.6006 - accuracy: 0.8179 - val_loss: 0.5235 - val_accuracy: 0.9267\n",
            "Epoch 5/75\n",
            "43/43 [==============================] - 5s 106ms/step - loss: 0.5139 - accuracy: 0.8568 - val_loss: 0.5084 - val_accuracy: 0.8504\n",
            "Epoch 6/75\n",
            "43/43 [==============================] - 4s 98ms/step - loss: 0.4893 - accuracy: 0.8583 - val_loss: 0.4280 - val_accuracy: 0.9091\n",
            "Epoch 7/75\n",
            "43/43 [==============================] - 4s 104ms/step - loss: 0.4503 - accuracy: 0.8636 - val_loss: 0.4584 - val_accuracy: 0.8534\n",
            "Epoch 8/75\n",
            "43/43 [==============================] - 5s 115ms/step - loss: 0.4049 - accuracy: 0.8843 - val_loss: 0.3642 - val_accuracy: 0.9267\n",
            "Epoch 9/75\n",
            "43/43 [==============================] - 5s 116ms/step - loss: 0.3924 - accuracy: 0.8853 - val_loss: 0.3411 - val_accuracy: 0.9296\n",
            "Epoch 10/75\n",
            "43/43 [==============================] - 4s 99ms/step - loss: 0.3768 - accuracy: 0.8841 - val_loss: 0.3312 - val_accuracy: 0.9296\n",
            "Epoch 11/75\n",
            "43/43 [==============================] - 4s 90ms/step - loss: 0.3721 - accuracy: 0.8806 - val_loss: 0.3091 - val_accuracy: 0.9208\n",
            "Epoch 12/75\n",
            "43/43 [==============================] - 4s 90ms/step - loss: 0.3331 - accuracy: 0.8999 - val_loss: 0.3017 - val_accuracy: 0.9326\n",
            "Epoch 13/75\n",
            "43/43 [==============================] - 4s 96ms/step - loss: 0.3381 - accuracy: 0.9033 - val_loss: 0.2923 - val_accuracy: 0.9032\n",
            "Epoch 14/75\n",
            "43/43 [==============================] - 4s 104ms/step - loss: 0.3374 - accuracy: 0.8818 - val_loss: 0.3349 - val_accuracy: 0.8651\n",
            "Epoch 15/75\n",
            "43/43 [==============================] - 5s 116ms/step - loss: 0.3341 - accuracy: 0.8701 - val_loss: 0.2726 - val_accuracy: 0.9326\n",
            "Epoch 16/75\n",
            "43/43 [==============================] - 4s 103ms/step - loss: 0.2940 - accuracy: 0.9082 - val_loss: 0.2687 - val_accuracy: 0.9062\n",
            "Epoch 17/75\n",
            "43/43 [==============================] - 4s 91ms/step - loss: 0.3015 - accuracy: 0.8962 - val_loss: 0.2505 - val_accuracy: 0.9296\n",
            "Epoch 18/75\n",
            "43/43 [==============================] - 5s 107ms/step - loss: 0.2917 - accuracy: 0.9063 - val_loss: 0.3274 - val_accuracy: 0.8475\n",
            "Epoch 19/75\n",
            "43/43 [==============================] - 5s 106ms/step - loss: 0.3151 - accuracy: 0.8773 - val_loss: 0.2415 - val_accuracy: 0.9296\n",
            "Epoch 20/75\n",
            "43/43 [==============================] - 5s 113ms/step - loss: 0.2638 - accuracy: 0.9119 - val_loss: 0.2496 - val_accuracy: 0.9326\n",
            "Epoch 21/75\n",
            "43/43 [==============================] - 5s 116ms/step - loss: 0.3071 - accuracy: 0.8866 - val_loss: 0.2383 - val_accuracy: 0.9208\n",
            "Epoch 22/75\n",
            "43/43 [==============================] - 5s 109ms/step - loss: 0.2696 - accuracy: 0.8993 - val_loss: 0.2392 - val_accuracy: 0.9150\n",
            "Epoch 23/75\n",
            "43/43 [==============================] - 4s 103ms/step - loss: 0.2801 - accuracy: 0.8964 - val_loss: 0.2281 - val_accuracy: 0.9296\n",
            "Epoch 24/75\n",
            "43/43 [==============================] - 5s 116ms/step - loss: 0.2529 - accuracy: 0.9119 - val_loss: 0.2199 - val_accuracy: 0.9296\n",
            "Epoch 25/75\n",
            "43/43 [==============================] - 4s 101ms/step - loss: 0.2512 - accuracy: 0.9167 - val_loss: 0.2180 - val_accuracy: 0.9267\n",
            "Epoch 26/75\n",
            "43/43 [==============================] - 4s 91ms/step - loss: 0.2948 - accuracy: 0.8939 - val_loss: 0.2789 - val_accuracy: 0.8768\n",
            "Epoch 27/75\n",
            "43/43 [==============================] - 4s 90ms/step - loss: 0.2862 - accuracy: 0.8933 - val_loss: 0.2198 - val_accuracy: 0.9208\n",
            "Epoch 28/75\n",
            "43/43 [==============================] - 5s 107ms/step - loss: 0.2538 - accuracy: 0.8967 - val_loss: 0.2265 - val_accuracy: 0.9179\n",
            "Epoch 29/75\n",
            "43/43 [==============================] - 5s 116ms/step - loss: 0.2703 - accuracy: 0.8980 - val_loss: 0.3019 - val_accuracy: 0.8710\n",
            "Epoch 30/75\n",
            "43/43 [==============================] - 5s 116ms/step - loss: 0.2607 - accuracy: 0.9029 - val_loss: 0.2222 - val_accuracy: 0.9179\n",
            "Epoch 31/75\n",
            "43/43 [==============================] - 5s 110ms/step - loss: 0.2465 - accuracy: 0.9120 - val_loss: 0.2095 - val_accuracy: 0.9384\n",
            "Epoch 32/75\n",
            "43/43 [==============================] - 5s 117ms/step - loss: 0.2344 - accuracy: 0.9070 - val_loss: 0.2449 - val_accuracy: 0.8886\n",
            "Epoch 33/75\n",
            "43/43 [==============================] - 5s 115ms/step - loss: 0.2152 - accuracy: 0.9207 - val_loss: 0.2076 - val_accuracy: 0.9413\n",
            "Epoch 34/75\n",
            "43/43 [==============================] - 4s 102ms/step - loss: 0.2540 - accuracy: 0.9114 - val_loss: 0.2221 - val_accuracy: 0.9267\n",
            "Epoch 35/75\n",
            "43/43 [==============================] - 5s 116ms/step - loss: 0.2258 - accuracy: 0.9171 - val_loss: 0.1898 - val_accuracy: 0.9355\n",
            "Epoch 36/75\n",
            "43/43 [==============================] - 5s 115ms/step - loss: 0.2229 - accuracy: 0.9146 - val_loss: 0.2182 - val_accuracy: 0.9326\n",
            "Epoch 37/75\n",
            "43/43 [==============================] - 5s 108ms/step - loss: 0.2306 - accuracy: 0.9081 - val_loss: 0.1967 - val_accuracy: 0.9326\n",
            "Epoch 38/75\n",
            "43/43 [==============================] - 5s 109ms/step - loss: 0.2440 - accuracy: 0.9056 - val_loss: 0.1970 - val_accuracy: 0.9179\n",
            "Epoch 39/75\n",
            "43/43 [==============================] - 5s 105ms/step - loss: 0.2283 - accuracy: 0.9037 - val_loss: 0.1943 - val_accuracy: 0.9267\n",
            "Epoch 40/75\n",
            "43/43 [==============================] - 4s 90ms/step - loss: 0.2175 - accuracy: 0.9193 - val_loss: 0.2101 - val_accuracy: 0.9267\n",
            "Epoch 41/75\n",
            "43/43 [==============================] - 5s 106ms/step - loss: 0.2299 - accuracy: 0.9246 - val_loss: 0.1811 - val_accuracy: 0.9413\n",
            "Epoch 42/75\n",
            "43/43 [==============================] - 4s 90ms/step - loss: 0.2159 - accuracy: 0.9223 - val_loss: 0.1858 - val_accuracy: 0.9296\n",
            "Epoch 43/75\n",
            "43/43 [==============================] - 5s 124ms/step - loss: 0.2280 - accuracy: 0.9242 - val_loss: 0.2156 - val_accuracy: 0.9003\n",
            "Epoch 44/75\n",
            "43/43 [==============================] - 5s 116ms/step - loss: 0.2410 - accuracy: 0.9051 - val_loss: 0.2385 - val_accuracy: 0.8886\n",
            "Epoch 45/75\n",
            "43/43 [==============================] - 5s 106ms/step - loss: 0.2169 - accuracy: 0.9151 - val_loss: 0.1739 - val_accuracy: 0.9384\n",
            "Epoch 46/75\n",
            "43/43 [==============================] - 5s 109ms/step - loss: 0.2333 - accuracy: 0.8972 - val_loss: 0.1790 - val_accuracy: 0.9296\n",
            "Epoch 47/75\n",
            "43/43 [==============================] - 5s 116ms/step - loss: 0.1810 - accuracy: 0.9298 - val_loss: 0.1817 - val_accuracy: 0.9296\n",
            "Epoch 48/75\n",
            "43/43 [==============================] - 5s 107ms/step - loss: 0.2272 - accuracy: 0.9174 - val_loss: 0.1681 - val_accuracy: 0.9472\n",
            "Epoch 49/75\n",
            "43/43 [==============================] - 5s 110ms/step - loss: 0.2055 - accuracy: 0.9263 - val_loss: 0.1628 - val_accuracy: 0.9326\n",
            "Epoch 50/75\n",
            "43/43 [==============================] - 5s 106ms/step - loss: 0.1988 - accuracy: 0.9220 - val_loss: 0.1620 - val_accuracy: 0.9413\n",
            "Epoch 51/75\n",
            "43/43 [==============================] - 4s 105ms/step - loss: 0.1981 - accuracy: 0.9288 - val_loss: 0.1618 - val_accuracy: 0.9413\n",
            "Epoch 52/75\n",
            "43/43 [==============================] - 4s 92ms/step - loss: 0.1801 - accuracy: 0.9412 - val_loss: 0.1866 - val_accuracy: 0.9413\n",
            "Epoch 53/75\n",
            "43/43 [==============================] - 5s 117ms/step - loss: 0.1871 - accuracy: 0.9360 - val_loss: 0.1928 - val_accuracy: 0.9062\n",
            "Epoch 54/75\n",
            "43/43 [==============================] - 5s 120ms/step - loss: 0.1746 - accuracy: 0.9380 - val_loss: 0.1565 - val_accuracy: 0.9413\n",
            "Epoch 55/75\n",
            "43/43 [==============================] - 4s 103ms/step - loss: 0.1611 - accuracy: 0.9476 - val_loss: 0.1917 - val_accuracy: 0.9326\n",
            "Epoch 56/75\n",
            "43/43 [==============================] - 4s 93ms/step - loss: 0.1999 - accuracy: 0.9242 - val_loss: 0.1690 - val_accuracy: 0.9267\n",
            "Epoch 57/75\n",
            "43/43 [==============================] - 5s 124ms/step - loss: 0.1826 - accuracy: 0.9235 - val_loss: 0.1543 - val_accuracy: 0.9531\n",
            "Epoch 58/75\n",
            "43/43 [==============================] - 5s 114ms/step - loss: 0.1937 - accuracy: 0.9362 - val_loss: 0.1644 - val_accuracy: 0.9531\n",
            "Epoch 59/75\n",
            "43/43 [==============================] - 4s 96ms/step - loss: 0.1830 - accuracy: 0.9302 - val_loss: 0.1559 - val_accuracy: 0.9589\n",
            "Epoch 60/75\n",
            "43/43 [==============================] - 4s 100ms/step - loss: 0.1514 - accuracy: 0.9479 - val_loss: 0.1613 - val_accuracy: 0.9501\n",
            "Epoch 61/75\n",
            "43/43 [==============================] - 5s 113ms/step - loss: 0.1842 - accuracy: 0.9473 - val_loss: 0.1983 - val_accuracy: 0.9150\n",
            "Epoch 62/75\n",
            "43/43 [==============================] - 5s 106ms/step - loss: 0.1902 - accuracy: 0.9337 - val_loss: 0.1902 - val_accuracy: 0.9501\n",
            "Epoch 63/75\n",
            "43/43 [==============================] - 5s 114ms/step - loss: 0.1815 - accuracy: 0.9434 - val_loss: 0.1497 - val_accuracy: 0.9531\n",
            "Epoch 64/75\n",
            "43/43 [==============================] - 4s 100ms/step - loss: 0.1791 - accuracy: 0.9375 - val_loss: 0.1836 - val_accuracy: 0.9120\n",
            "Epoch 65/75\n",
            "43/43 [==============================] - 4s 92ms/step - loss: 0.1535 - accuracy: 0.9431 - val_loss: 0.1407 - val_accuracy: 0.9472\n",
            "Epoch 66/75\n",
            "43/43 [==============================] - 4s 100ms/step - loss: 0.1642 - accuracy: 0.9417 - val_loss: 0.1495 - val_accuracy: 0.9355\n",
            "Epoch 67/75\n",
            "43/43 [==============================] - 4s 91ms/step - loss: 0.1548 - accuracy: 0.9485 - val_loss: 0.1423 - val_accuracy: 0.9413\n",
            "Epoch 68/75\n",
            "43/43 [==============================] - 4s 92ms/step - loss: 0.1437 - accuracy: 0.9558 - val_loss: 0.1673 - val_accuracy: 0.9208\n",
            "Epoch 69/75\n",
            "43/43 [==============================] - 4s 93ms/step - loss: 0.1580 - accuracy: 0.9434 - val_loss: 0.1791 - val_accuracy: 0.9296\n",
            "Epoch 70/75\n",
            "43/43 [==============================] - 4s 93ms/step - loss: 0.1636 - accuracy: 0.9452 - val_loss: 0.1396 - val_accuracy: 0.9560\n",
            "Epoch 71/75\n",
            "43/43 [==============================] - 4s 92ms/step - loss: 0.1533 - accuracy: 0.9527 - val_loss: 0.1462 - val_accuracy: 0.9648\n",
            "Epoch 72/75\n",
            "43/43 [==============================] - 4s 96ms/step - loss: 0.1334 - accuracy: 0.9580 - val_loss: 0.1512 - val_accuracy: 0.9677\n",
            "Epoch 73/75\n",
            "43/43 [==============================] - 4s 103ms/step - loss: 0.1378 - accuracy: 0.9517 - val_loss: 0.1365 - val_accuracy: 0.9413\n",
            "Epoch 74/75\n",
            "43/43 [==============================] - 4s 105ms/step - loss: 0.1536 - accuracy: 0.9539 - val_loss: 0.1481 - val_accuracy: 0.9355\n",
            "Epoch 75/75\n",
            "43/43 [==============================] - 4s 97ms/step - loss: 0.1281 - accuracy: 0.9567 - val_loss: 0.1547 - val_accuracy: 0.9443\n"
          ],
          "name": "stdout"
        }
      ]
    },
    {
      "cell_type": "code",
      "metadata": {
        "id": "vhwajgGzpvrD",
        "colab": {
          "base_uri": "https://localhost:8080/"
        },
        "outputId": "20200113-558a-47ea-e575-d0759a269d73"
      },
      "source": [
        "history.history"
      ],
      "execution_count": 60,
      "outputs": [
        {
          "output_type": "execute_result",
          "data": {
            "text/plain": [
              "{'accuracy': [0.662756621837616,\n",
              "  0.7565982341766357,\n",
              "  0.7881231904029846,\n",
              "  0.8328445553779602,\n",
              "  0.8409090638160706,\n",
              "  0.8643695116043091,\n",
              "  0.8585044145584106,\n",
              "  0.8753665685653687,\n",
              "  0.8731671571731567,\n",
              "  0.8768328428268433,\n",
              "  0.8848973512649536,\n",
              "  0.8936949968338013,\n",
              "  0.8973606824874878,\n",
              "  0.8980938196182251,\n",
              "  0.8826979398727417,\n",
              "  0.8980938196182251,\n",
              "  0.8995600938796997,\n",
              "  0.892961859703064,\n",
              "  0.8848973512649536,\n",
              "  0.9010263681411743,\n",
              "  0.8951612710952759,\n",
              "  0.9024926424026489,\n",
              "  0.8995600938796997,\n",
              "  0.9017595052719116,\n",
              "  0.9054251909255981,\n",
              "  0.9032257795333862,\n",
              "  0.8980938196182251,\n",
              "  0.9061583280563354,\n",
              "  0.9024926424026489,\n",
              "  0.8922287225723267,\n",
              "  0.9098240733146667,\n",
              "  0.9010263681411743,\n",
              "  0.9046920537948608,\n",
              "  0.9142228960990906,\n",
              "  0.9098240733146667,\n",
              "  0.9142228960990906,\n",
              "  0.9068915247917175,\n",
              "  0.9090909361839294,\n",
              "  0.910557210445404,\n",
              "  0.9112903475761414,\n",
              "  0.9222874045372009,\n",
              "  0.9186217188835144,\n",
              "  0.929618775844574,\n",
              "  0.9178885817527771,\n",
              "  0.9142228960990906,\n",
              "  0.9017595052719116,\n",
              "  0.9252199530601501,\n",
              "  0.9208211302757263,\n",
              "  0.9252199530601501,\n",
              "  0.9244868159294128,\n",
              "  0.9259530901908875,\n",
              "  0.9274193644523621,\n",
              "  0.9347507357597351,\n",
              "  0.9310850501060486,\n",
              "  0.9384164214134216,\n",
              "  0.9318181872367859,\n",
              "  0.9288856387138367,\n",
              "  0.936950147151947,\n",
              "  0.9332844614982605,\n",
              "  0.9340175986289978,\n",
              "  0.9494134783744812,\n",
              "  0.9391495585441589,\n",
              "  0.9376832842826843,\n",
              "  0.946480929851532,\n",
              "  0.9391495585441589,\n",
              "  0.9435483813285828,\n",
              "  0.9354838728904724,\n",
              "  0.953812301158905,\n",
              "  0.9486803412437439,\n",
              "  0.9508797526359558,\n",
              "  0.9516128897666931,\n",
              "  0.9486803412437439,\n",
              "  0.9486803412437439,\n",
              "  0.9508797526359558,\n",
              "  0.9523460268974304],\n",
              " 'loss': [0.9411099553108215,\n",
              "  0.754642903804779,\n",
              "  0.6594600677490234,\n",
              "  0.5753206610679626,\n",
              "  0.5226905345916748,\n",
              "  0.47349023818969727,\n",
              "  0.44933268427848816,\n",
              "  0.41651907563209534,\n",
              "  0.39453840255737305,\n",
              "  0.37918153405189514,\n",
              "  0.35968154668807983,\n",
              "  0.3443683087825775,\n",
              "  0.33668380975723267,\n",
              "  0.3171484172344208,\n",
              "  0.3213163912296295,\n",
              "  0.30688175559043884,\n",
              "  0.29778656363487244,\n",
              "  0.29687124490737915,\n",
              "  0.30533915758132935,\n",
              "  0.28022679686546326,\n",
              "  0.291934072971344,\n",
              "  0.27590563893318176,\n",
              "  0.26912838220596313,\n",
              "  0.2692534923553467,\n",
              "  0.26985228061676025,\n",
              "  0.2652058005332947,\n",
              "  0.2601572871208191,\n",
              "  0.24952442944049835,\n",
              "  0.2574794292449951,\n",
              "  0.26429465413093567,\n",
              "  0.2432839572429657,\n",
              "  0.2454966902732849,\n",
              "  0.24102835357189178,\n",
              "  0.23782122135162354,\n",
              "  0.23688744008541107,\n",
              "  0.2296820431947708,\n",
              "  0.23642806708812714,\n",
              "  0.22600127756595612,\n",
              "  0.2260100096464157,\n",
              "  0.22372908890247345,\n",
              "  0.21940843760967255,\n",
              "  0.21927441656589508,\n",
              "  0.20910416543483734,\n",
              "  0.21343351900577545,\n",
              "  0.2257682979106903,\n",
              "  0.2275579869747162,\n",
              "  0.20003896951675415,\n",
              "  0.20275789499282837,\n",
              "  0.20349392294883728,\n",
              "  0.19295033812522888,\n",
              "  0.19651001691818237,\n",
              "  0.20238123834133148,\n",
              "  0.18676945567131042,\n",
              "  0.19237224757671356,\n",
              "  0.18073289096355438,\n",
              "  0.18840576708316803,\n",
              "  0.1800810545682907,\n",
              "  0.185996875166893,\n",
              "  0.17512480914592743,\n",
              "  0.17712554335594177,\n",
              "  0.17006318271160126,\n",
              "  0.17857472598552704,\n",
              "  0.17859333753585815,\n",
              "  0.1638341248035431,\n",
              "  0.16825003921985626,\n",
              "  0.16051359474658966,\n",
              "  0.1739264279603958,\n",
              "  0.14962205290794373,\n",
              "  0.15413165092468262,\n",
              "  0.15183643996715546,\n",
              "  0.1513184756040573,\n",
              "  0.15655969083309174,\n",
              "  0.1500861495733261,\n",
              "  0.15139903128147125,\n",
              "  0.14193443953990936],\n",
              " 'val_accuracy': [0.6480938196182251,\n",
              "  0.6480938196182251,\n",
              "  0.8152492642402649,\n",
              "  0.9266862273216248,\n",
              "  0.8504399061203003,\n",
              "  0.9090909361839294,\n",
              "  0.8533724546432495,\n",
              "  0.9266862273216248,\n",
              "  0.929618775844574,\n",
              "  0.929618775844574,\n",
              "  0.9208211302757263,\n",
              "  0.9325513243675232,\n",
              "  0.9032257795333862,\n",
              "  0.8651026487350464,\n",
              "  0.9325513243675232,\n",
              "  0.9061583280563354,\n",
              "  0.929618775844574,\n",
              "  0.8475073575973511,\n",
              "  0.929618775844574,\n",
              "  0.9325513243675232,\n",
              "  0.9208211302757263,\n",
              "  0.9149560332298279,\n",
              "  0.929618775844574,\n",
              "  0.929618775844574,\n",
              "  0.9266862273216248,\n",
              "  0.8768328428268433,\n",
              "  0.9208211302757263,\n",
              "  0.9178885817527771,\n",
              "  0.8709677457809448,\n",
              "  0.9178885817527771,\n",
              "  0.9384164214134216,\n",
              "  0.8885630369186401,\n",
              "  0.9413489699363708,\n",
              "  0.9266862273216248,\n",
              "  0.9354838728904724,\n",
              "  0.9325513243675232,\n",
              "  0.9325513243675232,\n",
              "  0.9178885817527771,\n",
              "  0.9266862273216248,\n",
              "  0.9266862273216248,\n",
              "  0.9413489699363708,\n",
              "  0.929618775844574,\n",
              "  0.900293231010437,\n",
              "  0.8885630369186401,\n",
              "  0.9384164214134216,\n",
              "  0.929618775844574,\n",
              "  0.929618775844574,\n",
              "  0.9472140669822693,\n",
              "  0.9325513243675232,\n",
              "  0.9413489699363708,\n",
              "  0.9413489699363708,\n",
              "  0.9413489699363708,\n",
              "  0.9061583280563354,\n",
              "  0.9413489699363708,\n",
              "  0.9325513243675232,\n",
              "  0.9266862273216248,\n",
              "  0.9530791640281677,\n",
              "  0.9530791640281677,\n",
              "  0.9589442610740662,\n",
              "  0.9501466155052185,\n",
              "  0.9149560332298279,\n",
              "  0.9501466155052185,\n",
              "  0.9530791640281677,\n",
              "  0.9120234847068787,\n",
              "  0.9472140669822693,\n",
              "  0.9354838728904724,\n",
              "  0.9413489699363708,\n",
              "  0.9208211302757263,\n",
              "  0.929618775844574,\n",
              "  0.9560117125511169,\n",
              "  0.9648093581199646,\n",
              "  0.9677419066429138,\n",
              "  0.9413489699363708,\n",
              "  0.9354838728904724,\n",
              "  0.9442815184593201],\n",
              " 'val_loss': [0.8407751321792603,\n",
              "  0.7285761833190918,\n",
              "  0.6495628356933594,\n",
              "  0.5235083103179932,\n",
              "  0.508355438709259,\n",
              "  0.4280412197113037,\n",
              "  0.45841559767723083,\n",
              "  0.36416032910346985,\n",
              "  0.3411150872707367,\n",
              "  0.3311902582645416,\n",
              "  0.3090997040271759,\n",
              "  0.30165570974349976,\n",
              "  0.29227155447006226,\n",
              "  0.3348635733127594,\n",
              "  0.27260908484458923,\n",
              "  0.26874375343322754,\n",
              "  0.25051695108413696,\n",
              "  0.3274157643318176,\n",
              "  0.24152205884456635,\n",
              "  0.24957524240016937,\n",
              "  0.2382618933916092,\n",
              "  0.23919881880283356,\n",
              "  0.2281186729669571,\n",
              "  0.21992696821689606,\n",
              "  0.2179618626832962,\n",
              "  0.27889272570610046,\n",
              "  0.21978874504566193,\n",
              "  0.22650454938411713,\n",
              "  0.30188870429992676,\n",
              "  0.22219936549663544,\n",
              "  0.20951737463474274,\n",
              "  0.2449025958776474,\n",
              "  0.20758718252182007,\n",
              "  0.22213102877140045,\n",
              "  0.18984410166740417,\n",
              "  0.21818824112415314,\n",
              "  0.1966659426689148,\n",
              "  0.19696728885173798,\n",
              "  0.19429293274879456,\n",
              "  0.2100640833377838,\n",
              "  0.1811450570821762,\n",
              "  0.18576951324939728,\n",
              "  0.21562013030052185,\n",
              "  0.23847751319408417,\n",
              "  0.1738957315683365,\n",
              "  0.17904949188232422,\n",
              "  0.18173639476299286,\n",
              "  0.16809377074241638,\n",
              "  0.16281826794147491,\n",
              "  0.16199453175067902,\n",
              "  0.16179350018501282,\n",
              "  0.18664003908634186,\n",
              "  0.19279037415981293,\n",
              "  0.15653911232948303,\n",
              "  0.19174323976039886,\n",
              "  0.1690342277288437,\n",
              "  0.1543446034193039,\n",
              "  0.1644057184457779,\n",
              "  0.15589697659015656,\n",
              "  0.16127456724643707,\n",
              "  0.19830521941184998,\n",
              "  0.19016142189502716,\n",
              "  0.14969220757484436,\n",
              "  0.1835528016090393,\n",
              "  0.14074522256851196,\n",
              "  0.14950770139694214,\n",
              "  0.14226318895816803,\n",
              "  0.1673416793346405,\n",
              "  0.17910712957382202,\n",
              "  0.13959601521492004,\n",
              "  0.14619942009449005,\n",
              "  0.15117233991622925,\n",
              "  0.13647305965423584,\n",
              "  0.14805814623832703,\n",
              "  0.15468190610408783]}"
            ]
          },
          "metadata": {
            "tags": []
          },
          "execution_count": 60
        }
      ]
    },
    {
      "cell_type": "code",
      "metadata": {
        "colab": {
          "base_uri": "https://localhost:8080/"
        },
        "id": "Kyn1dHRRJ5Wn",
        "outputId": "0ea8e0f4-a00b-455a-c850-077ef3a1bf14"
      },
      "source": [
        "print(\"--- %s seconds ---\" % (time.time() - start_time))\n"
      ],
      "execution_count": 61,
      "outputs": [
        {
          "output_type": "stream",
          "text": [
            "--- 382.9366900920868 seconds ---\n"
          ],
          "name": "stdout"
        }
      ]
    },
    {
      "cell_type": "code",
      "metadata": {
        "id": "rOU0i1e6jhr3"
      },
      "source": [
        "x_test = X_test #returns a numpy array\n",
        "min_max_scaler = preprocessing.MinMaxScaler()\n",
        "x_scaled_test = min_max_scaler.fit_transform(x_test)\n",
        "df_test = pd.DataFrame(x_scaled_test)"
      ],
      "execution_count": 62,
      "outputs": []
    },
    {
      "cell_type": "code",
      "metadata": {
        "id": "OgeGekJ8lW6S"
      },
      "source": [
        "predictions = model.predict(x=df_test, batch_size=32)"
      ],
      "execution_count": 63,
      "outputs": []
    },
    {
      "cell_type": "code",
      "metadata": {
        "id": "1o6zqIsfl2QX"
      },
      "source": [
        "rounded_predictions = np.argmax(predictions, axis=-1)"
      ],
      "execution_count": 64,
      "outputs": []
    },
    {
      "cell_type": "code",
      "metadata": {
        "id": "NQTy4F7TmotU"
      },
      "source": [
        "cm = confusion_matrix(y_true=y_test, y_pred=rounded_predictions)"
      ],
      "execution_count": 65,
      "outputs": []
    },
    {
      "cell_type": "code",
      "metadata": {
        "colab": {
          "base_uri": "https://localhost:8080/",
          "height": 922
        },
        "id": "rieDywHXuA6R",
        "outputId": "2c6b712c-2c57-4486-c81d-ea97680ff538"
      },
      "source": [
        "label_mapping = {'NEGATIVE': 0, 'NEUTRAL': 1, 'POSITIVE': 2}\n",
        "# for diff dataset\n",
        "# label_mapping = {'NEGATIVE': 0, 'POSITIVE': 1}\n",
        "plt.figure(figsize=(8, 8))\n",
        "sns.heatmap(cm, annot=True, vmin=0, fmt='g', cbar=False, cmap='Blues')\n",
        "clr = classification_report(y_test, rounded_predictions, target_names=label_mapping.keys())\n",
        "plt.xticks(np.arange(3) + 0.5, label_mapping.keys())\n",
        "plt.yticks(np.arange(3) + 0.5, label_mapping.keys())\n",
        "plt.xlabel(\"Predicted\")\n",
        "plt.ylabel(\"Actual\")\n",
        "plt.title(\"Confusion Matrix\")\n",
        "plt.show()\n",
        "\n",
        "print(\"Classification Report:\\n----------------------\\n\", clr)\n",
        "\n"
      ],
      "execution_count": 66,
      "outputs": [
        {
          "output_type": "display_data",
          "data": {
            "image/png": "[encoded data removed]",
            "text/plain": [
              "<Figure size 800x800 with 1 Axes>"
            ]
          },
          "metadata": {
            "tags": []
          }
        },
        {
          "output_type": "stream",
          "text": [
            "Classification Report:\n",
            "----------------------\n",
            "               precision    recall  f1-score   support\n",
            "\n",
            "    NEGATIVE       0.99      0.77      0.87       137\n",
            "     NEUTRAL       0.80      0.90      0.84       147\n",
            "    POSITIVE       0.91      0.98      0.94       143\n",
            "\n",
            "    accuracy                           0.89       427\n",
            "   macro avg       0.90      0.88      0.89       427\n",
            "weighted avg       0.90      0.89      0.88       427\n",
            "\n"
          ],
          "name": "stdout"
        }
      ]
    },
    {
      "cell_type": "code",
      "metadata": {
        "id": "s5wbr_oav-Kb"
      },
      "source": [
        "# https://stackoverflow.com/questions/26413185/how-to-recover-matplotlib-defaults-after-setting-stylesheet\n",
        "import matplotlib as mpl\n",
        "mpl.rcParams.update(mpl.rcParamsDefault)"
      ],
      "execution_count": 67,
      "outputs": []
    },
    {
      "cell_type": "code",
      "metadata": {
        "id": "73HZGymlybP2"
      },
      "source": [
        "training_acc = history.history['accuracy']\n",
        "validation_acc = history.history['val_accuracy']\n",
        "training_loss  = history.history['loss']\n",
        "validation_loss = history.history['val_loss']"
      ],
      "execution_count": 68,
      "outputs": []
    },
    {
      "cell_type": "code",
      "metadata": {
        "colab": {
          "base_uri": "https://localhost:8080/",
          "height": 472
        },
        "id": "1jgMVKMDyxck",
        "outputId": "9a57444d-0850-4ffa-c622-063326760056"
      },
      "source": [
        "epochs = history.epoch\n",
        "plt.plot(epochs, training_acc, color = '#17e6e6', label='Training Accuracy')\n",
        "plt.plot(epochs, validation_acc,color = '#e61771', label='Validation Accuracy')\n",
        "plt.title('Accuracy vs Epochs')\n",
        "plt.xlabel('Epochs')\n",
        "plt.ylabel('Accuracy')\n",
        "plt.legend()\n",
        "plt.savefig('AccuracyVsEpochs.png')\n",
        "plt.show()\n",
        "from google.colab import files\n",
        "files.download('AccuracyVsEpochs.png') \n"
      ],
      "execution_count": 69,
      "outputs": [
        {
          "output_type": "display_data",
          "data": {
            "image/png": "[encoded data removed]",
            "text/plain": [
              "<Figure size 640x480 with 1 Axes>"
            ]
          },
          "metadata": {
            "tags": []
          }
        },
        {
          "output_type": "display_data",
          "data": {
            "application/javascript": [
              "\n",
              "    async function download(id, filename, size) {\n",
              "      if (!google.colab.kernel.accessAllowed) {\n",
              "        return;\n",
              "      }\n",
              "      const div = document.createElement('div');\n",
              "      const label = document.createElement('label');\n",
              "      label.textContent = `Downloading \"${filename}\": `;\n",
              "      div.appendChild(label);\n",
              "      const progress = document.createElement('progress');\n",
              "      progress.max = size;\n",
              "      div.appendChild(progress);\n",
              "      document.body.appendChild(div);\n",
              "\n",
              "      const buffers = [];\n",
              "      let downloaded = 0;\n",
              "\n",
              "      const channel = await google.colab.kernel.comms.open(id);\n",
              "      // Send a message to notify the kernel that we're ready.\n",
              "      channel.send({})\n",
              "\n",
              "      for await (const message of channel.messages) {\n",
              "        // Send a message to notify the kernel that we're ready.\n",
              "        channel.send({})\n",
              "        if (message.buffers) {\n",
              "          for (const buffer of message.buffers) {\n",
              "            buffers.push(buffer);\n",
              "            downloaded += buffer.byteLength;\n",
              "            progress.value = downloaded;\n",
              "          }\n",
              "        }\n",
              "      }\n",
              "      const blob = new Blob(buffers, {type: 'application/binary'});\n",
              "      const a = document.createElement('a');\n",
              "      a.href = window.URL.createObjectURL(blob);\n",
              "      a.download = filename;\n",
              "      div.appendChild(a);\n",
              "      a.click();\n",
              "      div.remove();\n",
              "    }\n",
              "  "
            ],
            "text/plain": [
              "<IPython.core.display.Javascript object>"
            ]
          },
          "metadata": {
            "tags": []
          }
        },
        {
          "output_type": "display_data",
          "data": {
            "application/javascript": [
              "download(\"download_0eff1735-e182-47a9-9820-ad5b3a0d7e5b\", \"AccuracyVsEpochs.png\", 46114)"
            ],
            "text/plain": [
              "<IPython.core.display.Javascript object>"
            ]
          },
          "metadata": {
            "tags": []
          }
        }
      ]
    }
  ]
}