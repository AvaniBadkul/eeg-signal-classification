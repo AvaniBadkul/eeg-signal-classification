{
  "nbformat": 4,
  "nbformat_minor": 0,
  "metadata": {
    "colab": {
      "name": "EEGSignalClassification.ipynb",
      "provenance": [],
      "collapsed_sections": []
    },
    "kernelspec": {
      "name": "python3",
      "display_name": "Python 3"
    },
    "language_info": {
      "name": "python"
    }
  },
  "cells": [
    {
      "cell_type": "code",
      "metadata": {
        "id": "iuNWUJKJLY9T"
      },
      "source": [
        "%reset -f "
      ],
      "execution_count": 410,
      "outputs": []
    },
    {
      "cell_type": "code",
      "metadata": {
        "id": "yj4HfL7EcNRq"
      },
      "source": [
        "# libraries used\n",
        "#  https://stats.stackexchange.com/questions/181/how-to-choose-the-number-of-hidden-layers-and-nodes-in-a-feedforward-neural-netw\n",
        "import numpy as np\n",
        "import pandas as pd\n",
        "import seaborn as sns \n",
        "import matplotlib.pyplot as plt\n",
        "from sklearn.model_selection import train_test_split\n",
        "from sklearn.metrics import confusion_matrix, classification_report\n",
        "from sklearn import preprocessing\n",
        "import tensorflow as tf\n",
        "from tensorflow.keras import datasets, layers, models\n",
        "import keras \n",
        "from keras.models import Sequential\n",
        "from keras.layers import Dense, Dropout\n",
        "import itertools"
      ],
      "execution_count": 411,
      "outputs": []
    },
    {
      "cell_type": "code",
      "metadata": {
        "colab": {
          "base_uri": "https://localhost:8080/"
        },
        "id": "WYIp8Qr9ck8Z",
        "outputId": "2173a97d-eee0-4782-da13-9aec6462ecee"
      },
      "source": [
        "emotions = pd.read_csv(\"drive/MyDrive/EEG/emotions.csv\")\n",
        "emotions.replace(['NEGATIVE', 'POSITIVE', 'NEUTRAL'], [2, 1, 0], inplace=True)\n",
        "emotions['label'].unique()"
      ],
      "execution_count": 412,
      "outputs": [
        {
          "output_type": "execute_result",
          "data": {
            "text/plain": [
              "array([2, 0, 1])"
            ]
          },
          "metadata": {
            "tags": []
          },
          "execution_count": 412
        }
      ]
    },
    {
      "cell_type": "code",
      "metadata": {
        "id": "PvT5tTotcoS3"
      },
      "source": [
        "X = emotions.drop('label', axis=1).copy()\n",
        "y = (emotions['label'].copy())"
      ],
      "execution_count": 413,
      "outputs": []
    },
    {
      "cell_type": "code",
      "metadata": {
        "id": "GUZOuZK7crNV"
      },
      "source": [
        "# Splitting data into training and testing as 80-20 \n",
        "X_train, X_test, y_train, y_test = train_test_split(X, y, test_size=0.2, random_state=1)\n",
        "\n",
        "x = X_train #returns a numpy array\n",
        "min_max_scaler = preprocessing.MinMaxScaler()\n",
        "x_scaled = min_max_scaler.fit_transform(x)\n",
        "df = pd.DataFrame(x_scaled)"
      ],
      "execution_count": 414,
      "outputs": []
    },
    {
      "cell_type": "code",
      "metadata": {
        "id": "BhRoXS4mj6CV"
      },
      "source": [
        "#  resetting the data - https://www.tensorflow.org/api_docs/python/tf/keras/backend/clear_session\n",
        "tf.keras.backend.clear_session()"
      ],
      "execution_count": 415,
      "outputs": []
    },
    {
      "cell_type": "code",
      "metadata": {
        "colab": {
          "base_uri": "https://localhost:8080/"
        },
        "id": "k4a4vwF5cxvU",
        "outputId": "900070e1-d5eb-42cf-e4ac-ba48dd7a917d"
      },
      "source": [
        "model = Sequential()\n",
        "model.add(Dense((2*X_train.shape[1]/3), input_dim=X_train.shape[1], activation='relu'))\n",
        "model.add(Dense((2*X_train.shape[1]/3), activation='relu'))\n",
        "model.add(Dense((1*X_train.shape[1]/3), activation='relu'))\n",
        "model.add(Dense((1*X_train.shape[1]/3), activation='relu'))\n",
        "model.add(Dense(3, activation='softmax'))\n",
        "#model.compile(loss='categorical_crossentropy', optimizer='adam', metrics=['accuracy'])\n",
        "print(model.summary())\n",
        "\n",
        "\n",
        "\n"
      ],
      "execution_count": 416,
      "outputs": [
        {
          "output_type": "stream",
          "text": [
            "Model: \"sequential\"\n",
            "_________________________________________________________________\n",
            "Layer (type)                 Output Shape              Param #   \n",
            "=================================================================\n",
            "dense (Dense)                (None, 1698)              4328202   \n",
            "_________________________________________________________________\n",
            "dense_1 (Dense)              (None, 1698)              2884902   \n",
            "_________________________________________________________________\n",
            "dense_2 (Dense)              (None, 849)               1442451   \n",
            "_________________________________________________________________\n",
            "dense_3 (Dense)              (None, 849)               721650    \n",
            "_________________________________________________________________\n",
            "dense_4 (Dense)              (None, 3)                 2550      \n",
            "=================================================================\n",
            "Total params: 9,379,755\n",
            "Trainable params: 9,379,755\n",
            "Non-trainable params: 0\n",
            "_________________________________________________________________\n",
            "None\n"
          ],
          "name": "stdout"
        }
      ]
    },
    {
      "cell_type": "code",
      "metadata": {
        "id": "A2Q9BOrneeUM"
      },
      "source": [
        "# for categorical entropy\n",
        "# https://stackoverflow.com/questions/63211181/error-while-using-categorical-crossentropy\n",
        "from tensorflow.keras.utils import to_categorical\n",
        "Y_one_hot=to_categorical(y_train) # convert Y into an one-hot vector"
      ],
      "execution_count": 417,
      "outputs": []
    },
    {
      "cell_type": "code",
      "metadata": {
        "id": "NEs5ddrJeBeG"
      },
      "source": [
        "# https://stackoverflow.com/questions/59737875/keras-change-learning-rate\n",
        "#optimizer = tf.keras.optimizers.Adam(0.001)\n",
        "#optimizer.learning_rate.assign(0.01)\n",
        "\n",
        "# opt = keras.optimizers.Adadelta(learning_rate=0.01)\n",
        "\n",
        "# model.compile(\n",
        "#    optimizer=opt,\n",
        "#    loss='categorical_crossentropy',\n",
        "#    metrics=['accuracy']\n",
        "#)\n",
        "\n",
        "# to be run for categorical cross entropy\n",
        "model.compile(loss='categorical_crossentropy', optimizer=tf.keras.optimizers.Adagrad(learning_rate=0.001), metrics=['accuracy'])\n"
      ],
      "execution_count": 418,
      "outputs": []
    },
    {
      "cell_type": "code",
      "metadata": {
        "id": "ASdP3qvxes8r",
        "colab": {
          "base_uri": "https://localhost:8080/"
        },
        "outputId": "55b336b2-1272-4a0f-d729-9bc4bed4af6e"
      },
      "source": [
        "# make sure that the input data is shuffled before hand so that the model doesn't notice patterns and generalizes well\n",
        "# change y_train to y_hot_encoded when using categorical cross entorpy\n",
        "import time\n",
        "start_time = time.time()\n",
        "#history = model.fit(\n",
        "#    df,\n",
        "#    y_train,\n",
        "#    validation_split=0.2,\n",
        "#    batch_size=32,\n",
        "#    epochs=75)\n",
        "\n",
        "\n",
        "# to be run for categorical cross entropy\n",
        "\n",
        "history = model.fit(\n",
        "    df,\n",
        "    Y_one_hot,\n",
        "    validation_split=0.2,\n",
        "    batch_size=32,\n",
        "    epochs=75)"
      ],
      "execution_count": 419,
      "outputs": [
        {
          "output_type": "stream",
          "text": [
            "Epoch 1/75\n",
            "43/43 [==============================] - 5s 97ms/step - loss: 1.0315 - accuracy: 0.5321 - val_loss: 0.8892 - val_accuracy: 0.8915\n",
            "Epoch 2/75\n",
            "43/43 [==============================] - 3s 80ms/step - loss: 0.8561 - accuracy: 0.7423 - val_loss: 0.7761 - val_accuracy: 0.6774\n",
            "Epoch 3/75\n",
            "43/43 [==============================] - 3s 79ms/step - loss: 0.7549 - accuracy: 0.7726 - val_loss: 0.6891 - val_accuracy: 0.8974\n",
            "Epoch 4/75\n",
            "43/43 [==============================] - 3s 78ms/step - loss: 0.6701 - accuracy: 0.8300 - val_loss: 0.6491 - val_accuracy: 0.6745\n",
            "Epoch 5/75\n",
            "43/43 [==============================] - 3s 79ms/step - loss: 0.6192 - accuracy: 0.8080 - val_loss: 0.5666 - val_accuracy: 0.9238\n",
            "Epoch 6/75\n",
            "43/43 [==============================] - 3s 80ms/step - loss: 0.5541 - accuracy: 0.8695 - val_loss: 0.5443 - val_accuracy: 0.7507\n",
            "Epoch 7/75\n",
            "43/43 [==============================] - 3s 80ms/step - loss: 0.5135 - accuracy: 0.8648 - val_loss: 0.5275 - val_accuracy: 0.8416\n",
            "Epoch 8/75\n",
            "43/43 [==============================] - 3s 80ms/step - loss: 0.5034 - accuracy: 0.8726 - val_loss: 0.4918 - val_accuracy: 0.8475\n",
            "Epoch 9/75\n",
            "43/43 [==============================] - 3s 80ms/step - loss: 0.4664 - accuracy: 0.8719 - val_loss: 0.4287 - val_accuracy: 0.9179\n",
            "Epoch 10/75\n",
            "43/43 [==============================] - 3s 80ms/step - loss: 0.4452 - accuracy: 0.8708 - val_loss: 0.3992 - val_accuracy: 0.9238\n",
            "Epoch 11/75\n",
            "43/43 [==============================] - 3s 79ms/step - loss: 0.4324 - accuracy: 0.8686 - val_loss: 0.3768 - val_accuracy: 0.9120\n",
            "Epoch 12/75\n",
            "43/43 [==============================] - 3s 80ms/step - loss: 0.4047 - accuracy: 0.8845 - val_loss: 0.3733 - val_accuracy: 0.8974\n",
            "Epoch 13/75\n",
            "43/43 [==============================] - 3s 79ms/step - loss: 0.3864 - accuracy: 0.8756 - val_loss: 0.3562 - val_accuracy: 0.9179\n",
            "Epoch 14/75\n",
            "43/43 [==============================] - 4s 82ms/step - loss: 0.4005 - accuracy: 0.8670 - val_loss: 0.3754 - val_accuracy: 0.8651\n",
            "Epoch 15/75\n",
            "43/43 [==============================] - 4s 83ms/step - loss: 0.3774 - accuracy: 0.8856 - val_loss: 0.3420 - val_accuracy: 0.8856\n",
            "Epoch 16/75\n",
            "43/43 [==============================] - 3s 80ms/step - loss: 0.3417 - accuracy: 0.8947 - val_loss: 0.3093 - val_accuracy: 0.9296\n",
            "Epoch 17/75\n",
            "43/43 [==============================] - 3s 80ms/step - loss: 0.3404 - accuracy: 0.8827 - val_loss: 0.3176 - val_accuracy: 0.8886\n",
            "Epoch 18/75\n",
            "43/43 [==============================] - 3s 80ms/step - loss: 0.3187 - accuracy: 0.9041 - val_loss: 0.2968 - val_accuracy: 0.9062\n",
            "Epoch 19/75\n",
            "43/43 [==============================] - 3s 81ms/step - loss: 0.3122 - accuracy: 0.8992 - val_loss: 0.3079 - val_accuracy: 0.8974\n",
            "Epoch 20/75\n",
            "43/43 [==============================] - 3s 80ms/step - loss: 0.3358 - accuracy: 0.8819 - val_loss: 0.2834 - val_accuracy: 0.9296\n",
            "Epoch 21/75\n",
            "43/43 [==============================] - 3s 80ms/step - loss: 0.3019 - accuracy: 0.8968 - val_loss: 0.2938 - val_accuracy: 0.9238\n",
            "Epoch 22/75\n",
            "43/43 [==============================] - 4s 83ms/step - loss: 0.2999 - accuracy: 0.9097 - val_loss: 0.2926 - val_accuracy: 0.9003\n",
            "Epoch 23/75\n",
            "43/43 [==============================] - 4s 89ms/step - loss: 0.3203 - accuracy: 0.8861 - val_loss: 0.3402 - val_accuracy: 0.8622\n",
            "Epoch 24/75\n",
            "43/43 [==============================] - 3s 80ms/step - loss: 0.3242 - accuracy: 0.8860 - val_loss: 0.2728 - val_accuracy: 0.9003\n",
            "Epoch 25/75\n",
            "43/43 [==============================] - 3s 81ms/step - loss: 0.2938 - accuracy: 0.8981 - val_loss: 0.2799 - val_accuracy: 0.9238\n",
            "Epoch 26/75\n",
            "43/43 [==============================] - 3s 80ms/step - loss: 0.2982 - accuracy: 0.8964 - val_loss: 0.2653 - val_accuracy: 0.9032\n",
            "Epoch 27/75\n",
            "43/43 [==============================] - 3s 80ms/step - loss: 0.2959 - accuracy: 0.8919 - val_loss: 0.2931 - val_accuracy: 0.8915\n",
            "Epoch 28/75\n",
            "43/43 [==============================] - 3s 81ms/step - loss: 0.2921 - accuracy: 0.8908 - val_loss: 0.2715 - val_accuracy: 0.8886\n",
            "Epoch 29/75\n",
            "43/43 [==============================] - 4s 94ms/step - loss: 0.2935 - accuracy: 0.8872 - val_loss: 0.2377 - val_accuracy: 0.9326\n",
            "Epoch 30/75\n",
            "43/43 [==============================] - 4s 99ms/step - loss: 0.2799 - accuracy: 0.9079 - val_loss: 0.2394 - val_accuracy: 0.9326\n",
            "Epoch 31/75\n",
            "43/43 [==============================] - 3s 80ms/step - loss: 0.2713 - accuracy: 0.9046 - val_loss: 0.2380 - val_accuracy: 0.9179\n",
            "Epoch 32/75\n",
            "43/43 [==============================] - 4s 98ms/step - loss: 0.2730 - accuracy: 0.9018 - val_loss: 0.2547 - val_accuracy: 0.9267\n",
            "Epoch 33/75\n",
            "43/43 [==============================] - 4s 88ms/step - loss: 0.2808 - accuracy: 0.8984 - val_loss: 0.2314 - val_accuracy: 0.9179\n",
            "Epoch 34/75\n",
            "43/43 [==============================] - 3s 80ms/step - loss: 0.2679 - accuracy: 0.9031 - val_loss: 0.2285 - val_accuracy: 0.9208\n",
            "Epoch 35/75\n",
            "43/43 [==============================] - 3s 80ms/step - loss: 0.2706 - accuracy: 0.8986 - val_loss: 0.2566 - val_accuracy: 0.9003\n",
            "Epoch 36/75\n",
            "43/43 [==============================] - 4s 82ms/step - loss: 0.2683 - accuracy: 0.9042 - val_loss: 0.2399 - val_accuracy: 0.9032\n",
            "Epoch 37/75\n",
            "43/43 [==============================] - 3s 81ms/step - loss: 0.2747 - accuracy: 0.8992 - val_loss: 0.2233 - val_accuracy: 0.9326\n",
            "Epoch 38/75\n",
            "43/43 [==============================] - 3s 81ms/step - loss: 0.2630 - accuracy: 0.8986 - val_loss: 0.2133 - val_accuracy: 0.9296\n",
            "Epoch 39/75\n",
            "43/43 [==============================] - 3s 81ms/step - loss: 0.2636 - accuracy: 0.9121 - val_loss: 0.2625 - val_accuracy: 0.9208\n",
            "Epoch 40/75\n",
            "43/43 [==============================] - 4s 88ms/step - loss: 0.2981 - accuracy: 0.8754 - val_loss: 0.2625 - val_accuracy: 0.9208\n",
            "Epoch 41/75\n",
            "43/43 [==============================] - 3s 80ms/step - loss: 0.2465 - accuracy: 0.9067 - val_loss: 0.2303 - val_accuracy: 0.9355\n",
            "Epoch 42/75\n",
            "43/43 [==============================] - 3s 81ms/step - loss: 0.3081 - accuracy: 0.8864 - val_loss: 0.2099 - val_accuracy: 0.9355\n",
            "Epoch 43/75\n",
            "43/43 [==============================] - 3s 81ms/step - loss: 0.2428 - accuracy: 0.9123 - val_loss: 0.2045 - val_accuracy: 0.9296\n",
            "Epoch 44/75\n",
            "43/43 [==============================] - 3s 80ms/step - loss: 0.3102 - accuracy: 0.8739 - val_loss: 0.2672 - val_accuracy: 0.8915\n",
            "Epoch 45/75\n",
            "43/43 [==============================] - 4s 86ms/step - loss: 0.2528 - accuracy: 0.9022 - val_loss: 0.3023 - val_accuracy: 0.8651\n",
            "Epoch 46/75\n",
            "43/43 [==============================] - 3s 80ms/step - loss: 0.2308 - accuracy: 0.9196 - val_loss: 0.2439 - val_accuracy: 0.8915\n",
            "Epoch 47/75\n",
            "43/43 [==============================] - 4s 87ms/step - loss: 0.2490 - accuracy: 0.9064 - val_loss: 0.2022 - val_accuracy: 0.9326\n",
            "Epoch 48/75\n",
            "43/43 [==============================] - 3s 80ms/step - loss: 0.2524 - accuracy: 0.9014 - val_loss: 0.2100 - val_accuracy: 0.9384\n",
            "Epoch 49/75\n",
            "43/43 [==============================] - 4s 86ms/step - loss: 0.2293 - accuracy: 0.9047 - val_loss: 0.2458 - val_accuracy: 0.8915\n",
            "Epoch 50/75\n",
            "43/43 [==============================] - 4s 90ms/step - loss: 0.2288 - accuracy: 0.9114 - val_loss: 0.2159 - val_accuracy: 0.9384\n",
            "Epoch 51/75\n",
            "43/43 [==============================] - 4s 84ms/step - loss: 0.2329 - accuracy: 0.9110 - val_loss: 0.2045 - val_accuracy: 0.9208\n",
            "Epoch 52/75\n",
            "43/43 [==============================] - 4s 87ms/step - loss: 0.2247 - accuracy: 0.9230 - val_loss: 0.1962 - val_accuracy: 0.9296\n",
            "Epoch 53/75\n",
            "43/43 [==============================] - 4s 88ms/step - loss: 0.2143 - accuracy: 0.9247 - val_loss: 0.2163 - val_accuracy: 0.9062\n",
            "Epoch 54/75\n",
            "43/43 [==============================] - 3s 80ms/step - loss: 0.2489 - accuracy: 0.8967 - val_loss: 0.1877 - val_accuracy: 0.9296\n",
            "Epoch 55/75\n",
            "43/43 [==============================] - 3s 80ms/step - loss: 0.2336 - accuracy: 0.9090 - val_loss: 0.1908 - val_accuracy: 0.9296\n",
            "Epoch 56/75\n",
            "43/43 [==============================] - 4s 87ms/step - loss: 0.2109 - accuracy: 0.9342 - val_loss: 0.1959 - val_accuracy: 0.9296\n",
            "Epoch 57/75\n",
            "43/43 [==============================] - 3s 80ms/step - loss: 0.2163 - accuracy: 0.9237 - val_loss: 0.2087 - val_accuracy: 0.9384\n",
            "Epoch 58/75\n",
            "43/43 [==============================] - 3s 80ms/step - loss: 0.2285 - accuracy: 0.9183 - val_loss: 0.1983 - val_accuracy: 0.9208\n",
            "Epoch 59/75\n",
            "43/43 [==============================] - 3s 80ms/step - loss: 0.2070 - accuracy: 0.9239 - val_loss: 0.1875 - val_accuracy: 0.9326\n",
            "Epoch 60/75\n",
            "43/43 [==============================] - 4s 88ms/step - loss: 0.2143 - accuracy: 0.9212 - val_loss: 0.1874 - val_accuracy: 0.9355\n",
            "Epoch 61/75\n",
            "43/43 [==============================] - 3s 81ms/step - loss: 0.2378 - accuracy: 0.9006 - val_loss: 0.1868 - val_accuracy: 0.9326\n",
            "Epoch 62/75\n",
            "43/43 [==============================] - 4s 82ms/step - loss: 0.2130 - accuracy: 0.9173 - val_loss: 0.2306 - val_accuracy: 0.9179\n",
            "Epoch 63/75\n",
            "43/43 [==============================] - 4s 86ms/step - loss: 0.2316 - accuracy: 0.9159 - val_loss: 0.2024 - val_accuracy: 0.9179\n",
            "Epoch 64/75\n",
            "43/43 [==============================] - 3s 80ms/step - loss: 0.2244 - accuracy: 0.9172 - val_loss: 0.1764 - val_accuracy: 0.9326\n",
            "Epoch 65/75\n",
            "43/43 [==============================] - 4s 82ms/step - loss: 0.2008 - accuracy: 0.9186 - val_loss: 0.1798 - val_accuracy: 0.9296\n",
            "Epoch 66/75\n",
            "43/43 [==============================] - 3s 82ms/step - loss: 0.1796 - accuracy: 0.9384 - val_loss: 0.1780 - val_accuracy: 0.9296\n",
            "Epoch 67/75\n",
            "43/43 [==============================] - 3s 81ms/step - loss: 0.2013 - accuracy: 0.9237 - val_loss: 0.1970 - val_accuracy: 0.9179\n",
            "Epoch 68/75\n",
            "43/43 [==============================] - 3s 81ms/step - loss: 0.2382 - accuracy: 0.9031 - val_loss: 0.1860 - val_accuracy: 0.9238\n",
            "Epoch 69/75\n",
            "43/43 [==============================] - 4s 82ms/step - loss: 0.2040 - accuracy: 0.9280 - val_loss: 0.1751 - val_accuracy: 0.9296\n",
            "Epoch 70/75\n",
            "43/43 [==============================] - 3s 81ms/step - loss: 0.2065 - accuracy: 0.9189 - val_loss: 0.1841 - val_accuracy: 0.9179\n",
            "Epoch 71/75\n",
            "43/43 [==============================] - 3s 81ms/step - loss: 0.2051 - accuracy: 0.9243 - val_loss: 0.1739 - val_accuracy: 0.9296\n",
            "Epoch 72/75\n",
            "43/43 [==============================] - 3s 81ms/step - loss: 0.1922 - accuracy: 0.9266 - val_loss: 0.2180 - val_accuracy: 0.9003\n",
            "Epoch 73/75\n",
            "43/43 [==============================] - 4s 82ms/step - loss: 0.2054 - accuracy: 0.9152 - val_loss: 0.1813 - val_accuracy: 0.9296\n",
            "Epoch 74/75\n",
            "43/43 [==============================] - 3s 81ms/step - loss: 0.2054 - accuracy: 0.9228 - val_loss: 0.1882 - val_accuracy: 0.9413\n",
            "Epoch 75/75\n",
            "43/43 [==============================] - 3s 81ms/step - loss: 0.1962 - accuracy: 0.9249 - val_loss: 0.1768 - val_accuracy: 0.9326\n"
          ],
          "name": "stdout"
        }
      ]
    },
    {
      "cell_type": "code",
      "metadata": {
        "id": "vhwajgGzpvrD",
        "colab": {
          "base_uri": "https://localhost:8080/"
        },
        "outputId": "a610de14-5d0f-4357-87ee-6afa4c1bdeed"
      },
      "source": [
        "history.history"
      ],
      "execution_count": 420,
      "outputs": [
        {
          "output_type": "execute_result",
          "data": {
            "text/plain": [
              "{'accuracy': [0.6202346086502075,\n",
              "  0.742668628692627,\n",
              "  0.7837243676185608,\n",
              "  0.8115835785865784,\n",
              "  0.8189149498939514,\n",
              "  0.8548387289047241,\n",
              "  0.8680351972579956,\n",
              "  0.8819648027420044,\n",
              "  0.8775659799575806,\n",
              "  0.8790322542190552,\n",
              "  0.8841642141342163,\n",
              "  0.8848973512649536,\n",
              "  0.8812316656112671,\n",
              "  0.8724340200424194,\n",
              "  0.883431077003479,\n",
              "  0.8870967626571655,\n",
              "  0.8878298997879028,\n",
              "  0.892961859703064,\n",
              "  0.8944281339645386,\n",
              "  0.8885630369186401,\n",
              "  0.8900293111801147,\n",
              "  0.9039589166641235,\n",
              "  0.8973606824874878,\n",
              "  0.8892961740493774,\n",
              "  0.8988269567489624,\n",
              "  0.8980938196182251,\n",
              "  0.890762448310852,\n",
              "  0.8995600938796997,\n",
              "  0.9010263681411743,\n",
              "  0.9010263681411743,\n",
              "  0.9054251909255981,\n",
              "  0.9061583280563354,\n",
              "  0.8980938196182251,\n",
              "  0.9039589166641235,\n",
              "  0.9054251909255981,\n",
              "  0.9039589166641235,\n",
              "  0.8980938196182251,\n",
              "  0.9054251909255981,\n",
              "  0.910557210445404,\n",
              "  0.9010263681411743,\n",
              "  0.9039589166641235,\n",
              "  0.9024926424026489,\n",
              "  0.9149560332298279,\n",
              "  0.8988269567489624,\n",
              "  0.9120234847068787,\n",
              "  0.9098240733146667,\n",
              "  0.9134897589683533,\n",
              "  0.8995600938796997,\n",
              "  0.9098240733146667,\n",
              "  0.910557210445404,\n",
              "  0.9156891703605652,\n",
              "  0.9112903475761414,\n",
              "  0.920087993144989,\n",
              "  0.9076246619224548,\n",
              "  0.9156891703605652,\n",
              "  0.9222874045372009,\n",
              "  0.9215542674064636,\n",
              "  0.920087993144989,\n",
              "  0.9068915247917175,\n",
              "  0.9142228960990906,\n",
              "  0.9054251909255981,\n",
              "  0.9230205416679382,\n",
              "  0.9222874045372009,\n",
              "  0.9156891703605652,\n",
              "  0.9171554446220398,\n",
              "  0.9266862273216248,\n",
              "  0.9149560332298279,\n",
              "  0.9208211302757263,\n",
              "  0.9318181872367859,\n",
              "  0.9208211302757263,\n",
              "  0.9237536787986755,\n",
              "  0.9259530901908875,\n",
              "  0.9193548560142517,\n",
              "  0.9266862273216248,\n",
              "  0.9310850501060486],\n",
              " 'loss': [0.9834723472595215,\n",
              "  0.8298838138580322,\n",
              "  0.7366117835044861,\n",
              "  0.658456027507782,\n",
              "  0.604325532913208,\n",
              "  0.5553126335144043,\n",
              "  0.5222874283790588,\n",
              "  0.48425382375717163,\n",
              "  0.45849913358688354,\n",
              "  0.43380236625671387,\n",
              "  0.41202282905578613,\n",
              "  0.39668789505958557,\n",
              "  0.38570043444633484,\n",
              "  0.3809989094734192,\n",
              "  0.37288838624954224,\n",
              "  0.3489125669002533,\n",
              "  0.34377312660217285,\n",
              "  0.33062222599983215,\n",
              "  0.3237665891647339,\n",
              "  0.32773473858833313,\n",
              "  0.32091856002807617,\n",
              "  0.3120664954185486,\n",
              "  0.30608972907066345,\n",
              "  0.30529046058654785,\n",
              "  0.2981415092945099,\n",
              "  0.2939050793647766,\n",
              "  0.3002578616142273,\n",
              "  0.2845131754875183,\n",
              "  0.28395983576774597,\n",
              "  0.28661420941352844,\n",
              "  0.2732681930065155,\n",
              "  0.26955077052116394,\n",
              "  0.278564453125,\n",
              "  0.2641931474208832,\n",
              "  0.2656042277812958,\n",
              "  0.2616632580757141,\n",
              "  0.2713983356952667,\n",
              "  0.25844839215278625,\n",
              "  0.2579648494720459,\n",
              "  0.2634238600730896,\n",
              "  0.25619542598724365,\n",
              "  0.271340012550354,\n",
              "  0.23931705951690674,\n",
              "  0.2665562927722931,\n",
              "  0.23822122812271118,\n",
              "  0.2452877163887024,\n",
              "  0.24312622845172882,\n",
              "  0.2535547912120819,\n",
              "  0.23590843379497528,\n",
              "  0.23743554949760437,\n",
              "  0.22926171123981476,\n",
              "  0.2377108335494995,\n",
              "  0.22162289917469025,\n",
              "  0.23946814239025116,\n",
              "  0.2263592779636383,\n",
              "  0.2176099568605423,\n",
              "  0.2148657888174057,\n",
              "  0.22643087804317474,\n",
              "  0.22976844012737274,\n",
              "  0.22196446359157562,\n",
              "  0.2311127781867981,\n",
              "  0.21467456221580505,\n",
              "  0.21388307213783264,\n",
              "  0.22173121571540833,\n",
              "  0.20820148289203644,\n",
              "  0.20467813313007355,\n",
              "  0.20972344279289246,\n",
              "  0.213193878531456,\n",
              "  0.19917266070842743,\n",
              "  0.20474688708782196,\n",
              "  0.19840645790100098,\n",
              "  0.20185677707195282,\n",
              "  0.20508532226085663,\n",
              "  0.19199523329734802,\n",
              "  0.18946540355682373],\n",
              " 'val_accuracy': [0.8914955854415894,\n",
              "  0.6774193644523621,\n",
              "  0.8973606824874878,\n",
              "  0.6744868159294128,\n",
              "  0.9237536787986755,\n",
              "  0.7507331371307373,\n",
              "  0.8416422009468079,\n",
              "  0.8475073575973511,\n",
              "  0.9178885817527771,\n",
              "  0.9237536787986755,\n",
              "  0.9120234847068787,\n",
              "  0.8973606824874878,\n",
              "  0.9178885817527771,\n",
              "  0.8651026487350464,\n",
              "  0.8856304883956909,\n",
              "  0.929618775844574,\n",
              "  0.8885630369186401,\n",
              "  0.9061583280563354,\n",
              "  0.8973606824874878,\n",
              "  0.929618775844574,\n",
              "  0.9237536787986755,\n",
              "  0.900293231010437,\n",
              "  0.8621701002120972,\n",
              "  0.900293231010437,\n",
              "  0.9237536787986755,\n",
              "  0.9032257795333862,\n",
              "  0.8914955854415894,\n",
              "  0.8885630369186401,\n",
              "  0.9325513243675232,\n",
              "  0.9325513243675232,\n",
              "  0.9178885817527771,\n",
              "  0.9266862273216248,\n",
              "  0.9178885817527771,\n",
              "  0.9208211302757263,\n",
              "  0.900293231010437,\n",
              "  0.9032257795333862,\n",
              "  0.9325513243675232,\n",
              "  0.929618775844574,\n",
              "  0.9208211302757263,\n",
              "  0.9208211302757263,\n",
              "  0.9354838728904724,\n",
              "  0.9354838728904724,\n",
              "  0.929618775844574,\n",
              "  0.8914955854415894,\n",
              "  0.8651026487350464,\n",
              "  0.8914955854415894,\n",
              "  0.9325513243675232,\n",
              "  0.9384164214134216,\n",
              "  0.8914955854415894,\n",
              "  0.9384164214134216,\n",
              "  0.9208211302757263,\n",
              "  0.929618775844574,\n",
              "  0.9061583280563354,\n",
              "  0.929618775844574,\n",
              "  0.929618775844574,\n",
              "  0.929618775844574,\n",
              "  0.9384164214134216,\n",
              "  0.9208211302757263,\n",
              "  0.9325513243675232,\n",
              "  0.9354838728904724,\n",
              "  0.9325513243675232,\n",
              "  0.9178885817527771,\n",
              "  0.9178885817527771,\n",
              "  0.9325513243675232,\n",
              "  0.929618775844574,\n",
              "  0.929618775844574,\n",
              "  0.9178885817527771,\n",
              "  0.9237536787986755,\n",
              "  0.929618775844574,\n",
              "  0.9178885817527771,\n",
              "  0.929618775844574,\n",
              "  0.900293231010437,\n",
              "  0.929618775844574,\n",
              "  0.9413489699363708,\n",
              "  0.9325513243675232],\n",
              " 'val_loss': [0.8891963362693787,\n",
              "  0.7761150598526001,\n",
              "  0.6890938878059387,\n",
              "  0.6491402387619019,\n",
              "  0.5666178464889526,\n",
              "  0.5443213582038879,\n",
              "  0.5275484919548035,\n",
              "  0.49175214767456055,\n",
              "  0.4286592900753021,\n",
              "  0.3991757333278656,\n",
              "  0.3767526149749756,\n",
              "  0.37327438592910767,\n",
              "  0.35621708631515503,\n",
              "  0.37535542249679565,\n",
              "  0.34203624725341797,\n",
              "  0.30929967761039734,\n",
              "  0.31760507822036743,\n",
              "  0.29682108759880066,\n",
              "  0.30793675780296326,\n",
              "  0.2833837568759918,\n",
              "  0.29378342628479004,\n",
              "  0.2926410734653473,\n",
              "  0.34019336104393005,\n",
              "  0.27282464504241943,\n",
              "  0.2799484431743622,\n",
              "  0.26531359553337097,\n",
              "  0.293101966381073,\n",
              "  0.2715347111225128,\n",
              "  0.23770736157894135,\n",
              "  0.2393847107887268,\n",
              "  0.2380165457725525,\n",
              "  0.2546665370464325,\n",
              "  0.23137134313583374,\n",
              "  0.22845232486724854,\n",
              "  0.2566266357898712,\n",
              "  0.2398582249879837,\n",
              "  0.22331401705741882,\n",
              "  0.2132851779460907,\n",
              "  0.26245033740997314,\n",
              "  0.2624657154083252,\n",
              "  0.23027823865413666,\n",
              "  0.2098878026008606,\n",
              "  0.20445212721824646,\n",
              "  0.26718366146087646,\n",
              "  0.30232423543930054,\n",
              "  0.24391447007656097,\n",
              "  0.20221833884716034,\n",
              "  0.2099587470293045,\n",
              "  0.24576260149478912,\n",
              "  0.21592135727405548,\n",
              "  0.20448321104049683,\n",
              "  0.19619303941726685,\n",
              "  0.21633116900920868,\n",
              "  0.18772737681865692,\n",
              "  0.19075101613998413,\n",
              "  0.19586080312728882,\n",
              "  0.20869529247283936,\n",
              "  0.19834685325622559,\n",
              "  0.18746571242809296,\n",
              "  0.18741336464881897,\n",
              "  0.18681010603904724,\n",
              "  0.23059964179992676,\n",
              "  0.20241135358810425,\n",
              "  0.17639581859111786,\n",
              "  0.1798323541879654,\n",
              "  0.17797313630580902,\n",
              "  0.19695229828357697,\n",
              "  0.18598662316799164,\n",
              "  0.1751352846622467,\n",
              "  0.18406988680362701,\n",
              "  0.17392678558826447,\n",
              "  0.21804523468017578,\n",
              "  0.18125803768634796,\n",
              "  0.18817010521888733,\n",
              "  0.1767948716878891]}"
            ]
          },
          "metadata": {
            "tags": []
          },
          "execution_count": 420
        }
      ]
    },
    {
      "cell_type": "code",
      "metadata": {
        "colab": {
          "base_uri": "https://localhost:8080/"
        },
        "id": "Kyn1dHRRJ5Wn",
        "outputId": "a52e7a6a-1730-4eef-c771-907a67281760"
      },
      "source": [
        "print(\"--- %s seconds ---\" % (time.time() - start_time))\n"
      ],
      "execution_count": 421,
      "outputs": [
        {
          "output_type": "stream",
          "text": [
            "--- 322.89508748054504 seconds ---\n"
          ],
          "name": "stdout"
        }
      ]
    },
    {
      "cell_type": "code",
      "metadata": {
        "id": "rOU0i1e6jhr3"
      },
      "source": [
        "x_test = X_test #returns a numpy array\n",
        "min_max_scaler = preprocessing.MinMaxScaler()\n",
        "x_scaled_test = min_max_scaler.fit_transform(x_test)\n",
        "df_test = pd.DataFrame(x_scaled_test)"
      ],
      "execution_count": 422,
      "outputs": []
    },
    {
      "cell_type": "code",
      "metadata": {
        "id": "OgeGekJ8lW6S"
      },
      "source": [
        "predictions = model.predict(x=df_test, batch_size=32)"
      ],
      "execution_count": 423,
      "outputs": []
    },
    {
      "cell_type": "code",
      "metadata": {
        "id": "1o6zqIsfl2QX"
      },
      "source": [
        "rounded_predictions = np.argmax(predictions, axis=-1)"
      ],
      "execution_count": 424,
      "outputs": []
    },
    {
      "cell_type": "code",
      "metadata": {
        "id": "NQTy4F7TmotU"
      },
      "source": [
        "cm = confusion_matrix(y_true=y_test, y_pred=rounded_predictions)"
      ],
      "execution_count": 425,
      "outputs": []
    },
    {
      "cell_type": "code",
      "metadata": {
        "colab": {
          "base_uri": "https://localhost:8080/",
          "height": 922
        },
        "id": "rieDywHXuA6R",
        "outputId": "e24c4dab-e3dc-4b5e-990a-d898a796b309"
      },
      "source": [
        "label_mapping = {'NEGATIVE': 0, 'NEUTRAL': 1, 'POSITIVE': 2}\n",
        "# for diff dataset\n",
        "# label_mapping = {'NEGATIVE': 0, 'POSITIVE': 1}\n",
        "plt.figure(figsize=(8, 8))\n",
        "sns.heatmap(cm, annot=True, vmin=0, fmt='g', cbar=False, cmap='Blues')\n",
        "clr = classification_report(y_test, rounded_predictions, target_names=label_mapping.keys())\n",
        "plt.xticks(np.arange(3) + 0.5, label_mapping.keys())\n",
        "plt.yticks(np.arange(3) + 0.5, label_mapping.keys())\n",
        "plt.xlabel(\"Predicted\")\n",
        "plt.ylabel(\"Actual\")\n",
        "plt.title(\"Confusion Matrix\")\n",
        "plt.show()\n",
        "\n",
        "print(\"Classification Report:\\n----------------------\\n\", clr)\n",
        "\n"
      ],
      "execution_count": 426,
      "outputs": [
        {
          "output_type": "display_data",
          "data": {
            "image/png": "[encoded data removed]",
            "text/plain": [
              "<Figure size 800x800 with 1 Axes>"
            ]
          },
          "metadata": {
            "tags": []
          }
        },
        {
          "output_type": "stream",
          "text": [
            "Classification Report:\n",
            "----------------------\n",
            "               precision    recall  f1-score   support\n",
            "\n",
            "    NEGATIVE       0.97      0.85      0.91       137\n",
            "     NEUTRAL       0.84      0.84      0.84       147\n",
            "    POSITIVE       0.88      0.99      0.93       143\n",
            "\n",
            "    accuracy                           0.89       427\n",
            "   macro avg       0.90      0.89      0.89       427\n",
            "weighted avg       0.90      0.89      0.89       427\n",
            "\n"
          ],
          "name": "stdout"
        }
      ]
    },
    {
      "cell_type": "code",
      "metadata": {
        "id": "s5wbr_oav-Kb"
      },
      "source": [
        "# https://stackoverflow.com/questions/26413185/how-to-recover-matplotlib-defaults-after-setting-stylesheet\n",
        "import matplotlib as mpl\n",
        "mpl.rcParams.update(mpl.rcParamsDefault)"
      ],
      "execution_count": 427,
      "outputs": []
    },
    {
      "cell_type": "code",
      "metadata": {
        "id": "73HZGymlybP2"
      },
      "source": [
        "training_acc = history.history['accuracy']\n",
        "validation_acc = history.history['val_accuracy']\n",
        "training_loss  = history.history['loss']\n",
        "validation_loss = history.history['val_loss']"
      ],
      "execution_count": 428,
      "outputs": []
    },
    {
      "cell_type": "code",
      "metadata": {
        "colab": {
          "base_uri": "https://localhost:8080/",
          "height": 472
        },
        "id": "1jgMVKMDyxck",
        "outputId": "998a5f64-394c-44f3-eadc-4971c0dd452b"
      },
      "source": [
        "epochs = history.epoch\n",
        "plt.plot(epochs, training_acc, color = '#17e6e6', label='Training Accuracy')\n",
        "plt.plot(epochs, validation_acc,color = '#e61771', label='Validation Accuracy')\n",
        "plt.title('Accuracy vs Epochs')\n",
        "plt.xlabel('Epochs')\n",
        "plt.ylabel('Accuracy')\n",
        "plt.legend()\n",
        "plt.savefig('AccuracyVsEpochs.png')\n",
        "plt.show()"
      ],
      "execution_count": 429,
      "outputs": [
        {
          "output_type": "display_data",
          "data": {
            "image/png": "[encoded data removed]",
            "text/plain": [
              "<Figure size 640x480 with 1 Axes>"
            ]
          },
          "metadata": {
            "tags": []
          }
        }
      ]
    }
  ]
}