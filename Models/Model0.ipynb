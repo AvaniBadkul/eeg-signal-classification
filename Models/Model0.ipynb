{
  "nbformat": 4,
  "nbformat_minor": 0,
  "metadata": {
    "colab": {
      "name": "EEGSignalClassification.ipynb",
      "provenance": [],
      "collapsed_sections": []
    },
    "kernelspec": {
      "name": "python3",
      "display_name": "Python 3"
    },
    "language_info": {
      "name": "python"
    }
  },
  "cells": [
    {
      "cell_type": "code",
      "metadata": {
        "id": "iuNWUJKJLY9T"
      },
      "source": [
        "%reset -f "
      ],
      "execution_count": 490,
      "outputs": []
    },
    {
      "cell_type": "code",
      "metadata": {
        "id": "yj4HfL7EcNRq"
      },
      "source": [
        "# libraries used\n",
        "#  https://stats.stackexchange.com/questions/181/how-to-choose-the-number-of-hidden-layers-and-nodes-in-a-feedforward-neural-netw\n",
        "import numpy as np\n",
        "import pandas as pd\n",
        "import seaborn as sns \n",
        "import matplotlib.pyplot as plt\n",
        "from sklearn.model_selection import train_test_split\n",
        "from sklearn.metrics import confusion_matrix, classification_report\n",
        "from sklearn import preprocessing\n",
        "import tensorflow as tf\n",
        "from tensorflow.keras import datasets, layers, models\n",
        "import keras \n",
        "from keras.models import Sequential\n",
        "from keras.layers import Dense, Dropout\n",
        "import itertools"
      ],
      "execution_count": 491,
      "outputs": []
    },
    {
      "cell_type": "code",
      "metadata": {
        "colab": {
          "base_uri": "https://localhost:8080/"
        },
        "id": "WYIp8Qr9ck8Z",
        "outputId": "5ab6cf4f-b158-4aca-fc64-832f34e41b79"
      },
      "source": [
        "emotions = pd.read_csv(\"drive/MyDrive/EEG/emotions.csv\")\n",
        "emotions.replace(['NEGATIVE', 'POSITIVE', 'NEUTRAL'], [2, 1, 0], inplace=True)\n",
        "emotions['label'].unique()"
      ],
      "execution_count": 492,
      "outputs": [
        {
          "output_type": "execute_result",
          "data": {
            "text/plain": [
              "array([2, 0, 1])"
            ]
          },
          "metadata": {
            "tags": []
          },
          "execution_count": 492
        }
      ]
    },
    {
      "cell_type": "code",
      "metadata": {
        "id": "PvT5tTotcoS3"
      },
      "source": [
        "X = emotions.drop('label', axis=1).copy()\n",
        "y = (emotions['label'].copy())"
      ],
      "execution_count": 493,
      "outputs": []
    },
    {
      "cell_type": "code",
      "metadata": {
        "id": "GUZOuZK7crNV"
      },
      "source": [
        "# Splitting data into training and testing as 80-20 \n",
        "X_train, X_test, y_train, y_test = train_test_split(X, y, test_size=0.2, random_state=1)\n",
        "\n",
        "x = X_train #returns a numpy array\n",
        "min_max_scaler = preprocessing.MinMaxScaler()\n",
        "x_scaled = min_max_scaler.fit_transform(x)\n",
        "df = pd.DataFrame(x_scaled)"
      ],
      "execution_count": 494,
      "outputs": []
    },
    {
      "cell_type": "code",
      "metadata": {
        "id": "BhRoXS4mj6CV"
      },
      "source": [
        "#  resetting the data - https://www.tensorflow.org/api_docs/python/tf/keras/backend/clear_session\n",
        "tf.keras.backend.clear_session()"
      ],
      "execution_count": 495,
      "outputs": []
    },
    {
      "cell_type": "code",
      "metadata": {
        "colab": {
          "base_uri": "https://localhost:8080/"
        },
        "id": "k4a4vwF5cxvU",
        "outputId": "bfdceede-b473-440e-e772-6bf99152a95e"
      },
      "source": [
        "model = Sequential()\n",
        "model.add(Dense((2*X_train.shape[1]/3), input_dim=X_train.shape[1], activation='relu'))\n",
        "model.add(Dense((2*X_train.shape[1]/3), activation='relu'))\n",
        "model.add(Dense((1*X_train.shape[1]/3), activation='relu'))\n",
        "model.add(Dense((1*X_train.shape[1]/3), activation='relu'))\n",
        "model.add(Dense(3, activation='softmax'))\n",
        "#model.compile(loss='categorical_crossentropy', optimizer='adam', metrics=['accuracy'])\n",
        "print(model.summary())\n",
        "\n",
        "\n",
        "\n"
      ],
      "execution_count": 496,
      "outputs": [
        {
          "output_type": "stream",
          "text": [
            "Model: \"sequential\"\n",
            "_________________________________________________________________\n",
            "Layer (type)                 Output Shape              Param #   \n",
            "=================================================================\n",
            "dense (Dense)                (None, 1698)              4328202   \n",
            "_________________________________________________________________\n",
            "dense_1 (Dense)              (None, 1698)              2884902   \n",
            "_________________________________________________________________\n",
            "dense_2 (Dense)              (None, 849)               1442451   \n",
            "_________________________________________________________________\n",
            "dense_3 (Dense)              (None, 849)               721650    \n",
            "_________________________________________________________________\n",
            "dense_4 (Dense)              (None, 3)                 2550      \n",
            "=================================================================\n",
            "Total params: 9,379,755\n",
            "Trainable params: 9,379,755\n",
            "Non-trainable params: 0\n",
            "_________________________________________________________________\n",
            "None\n"
          ],
          "name": "stdout"
        }
      ]
    },
    {
      "cell_type": "code",
      "metadata": {
        "id": "A2Q9BOrneeUM"
      },
      "source": [
        "# for categorical entropy\n",
        "# https://stackoverflow.com/questions/63211181/error-while-using-categorical-crossentropy\n",
        "from tensorflow.keras.utils import to_categorical\n",
        "Y_one_hot=to_categorical(y_train) # convert Y into an one-hot vector"
      ],
      "execution_count": 497,
      "outputs": []
    },
    {
      "cell_type": "code",
      "metadata": {
        "id": "NEs5ddrJeBeG"
      },
      "source": [
        "# https://stackoverflow.com/questions/59737875/keras-change-learning-rate\n",
        "#optimizer = tf.keras.optimizers.Adam(0.001)\n",
        "#optimizer.learning_rate.assign(0.01)\n",
        "\n",
        "opt = keras.optimizers.SGD(learning_rate=0.01)\n",
        "\n",
        "model.compile(\n",
        "    optimizer=opt,\n",
        "    loss='sparse_categorical_crossentropy',\n",
        "    metrics=['accuracy']\n",
        ")\n",
        "\n",
        "# to be run for categorical cross entropy\n",
        "# model.compile(loss='categorical_crossentropy', optimizer=tf.keras.optimizers.Adadelta(learning_rate=0.001), metrics=['accuracy'])\n"
      ],
      "execution_count": 498,
      "outputs": []
    },
    {
      "cell_type": "code",
      "metadata": {
        "id": "ASdP3qvxes8r",
        "colab": {
          "base_uri": "https://localhost:8080/"
        },
        "outputId": "19524a26-b3f3-4f14-cd4d-9e9aa3bfc729"
      },
      "source": [
        "# make sure that the input data is shuffled before hand so that the model doesn't notice patterns and generalizes well\n",
        "# change y_train to y_hot_encoded when using categorical cross entorpy\n",
        "import time\n",
        "start_time = time.time()\n",
        "history = model.fit(\n",
        "    df,\n",
        "    y_train,\n",
        "    validation_split=0.2,\n",
        "    batch_size=32,\n",
        "    epochs=75)\n",
        "\n",
        "\n",
        "# to be run for categorical cross entropy\n",
        "\n",
        "#history = model.fit(\n",
        "#    df,\n",
        "#    Y_one_hot,\n",
        "#    validation_split=0.2,\n",
        "#    batch_size=32,\n",
        "#    epochs=75)"
      ],
      "execution_count": 499,
      "outputs": [
        {
          "output_type": "stream",
          "text": [
            "Epoch 1/75\n",
            "43/43 [==============================] - 4s 84ms/step - loss: 0.9550 - accuracy: 0.5737 - val_loss: 0.8046 - val_accuracy: 0.5806\n",
            "Epoch 2/75\n",
            "43/43 [==============================] - 3s 73ms/step - loss: 0.7496 - accuracy: 0.6922 - val_loss: 0.7082 - val_accuracy: 0.6246\n",
            "Epoch 3/75\n",
            "43/43 [==============================] - 3s 72ms/step - loss: 0.6642 - accuracy: 0.6870 - val_loss: 0.8689 - val_accuracy: 0.5308\n",
            "Epoch 4/75\n",
            "43/43 [==============================] - 3s 70ms/step - loss: 0.5894 - accuracy: 0.7183 - val_loss: 0.4671 - val_accuracy: 0.8768\n",
            "Epoch 5/75\n",
            "43/43 [==============================] - 3s 70ms/step - loss: 0.4975 - accuracy: 0.8051 - val_loss: 0.4109 - val_accuracy: 0.8827\n",
            "Epoch 6/75\n",
            "43/43 [==============================] - 3s 70ms/step - loss: 0.5176 - accuracy: 0.7872 - val_loss: 0.4421 - val_accuracy: 0.8739\n",
            "Epoch 7/75\n",
            "43/43 [==============================] - 3s 70ms/step - loss: 0.4124 - accuracy: 0.8635 - val_loss: 0.3520 - val_accuracy: 0.9179\n",
            "Epoch 8/75\n",
            "43/43 [==============================] - 3s 70ms/step - loss: 0.4469 - accuracy: 0.8372 - val_loss: 0.3233 - val_accuracy: 0.8886\n",
            "Epoch 9/75\n",
            "43/43 [==============================] - 3s 70ms/step - loss: 0.4530 - accuracy: 0.8138 - val_loss: 0.3117 - val_accuracy: 0.9296\n",
            "Epoch 10/75\n",
            "43/43 [==============================] - 3s 70ms/step - loss: 0.3889 - accuracy: 0.8519 - val_loss: 0.4347 - val_accuracy: 0.7654\n",
            "Epoch 11/75\n",
            "43/43 [==============================] - 3s 69ms/step - loss: 0.4062 - accuracy: 0.8343 - val_loss: 0.4299 - val_accuracy: 0.7625\n",
            "Epoch 12/75\n",
            "43/43 [==============================] - 3s 69ms/step - loss: 0.4304 - accuracy: 0.8078 - val_loss: 0.2819 - val_accuracy: 0.9150\n",
            "Epoch 13/75\n",
            "43/43 [==============================] - 3s 70ms/step - loss: 0.4220 - accuracy: 0.8247 - val_loss: 0.3245 - val_accuracy: 0.8768\n",
            "Epoch 14/75\n",
            "43/43 [==============================] - 3s 70ms/step - loss: 0.4164 - accuracy: 0.8317 - val_loss: 0.2405 - val_accuracy: 0.9238\n",
            "Epoch 15/75\n",
            "43/43 [==============================] - 3s 71ms/step - loss: 0.3520 - accuracy: 0.8636 - val_loss: 0.2349 - val_accuracy: 0.9296\n",
            "Epoch 16/75\n",
            "43/43 [==============================] - 3s 71ms/step - loss: 0.3630 - accuracy: 0.8541 - val_loss: 0.2542 - val_accuracy: 0.9091\n",
            "Epoch 17/75\n",
            "43/43 [==============================] - 3s 75ms/step - loss: 0.3552 - accuracy: 0.8611 - val_loss: 0.3049 - val_accuracy: 0.8622\n",
            "Epoch 18/75\n",
            "43/43 [==============================] - 3s 72ms/step - loss: 0.3061 - accuracy: 0.8945 - val_loss: 1.2688 - val_accuracy: 0.4633\n",
            "Epoch 19/75\n",
            "43/43 [==============================] - 3s 70ms/step - loss: 0.5846 - accuracy: 0.7801 - val_loss: 0.2782 - val_accuracy: 0.8768\n",
            "Epoch 20/75\n",
            "43/43 [==============================] - 3s 71ms/step - loss: 0.3372 - accuracy: 0.8584 - val_loss: 0.7693 - val_accuracy: 0.6979\n",
            "Epoch 21/75\n",
            "43/43 [==============================] - 3s 71ms/step - loss: 0.3437 - accuracy: 0.8703 - val_loss: 0.2376 - val_accuracy: 0.9150\n",
            "Epoch 22/75\n",
            "43/43 [==============================] - 3s 77ms/step - loss: 0.3253 - accuracy: 0.8644 - val_loss: 0.2938 - val_accuracy: 0.8915\n",
            "Epoch 23/75\n",
            "43/43 [==============================] - 3s 72ms/step - loss: 0.2531 - accuracy: 0.8937 - val_loss: 0.2622 - val_accuracy: 0.9032\n",
            "Epoch 24/75\n",
            "43/43 [==============================] - 3s 78ms/step - loss: 0.2811 - accuracy: 0.8912 - val_loss: 0.2297 - val_accuracy: 0.9032\n",
            "Epoch 25/75\n",
            "43/43 [==============================] - 3s 73ms/step - loss: 0.2674 - accuracy: 0.8896 - val_loss: 0.1952 - val_accuracy: 0.9355\n",
            "Epoch 26/75\n",
            "43/43 [==============================] - 3s 71ms/step - loss: 0.2601 - accuracy: 0.8986 - val_loss: 0.1945 - val_accuracy: 0.9296\n",
            "Epoch 27/75\n",
            "43/43 [==============================] - 3s 77ms/step - loss: 0.3014 - accuracy: 0.8764 - val_loss: 0.1949 - val_accuracy: 0.9355\n",
            "Epoch 28/75\n",
            "43/43 [==============================] - 3s 77ms/step - loss: 0.2722 - accuracy: 0.9056 - val_loss: 0.2260 - val_accuracy: 0.9208\n",
            "Epoch 29/75\n",
            "43/43 [==============================] - 3s 71ms/step - loss: 0.3051 - accuracy: 0.8732 - val_loss: 0.2397 - val_accuracy: 0.9150\n",
            "Epoch 30/75\n",
            "43/43 [==============================] - 3s 71ms/step - loss: 0.2554 - accuracy: 0.9051 - val_loss: 0.1864 - val_accuracy: 0.9355\n",
            "Epoch 31/75\n",
            "43/43 [==============================] - 3s 72ms/step - loss: 0.2812 - accuracy: 0.8933 - val_loss: 0.2118 - val_accuracy: 0.9238\n",
            "Epoch 32/75\n",
            "43/43 [==============================] - 3s 71ms/step - loss: 0.2779 - accuracy: 0.8842 - val_loss: 0.3356 - val_accuracy: 0.8446\n",
            "Epoch 33/75\n",
            "43/43 [==============================] - 3s 72ms/step - loss: 0.2749 - accuracy: 0.8803 - val_loss: 0.1872 - val_accuracy: 0.9208\n",
            "Epoch 34/75\n",
            "43/43 [==============================] - 3s 78ms/step - loss: 0.2493 - accuracy: 0.9106 - val_loss: 0.2465 - val_accuracy: 0.8886\n",
            "Epoch 35/75\n",
            "43/43 [==============================] - 3s 72ms/step - loss: 0.2146 - accuracy: 0.9132 - val_loss: 0.2730 - val_accuracy: 0.8886\n",
            "Epoch 36/75\n",
            "43/43 [==============================] - 3s 72ms/step - loss: 0.2957 - accuracy: 0.8756 - val_loss: 0.2144 - val_accuracy: 0.9208\n",
            "Epoch 37/75\n",
            "43/43 [==============================] - 3s 71ms/step - loss: 0.2187 - accuracy: 0.9050 - val_loss: 0.1842 - val_accuracy: 0.9355\n",
            "Epoch 38/75\n",
            "43/43 [==============================] - 3s 72ms/step - loss: 0.2278 - accuracy: 0.9041 - val_loss: 0.3166 - val_accuracy: 0.8534\n",
            "Epoch 39/75\n",
            "43/43 [==============================] - 3s 71ms/step - loss: 0.2618 - accuracy: 0.9030 - val_loss: 0.2250 - val_accuracy: 0.9091\n",
            "Epoch 40/75\n",
            "43/43 [==============================] - 3s 72ms/step - loss: 0.2646 - accuracy: 0.9068 - val_loss: 0.4628 - val_accuracy: 0.8240\n",
            "Epoch 41/75\n",
            "43/43 [==============================] - 3s 73ms/step - loss: 0.1989 - accuracy: 0.9269 - val_loss: 0.1653 - val_accuracy: 0.9355\n",
            "Epoch 42/75\n",
            "43/43 [==============================] - 3s 73ms/step - loss: 0.2825 - accuracy: 0.8858 - val_loss: 0.1953 - val_accuracy: 0.9267\n",
            "Epoch 43/75\n",
            "43/43 [==============================] - 3s 73ms/step - loss: 0.2335 - accuracy: 0.9032 - val_loss: 0.2410 - val_accuracy: 0.8915\n",
            "Epoch 44/75\n",
            "43/43 [==============================] - 3s 76ms/step - loss: 0.2205 - accuracy: 0.9105 - val_loss: 0.2771 - val_accuracy: 0.8739\n",
            "Epoch 45/75\n",
            "43/43 [==============================] - 3s 71ms/step - loss: 0.2596 - accuracy: 0.8731 - val_loss: 0.1775 - val_accuracy: 0.9413\n",
            "Epoch 46/75\n",
            "43/43 [==============================] - 3s 71ms/step - loss: 0.1908 - accuracy: 0.9263 - val_loss: 0.1626 - val_accuracy: 0.9267\n",
            "Epoch 47/75\n",
            "43/43 [==============================] - 3s 71ms/step - loss: 0.2141 - accuracy: 0.9139 - val_loss: 0.2110 - val_accuracy: 0.9091\n",
            "Epoch 48/75\n",
            "43/43 [==============================] - 3s 72ms/step - loss: 0.1793 - accuracy: 0.9265 - val_loss: 0.2246 - val_accuracy: 0.9208\n",
            "Epoch 49/75\n",
            "43/43 [==============================] - 3s 71ms/step - loss: 0.1954 - accuracy: 0.9322 - val_loss: 0.8916 - val_accuracy: 0.5806\n",
            "Epoch 50/75\n",
            "43/43 [==============================] - 3s 72ms/step - loss: 0.2672 - accuracy: 0.8979 - val_loss: 0.1462 - val_accuracy: 0.9560\n",
            "Epoch 51/75\n",
            "43/43 [==============================] - 3s 71ms/step - loss: 0.1741 - accuracy: 0.9457 - val_loss: 0.1505 - val_accuracy: 0.9326\n",
            "Epoch 52/75\n",
            "43/43 [==============================] - 3s 71ms/step - loss: 0.1859 - accuracy: 0.9257 - val_loss: 0.1419 - val_accuracy: 0.9501\n",
            "Epoch 53/75\n",
            "43/43 [==============================] - 3s 72ms/step - loss: 0.1872 - accuracy: 0.9341 - val_loss: 1.7779 - val_accuracy: 0.6012\n",
            "Epoch 54/75\n",
            "43/43 [==============================] - 3s 71ms/step - loss: 0.3840 - accuracy: 0.8825 - val_loss: 0.1869 - val_accuracy: 0.9326\n",
            "Epoch 55/75\n",
            "43/43 [==============================] - 3s 71ms/step - loss: 0.1533 - accuracy: 0.9471 - val_loss: 0.1940 - val_accuracy: 0.9150\n",
            "Epoch 56/75\n",
            "43/43 [==============================] - 3s 72ms/step - loss: 0.1566 - accuracy: 0.9444 - val_loss: 0.2120 - val_accuracy: 0.9003\n",
            "Epoch 57/75\n",
            "43/43 [==============================] - 3s 72ms/step - loss: 0.1701 - accuracy: 0.9391 - val_loss: 0.8094 - val_accuracy: 0.7273\n",
            "Epoch 58/75\n",
            "43/43 [==============================] - 3s 72ms/step - loss: 0.2302 - accuracy: 0.9208 - val_loss: 0.3617 - val_accuracy: 0.8065\n",
            "Epoch 59/75\n",
            "43/43 [==============================] - 3s 72ms/step - loss: 0.2061 - accuracy: 0.9169 - val_loss: 0.3617 - val_accuracy: 0.8006\n",
            "Epoch 60/75\n",
            "43/43 [==============================] - 3s 72ms/step - loss: 0.1861 - accuracy: 0.9250 - val_loss: 0.1367 - val_accuracy: 0.9677\n",
            "Epoch 61/75\n",
            "43/43 [==============================] - 3s 77ms/step - loss: 0.2990 - accuracy: 0.8766 - val_loss: 0.1498 - val_accuracy: 0.9384\n",
            "Epoch 62/75\n",
            "43/43 [==============================] - 3s 72ms/step - loss: 0.1699 - accuracy: 0.9490 - val_loss: 0.1362 - val_accuracy: 0.9326\n",
            "Epoch 63/75\n",
            "43/43 [==============================] - 3s 72ms/step - loss: 0.1336 - accuracy: 0.9507 - val_loss: 0.1099 - val_accuracy: 0.9501\n",
            "Epoch 64/75\n",
            "43/43 [==============================] - 3s 72ms/step - loss: 0.1611 - accuracy: 0.9429 - val_loss: 0.1092 - val_accuracy: 0.9648\n",
            "Epoch 65/75\n",
            "43/43 [==============================] - 3s 72ms/step - loss: 0.1368 - accuracy: 0.9457 - val_loss: 0.3603 - val_accuracy: 0.8915\n",
            "Epoch 66/75\n",
            "43/43 [==============================] - 3s 76ms/step - loss: 0.2698 - accuracy: 0.9006 - val_loss: 0.1673 - val_accuracy: 0.9267\n",
            "Epoch 67/75\n",
            "43/43 [==============================] - 3s 77ms/step - loss: 0.1782 - accuracy: 0.9275 - val_loss: 0.2407 - val_accuracy: 0.9501\n",
            "Epoch 68/75\n",
            "43/43 [==============================] - 4s 89ms/step - loss: 0.1645 - accuracy: 0.9556 - val_loss: 0.3503 - val_accuracy: 0.8446\n",
            "Epoch 69/75\n",
            "43/43 [==============================] - 4s 90ms/step - loss: 0.1614 - accuracy: 0.9451 - val_loss: 0.1087 - val_accuracy: 0.9589\n",
            "Epoch 70/75\n",
            "43/43 [==============================] - 3s 73ms/step - loss: 0.1368 - accuracy: 0.9511 - val_loss: 0.1164 - val_accuracy: 0.9472\n",
            "Epoch 71/75\n",
            "43/43 [==============================] - 3s 77ms/step - loss: 0.2373 - accuracy: 0.9173 - val_loss: 0.1140 - val_accuracy: 0.9531\n",
            "Epoch 72/75\n",
            "43/43 [==============================] - 3s 77ms/step - loss: 0.1363 - accuracy: 0.9505 - val_loss: 0.2493 - val_accuracy: 0.9091\n",
            "Epoch 73/75\n",
            "43/43 [==============================] - 3s 81ms/step - loss: 0.1725 - accuracy: 0.9357 - val_loss: 0.0983 - val_accuracy: 0.9707\n",
            "Epoch 74/75\n",
            "43/43 [==============================] - 3s 72ms/step - loss: 0.2196 - accuracy: 0.9125 - val_loss: 0.1167 - val_accuracy: 0.9472\n",
            "Epoch 75/75\n",
            "43/43 [==============================] - 3s 82ms/step - loss: 0.1191 - accuracy: 0.9618 - val_loss: 0.1462 - val_accuracy: 0.9472\n"
          ],
          "name": "stdout"
        }
      ]
    },
    {
      "cell_type": "code",
      "metadata": {
        "id": "vhwajgGzpvrD",
        "colab": {
          "base_uri": "https://localhost:8080/"
        },
        "outputId": "e12005e8-69e6-421a-d579-57d362a1068e"
      },
      "source": [
        "history.history"
      ],
      "execution_count": 500,
      "outputs": [
        {
          "output_type": "execute_result",
          "data": {
            "text/plain": [
              "{'accuracy': [0.6356304883956909,\n",
              "  0.6994134783744812,\n",
              "  0.7214076519012451,\n",
              "  0.7170087695121765,\n",
              "  0.7991202473640442,\n",
              "  0.7859237790107727,\n",
              "  0.8313782811164856,\n",
              "  0.8233137726783752,\n",
              "  0.8255131840705872,\n",
              "  0.8489736318588257,\n",
              "  0.8196480870246887,\n",
              "  0.8431084752082825,\n",
              "  0.8460410833358765,\n",
              "  0.8614369630813599,\n",
              "  0.8526393175125122,\n",
              "  0.8453079462051392,\n",
              "  0.8563050031661987,\n",
              "  0.8914955854415894,\n",
              "  0.8401759266853333,\n",
              "  0.8804985284805298,\n",
              "  0.8702346086502075,\n",
              "  0.883431077003479,\n",
              "  0.8995600938796997,\n",
              "  0.8856304883956909,\n",
              "  0.8980938196182251,\n",
              "  0.890762448310852,\n",
              "  0.8841642141342163,\n",
              "  0.8892961740493774,\n",
              "  0.8797653913497925,\n",
              "  0.8922287225723267,\n",
              "  0.9010263681411743,\n",
              "  0.8812316656112671,\n",
              "  0.8878298997879028,\n",
              "  0.9076246619224548,\n",
              "  0.9252199530601501,\n",
              "  0.8804985284805298,\n",
              "  0.9024926424026489,\n",
              "  0.8922287225723267,\n",
              "  0.9186217188835144,\n",
              "  0.9193548560142517,\n",
              "  0.9186217188835144,\n",
              "  0.9054251909255981,\n",
              "  0.9046920537948608,\n",
              "  0.9076246619224548,\n",
              "  0.8936949968338013,\n",
              "  0.9208211302757263,\n",
              "  0.9017595052719116,\n",
              "  0.9354838728904724,\n",
              "  0.9288856387138367,\n",
              "  0.9112903475761414,\n",
              "  0.9318181872367859,\n",
              "  0.9303519129753113,\n",
              "  0.9237536787986755,\n",
              "  0.9237536787986755,\n",
              "  0.9376832842826843,\n",
              "  0.920087993144989,\n",
              "  0.9376832842826843,\n",
              "  0.9156891703605652,\n",
              "  0.9259530901908875,\n",
              "  0.9318181872367859,\n",
              "  0.9237536787986755,\n",
              "  0.9450146555900574,\n",
              "  0.9567448496818542,\n",
              "  0.9340175986289978,\n",
              "  0.9508797526359558,\n",
              "  0.9281525015830994,\n",
              "  0.9098240733146667,\n",
              "  0.9552785754203796,\n",
              "  0.953812301158905,\n",
              "  0.9611436724662781,\n",
              "  0.929618775844574,\n",
              "  0.9523460268974304,\n",
              "  0.9450146555900574,\n",
              "  0.9259530901908875,\n",
              "  0.9552785754203796],\n",
              " 'loss': [0.8852852582931519,\n",
              "  0.715916633605957,\n",
              "  0.6286785006523132,\n",
              "  0.5834144949913025,\n",
              "  0.5061091780662537,\n",
              "  0.5204095244407654,\n",
              "  0.4544622302055359,\n",
              "  0.4600721001625061,\n",
              "  0.4241161048412323,\n",
              "  0.3881831467151642,\n",
              "  0.4358177185058594,\n",
              "  0.3834581673145294,\n",
              "  0.38833895325660706,\n",
              "  0.3580482602119446,\n",
              "  0.36467620730400085,\n",
              "  0.3703264892101288,\n",
              "  0.3566420376300812,\n",
              "  0.3023250102996826,\n",
              "  0.41022828221321106,\n",
              "  0.3072483539581299,\n",
              "  0.333842933177948,\n",
              "  0.2954697012901306,\n",
              "  0.2569441795349121,\n",
              "  0.2785941958427429,\n",
              "  0.25189995765686035,\n",
              "  0.271802693605423,\n",
              "  0.2926068603992462,\n",
              "  0.306587278842926,\n",
              "  0.2925782799720764,\n",
              "  0.28786200284957886,\n",
              "  0.2569592595100403,\n",
              "  0.2835043966770172,\n",
              "  0.2802581191062927,\n",
              "  0.2347026765346527,\n",
              "  0.19936048984527588,\n",
              "  0.295692503452301,\n",
              "  0.23190093040466309,\n",
              "  0.2521262764930725,\n",
              "  0.22165507078170776,\n",
              "  0.2314494252204895,\n",
              "  0.21397235989570618,\n",
              "  0.23256991803646088,\n",
              "  0.2359396517276764,\n",
              "  0.22987237572669983,\n",
              "  0.24427379667758942,\n",
              "  0.20007307827472687,\n",
              "  0.23355431854724884,\n",
              "  0.1728406399488449,\n",
              "  0.20161816477775574,\n",
              "  0.23425975441932678,\n",
              "  0.20322832465171814,\n",
              "  0.18333767354488373,\n",
              "  0.21607039868831635,\n",
              "  0.2315281331539154,\n",
              "  0.16880491375923157,\n",
              "  0.20563524961471558,\n",
              "  0.17313145101070404,\n",
              "  0.218816339969635,\n",
              "  0.19667337834835052,\n",
              "  0.1769091635942459,\n",
              "  0.20599591732025146,\n",
              "  0.1670403629541397,\n",
              "  0.12474412471055984,\n",
              "  0.17732425034046173,\n",
              "  0.1302623301744461,\n",
              "  0.18590854108333588,\n",
              "  0.25740283727645874,\n",
              "  0.14229854941368103,\n",
              "  0.13628585636615753,\n",
              "  0.11536833643913269,\n",
              "  0.21667110919952393,\n",
              "  0.1300499141216278,\n",
              "  0.15494544804096222,\n",
              "  0.19270199537277222,\n",
              "  0.12310144305229187],\n",
              " 'val_accuracy': [0.5806451439857483,\n",
              "  0.6246334314346313,\n",
              "  0.5307917594909668,\n",
              "  0.8768328428268433,\n",
              "  0.8826979398727417,\n",
              "  0.873900294303894,\n",
              "  0.9178885817527771,\n",
              "  0.8885630369186401,\n",
              "  0.929618775844574,\n",
              "  0.7653958797454834,\n",
              "  0.7624633312225342,\n",
              "  0.9149560332298279,\n",
              "  0.8768328428268433,\n",
              "  0.9237536787986755,\n",
              "  0.929618775844574,\n",
              "  0.9090909361839294,\n",
              "  0.8621701002120972,\n",
              "  0.4633431136608124,\n",
              "  0.8768328428268433,\n",
              "  0.6979472041130066,\n",
              "  0.9149560332298279,\n",
              "  0.8914955854415894,\n",
              "  0.9032257795333862,\n",
              "  0.9032257795333862,\n",
              "  0.9354838728904724,\n",
              "  0.929618775844574,\n",
              "  0.9354838728904724,\n",
              "  0.9208211302757263,\n",
              "  0.9149560332298279,\n",
              "  0.9354838728904724,\n",
              "  0.9237536787986755,\n",
              "  0.8445748090744019,\n",
              "  0.9208211302757263,\n",
              "  0.8885630369186401,\n",
              "  0.8885630369186401,\n",
              "  0.9208211302757263,\n",
              "  0.9354838728904724,\n",
              "  0.8533724546432495,\n",
              "  0.9090909361839294,\n",
              "  0.8240469098091125,\n",
              "  0.9354838728904724,\n",
              "  0.9266862273216248,\n",
              "  0.8914955854415894,\n",
              "  0.873900294303894,\n",
              "  0.9413489699363708,\n",
              "  0.9266862273216248,\n",
              "  0.9090909361839294,\n",
              "  0.9208211302757263,\n",
              "  0.5806451439857483,\n",
              "  0.9560117125511169,\n",
              "  0.9325513243675232,\n",
              "  0.9501466155052185,\n",
              "  0.6011730432510376,\n",
              "  0.9325513243675232,\n",
              "  0.9149560332298279,\n",
              "  0.900293231010437,\n",
              "  0.7272727489471436,\n",
              "  0.8064516186714172,\n",
              "  0.8005865216255188,\n",
              "  0.9677419066429138,\n",
              "  0.9384164214134216,\n",
              "  0.9325513243675232,\n",
              "  0.9501466155052185,\n",
              "  0.9648093581199646,\n",
              "  0.8914955854415894,\n",
              "  0.9266862273216248,\n",
              "  0.9501466155052185,\n",
              "  0.8445748090744019,\n",
              "  0.9589442610740662,\n",
              "  0.9472140669822693,\n",
              "  0.9530791640281677,\n",
              "  0.9090909361839294,\n",
              "  0.9706745147705078,\n",
              "  0.9472140669822693,\n",
              "  0.9472140669822693],\n",
              " 'val_loss': [0.8045752048492432,\n",
              "  0.7081856727600098,\n",
              "  0.8689059615135193,\n",
              "  0.4670640528202057,\n",
              "  0.41090846061706543,\n",
              "  0.4421338438987732,\n",
              "  0.35198527574539185,\n",
              "  0.3232615292072296,\n",
              "  0.3116905987262726,\n",
              "  0.434681236743927,\n",
              "  0.4298962354660034,\n",
              "  0.2819354832172394,\n",
              "  0.3245019018650055,\n",
              "  0.2405276894569397,\n",
              "  0.23494485020637512,\n",
              "  0.25417977571487427,\n",
              "  0.3049067258834839,\n",
              "  1.2687594890594482,\n",
              "  0.27815791964530945,\n",
              "  0.7692640423774719,\n",
              "  0.23762445151805878,\n",
              "  0.29378509521484375,\n",
              "  0.26215529441833496,\n",
              "  0.2297048270702362,\n",
              "  0.19517451524734497,\n",
              "  0.1945149302482605,\n",
              "  0.1949278563261032,\n",
              "  0.22600074112415314,\n",
              "  0.23965957760810852,\n",
              "  0.1863604635000229,\n",
              "  0.21181894838809967,\n",
              "  0.33564263582229614,\n",
              "  0.18716244399547577,\n",
              "  0.2464805394411087,\n",
              "  0.2729846239089966,\n",
              "  0.21443429589271545,\n",
              "  0.18415459990501404,\n",
              "  0.31661486625671387,\n",
              "  0.22503943741321564,\n",
              "  0.4627606272697449,\n",
              "  0.16530564427375793,\n",
              "  0.1953432261943817,\n",
              "  0.2410486340522766,\n",
              "  0.2771347761154175,\n",
              "  0.17748819291591644,\n",
              "  0.16262879967689514,\n",
              "  0.21095824241638184,\n",
              "  0.22460342943668365,\n",
              "  0.8915571570396423,\n",
              "  0.1462109535932541,\n",
              "  0.1504976898431778,\n",
              "  0.14192765951156616,\n",
              "  1.7779018878936768,\n",
              "  0.1869485080242157,\n",
              "  0.19401045143604279,\n",
              "  0.21202608942985535,\n",
              "  0.8094103932380676,\n",
              "  0.36174824833869934,\n",
              "  0.36167553067207336,\n",
              "  0.13670869171619415,\n",
              "  0.14980448782444,\n",
              "  0.13618040084838867,\n",
              "  0.1098664328455925,\n",
              "  0.10917859524488449,\n",
              "  0.36026516556739807,\n",
              "  0.16734671592712402,\n",
              "  0.24068643152713776,\n",
              "  0.3503410220146179,\n",
              "  0.10871173441410065,\n",
              "  0.11635913699865341,\n",
              "  0.11403430998325348,\n",
              "  0.24930353462696075,\n",
              "  0.09826963394880295,\n",
              "  0.11669877171516418,\n",
              "  0.14617159962654114]}"
            ]
          },
          "metadata": {
            "tags": []
          },
          "execution_count": 500
        }
      ]
    },
    {
      "cell_type": "code",
      "metadata": {
        "colab": {
          "base_uri": "https://localhost:8080/"
        },
        "id": "Kyn1dHRRJ5Wn",
        "outputId": "c67836d5-2b25-48ad-cf52-f5ad8096dbc8"
      },
      "source": [
        "print(\"--- %s seconds ---\" % (time.time() - start_time))\n"
      ],
      "execution_count": 501,
      "outputs": [
        {
          "output_type": "stream",
          "text": [
            "--- 262.8619954586029 seconds ---\n"
          ],
          "name": "stdout"
        }
      ]
    },
    {
      "cell_type": "code",
      "metadata": {
        "id": "rOU0i1e6jhr3"
      },
      "source": [
        "x_test = X_test #returns a numpy array\n",
        "min_max_scaler = preprocessing.MinMaxScaler()\n",
        "x_scaled_test = min_max_scaler.fit_transform(x_test)\n",
        "df_test = pd.DataFrame(x_scaled_test)"
      ],
      "execution_count": 502,
      "outputs": []
    },
    {
      "cell_type": "code",
      "metadata": {
        "id": "OgeGekJ8lW6S"
      },
      "source": [
        "predictions = model.predict(x=df_test, batch_size=32)"
      ],
      "execution_count": 503,
      "outputs": []
    },
    {
      "cell_type": "code",
      "metadata": {
        "id": "1o6zqIsfl2QX"
      },
      "source": [
        "rounded_predictions = np.argmax(predictions, axis=-1)"
      ],
      "execution_count": 504,
      "outputs": []
    },
    {
      "cell_type": "code",
      "metadata": {
        "id": "NQTy4F7TmotU"
      },
      "source": [
        "cm = confusion_matrix(y_true=y_test, y_pred=rounded_predictions)"
      ],
      "execution_count": 505,
      "outputs": []
    },
    {
      "cell_type": "code",
      "metadata": {
        "colab": {
          "base_uri": "https://localhost:8080/",
          "height": 922
        },
        "id": "rieDywHXuA6R",
        "outputId": "9bee1058-834a-4896-f219-88c21a61f8a0"
      },
      "source": [
        "label_mapping = {'NEGATIVE': 0, 'NEUTRAL': 1, 'POSITIVE': 2}\n",
        "# for diff dataset\n",
        "# label_mapping = {'NEGATIVE': 0, 'POSITIVE': 1}\n",
        "plt.figure(figsize=(8, 8))\n",
        "sns.heatmap(cm, annot=True, vmin=0, fmt='g', cbar=False, cmap='Blues')\n",
        "clr = classification_report(y_test, rounded_predictions, target_names=label_mapping.keys())\n",
        "plt.xticks(np.arange(3) + 0.5, label_mapping.keys())\n",
        "plt.yticks(np.arange(3) + 0.5, label_mapping.keys())\n",
        "plt.xlabel(\"Predicted\")\n",
        "plt.ylabel(\"Actual\")\n",
        "plt.title(\"Confusion Matrix\")\n",
        "plt.show()\n",
        "\n",
        "print(\"Classification Report:\\n----------------------\\n\", clr)\n",
        "\n"
      ],
      "execution_count": 506,
      "outputs": [
        {
          "output_type": "display_data",
          "data": {
            "image/png": "[encoded data removed]",
            "text/plain": [
              "<Figure size 800x800 with 1 Axes>"
            ]
          },
          "metadata": {
            "tags": []
          }
        },
        {
          "output_type": "stream",
          "text": [
            "Classification Report:\n",
            "----------------------\n",
            "               precision    recall  f1-score   support\n",
            "\n",
            "    NEGATIVE       0.98      0.82      0.90       137\n",
            "     NEUTRAL       0.80      0.91      0.85       147\n",
            "    POSITIVE       0.92      0.93      0.93       143\n",
            "\n",
            "    accuracy                           0.89       427\n",
            "   macro avg       0.90      0.89      0.89       427\n",
            "weighted avg       0.90      0.89      0.89       427\n",
            "\n"
          ],
          "name": "stdout"
        }
      ]
    },
    {
      "cell_type": "code",
      "metadata": {
        "id": "s5wbr_oav-Kb"
      },
      "source": [
        "# https://stackoverflow.com/questions/26413185/how-to-recover-matplotlib-defaults-after-setting-stylesheet\n",
        "import matplotlib as mpl\n",
        "mpl.rcParams.update(mpl.rcParamsDefault)"
      ],
      "execution_count": 507,
      "outputs": []
    },
    {
      "cell_type": "code",
      "metadata": {
        "id": "73HZGymlybP2"
      },
      "source": [
        "training_acc = history.history['accuracy']\n",
        "validation_acc = history.history['val_accuracy']\n",
        "training_loss  = history.history['loss']\n",
        "validation_loss = history.history['val_loss']"
      ],
      "execution_count": 508,
      "outputs": []
    },
    {
      "cell_type": "code",
      "metadata": {
        "colab": {
          "base_uri": "https://localhost:8080/",
          "height": 472
        },
        "id": "1jgMVKMDyxck",
        "outputId": "943e16fc-69c9-43c4-b78f-165dc11c1ec5"
      },
      "source": [
        "epochs = history.epoch\n",
        "plt.plot(epochs, training_acc, color = '#17e6e6', label='Training Accuracy')\n",
        "plt.plot(epochs, validation_acc,color = '#e61771', label='Validation Accuracy')\n",
        "plt.title('Accuracy vs Epochs')\n",
        "plt.xlabel('Epochs')\n",
        "plt.ylabel('Accuracy')\n",
        "plt.legend()\n",
        "plt.savefig('AccuracyVsEpochs.png')\n",
        "plt.show()"
      ],
      "execution_count": 509,
      "outputs": [
        {
          "output_type": "display_data",
          "data": {
            "image/png": "[encoded data removed]",
            "text/plain": [
              "<Figure size 640x480 with 1 Axes>"
            ]
          },
          "metadata": {
            "tags": []
          }
        }
      ]
    }
  ]
}