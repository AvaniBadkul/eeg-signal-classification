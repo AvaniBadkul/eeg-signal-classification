{
  "nbformat": 4,
  "nbformat_minor": 0,
  "metadata": {
    "colab": {
      "name": "EEGSignalClassification.ipynb",
      "provenance": [],
      "collapsed_sections": []
    },
    "kernelspec": {
      "name": "python3",
      "display_name": "Python 3"
    },
    "language_info": {
      "name": "python"
    }
  },
  "cells": [
    {
      "cell_type": "code",
      "metadata": {
        "id": "iuNWUJKJLY9T"
      },
      "source": [
        "%reset -f "
      ],
      "execution_count": 390,
      "outputs": []
    },
    {
      "cell_type": "code",
      "metadata": {
        "id": "yj4HfL7EcNRq"
      },
      "source": [
        "# libraries used\n",
        "#  https://stats.stackexchange.com/questions/181/how-to-choose-the-number-of-hidden-layers-and-nodes-in-a-feedforward-neural-netw\n",
        "import numpy as np\n",
        "import pandas as pd\n",
        "import seaborn as sns \n",
        "import matplotlib.pyplot as plt\n",
        "from sklearn.model_selection import train_test_split\n",
        "from sklearn.metrics import confusion_matrix, classification_report\n",
        "from sklearn import preprocessing\n",
        "import tensorflow as tf\n",
        "from tensorflow.keras import datasets, layers, models\n",
        "import keras \n",
        "from keras.models import Sequential\n",
        "from keras.layers import Dense, Dropout\n",
        "import itertools"
      ],
      "execution_count": 391,
      "outputs": []
    },
    {
      "cell_type": "code",
      "metadata": {
        "colab": {
          "base_uri": "https://localhost:8080/"
        },
        "id": "WYIp8Qr9ck8Z",
        "outputId": "55fc2aab-c3a9-4921-e067-c48672eb54e6"
      },
      "source": [
        "emotions = pd.read_csv(\"drive/MyDrive/EEG/emotions.csv\")\n",
        "emotions.replace(['NEGATIVE', 'POSITIVE', 'NEUTRAL'], [2, 1, 0], inplace=True)\n",
        "emotions['label'].unique()"
      ],
      "execution_count": 392,
      "outputs": [
        {
          "output_type": "execute_result",
          "data": {
            "text/plain": [
              "array([2, 0, 1])"
            ]
          },
          "metadata": {
            "tags": []
          },
          "execution_count": 392
        }
      ]
    },
    {
      "cell_type": "code",
      "metadata": {
        "id": "PvT5tTotcoS3"
      },
      "source": [
        "X = emotions.drop('label', axis=1).copy()\n",
        "y = (emotions['label'].copy())"
      ],
      "execution_count": 393,
      "outputs": []
    },
    {
      "cell_type": "code",
      "metadata": {
        "id": "GUZOuZK7crNV"
      },
      "source": [
        "# Splitting data into training and testing as 80-20 \n",
        "X_train, X_test, y_train, y_test = train_test_split(X, y, test_size=0.2, random_state=1)\n",
        "\n",
        "x = X_train #returns a numpy array\n",
        "min_max_scaler = preprocessing.MinMaxScaler()\n",
        "x_scaled = min_max_scaler.fit_transform(x)\n",
        "df = pd.DataFrame(x_scaled)"
      ],
      "execution_count": 394,
      "outputs": []
    },
    {
      "cell_type": "code",
      "metadata": {
        "id": "BhRoXS4mj6CV"
      },
      "source": [
        "#  resetting the data - https://www.tensorflow.org/api_docs/python/tf/keras/backend/clear_session\n",
        "tf.keras.backend.clear_session()"
      ],
      "execution_count": 395,
      "outputs": []
    },
    {
      "cell_type": "code",
      "metadata": {
        "colab": {
          "base_uri": "https://localhost:8080/"
        },
        "id": "k4a4vwF5cxvU",
        "outputId": "1a4f12ab-7ac2-4af0-e343-5c917e38bf25"
      },
      "source": [
        "model = Sequential()\n",
        "model.add(Dense((2*X_train.shape[1]/3), input_dim=X_train.shape[1], activation='relu'))\n",
        "model.add(Dense((2*X_train.shape[1]/3), activation='relu'))\n",
        "model.add(Dense((1*X_train.shape[1]/3), activation='relu'))\n",
        "model.add(Dense((1*X_train.shape[1]/3), activation='relu'))\n",
        "model.add(Dense(3, activation='softmax'))\n",
        "#model.compile(loss='categorical_crossentropy', optimizer='adam', metrics=['accuracy'])\n",
        "print(model.summary())\n",
        "\n",
        "\n",
        "\n"
      ],
      "execution_count": 396,
      "outputs": [
        {
          "output_type": "stream",
          "text": [
            "Model: \"sequential\"\n",
            "_________________________________________________________________\n",
            "Layer (type)                 Output Shape              Param #   \n",
            "=================================================================\n",
            "dense (Dense)                (None, 1698)              4328202   \n",
            "_________________________________________________________________\n",
            "dense_1 (Dense)              (None, 1698)              2884902   \n",
            "_________________________________________________________________\n",
            "dense_2 (Dense)              (None, 849)               1442451   \n",
            "_________________________________________________________________\n",
            "dense_3 (Dense)              (None, 849)               721650    \n",
            "_________________________________________________________________\n",
            "dense_4 (Dense)              (None, 3)                 2550      \n",
            "=================================================================\n",
            "Total params: 9,379,755\n",
            "Trainable params: 9,379,755\n",
            "Non-trainable params: 0\n",
            "_________________________________________________________________\n",
            "None\n"
          ],
          "name": "stdout"
        }
      ]
    },
    {
      "cell_type": "code",
      "metadata": {
        "id": "A2Q9BOrneeUM"
      },
      "source": [
        "# for categorical entropy\n",
        "# https://stackoverflow.com/questions/63211181/error-while-using-categorical-crossentropy\n",
        "from tensorflow.keras.utils import to_categorical\n",
        "Y_one_hot=to_categorical(y_train) # convert Y into an one-hot vector"
      ],
      "execution_count": 397,
      "outputs": []
    },
    {
      "cell_type": "code",
      "metadata": {
        "id": "NEs5ddrJeBeG"
      },
      "source": [
        "# https://stackoverflow.com/questions/59737875/keras-change-learning-rate\n",
        "#optimizer = tf.keras.optimizers.Adam(0.001)\n",
        "#optimizer.learning_rate.assign(0.01)\n",
        "\n",
        "# opt = keras.optimizers.Adadelta(learning_rate=0.01)\n",
        "\n",
        "# model.compile(\n",
        "#    optimizer=opt,\n",
        "#    loss='categorical_crossentropy',\n",
        "#    metrics=['accuracy']\n",
        "#)\n",
        "\n",
        "# to be run for categorical cross entropy\n",
        "model.compile(loss='categorical_crossentropy', optimizer=tf.keras.optimizers.Adam(learning_rate=0.01), metrics=['accuracy'])\n"
      ],
      "execution_count": 398,
      "outputs": []
    },
    {
      "cell_type": "code",
      "metadata": {
        "id": "ASdP3qvxes8r",
        "colab": {
          "base_uri": "https://localhost:8080/"
        },
        "outputId": "ac95bc53-fc8c-4565-f4e2-beb78f3a6eab"
      },
      "source": [
        "# make sure that the input data is shuffled before hand so that the model doesn't notice patterns and generalizes well\n",
        "# change y_train to y_hot_encoded when using categorical cross entorpy\n",
        "import time\n",
        "start_time = time.time()\n",
        "#history = model.fit(\n",
        "#    df,\n",
        "#    y_train,\n",
        "#    validation_split=0.2,\n",
        "#    batch_size=32,\n",
        "#    epochs=75)\n",
        "\n",
        "\n",
        "# to be run for categorical cross entropy\n",
        "\n",
        "history = model.fit(\n",
        "    df,\n",
        "    Y_one_hot,\n",
        "    validation_split=0.2,\n",
        "    batch_size=32,\n",
        "    epochs=75)"
      ],
      "execution_count": 399,
      "outputs": [
        {
          "output_type": "stream",
          "text": [
            "Epoch 1/75\n",
            "43/43 [==============================] - 5s 96ms/step - loss: 292.2057 - accuracy: 0.3561 - val_loss: 1.3563 - val_accuracy: 0.3079\n",
            "Epoch 2/75\n",
            "43/43 [==============================] - 4s 99ms/step - loss: 1.2961 - accuracy: 0.3363 - val_loss: 0.7744 - val_accuracy: 0.6804\n",
            "Epoch 3/75\n",
            "43/43 [==============================] - 4s 85ms/step - loss: 0.7020 - accuracy: 0.7100 - val_loss: 0.4679 - val_accuracy: 0.8974\n",
            "Epoch 4/75\n",
            "43/43 [==============================] - 4s 84ms/step - loss: 0.5480 - accuracy: 0.7922 - val_loss: 0.2922 - val_accuracy: 0.8974\n",
            "Epoch 5/75\n",
            "43/43 [==============================] - 4s 85ms/step - loss: 0.3777 - accuracy: 0.8630 - val_loss: 0.5360 - val_accuracy: 0.7331\n",
            "Epoch 6/75\n",
            "43/43 [==============================] - 4s 85ms/step - loss: 0.3818 - accuracy: 0.8552 - val_loss: 0.3923 - val_accuracy: 0.8299\n",
            "Epoch 7/75\n",
            "43/43 [==============================] - 4s 91ms/step - loss: 0.3454 - accuracy: 0.8871 - val_loss: 0.4066 - val_accuracy: 0.8446\n",
            "Epoch 8/75\n",
            "43/43 [==============================] - 4s 85ms/step - loss: 0.3518 - accuracy: 0.8718 - val_loss: 0.2448 - val_accuracy: 0.9238\n",
            "Epoch 9/75\n",
            "43/43 [==============================] - 4s 85ms/step - loss: 0.3083 - accuracy: 0.8893 - val_loss: 0.3547 - val_accuracy: 0.8798\n",
            "Epoch 10/75\n",
            "43/43 [==============================] - 4s 93ms/step - loss: 0.3448 - accuracy: 0.8773 - val_loss: 0.4009 - val_accuracy: 0.8387\n",
            "Epoch 11/75\n",
            "43/43 [==============================] - 4s 84ms/step - loss: 0.3797 - accuracy: 0.8464 - val_loss: 0.2609 - val_accuracy: 0.9208\n",
            "Epoch 12/75\n",
            "43/43 [==============================] - 4s 91ms/step - loss: 0.3119 - accuracy: 0.8766 - val_loss: 0.4315 - val_accuracy: 0.8123\n",
            "Epoch 13/75\n",
            "43/43 [==============================] - 4s 85ms/step - loss: 0.3719 - accuracy: 0.8578 - val_loss: 0.2386 - val_accuracy: 0.9208\n",
            "Epoch 14/75\n",
            "43/43 [==============================] - 4s 85ms/step - loss: 0.2962 - accuracy: 0.8964 - val_loss: 0.2269 - val_accuracy: 0.9238\n",
            "Epoch 15/75\n",
            "43/43 [==============================] - 4s 85ms/step - loss: 0.3393 - accuracy: 0.8849 - val_loss: 0.2163 - val_accuracy: 0.9296\n",
            "Epoch 16/75\n",
            "43/43 [==============================] - 4s 85ms/step - loss: 0.3331 - accuracy: 0.8725 - val_loss: 0.3463 - val_accuracy: 0.8827\n",
            "Epoch 17/75\n",
            "43/43 [==============================] - 4s 91ms/step - loss: 0.3417 - accuracy: 0.8791 - val_loss: 0.2268 - val_accuracy: 0.9267\n",
            "Epoch 18/75\n",
            "43/43 [==============================] - 4s 85ms/step - loss: 0.2445 - accuracy: 0.9147 - val_loss: 0.2855 - val_accuracy: 0.8886\n",
            "Epoch 19/75\n",
            "43/43 [==============================] - 4s 85ms/step - loss: 0.3358 - accuracy: 0.8697 - val_loss: 0.3256 - val_accuracy: 0.8710\n",
            "Epoch 20/75\n",
            "43/43 [==============================] - 4s 84ms/step - loss: 0.2784 - accuracy: 0.9100 - val_loss: 0.4338 - val_accuracy: 0.8152\n",
            "Epoch 21/75\n",
            "43/43 [==============================] - 4s 85ms/step - loss: 0.3544 - accuracy: 0.8646 - val_loss: 0.2164 - val_accuracy: 0.9267\n",
            "Epoch 22/75\n",
            "43/43 [==============================] - 4s 93ms/step - loss: 0.2793 - accuracy: 0.8983 - val_loss: 0.2369 - val_accuracy: 0.9267\n",
            "Epoch 23/75\n",
            "43/43 [==============================] - 4s 85ms/step - loss: 0.4260 - accuracy: 0.8347 - val_loss: 1.1144 - val_accuracy: 0.3490\n",
            "Epoch 24/75\n",
            "43/43 [==============================] - 4s 92ms/step - loss: 1.1119 - accuracy: 0.3232 - val_loss: 1.0973 - val_accuracy: 0.3431\n",
            "Epoch 25/75\n",
            "43/43 [==============================] - 4s 92ms/step - loss: 1.1039 - accuracy: 0.3210 - val_loss: 1.0975 - val_accuracy: 0.3431\n",
            "Epoch 26/75\n",
            "43/43 [==============================] - 4s 92ms/step - loss: 1.1008 - accuracy: 0.3290 - val_loss: 1.0995 - val_accuracy: 0.3079\n",
            "Epoch 27/75\n",
            "43/43 [==============================] - 4s 85ms/step - loss: 1.0998 - accuracy: 0.3357 - val_loss: 1.0994 - val_accuracy: 0.3079\n",
            "Epoch 28/75\n",
            "43/43 [==============================] - 4s 85ms/step - loss: 1.0984 - accuracy: 0.3399 - val_loss: 1.0991 - val_accuracy: 0.3490\n",
            "Epoch 29/75\n",
            "43/43 [==============================] - 4s 85ms/step - loss: 1.1020 - accuracy: 0.3207 - val_loss: 1.0982 - val_accuracy: 0.3431\n",
            "Epoch 30/75\n",
            "43/43 [==============================] - 4s 85ms/step - loss: 1.1003 - accuracy: 0.3207 - val_loss: 1.1008 - val_accuracy: 0.3490\n",
            "Epoch 31/75\n",
            "43/43 [==============================] - 4s 85ms/step - loss: 1.1035 - accuracy: 0.3059 - val_loss: 1.1007 - val_accuracy: 0.3079\n",
            "Epoch 32/75\n",
            "43/43 [==============================] - 4s 84ms/step - loss: 1.0995 - accuracy: 0.3222 - val_loss: 1.1003 - val_accuracy: 0.3079\n",
            "Epoch 33/75\n",
            "43/43 [==============================] - 4s 86ms/step - loss: 1.0988 - accuracy: 0.3312 - val_loss: 1.0978 - val_accuracy: 0.3490\n",
            "Epoch 34/75\n",
            "43/43 [==============================] - 4s 88ms/step - loss: 1.0998 - accuracy: 0.3287 - val_loss: 1.1019 - val_accuracy: 0.3079\n",
            "Epoch 35/75\n",
            "43/43 [==============================] - 4s 89ms/step - loss: 1.0993 - accuracy: 0.3353 - val_loss: 1.0987 - val_accuracy: 0.3431\n",
            "Epoch 36/75\n",
            "43/43 [==============================] - 4s 90ms/step - loss: 1.0988 - accuracy: 0.3495 - val_loss: 1.0994 - val_accuracy: 0.3079\n",
            "Epoch 37/75\n",
            "43/43 [==============================] - 4s 85ms/step - loss: 1.0992 - accuracy: 0.3414 - val_loss: 1.0983 - val_accuracy: 0.3431\n",
            "Epoch 38/75\n",
            "43/43 [==============================] - 4s 85ms/step - loss: 1.1005 - accuracy: 0.3139 - val_loss: 1.0992 - val_accuracy: 0.3431\n",
            "Epoch 39/75\n",
            "43/43 [==============================] - 4s 86ms/step - loss: 1.1003 - accuracy: 0.3515 - val_loss: 1.1016 - val_accuracy: 0.3079\n",
            "Epoch 40/75\n",
            "43/43 [==============================] - 4s 92ms/step - loss: 1.1002 - accuracy: 0.3382 - val_loss: 1.1004 - val_accuracy: 0.3431\n",
            "Epoch 41/75\n",
            "43/43 [==============================] - 4s 85ms/step - loss: 1.0988 - accuracy: 0.3377 - val_loss: 1.0989 - val_accuracy: 0.3079\n",
            "Epoch 42/75\n",
            "43/43 [==============================] - 4s 85ms/step - loss: 1.0993 - accuracy: 0.3217 - val_loss: 1.1010 - val_accuracy: 0.3079\n",
            "Epoch 43/75\n",
            "43/43 [==============================] - 4s 92ms/step - loss: 1.0995 - accuracy: 0.3278 - val_loss: 1.1006 - val_accuracy: 0.3079\n",
            "Epoch 44/75\n",
            "43/43 [==============================] - 4s 86ms/step - loss: 1.0988 - accuracy: 0.3458 - val_loss: 1.0993 - val_accuracy: 0.3431\n",
            "Epoch 45/75\n",
            "43/43 [==============================] - 4s 92ms/step - loss: 1.0984 - accuracy: 0.3349 - val_loss: 1.0982 - val_accuracy: 0.3431\n",
            "Epoch 46/75\n",
            "43/43 [==============================] - 4s 86ms/step - loss: 1.0983 - accuracy: 0.3652 - val_loss: 1.0990 - val_accuracy: 0.3079\n",
            "Epoch 47/75\n",
            "43/43 [==============================] - 4s 86ms/step - loss: 1.0993 - accuracy: 0.3343 - val_loss: 1.0982 - val_accuracy: 0.3431\n",
            "Epoch 48/75\n",
            "43/43 [==============================] - 4s 86ms/step - loss: 1.0985 - accuracy: 0.3415 - val_loss: 1.0986 - val_accuracy: 0.3431\n",
            "Epoch 49/75\n",
            "43/43 [==============================] - 4s 95ms/step - loss: 1.0993 - accuracy: 0.2861 - val_loss: 1.0995 - val_accuracy: 0.3079\n",
            "Epoch 50/75\n",
            "43/43 [==============================] - 4s 88ms/step - loss: 1.0985 - accuracy: 0.3380 - val_loss: 1.0996 - val_accuracy: 0.3431\n",
            "Epoch 51/75\n",
            "43/43 [==============================] - 4s 87ms/step - loss: 1.0995 - accuracy: 0.3284 - val_loss: 1.0987 - val_accuracy: 0.3431\n",
            "Epoch 52/75\n",
            "43/43 [==============================] - 4s 89ms/step - loss: 1.0988 - accuracy: 0.3367 - val_loss: 1.0994 - val_accuracy: 0.3431\n",
            "Epoch 53/75\n",
            "43/43 [==============================] - 4s 88ms/step - loss: 1.0997 - accuracy: 0.3419 - val_loss: 1.1013 - val_accuracy: 0.3079\n",
            "Epoch 54/75\n",
            "43/43 [==============================] - 4s 101ms/step - loss: 1.0993 - accuracy: 0.3181 - val_loss: 1.0998 - val_accuracy: 0.3079\n",
            "Epoch 55/75\n",
            "43/43 [==============================] - 4s 91ms/step - loss: 1.0985 - accuracy: 0.3201 - val_loss: 1.0992 - val_accuracy: 0.3431\n",
            "Epoch 56/75\n",
            "43/43 [==============================] - 5s 108ms/step - loss: 1.0995 - accuracy: 0.3560 - val_loss: 1.1006 - val_accuracy: 0.3079\n",
            "Epoch 57/75\n",
            "43/43 [==============================] - 4s 94ms/step - loss: 1.0989 - accuracy: 0.3273 - val_loss: 1.0996 - val_accuracy: 0.3079\n",
            "Epoch 58/75\n",
            "43/43 [==============================] - 4s 89ms/step - loss: 1.0996 - accuracy: 0.3067 - val_loss: 1.1008 - val_accuracy: 0.3079\n",
            "Epoch 59/75\n",
            "43/43 [==============================] - 4s 89ms/step - loss: 1.0983 - accuracy: 0.3377 - val_loss: 1.0992 - val_accuracy: 0.3079\n",
            "Epoch 60/75\n",
            "43/43 [==============================] - 4s 94ms/step - loss: 1.0990 - accuracy: 0.3178 - val_loss: 1.1007 - val_accuracy: 0.3079\n",
            "Epoch 61/75\n",
            "43/43 [==============================] - 4s 88ms/step - loss: 1.0986 - accuracy: 0.3319 - val_loss: 1.0985 - val_accuracy: 0.3431\n",
            "Epoch 62/75\n",
            "43/43 [==============================] - 4s 87ms/step - loss: 1.0997 - accuracy: 0.3144 - val_loss: 1.0998 - val_accuracy: 0.3079\n",
            "Epoch 63/75\n",
            "43/43 [==============================] - 4s 87ms/step - loss: 1.0996 - accuracy: 0.3206 - val_loss: 1.0992 - val_accuracy: 0.3431\n",
            "Epoch 64/75\n",
            "43/43 [==============================] - 4s 85ms/step - loss: 1.0984 - accuracy: 0.3468 - val_loss: 1.1001 - val_accuracy: 0.3079\n",
            "Epoch 65/75\n",
            "43/43 [==============================] - 4s 87ms/step - loss: 1.0999 - accuracy: 0.3320 - val_loss: 1.0998 - val_accuracy: 0.3079\n",
            "Epoch 66/75\n",
            "43/43 [==============================] - 4s 88ms/step - loss: 1.0981 - accuracy: 0.3423 - val_loss: 1.0989 - val_accuracy: 0.3431\n",
            "Epoch 67/75\n",
            "43/43 [==============================] - 4s 88ms/step - loss: 1.0994 - accuracy: 0.3412 - val_loss: 1.0998 - val_accuracy: 0.3079\n",
            "Epoch 68/75\n",
            "43/43 [==============================] - 4s 88ms/step - loss: 1.0989 - accuracy: 0.3291 - val_loss: 1.0999 - val_accuracy: 0.3431\n",
            "Epoch 69/75\n",
            "43/43 [==============================] - 4s 90ms/step - loss: 1.0981 - accuracy: 0.3506 - val_loss: 1.0993 - val_accuracy: 0.3079\n",
            "Epoch 70/75\n",
            "43/43 [==============================] - 4s 91ms/step - loss: 1.0997 - accuracy: 0.2926 - val_loss: 1.1009 - val_accuracy: 0.3079\n",
            "Epoch 71/75\n",
            "43/43 [==============================] - 4s 96ms/step - loss: 1.0991 - accuracy: 0.3087 - val_loss: 1.0999 - val_accuracy: 0.3079\n",
            "Epoch 72/75\n",
            "43/43 [==============================] - 4s 90ms/step - loss: 1.0987 - accuracy: 0.3537 - val_loss: 1.0994 - val_accuracy: 0.3431\n",
            "Epoch 73/75\n",
            "43/43 [==============================] - 4s 90ms/step - loss: 1.0989 - accuracy: 0.3424 - val_loss: 1.0997 - val_accuracy: 0.3079\n",
            "Epoch 74/75\n",
            "43/43 [==============================] - 4s 94ms/step - loss: 1.0992 - accuracy: 0.3215 - val_loss: 1.0999 - val_accuracy: 0.3079\n",
            "Epoch 75/75\n",
            "43/43 [==============================] - 4s 87ms/step - loss: 1.0990 - accuracy: 0.3452 - val_loss: 1.0999 - val_accuracy: 0.3431\n"
          ],
          "name": "stdout"
        }
      ]
    },
    {
      "cell_type": "code",
      "metadata": {
        "id": "vhwajgGzpvrD",
        "colab": {
          "base_uri": "https://localhost:8080/"
        },
        "outputId": "afc2d7f9-cbd9-467f-a2f4-f4166a0e29ee"
      },
      "source": [
        "history.history"
      ],
      "execution_count": 400,
      "outputs": [
        {
          "output_type": "execute_result",
          "data": {
            "text/plain": [
              "{'accuracy': [0.35483869910240173,\n",
              "  0.39369502663612366,\n",
              "  0.7023460268974304,\n",
              "  0.7851906418800354,\n",
              "  0.8152492642402649,\n",
              "  0.8482404947280884,\n",
              "  0.8746334314346313,\n",
              "  0.8687683343887329,\n",
              "  0.8944281339645386,\n",
              "  0.8651026487350464,\n",
              "  0.8651026487350464,\n",
              "  0.859237551689148,\n",
              "  0.8746334314346313,\n",
              "  0.8995600938796997,\n",
              "  0.8988269567489624,\n",
              "  0.8687683343887329,\n",
              "  0.8863636255264282,\n",
              "  0.9083577990531921,\n",
              "  0.8555718660354614,\n",
              "  0.8936949968338013,\n",
              "  0.8804985284805298,\n",
              "  0.8936949968338013,\n",
              "  0.7807917594909668,\n",
              "  0.32404690980911255,\n",
              "  0.32331377267837524,\n",
              "  0.3277125954627991,\n",
              "  0.32624632120132446,\n",
              "  0.3343108594417572,\n",
              "  0.3167155385017395,\n",
              "  0.32624632120132446,\n",
              "  0.303519070148468,\n",
              "  0.3299120366573334,\n",
              "  0.32844576239585876,\n",
              "  0.32844576239585876,\n",
              "  0.3321114480495453,\n",
              "  0.32551318407058716,\n",
              "  0.32258063554763794,\n",
              "  0.32478004693984985,\n",
              "  0.3350439965724945,\n",
              "  0.3365102708339691,\n",
              "  0.3167155385017395,\n",
              "  0.3189149498939514,\n",
              "  0.32917889952659607,\n",
              "  0.3372434079647064,\n",
              "  0.33870968222618103,\n",
              "  0.34090909361839294,\n",
              "  0.3145161271095276,\n",
              "  0.32404690980911255,\n",
              "  0.29178884625434875,\n",
              "  0.32844576239585876,\n",
              "  0.3181818127632141,\n",
              "  0.32844576239585876,\n",
              "  0.3335777223110199,\n",
              "  0.32478004693984985,\n",
              "  0.32624632120132446,\n",
              "  0.3504398763179779,\n",
              "  0.32184749841690063,\n",
              "  0.3189149498939514,\n",
              "  0.32624632120132446,\n",
              "  0.32697945833206177,\n",
              "  0.3306451737880707,\n",
              "  0.32624632120132446,\n",
              "  0.331378310918808,\n",
              "  0.34017595648765564,\n",
              "  0.3372434079647064,\n",
              "  0.32551318407058716,\n",
              "  0.3189149498939514,\n",
              "  0.32844576239585876,\n",
              "  0.33870968222618103,\n",
              "  0.3027859330177307,\n",
              "  0.3196480870246887,\n",
              "  0.3379765450954437,\n",
              "  0.32624632120132446,\n",
              "  0.32697945833206177,\n",
              "  0.32844576239585876],\n",
              " 'loss': [94.8810806274414,\n",
              "  1.1761581897735596,\n",
              "  0.7025201320648193,\n",
              "  0.5319505333900452,\n",
              "  0.48223406076431274,\n",
              "  0.3946252763271332,\n",
              "  0.35629186034202576,\n",
              "  0.36032772064208984,\n",
              "  0.30289891362190247,\n",
              "  0.35876911878585815,\n",
              "  0.3486211895942688,\n",
              "  0.3561408817768097,\n",
              "  0.34542813897132874,\n",
              "  0.2953932285308838,\n",
              "  0.29265454411506653,\n",
              "  0.3474249541759491,\n",
              "  0.3202882409095764,\n",
              "  0.268107533454895,\n",
              "  0.36693936586380005,\n",
              "  0.3149529695510864,\n",
              "  0.3351461589336395,\n",
              "  0.30975937843322754,\n",
              "  0.5434293150901794,\n",
              "  1.107089638710022,\n",
              "  1.1028395891189575,\n",
              "  1.100489854812622,\n",
              "  1.1003413200378418,\n",
              "  1.0998739004135132,\n",
              "  1.1014996767044067,\n",
              "  1.1012731790542603,\n",
              "  1.1025381088256836,\n",
              "  1.0995639562606812,\n",
              "  1.0999524593353271,\n",
              "  1.1000893115997314,\n",
              "  1.10088050365448,\n",
              "  1.0996928215026855,\n",
              "  1.1000943183898926,\n",
              "  1.1001665592193604,\n",
              "  1.1006673574447632,\n",
              "  1.100150465965271,\n",
              "  1.1001641750335693,\n",
              "  1.09988534450531,\n",
              "  1.0996812582015991,\n",
              "  1.0993528366088867,\n",
              "  1.0990182161331177,\n",
              "  1.0995280742645264,\n",
              "  1.1001631021499634,\n",
              "  1.0995255708694458,\n",
              "  1.0997743606567383,\n",
              "  1.0990073680877686,\n",
              "  1.0996860265731812,\n",
              "  1.099469780921936,\n",
              "  1.1002343893051147,\n",
              "  1.099255919456482,\n",
              "  1.0991895198822021,\n",
              "  1.1002060174942017,\n",
              "  1.099222183227539,\n",
              "  1.0994622707366943,\n",
              "  1.0993412733078003,\n",
              "  1.0993150472640991,\n",
              "  1.099165916442871,\n",
              "  1.099852204322815,\n",
              "  1.0989019870758057,\n",
              "  1.0990307331085205,\n",
              "  1.099456548690796,\n",
              "  1.098718285560608,\n",
              "  1.0999078750610352,\n",
              "  1.099514365196228,\n",
              "  1.0990588665008545,\n",
              "  1.099708080291748,\n",
              "  1.099065899848938,\n",
              "  1.0994304418563843,\n",
              "  1.0992450714111328,\n",
              "  1.0989364385604858,\n",
              "  1.0996057987213135],\n",
              " 'val_accuracy': [0.30791789293289185,\n",
              "  0.6803519129753113,\n",
              "  0.8973606824874878,\n",
              "  0.8973606824874878,\n",
              "  0.733137845993042,\n",
              "  0.829912006855011,\n",
              "  0.8445748090744019,\n",
              "  0.9237536787986755,\n",
              "  0.8797653913497925,\n",
              "  0.8387096524238586,\n",
              "  0.9208211302757263,\n",
              "  0.8123167157173157,\n",
              "  0.9208211302757263,\n",
              "  0.9237536787986755,\n",
              "  0.929618775844574,\n",
              "  0.8826979398727417,\n",
              "  0.9266862273216248,\n",
              "  0.8885630369186401,\n",
              "  0.8709677457809448,\n",
              "  0.8152492642402649,\n",
              "  0.9266862273216248,\n",
              "  0.9266862273216248,\n",
              "  0.3489736020565033,\n",
              "  0.34310850501060486,\n",
              "  0.34310850501060486,\n",
              "  0.30791789293289185,\n",
              "  0.30791789293289185,\n",
              "  0.3489736020565033,\n",
              "  0.34310850501060486,\n",
              "  0.3489736020565033,\n",
              "  0.30791789293289185,\n",
              "  0.30791789293289185,\n",
              "  0.3489736020565033,\n",
              "  0.30791789293289185,\n",
              "  0.34310850501060486,\n",
              "  0.30791789293289185,\n",
              "  0.34310850501060486,\n",
              "  0.34310850501060486,\n",
              "  0.30791789293289185,\n",
              "  0.34310850501060486,\n",
              "  0.30791789293289185,\n",
              "  0.30791789293289185,\n",
              "  0.30791789293289185,\n",
              "  0.34310850501060486,\n",
              "  0.34310850501060486,\n",
              "  0.30791789293289185,\n",
              "  0.34310850501060486,\n",
              "  0.34310850501060486,\n",
              "  0.30791789293289185,\n",
              "  0.34310850501060486,\n",
              "  0.34310850501060486,\n",
              "  0.34310850501060486,\n",
              "  0.30791789293289185,\n",
              "  0.30791789293289185,\n",
              "  0.34310850501060486,\n",
              "  0.30791789293289185,\n",
              "  0.30791789293289185,\n",
              "  0.30791789293289185,\n",
              "  0.30791789293289185,\n",
              "  0.30791789293289185,\n",
              "  0.34310850501060486,\n",
              "  0.30791789293289185,\n",
              "  0.34310850501060486,\n",
              "  0.30791789293289185,\n",
              "  0.30791789293289185,\n",
              "  0.34310850501060486,\n",
              "  0.30791789293289185,\n",
              "  0.34310850501060486,\n",
              "  0.30791789293289185,\n",
              "  0.30791789293289185,\n",
              "  0.30791789293289185,\n",
              "  0.34310850501060486,\n",
              "  0.30791789293289185,\n",
              "  0.30791789293289185,\n",
              "  0.34310850501060486],\n",
              " 'val_loss': [1.3562989234924316,\n",
              "  0.7743538618087769,\n",
              "  0.46793872117996216,\n",
              "  0.29216402769088745,\n",
              "  0.5359660983085632,\n",
              "  0.3922552168369293,\n",
              "  0.4066496789455414,\n",
              "  0.2447773814201355,\n",
              "  0.3546505272388458,\n",
              "  0.40085166692733765,\n",
              "  0.2608514726161957,\n",
              "  0.4314593970775604,\n",
              "  0.23863694071769714,\n",
              "  0.2269204705953598,\n",
              "  0.2162865847349167,\n",
              "  0.34634509682655334,\n",
              "  0.22677166759967804,\n",
              "  0.285464882850647,\n",
              "  0.3255887031555176,\n",
              "  0.4338127374649048,\n",
              "  0.2163683921098709,\n",
              "  0.2368534952402115,\n",
              "  1.1143763065338135,\n",
              "  1.0973438024520874,\n",
              "  1.0975173711776733,\n",
              "  1.0995051860809326,\n",
              "  1.0994244813919067,\n",
              "  1.0990954637527466,\n",
              "  1.098152995109558,\n",
              "  1.100848913192749,\n",
              "  1.1007020473480225,\n",
              "  1.100298523902893,\n",
              "  1.0978100299835205,\n",
              "  1.1019277572631836,\n",
              "  1.0987285375595093,\n",
              "  1.0993666648864746,\n",
              "  1.0982595682144165,\n",
              "  1.0992369651794434,\n",
              "  1.1016085147857666,\n",
              "  1.1004172563552856,\n",
              "  1.0988926887512207,\n",
              "  1.1010464429855347,\n",
              "  1.1006320714950562,\n",
              "  1.0993133783340454,\n",
              "  1.098245620727539,\n",
              "  1.0989623069763184,\n",
              "  1.098233938217163,\n",
              "  1.0986394882202148,\n",
              "  1.0994634628295898,\n",
              "  1.099575161933899,\n",
              "  1.0987077951431274,\n",
              "  1.0993976593017578,\n",
              "  1.101256012916565,\n",
              "  1.0998135805130005,\n",
              "  1.099173665046692,\n",
              "  1.1006170511245728,\n",
              "  1.099615454673767,\n",
              "  1.1008329391479492,\n",
              "  1.0991970300674438,\n",
              "  1.1007224321365356,\n",
              "  1.098455786705017,\n",
              "  1.0997673273086548,\n",
              "  1.0992372035980225,\n",
              "  1.1000845432281494,\n",
              "  1.0998157262802124,\n",
              "  1.0989004373550415,\n",
              "  1.0998313426971436,\n",
              "  1.0998713970184326,\n",
              "  1.0992628335952759,\n",
              "  1.1009242534637451,\n",
              "  1.0998623371124268,\n",
              "  1.0994268655776978,\n",
              "  1.0996676683425903,\n",
              "  1.0998749732971191,\n",
              "  1.0998615026474]}"
            ]
          },
          "metadata": {
            "tags": []
          },
          "execution_count": 400
        }
      ]
    },
    {
      "cell_type": "code",
      "metadata": {
        "colab": {
          "base_uri": "https://localhost:8080/"
        },
        "id": "Kyn1dHRRJ5Wn",
        "outputId": "5d94cd7d-0053-4ab9-9950-e58f40ce91b1"
      },
      "source": [
        "print(\"--- %s seconds ---\" % (time.time() - start_time))\n"
      ],
      "execution_count": 401,
      "outputs": [
        {
          "output_type": "stream",
          "text": [
            "--- 322.92604637145996 seconds ---\n"
          ],
          "name": "stdout"
        }
      ]
    },
    {
      "cell_type": "code",
      "metadata": {
        "id": "rOU0i1e6jhr3"
      },
      "source": [
        "x_test = X_test #returns a numpy array\n",
        "min_max_scaler = preprocessing.MinMaxScaler()\n",
        "x_scaled_test = min_max_scaler.fit_transform(x_test)\n",
        "df_test = pd.DataFrame(x_scaled_test)"
      ],
      "execution_count": 402,
      "outputs": []
    },
    {
      "cell_type": "code",
      "metadata": {
        "id": "OgeGekJ8lW6S"
      },
      "source": [
        "predictions = model.predict(x=df_test, batch_size=32)"
      ],
      "execution_count": 403,
      "outputs": []
    },
    {
      "cell_type": "code",
      "metadata": {
        "id": "1o6zqIsfl2QX"
      },
      "source": [
        "rounded_predictions = np.argmax(predictions, axis=-1)"
      ],
      "execution_count": 404,
      "outputs": []
    },
    {
      "cell_type": "code",
      "metadata": {
        "id": "NQTy4F7TmotU"
      },
      "source": [
        "cm = confusion_matrix(y_true=y_test, y_pred=rounded_predictions)"
      ],
      "execution_count": 405,
      "outputs": []
    },
    {
      "cell_type": "code",
      "metadata": {
        "colab": {
          "base_uri": "https://localhost:8080/",
          "height": 976
        },
        "id": "rieDywHXuA6R",
        "outputId": "dce5b2df-1853-4a6e-85ff-d165e620928e"
      },
      "source": [
        "label_mapping = {'NEGATIVE': 0, 'NEUTRAL': 1, 'POSITIVE': 2}\n",
        "# for diff dataset\n",
        "# label_mapping = {'NEGATIVE': 0, 'POSITIVE': 1}\n",
        "plt.figure(figsize=(8, 8))\n",
        "sns.heatmap(cm, annot=True, vmin=0, fmt='g', cbar=False, cmap='Blues')\n",
        "clr = classification_report(y_test, rounded_predictions, target_names=label_mapping.keys())\n",
        "plt.xticks(np.arange(3) + 0.5, label_mapping.keys())\n",
        "plt.yticks(np.arange(3) + 0.5, label_mapping.keys())\n",
        "plt.xlabel(\"Predicted\")\n",
        "plt.ylabel(\"Actual\")\n",
        "plt.title(\"Confusion Matrix\")\n",
        "plt.show()\n",
        "\n",
        "print(\"Classification Report:\\n----------------------\\n\", clr)\n",
        "\n"
      ],
      "execution_count": 406,
      "outputs": [
        {
          "output_type": "stream",
          "text": [
            "/usr/local/lib/python3.7/dist-packages/sklearn/metrics/_classification.py:1272: UndefinedMetricWarning: Precision and F-score are ill-defined and being set to 0.0 in labels with no predicted samples. Use `zero_division` parameter to control this behavior.\n",
            "  _warn_prf(average, modifier, msg_start, len(result))\n"
          ],
          "name": "stderr"
        },
        {
          "output_type": "display_data",
          "data": {
            "image/png": "[encoded data removed]",
            "text/plain": [
              "<Figure size 800x800 with 1 Axes>"
            ]
          },
          "metadata": {
            "tags": []
          }
        },
        {
          "output_type": "stream",
          "text": [
            "Classification Report:\n",
            "----------------------\n",
            "               precision    recall  f1-score   support\n",
            "\n",
            "    NEGATIVE       0.32      1.00      0.49       137\n",
            "     NEUTRAL       0.00      0.00      0.00       147\n",
            "    POSITIVE       1.00      0.02      0.04       143\n",
            "\n",
            "    accuracy                           0.33       427\n",
            "   macro avg       0.44      0.34      0.18       427\n",
            "weighted avg       0.44      0.33      0.17       427\n",
            "\n"
          ],
          "name": "stdout"
        }
      ]
    },
    {
      "cell_type": "code",
      "metadata": {
        "id": "s5wbr_oav-Kb"
      },
      "source": [
        "# https://stackoverflow.com/questions/26413185/how-to-recover-matplotlib-defaults-after-setting-stylesheet\n",
        "import matplotlib as mpl\n",
        "mpl.rcParams.update(mpl.rcParamsDefault)"
      ],
      "execution_count": 407,
      "outputs": []
    },
    {
      "cell_type": "code",
      "metadata": {
        "id": "73HZGymlybP2"
      },
      "source": [
        "training_acc = history.history['accuracy']\n",
        "validation_acc = history.history['val_accuracy']\n",
        "training_loss  = history.history['loss']\n",
        "validation_loss = history.history['val_loss']"
      ],
      "execution_count": 408,
      "outputs": []
    },
    {
      "cell_type": "code",
      "metadata": {
        "colab": {
          "base_uri": "https://localhost:8080/",
          "height": 472
        },
        "id": "1jgMVKMDyxck",
        "outputId": "352374ee-017d-42f6-ffef-0d5a8d7b74ae"
      },
      "source": [
        "epochs = history.epoch\n",
        "plt.plot(epochs, training_acc, color = '#17e6e6', label='Training Accuracy')\n",
        "plt.plot(epochs, validation_acc,color = '#e61771', label='Validation Accuracy')\n",
        "plt.title('Accuracy vs Epochs')\n",
        "plt.xlabel('Epochs')\n",
        "plt.ylabel('Accuracy')\n",
        "plt.legend()\n",
        "plt.savefig('AccuracyVsEpochs.png')\n",
        "plt.show()"
      ],
      "execution_count": 409,
      "outputs": [
        {
          "output_type": "display_data",
          "data": {
            "image/png": "[encoded data removed]",
            "text/plain": [
              "<Figure size 640x480 with 1 Axes>"
            ]
          },
          "metadata": {
            "tags": []
          }
        }
      ]
    }
  ]
}