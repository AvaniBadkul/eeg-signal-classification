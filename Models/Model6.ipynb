{
  "nbformat": 4,
  "nbformat_minor": 0,
  "metadata": {
    "colab": {
      "name": "EEGSignalClassification.ipynb",
      "provenance": []
    },
    "kernelspec": {
      "name": "python3",
      "display_name": "Python 3"
    },
    "language_info": {
      "name": "python"
    }
  },
  "cells": [
    {
      "cell_type": "code",
      "metadata": {
        "id": "iuNWUJKJLY9T"
      },
      "source": [
        "%reset -f "
      ],
      "execution_count": 130,
      "outputs": []
    },
    {
      "cell_type": "code",
      "metadata": {
        "id": "yj4HfL7EcNRq"
      },
      "source": [
        "# libraries used\n",
        "#  https://stats.stackexchange.com/questions/181/how-to-choose-the-number-of-hidden-layers-and-nodes-in-a-feedforward-neural-netw\n",
        "import numpy as np\n",
        "import pandas as pd\n",
        "import seaborn as sns \n",
        "import matplotlib.pyplot as plt\n",
        "from sklearn.model_selection import train_test_split\n",
        "from sklearn.metrics import confusion_matrix, classification_report\n",
        "from sklearn import preprocessing\n",
        "import tensorflow as tf\n",
        "from tensorflow.keras import datasets, layers, models\n",
        "import keras \n",
        "from keras.models import Sequential\n",
        "from keras.layers import Dense, Dropout\n",
        "import itertools"
      ],
      "execution_count": 131,
      "outputs": []
    },
    {
      "cell_type": "code",
      "metadata": {
        "colab": {
          "base_uri": "https://localhost:8080/"
        },
        "id": "WYIp8Qr9ck8Z",
        "outputId": "1e4ec583-8e3e-41bd-a7bf-2a7182a288b3"
      },
      "source": [
        "emotions = pd.read_csv(\"drive/MyDrive/EEG/emotions.csv\")\n",
        "emotions.replace(['NEGATIVE', 'POSITIVE', 'NEUTRAL'], [2, 1, 0], inplace=True)\n",
        "emotions['label'].unique()"
      ],
      "execution_count": 132,
      "outputs": [
        {
          "output_type": "execute_result",
          "data": {
            "text/plain": [
              "array([2, 0, 1])"
            ]
          },
          "metadata": {
            "tags": []
          },
          "execution_count": 132
        }
      ]
    },
    {
      "cell_type": "code",
      "metadata": {
        "id": "PvT5tTotcoS3"
      },
      "source": [
        "X = emotions.drop('label', axis=1).copy()\n",
        "y = (emotions['label'].copy())"
      ],
      "execution_count": 133,
      "outputs": []
    },
    {
      "cell_type": "code",
      "metadata": {
        "id": "GUZOuZK7crNV"
      },
      "source": [
        "# Splitting data into training and testing as 80-20 \n",
        "X_train, X_test, y_train, y_test = train_test_split(X, y, test_size=0.2, random_state=1)\n",
        "\n",
        "x = X_train #returns a numpy array\n",
        "min_max_scaler = preprocessing.MinMaxScaler()\n",
        "x_scaled = min_max_scaler.fit_transform(x)\n",
        "df = pd.DataFrame(x_scaled)"
      ],
      "execution_count": 134,
      "outputs": []
    },
    {
      "cell_type": "code",
      "metadata": {
        "id": "BhRoXS4mj6CV"
      },
      "source": [
        "#  resetting the data - https://www.tensorflow.org/api_docs/python/tf/keras/backend/clear_session\n",
        "tf.keras.backend.clear_session()"
      ],
      "execution_count": 135,
      "outputs": []
    },
    {
      "cell_type": "code",
      "metadata": {
        "colab": {
          "base_uri": "https://localhost:8080/"
        },
        "id": "k4a4vwF5cxvU",
        "outputId": "5b3157a0-4d2d-4caa-97b2-4b8344ba6caa"
      },
      "source": [
        "model = Sequential()\n",
        "model.add(Dense((2*X_train.shape[1]/3), input_dim=X_train.shape[1], activation='relu'))\n",
        "model.add(Dense((2*X_train.shape[1]/3), activation='relu'))\n",
        "model.add(Dense((1*X_train.shape[1]/3), activation='relu'))\n",
        "model.add(Dense((1*X_train.shape[1]/3), activation='relu'))\n",
        "model.add(Dense(3, activation='softmax'))\n",
        "#model.compile(loss='categorical_crossentropy', optimizer='adam', metrics=['accuracy'])\n",
        "print(model.summary())\n",
        "\n",
        "\n",
        "\n"
      ],
      "execution_count": 136,
      "outputs": [
        {
          "output_type": "stream",
          "text": [
            "Model: \"sequential\"\n",
            "_________________________________________________________________\n",
            "Layer (type)                 Output Shape              Param #   \n",
            "=================================================================\n",
            "dense (Dense)                (None, 1698)              4328202   \n",
            "_________________________________________________________________\n",
            "dense_1 (Dense)              (None, 1698)              2884902   \n",
            "_________________________________________________________________\n",
            "dense_2 (Dense)              (None, 849)               1442451   \n",
            "_________________________________________________________________\n",
            "dense_3 (Dense)              (None, 849)               721650    \n",
            "_________________________________________________________________\n",
            "dense_4 (Dense)              (None, 3)                 2550      \n",
            "=================================================================\n",
            "Total params: 9,379,755\n",
            "Trainable params: 9,379,755\n",
            "Non-trainable params: 0\n",
            "_________________________________________________________________\n",
            "None\n"
          ],
          "name": "stdout"
        }
      ]
    },
    {
      "cell_type": "code",
      "metadata": {
        "id": "A2Q9BOrneeUM"
      },
      "source": [
        "# for categorical entropy\n",
        "# https://stackoverflow.com/questions/63211181/error-while-using-categorical-crossentropy\n",
        "from tensorflow.keras.utils import to_categorical\n",
        "Y_one_hot=to_categorical(y_train) # convert Y into an one-hot vector"
      ],
      "execution_count": 137,
      "outputs": []
    },
    {
      "cell_type": "code",
      "metadata": {
        "id": "NEs5ddrJeBeG"
      },
      "source": [
        "# https://stackoverflow.com/questions/59737875/keras-change-learning-rate\n",
        "#optimizer = tf.keras.optimizers.Adam(0.001)\n",
        "#optimizer.learning_rate.assign(0.01)\n",
        "\n",
        "opt = keras.optimizers.Adam(learning_rate=0.001)\n",
        "\n",
        "model.compile(\n",
        "    optimizer=opt,\n",
        "    loss='sparse_categorical_crossentropy',\n",
        "    metrics=['accuracy']\n",
        ")\n",
        "\n",
        "# to be run for categorical cross entropy\n",
        "# model.compile(loss='categorical_crossentropy', optimizer=tf.keras.optimizers.Adam(lr=0.01), metrics=['accuracy'])\n"
      ],
      "execution_count": 138,
      "outputs": []
    },
    {
      "cell_type": "code",
      "metadata": {
        "id": "ASdP3qvxes8r",
        "colab": {
          "base_uri": "https://localhost:8080/"
        },
        "outputId": "30076c18-9a65-4bf4-96d9-c265ec60558c"
      },
      "source": [
        "# make sure that the input data is shuffled before hand so that the model doesn't notice patterns and generalizes well\n",
        "# change y_train to y_hot_encoded when using categorical cross entorpy\n",
        "import time\n",
        "start_time = time.time()\n",
        "history = model.fit(\n",
        "    df,\n",
        "    y_train,\n",
        "    validation_split=0.2,\n",
        "    batch_size=32,\n",
        "    epochs=75)"
      ],
      "execution_count": 139,
      "outputs": [
        {
          "output_type": "stream",
          "text": [
            "Epoch 1/75\n",
            "43/43 [==============================] - 5s 102ms/step - loss: 1.8080 - accuracy: 0.4588 - val_loss: 0.4931 - val_accuracy: 0.8475\n",
            "Epoch 2/75\n",
            "43/43 [==============================] - 4s 90ms/step - loss: 0.5457 - accuracy: 0.7911 - val_loss: 0.6336 - val_accuracy: 0.6598\n",
            "Epoch 3/75\n",
            "43/43 [==============================] - 4s 85ms/step - loss: 0.5251 - accuracy: 0.7843 - val_loss: 0.5430 - val_accuracy: 0.7801\n",
            "Epoch 4/75\n",
            "43/43 [==============================] - 4s 85ms/step - loss: 0.4282 - accuracy: 0.8308 - val_loss: 0.4302 - val_accuracy: 0.8563\n",
            "Epoch 5/75\n",
            "43/43 [==============================] - 4s 89ms/step - loss: 0.3981 - accuracy: 0.8620 - val_loss: 0.3600 - val_accuracy: 0.8182\n",
            "Epoch 6/75\n",
            "43/43 [==============================] - 4s 86ms/step - loss: 0.4183 - accuracy: 0.8291 - val_loss: 0.2538 - val_accuracy: 0.9355\n",
            "Epoch 7/75\n",
            "43/43 [==============================] - 4s 95ms/step - loss: 0.2883 - accuracy: 0.8979 - val_loss: 0.3498 - val_accuracy: 0.8798\n",
            "Epoch 8/75\n",
            "43/43 [==============================] - 4s 104ms/step - loss: 0.3740 - accuracy: 0.8622 - val_loss: 0.2936 - val_accuracy: 0.8798\n",
            "Epoch 9/75\n",
            "43/43 [==============================] - 4s 98ms/step - loss: 0.4190 - accuracy: 0.8217 - val_loss: 0.2957 - val_accuracy: 0.8710\n",
            "Epoch 10/75\n",
            "43/43 [==============================] - 4s 84ms/step - loss: 0.3323 - accuracy: 0.8786 - val_loss: 0.2547 - val_accuracy: 0.9267\n",
            "Epoch 11/75\n",
            "43/43 [==============================] - 4s 91ms/step - loss: 0.3314 - accuracy: 0.8674 - val_loss: 0.2140 - val_accuracy: 0.9296\n",
            "Epoch 12/75\n",
            "43/43 [==============================] - 5s 111ms/step - loss: 0.2712 - accuracy: 0.8984 - val_loss: 0.3077 - val_accuracy: 0.8856\n",
            "Epoch 13/75\n",
            "43/43 [==============================] - 5s 109ms/step - loss: 0.2860 - accuracy: 0.8945 - val_loss: 0.2350 - val_accuracy: 0.9267\n",
            "Epoch 14/75\n",
            "43/43 [==============================] - 4s 93ms/step - loss: 0.2607 - accuracy: 0.9072 - val_loss: 0.2820 - val_accuracy: 0.8856\n",
            "Epoch 15/75\n",
            "43/43 [==============================] - 4s 101ms/step - loss: 0.3868 - accuracy: 0.8565 - val_loss: 0.4529 - val_accuracy: 0.7537\n",
            "Epoch 16/75\n",
            "43/43 [==============================] - 4s 93ms/step - loss: 0.3326 - accuracy: 0.8560 - val_loss: 0.2132 - val_accuracy: 0.9267\n",
            "Epoch 17/75\n",
            "43/43 [==============================] - 4s 94ms/step - loss: 0.2231 - accuracy: 0.9188 - val_loss: 0.2739 - val_accuracy: 0.9062\n",
            "Epoch 18/75\n",
            "43/43 [==============================] - 4s 85ms/step - loss: 0.3454 - accuracy: 0.8760 - val_loss: 0.2890 - val_accuracy: 0.8827\n",
            "Epoch 19/75\n",
            "43/43 [==============================] - 4s 95ms/step - loss: 0.3428 - accuracy: 0.8707 - val_loss: 0.2381 - val_accuracy: 0.9091\n",
            "Epoch 20/75\n",
            "43/43 [==============================] - 4s 88ms/step - loss: 0.2794 - accuracy: 0.8947 - val_loss: 0.2903 - val_accuracy: 0.8827\n",
            "Epoch 21/75\n",
            "43/43 [==============================] - 4s 98ms/step - loss: 0.2597 - accuracy: 0.8992 - val_loss: 0.2895 - val_accuracy: 0.8856\n",
            "Epoch 22/75\n",
            "43/43 [==============================] - 4s 91ms/step - loss: 0.3185 - accuracy: 0.8843 - val_loss: 0.2431 - val_accuracy: 0.9296\n",
            "Epoch 23/75\n",
            "43/43 [==============================] - 4s 91ms/step - loss: 0.2641 - accuracy: 0.9070 - val_loss: 0.1786 - val_accuracy: 0.9326\n",
            "Epoch 24/75\n",
            "43/43 [==============================] - 4s 90ms/step - loss: 0.2688 - accuracy: 0.8869 - val_loss: 0.1953 - val_accuracy: 0.9355\n",
            "Epoch 25/75\n",
            "43/43 [==============================] - 4s 92ms/step - loss: 0.2294 - accuracy: 0.9202 - val_loss: 0.1802 - val_accuracy: 0.9384\n",
            "Epoch 26/75\n",
            "43/43 [==============================] - 4s 86ms/step - loss: 0.3154 - accuracy: 0.8754 - val_loss: 0.3484 - val_accuracy: 0.8416\n",
            "Epoch 27/75\n",
            "43/43 [==============================] - 4s 86ms/step - loss: 0.2823 - accuracy: 0.8856 - val_loss: 0.2069 - val_accuracy: 0.9150\n",
            "Epoch 28/75\n",
            "43/43 [==============================] - 4s 84ms/step - loss: 0.3162 - accuracy: 0.8798 - val_loss: 0.2798 - val_accuracy: 0.9003\n",
            "Epoch 29/75\n",
            "43/43 [==============================] - 4s 84ms/step - loss: 0.2454 - accuracy: 0.9036 - val_loss: 0.1978 - val_accuracy: 0.9326\n",
            "Epoch 30/75\n",
            "43/43 [==============================] - 4s 91ms/step - loss: 0.2195 - accuracy: 0.9145 - val_loss: 0.1894 - val_accuracy: 0.9208\n",
            "Epoch 31/75\n",
            "43/43 [==============================] - 5s 108ms/step - loss: 0.2240 - accuracy: 0.9095 - val_loss: 0.1795 - val_accuracy: 0.9296\n",
            "Epoch 32/75\n",
            "43/43 [==============================] - 4s 85ms/step - loss: 0.2227 - accuracy: 0.9111 - val_loss: 0.1972 - val_accuracy: 0.9150\n",
            "Epoch 33/75\n",
            "43/43 [==============================] - 4s 85ms/step - loss: 0.2324 - accuracy: 0.9114 - val_loss: 0.1898 - val_accuracy: 0.9238\n",
            "Epoch 34/75\n",
            "43/43 [==============================] - 4s 96ms/step - loss: 0.2004 - accuracy: 0.9214 - val_loss: 0.2129 - val_accuracy: 0.9150\n",
            "Epoch 35/75\n",
            "43/43 [==============================] - 4s 97ms/step - loss: 0.2438 - accuracy: 0.9054 - val_loss: 0.1929 - val_accuracy: 0.9296\n",
            "Epoch 36/75\n",
            "43/43 [==============================] - 4s 91ms/step - loss: 0.2413 - accuracy: 0.9104 - val_loss: 0.1872 - val_accuracy: 0.9296\n",
            "Epoch 37/75\n",
            "43/43 [==============================] - 4s 102ms/step - loss: 0.2319 - accuracy: 0.9071 - val_loss: 0.2376 - val_accuracy: 0.9091\n",
            "Epoch 38/75\n",
            "43/43 [==============================] - 4s 95ms/step - loss: 0.2144 - accuracy: 0.9141 - val_loss: 0.2215 - val_accuracy: 0.9355\n",
            "Epoch 39/75\n",
            "43/43 [==============================] - 5s 111ms/step - loss: 0.2326 - accuracy: 0.9212 - val_loss: 0.1905 - val_accuracy: 0.9355\n",
            "Epoch 40/75\n",
            "43/43 [==============================] - 4s 88ms/step - loss: 0.2126 - accuracy: 0.9169 - val_loss: 0.1882 - val_accuracy: 0.9179\n",
            "Epoch 41/75\n",
            "43/43 [==============================] - 4s 86ms/step - loss: 0.2056 - accuracy: 0.9126 - val_loss: 0.2088 - val_accuracy: 0.9208\n",
            "Epoch 42/75\n",
            "43/43 [==============================] - 4s 85ms/step - loss: 0.1888 - accuracy: 0.9150 - val_loss: 0.2032 - val_accuracy: 0.9355\n",
            "Epoch 43/75\n",
            "43/43 [==============================] - 4s 85ms/step - loss: 0.2990 - accuracy: 0.8914 - val_loss: 0.2362 - val_accuracy: 0.9208\n",
            "Epoch 44/75\n",
            "43/43 [==============================] - 4s 98ms/step - loss: 0.3083 - accuracy: 0.8764 - val_loss: 0.1994 - val_accuracy: 0.9238\n",
            "Epoch 45/75\n",
            "43/43 [==============================] - 4s 97ms/step - loss: 0.2490 - accuracy: 0.9126 - val_loss: 0.2041 - val_accuracy: 0.9238\n",
            "Epoch 46/75\n",
            "43/43 [==============================] - 4s 87ms/step - loss: 0.2217 - accuracy: 0.9087 - val_loss: 0.2321 - val_accuracy: 0.8886\n",
            "Epoch 47/75\n",
            "43/43 [==============================] - 4s 98ms/step - loss: 0.2040 - accuracy: 0.9133 - val_loss: 0.1216 - val_accuracy: 0.9501\n",
            "Epoch 48/75\n",
            "43/43 [==============================] - 4s 86ms/step - loss: 0.1810 - accuracy: 0.9446 - val_loss: 0.1736 - val_accuracy: 0.9472\n",
            "Epoch 49/75\n",
            "43/43 [==============================] - 4s 104ms/step - loss: 0.2106 - accuracy: 0.9212 - val_loss: 0.3377 - val_accuracy: 0.9150\n",
            "Epoch 50/75\n",
            "43/43 [==============================] - 4s 92ms/step - loss: 0.3235 - accuracy: 0.8954 - val_loss: 0.1691 - val_accuracy: 0.9296\n",
            "Epoch 51/75\n",
            "43/43 [==============================] - 5s 112ms/step - loss: 0.1562 - accuracy: 0.9421 - val_loss: 0.1463 - val_accuracy: 0.9355\n",
            "Epoch 52/75\n",
            "43/43 [==============================] - 4s 86ms/step - loss: 0.1469 - accuracy: 0.9398 - val_loss: 0.5240 - val_accuracy: 0.8270\n",
            "Epoch 53/75\n",
            "43/43 [==============================] - 4s 104ms/step - loss: 0.3299 - accuracy: 0.8697 - val_loss: 0.2844 - val_accuracy: 0.8710\n",
            "Epoch 54/75\n",
            "43/43 [==============================] - 4s 86ms/step - loss: 0.2184 - accuracy: 0.9122 - val_loss: 0.1300 - val_accuracy: 0.9619\n",
            "Epoch 55/75\n",
            "43/43 [==============================] - 4s 84ms/step - loss: 0.1551 - accuracy: 0.9406 - val_loss: 0.1583 - val_accuracy: 0.9355\n",
            "Epoch 56/75\n",
            "43/43 [==============================] - 4s 85ms/step - loss: 0.1955 - accuracy: 0.9318 - val_loss: 0.1036 - val_accuracy: 0.9619\n",
            "Epoch 57/75\n",
            "43/43 [==============================] - 4s 98ms/step - loss: 0.1405 - accuracy: 0.9624 - val_loss: 0.1179 - val_accuracy: 0.9413\n",
            "Epoch 58/75\n",
            "43/43 [==============================] - 4s 85ms/step - loss: 0.1135 - accuracy: 0.9585 - val_loss: 0.2072 - val_accuracy: 0.9296\n",
            "Epoch 59/75\n",
            "43/43 [==============================] - 4s 85ms/step - loss: 0.1572 - accuracy: 0.9342 - val_loss: 0.1079 - val_accuracy: 0.9707\n",
            "Epoch 60/75\n",
            "43/43 [==============================] - 4s 86ms/step - loss: 0.1003 - accuracy: 0.9676 - val_loss: 0.1443 - val_accuracy: 0.9384\n",
            "Epoch 61/75\n",
            "43/43 [==============================] - 4s 105ms/step - loss: 0.1537 - accuracy: 0.9356 - val_loss: 0.2317 - val_accuracy: 0.9326\n",
            "Epoch 62/75\n",
            "43/43 [==============================] - 4s 97ms/step - loss: 0.1753 - accuracy: 0.9555 - val_loss: 0.0899 - val_accuracy: 0.9707\n",
            "Epoch 63/75\n",
            "43/43 [==============================] - 4s 92ms/step - loss: 0.1313 - accuracy: 0.9509 - val_loss: 0.1826 - val_accuracy: 0.9208\n",
            "Epoch 64/75\n",
            "43/43 [==============================] - 4s 99ms/step - loss: 0.1493 - accuracy: 0.9421 - val_loss: 0.1313 - val_accuracy: 0.9472\n",
            "Epoch 65/75\n",
            "43/43 [==============================] - 4s 94ms/step - loss: 0.1039 - accuracy: 0.9559 - val_loss: 0.1123 - val_accuracy: 0.9501\n",
            "Epoch 66/75\n",
            "43/43 [==============================] - 4s 90ms/step - loss: 0.1165 - accuracy: 0.9546 - val_loss: 0.4927 - val_accuracy: 0.8387\n",
            "Epoch 67/75\n",
            "43/43 [==============================] - 4s 102ms/step - loss: 0.1712 - accuracy: 0.9348 - val_loss: 0.0845 - val_accuracy: 0.9648\n",
            "Epoch 68/75\n",
            "43/43 [==============================] - 4s 97ms/step - loss: 0.0935 - accuracy: 0.9709 - val_loss: 0.0984 - val_accuracy: 0.9589\n",
            "Epoch 69/75\n",
            "43/43 [==============================] - 4s 85ms/step - loss: 0.1271 - accuracy: 0.9512 - val_loss: 0.0936 - val_accuracy: 0.9619\n",
            "Epoch 70/75\n",
            "43/43 [==============================] - 4s 88ms/step - loss: 0.1230 - accuracy: 0.9561 - val_loss: 0.1160 - val_accuracy: 0.9560\n",
            "Epoch 71/75\n",
            "43/43 [==============================] - 4s 94ms/step - loss: 0.2001 - accuracy: 0.9154 - val_loss: 0.1336 - val_accuracy: 0.9619\n",
            "Epoch 72/75\n",
            "43/43 [==============================] - 4s 87ms/step - loss: 0.1220 - accuracy: 0.9479 - val_loss: 0.0848 - val_accuracy: 0.9677\n",
            "Epoch 73/75\n",
            "43/43 [==============================] - 4s 90ms/step - loss: 0.1095 - accuracy: 0.9592 - val_loss: 0.1578 - val_accuracy: 0.9150\n",
            "Epoch 74/75\n",
            "43/43 [==============================] - 4s 91ms/step - loss: 0.1182 - accuracy: 0.9534 - val_loss: 0.1230 - val_accuracy: 0.9589\n",
            "Epoch 75/75\n",
            "43/43 [==============================] - 4s 85ms/step - loss: 0.1186 - accuracy: 0.9621 - val_loss: 0.1664 - val_accuracy: 0.9413\n"
          ],
          "name": "stdout"
        }
      ]
    },
    {
      "cell_type": "code",
      "metadata": {
        "id": "vhwajgGzpvrD",
        "colab": {
          "base_uri": "https://localhost:8080/"
        },
        "outputId": "78960aae-0596-4c15-83b6-f3cc354d90e7"
      },
      "source": [
        "history.history"
      ],
      "execution_count": 140,
      "outputs": [
        {
          "output_type": "execute_result",
          "data": {
            "text/plain": [
              "{'accuracy': [0.5681818127632141,\n",
              "  0.78665691614151,\n",
              "  0.8115835785865784,\n",
              "  0.8416422009468079,\n",
              "  0.8702346086502075,\n",
              "  0.8350439667701721,\n",
              "  0.8973606824874878,\n",
              "  0.8651026487350464,\n",
              "  0.8563050031661987,\n",
              "  0.876099705696106,\n",
              "  0.8804985284805298,\n",
              "  0.8768328428268433,\n",
              "  0.8995600938796997,\n",
              "  0.9054251909255981,\n",
              "  0.8460410833358765,\n",
              "  0.8936949968338013,\n",
              "  0.9134897589683533,\n",
              "  0.8804985284805298,\n",
              "  0.8731671571731567,\n",
              "  0.8848973512649536,\n",
              "  0.9032257795333862,\n",
              "  0.8951612710952759,\n",
              "  0.8988269567489624,\n",
              "  0.8958944082260132,\n",
              "  0.910557210445404,\n",
              "  0.8782991170883179,\n",
              "  0.9017595052719116,\n",
              "  0.8856304883956909,\n",
              "  0.9024926424026489,\n",
              "  0.9134897589683533,\n",
              "  0.9134897589683533,\n",
              "  0.9076246619224548,\n",
              "  0.9164223074913025,\n",
              "  0.9142228960990906,\n",
              "  0.9032257795333862,\n",
              "  0.912756621837616,\n",
              "  0.9083577990531921,\n",
              "  0.9149560332298279,\n",
              "  0.9090909361839294,\n",
              "  0.9178885817527771,\n",
              "  0.9193548560142517,\n",
              "  0.9215542674064636,\n",
              "  0.8892961740493774,\n",
              "  0.8885630369186401,\n",
              "  0.9046920537948608,\n",
              "  0.9178885817527771,\n",
              "  0.9274193644523621,\n",
              "  0.9376832842826843,\n",
              "  0.910557210445404,\n",
              "  0.9171554446220398,\n",
              "  0.9450146555900574,\n",
              "  0.9435483813285828,\n",
              "  0.8797653913497925,\n",
              "  0.9259530901908875,\n",
              "  0.9149560332298279,\n",
              "  0.9288856387138367,\n",
              "  0.9596773982048035,\n",
              "  0.9472140669822693,\n",
              "  0.9472140669822693,\n",
              "  0.9516128897666931,\n",
              "  0.946480929851532,\n",
              "  0.9560117125511169,\n",
              "  0.9552785754203796,\n",
              "  0.9508797526359558,\n",
              "  0.9574779868125916,\n",
              "  0.9582111239433289,\n",
              "  0.9486803412437439,\n",
              "  0.9567448496818542,\n",
              "  0.9582111239433289,\n",
              "  0.9318181872367859,\n",
              "  0.9237536787986755,\n",
              "  0.9574779868125916,\n",
              "  0.9508797526359558,\n",
              "  0.9582111239433289,\n",
              "  0.9523460268974304],\n",
              " 'loss': [1.1474980115890503,\n",
              "  0.5519604086875916,\n",
              "  0.47827470302581787,\n",
              "  0.4179378151893616,\n",
              "  0.3550878167152405,\n",
              "  0.399233341217041,\n",
              "  0.2891581356525421,\n",
              "  0.36661913990974426,\n",
              "  0.3656535744667053,\n",
              "  0.32820314168930054,\n",
              "  0.3173392117023468,\n",
              "  0.30863526463508606,\n",
              "  0.27906033396720886,\n",
              "  0.26262763142585754,\n",
              "  0.3928505778312683,\n",
              "  0.2746317982673645,\n",
              "  0.2374887317419052,\n",
              "  0.31840911507606506,\n",
              "  0.3326851427555084,\n",
              "  0.2982114851474762,\n",
              "  0.2531396746635437,\n",
              "  0.28077271580696106,\n",
              "  0.2794898450374603,\n",
              "  0.270184725522995,\n",
              "  0.23607288300991058,\n",
              "  0.32405605912208557,\n",
              "  0.2578763961791992,\n",
              "  0.3011891543865204,\n",
              "  0.2545509338378906,\n",
              "  0.21456900238990784,\n",
              "  0.2132073938846588,\n",
              "  0.2281268835067749,\n",
              "  0.22138084471225739,\n",
              "  0.22361509501934052,\n",
              "  0.24432338774204254,\n",
              "  0.22903314232826233,\n",
              "  0.21637184917926788,\n",
              "  0.2236110419034958,\n",
              "  0.24425408244132996,\n",
              "  0.2098034769296646,\n",
              "  0.19318649172782898,\n",
              "  0.1860804557800293,\n",
              "  0.28913551568984985,\n",
              "  0.2686452269554138,\n",
              "  0.2558850049972534,\n",
              "  0.19501499831676483,\n",
              "  0.17969590425491333,\n",
              "  0.19973576068878174,\n",
              "  0.24501916766166687,\n",
              "  0.2318916618824005,\n",
              "  0.14228735864162445,\n",
              "  0.1497391015291214,\n",
              "  0.28369298577308655,\n",
              "  0.18358522653579712,\n",
              "  0.21187476813793182,\n",
              "  0.20554830133914948,\n",
              "  0.1352580040693283,\n",
              "  0.1371753215789795,\n",
              "  0.1356598138809204,\n",
              "  0.13241824507713318,\n",
              "  0.14021800458431244,\n",
              "  0.14561238884925842,\n",
              "  0.12097643315792084,\n",
              "  0.12980927526950836,\n",
              "  0.10356512665748596,\n",
              "  0.09987559914588928,\n",
              "  0.12725971639156342,\n",
              "  0.11954734474420547,\n",
              "  0.11357972770929337,\n",
              "  0.17482829093933105,\n",
              "  0.1780422329902649,\n",
              "  0.11066332459449768,\n",
              "  0.13265849649906158,\n",
              "  0.1123867779970169,\n",
              "  0.1526722013950348],\n",
              " 'val_accuracy': [0.8475073575973511,\n",
              "  0.6598240733146667,\n",
              "  0.7800586223602295,\n",
              "  0.8563050031661987,\n",
              "  0.8181818127632141,\n",
              "  0.9354838728904724,\n",
              "  0.8797653913497925,\n",
              "  0.8797653913497925,\n",
              "  0.8709677457809448,\n",
              "  0.9266862273216248,\n",
              "  0.929618775844574,\n",
              "  0.8856304883956909,\n",
              "  0.9266862273216248,\n",
              "  0.8856304883956909,\n",
              "  0.7536656856536865,\n",
              "  0.9266862273216248,\n",
              "  0.9061583280563354,\n",
              "  0.8826979398727417,\n",
              "  0.9090909361839294,\n",
              "  0.8826979398727417,\n",
              "  0.8856304883956909,\n",
              "  0.929618775844574,\n",
              "  0.9325513243675232,\n",
              "  0.9354838728904724,\n",
              "  0.9384164214134216,\n",
              "  0.8416422009468079,\n",
              "  0.9149560332298279,\n",
              "  0.900293231010437,\n",
              "  0.9325513243675232,\n",
              "  0.9208211302757263,\n",
              "  0.929618775844574,\n",
              "  0.9149560332298279,\n",
              "  0.9237536787986755,\n",
              "  0.9149560332298279,\n",
              "  0.929618775844574,\n",
              "  0.929618775844574,\n",
              "  0.9090909361839294,\n",
              "  0.9354838728904724,\n",
              "  0.9354838728904724,\n",
              "  0.9178885817527771,\n",
              "  0.9208211302757263,\n",
              "  0.9354838728904724,\n",
              "  0.9208211302757263,\n",
              "  0.9237536787986755,\n",
              "  0.9237536787986755,\n",
              "  0.8885630369186401,\n",
              "  0.9501466155052185,\n",
              "  0.9472140669822693,\n",
              "  0.9149560332298279,\n",
              "  0.929618775844574,\n",
              "  0.9354838728904724,\n",
              "  0.8269794583320618,\n",
              "  0.8709677457809448,\n",
              "  0.9618768095970154,\n",
              "  0.9354838728904724,\n",
              "  0.9618768095970154,\n",
              "  0.9413489699363708,\n",
              "  0.929618775844574,\n",
              "  0.9706745147705078,\n",
              "  0.9384164214134216,\n",
              "  0.9325513243675232,\n",
              "  0.9706745147705078,\n",
              "  0.9208211302757263,\n",
              "  0.9472140669822693,\n",
              "  0.9501466155052185,\n",
              "  0.8387096524238586,\n",
              "  0.9648093581199646,\n",
              "  0.9589442610740662,\n",
              "  0.9618768095970154,\n",
              "  0.9560117125511169,\n",
              "  0.9618768095970154,\n",
              "  0.9677419066429138,\n",
              "  0.9149560332298279,\n",
              "  0.9589442610740662,\n",
              "  0.9413489699363708],\n",
              " 'val_loss': [0.49305710196495056,\n",
              "  0.6336424946784973,\n",
              "  0.5430029630661011,\n",
              "  0.43018996715545654,\n",
              "  0.35999706387519836,\n",
              "  0.2537520229816437,\n",
              "  0.3497679829597473,\n",
              "  0.2935618758201599,\n",
              "  0.2956533432006836,\n",
              "  0.25470566749572754,\n",
              "  0.21400031447410583,\n",
              "  0.3076976537704468,\n",
              "  0.23501911759376526,\n",
              "  0.28203538060188293,\n",
              "  0.45293062925338745,\n",
              "  0.21317018568515778,\n",
              "  0.27388930320739746,\n",
              "  0.28898441791534424,\n",
              "  0.2380876988172531,\n",
              "  0.2903337776660919,\n",
              "  0.2895197570323944,\n",
              "  0.24310752749443054,\n",
              "  0.1785719245672226,\n",
              "  0.19528061151504517,\n",
              "  0.1802123785018921,\n",
              "  0.34843909740448,\n",
              "  0.20693281292915344,\n",
              "  0.2797844111919403,\n",
              "  0.19775301218032837,\n",
              "  0.1894424706697464,\n",
              "  0.17945441603660583,\n",
              "  0.19716452062129974,\n",
              "  0.18978935480117798,\n",
              "  0.21290792524814606,\n",
              "  0.19292470812797546,\n",
              "  0.18715637922286987,\n",
              "  0.2376386523246765,\n",
              "  0.22151625156402588,\n",
              "  0.1905408799648285,\n",
              "  0.1881742924451828,\n",
              "  0.20882648229599,\n",
              "  0.2032468169927597,\n",
              "  0.23622864484786987,\n",
              "  0.19942283630371094,\n",
              "  0.20406106114387512,\n",
              "  0.23205237090587616,\n",
              "  0.12161418050527573,\n",
              "  0.17357522249221802,\n",
              "  0.33769023418426514,\n",
              "  0.16912730038166046,\n",
              "  0.146318718791008,\n",
              "  0.5239527821540833,\n",
              "  0.28437772393226624,\n",
              "  0.1299801915884018,\n",
              "  0.15828531980514526,\n",
              "  0.10358954966068268,\n",
              "  0.1178518757224083,\n",
              "  0.2071828544139862,\n",
              "  0.10785472393035889,\n",
              "  0.14426244795322418,\n",
              "  0.23172816634178162,\n",
              "  0.08987461030483246,\n",
              "  0.18257062137126923,\n",
              "  0.1312856525182724,\n",
              "  0.11230824142694473,\n",
              "  0.4926855266094208,\n",
              "  0.08449819684028625,\n",
              "  0.09839162230491638,\n",
              "  0.0936090499162674,\n",
              "  0.11596759408712387,\n",
              "  0.13356588780879974,\n",
              "  0.08483999967575073,\n",
              "  0.15781131386756897,\n",
              "  0.12295885384082794,\n",
              "  0.1663931906223297]}"
            ]
          },
          "metadata": {
            "tags": []
          },
          "execution_count": 140
        }
      ]
    },
    {
      "cell_type": "code",
      "metadata": {
        "colab": {
          "base_uri": "https://localhost:8080/"
        },
        "id": "Kyn1dHRRJ5Wn",
        "outputId": "31c4e05e-dd16-4200-cf98-c80f622b8e16"
      },
      "source": [
        "print(\"--- %s seconds ---\" % (time.time() - start_time))\n"
      ],
      "execution_count": 141,
      "outputs": [
        {
          "output_type": "stream",
          "text": [
            "--- 299.6060600280762 seconds ---\n"
          ],
          "name": "stdout"
        }
      ]
    },
    {
      "cell_type": "code",
      "metadata": {
        "id": "rOU0i1e6jhr3"
      },
      "source": [
        "x_test = X_test #returns a numpy array\n",
        "min_max_scaler = preprocessing.MinMaxScaler()\n",
        "x_scaled_test = min_max_scaler.fit_transform(x_test)\n",
        "df_test = pd.DataFrame(x_scaled_test)"
      ],
      "execution_count": 142,
      "outputs": []
    },
    {
      "cell_type": "code",
      "metadata": {
        "id": "OgeGekJ8lW6S"
      },
      "source": [
        "predictions = model.predict(x=df_test, batch_size=32)"
      ],
      "execution_count": 143,
      "outputs": []
    },
    {
      "cell_type": "code",
      "metadata": {
        "id": "1o6zqIsfl2QX"
      },
      "source": [
        "rounded_predictions = np.argmax(predictions, axis=-1)"
      ],
      "execution_count": 144,
      "outputs": []
    },
    {
      "cell_type": "code",
      "metadata": {
        "id": "NQTy4F7TmotU"
      },
      "source": [
        "cm = confusion_matrix(y_true=y_test, y_pred=rounded_predictions)"
      ],
      "execution_count": 145,
      "outputs": []
    },
    {
      "cell_type": "code",
      "metadata": {
        "colab": {
          "base_uri": "https://localhost:8080/",
          "height": 922
        },
        "id": "rieDywHXuA6R",
        "outputId": "cb1e5957-d4b0-49dc-fdc3-4f5756a0779f"
      },
      "source": [
        "label_mapping = {'NEGATIVE': 0, 'NEUTRAL': 1, 'POSITIVE': 2}\n",
        "# for diff dataset\n",
        "# label_mapping = {'NEGATIVE': 0, 'POSITIVE': 1}\n",
        "plt.figure(figsize=(8, 8))\n",
        "sns.heatmap(cm, annot=True, vmin=0, fmt='g', cbar=False, cmap='Blues')\n",
        "clr = classification_report(y_test, rounded_predictions, target_names=label_mapping.keys())\n",
        "plt.xticks(np.arange(3) + 0.5, label_mapping.keys())\n",
        "plt.yticks(np.arange(3) + 0.5, label_mapping.keys())\n",
        "plt.xlabel(\"Predicted\")\n",
        "plt.ylabel(\"Actual\")\n",
        "plt.title(\"Confusion Matrix\")\n",
        "plt.show()\n",
        "\n",
        "print(\"Classification Report:\\n----------------------\\n\", clr)\n",
        "\n"
      ],
      "execution_count": 146,
      "outputs": [
        {
          "output_type": "display_data",
          "data": {
            "image/png": "[encoded data removed]",
            "text/plain": [
              "<Figure size 800x800 with 1 Axes>"
            ]
          },
          "metadata": {
            "tags": []
          }
        },
        {
          "output_type": "stream",
          "text": [
            "Classification Report:\n",
            "----------------------\n",
            "               precision    recall  f1-score   support\n",
            "\n",
            "    NEGATIVE       0.91      0.99      0.95       137\n",
            "     NEUTRAL       0.67      0.91      0.77       147\n",
            "    POSITIVE       1.00      0.55      0.71       143\n",
            "\n",
            "    accuracy                           0.81       427\n",
            "   macro avg       0.86      0.81      0.81       427\n",
            "weighted avg       0.86      0.81      0.81       427\n",
            "\n"
          ],
          "name": "stdout"
        }
      ]
    },
    {
      "cell_type": "code",
      "metadata": {
        "id": "s5wbr_oav-Kb"
      },
      "source": [
        "# https://stackoverflow.com/questions/26413185/how-to-recover-matplotlib-defaults-after-setting-stylesheet\n",
        "import matplotlib as mpl\n",
        "mpl.rcParams.update(mpl.rcParamsDefault)"
      ],
      "execution_count": 147,
      "outputs": []
    },
    {
      "cell_type": "code",
      "metadata": {
        "id": "73HZGymlybP2"
      },
      "source": [
        "training_acc = history.history['accuracy']\n",
        "validation_acc = history.history['val_accuracy']\n",
        "training_loss  = history.history['loss']\n",
        "validation_loss = history.history['val_loss']"
      ],
      "execution_count": 148,
      "outputs": []
    },
    {
      "cell_type": "code",
      "metadata": {
        "colab": {
          "base_uri": "https://localhost:8080/",
          "height": 472
        },
        "id": "1jgMVKMDyxck",
        "outputId": "af8a17af-5f93-45b0-baf5-03a6685ca40e"
      },
      "source": [
        "epochs = history.epoch\n",
        "plt.plot(epochs, training_acc, color = '#17e6e6', label='Training Accuracy')\n",
        "plt.plot(epochs, validation_acc,color = '#e61771', label='Validation Accuracy')\n",
        "plt.title('Accuracy vs Epochs')\n",
        "plt.xlabel('Epochs')\n",
        "plt.ylabel('Accuracy')\n",
        "plt.legend()\n",
        "plt.savefig('AccuracyVsEpochs.png')\n",
        "plt.show()"
      ],
      "execution_count": 149,
      "outputs": [
        {
          "output_type": "display_data",
          "data": {
            "image/png": "[encoded data removed]",
            "text/plain": [
              "<Figure size 640x480 with 1 Axes>"
            ]
          },
          "metadata": {
            "tags": []
          }
        }
      ]
    }
  ]
}