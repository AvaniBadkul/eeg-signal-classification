{
  "nbformat": 4,
  "nbformat_minor": 0,
  "metadata": {
    "colab": {
      "name": "EEGSignalClassification.ipynb",
      "provenance": [],
      "collapsed_sections": []
    },
    "kernelspec": {
      "name": "python3",
      "display_name": "Python 3"
    },
    "language_info": {
      "name": "python"
    }
  },
  "cells": [
    {
      "cell_type": "code",
      "metadata": {
        "id": "iuNWUJKJLY9T"
      },
      "source": [
        "%reset -f "
      ],
      "execution_count": 370,
      "outputs": []
    },
    {
      "cell_type": "code",
      "metadata": {
        "id": "yj4HfL7EcNRq"
      },
      "source": [
        "# libraries used\n",
        "#  https://stats.stackexchange.com/questions/181/how-to-choose-the-number-of-hidden-layers-and-nodes-in-a-feedforward-neural-netw\n",
        "import numpy as np\n",
        "import pandas as pd\n",
        "import seaborn as sns \n",
        "import matplotlib.pyplot as plt\n",
        "from sklearn.model_selection import train_test_split\n",
        "from sklearn.metrics import confusion_matrix, classification_report\n",
        "from sklearn import preprocessing\n",
        "import tensorflow as tf\n",
        "from tensorflow.keras import datasets, layers, models\n",
        "import keras \n",
        "from keras.models import Sequential\n",
        "from keras.layers import Dense, Dropout\n",
        "import itertools"
      ],
      "execution_count": 371,
      "outputs": []
    },
    {
      "cell_type": "code",
      "metadata": {
        "colab": {
          "base_uri": "https://localhost:8080/"
        },
        "id": "WYIp8Qr9ck8Z",
        "outputId": "bb9fc944-3149-4932-9ce3-2f32e75ae2be"
      },
      "source": [
        "emotions = pd.read_csv(\"drive/MyDrive/EEG/emotions.csv\")\n",
        "emotions.replace(['NEGATIVE', 'POSITIVE', 'NEUTRAL'], [2, 1, 0], inplace=True)\n",
        "emotions['label'].unique()"
      ],
      "execution_count": 372,
      "outputs": [
        {
          "output_type": "execute_result",
          "data": {
            "text/plain": [
              "array([2, 0, 1])"
            ]
          },
          "metadata": {
            "tags": []
          },
          "execution_count": 372
        }
      ]
    },
    {
      "cell_type": "code",
      "metadata": {
        "id": "PvT5tTotcoS3"
      },
      "source": [
        "X = emotions.drop('label', axis=1).copy()\n",
        "y = (emotions['label'].copy())"
      ],
      "execution_count": 373,
      "outputs": []
    },
    {
      "cell_type": "code",
      "metadata": {
        "id": "GUZOuZK7crNV"
      },
      "source": [
        "# Splitting data into training and testing as 80-20 \n",
        "X_train, X_test, y_train, y_test = train_test_split(X, y, test_size=0.2, random_state=1)\n",
        "\n",
        "x = X_train #returns a numpy array\n",
        "min_max_scaler = preprocessing.MinMaxScaler()\n",
        "x_scaled = min_max_scaler.fit_transform(x)\n",
        "df = pd.DataFrame(x_scaled)"
      ],
      "execution_count": 374,
      "outputs": []
    },
    {
      "cell_type": "code",
      "metadata": {
        "id": "BhRoXS4mj6CV"
      },
      "source": [
        "#  resetting the data - https://www.tensorflow.org/api_docs/python/tf/keras/backend/clear_session\n",
        "tf.keras.backend.clear_session()"
      ],
      "execution_count": 375,
      "outputs": []
    },
    {
      "cell_type": "code",
      "metadata": {
        "colab": {
          "base_uri": "https://localhost:8080/"
        },
        "id": "k4a4vwF5cxvU",
        "outputId": "2ba4bcd1-07a4-41cb-b06b-db17a65f80b5"
      },
      "source": [
        "model = Sequential()\n",
        "model.add(Dense((2*X_train.shape[1]/3), input_dim=X_train.shape[1], activation='relu'))\n",
        "model.add(Dense((2*X_train.shape[1]/3), activation='relu'))\n",
        "model.add(Dense((1*X_train.shape[1]/3), activation='relu'))\n",
        "model.add(Dense((1*X_train.shape[1]/3), activation='relu'))\n",
        "model.add(Dense(3, activation='softmax'))\n",
        "#model.compile(loss='categorical_crossentropy', optimizer='adam', metrics=['accuracy'])\n",
        "print(model.summary())\n",
        "\n",
        "\n",
        "\n"
      ],
      "execution_count": 376,
      "outputs": [
        {
          "output_type": "stream",
          "text": [
            "Model: \"sequential\"\n",
            "_________________________________________________________________\n",
            "Layer (type)                 Output Shape              Param #   \n",
            "=================================================================\n",
            "dense (Dense)                (None, 1698)              4328202   \n",
            "_________________________________________________________________\n",
            "dense_1 (Dense)              (None, 1698)              2884902   \n",
            "_________________________________________________________________\n",
            "dense_2 (Dense)              (None, 849)               1442451   \n",
            "_________________________________________________________________\n",
            "dense_3 (Dense)              (None, 849)               721650    \n",
            "_________________________________________________________________\n",
            "dense_4 (Dense)              (None, 3)                 2550      \n",
            "=================================================================\n",
            "Total params: 9,379,755\n",
            "Trainable params: 9,379,755\n",
            "Non-trainable params: 0\n",
            "_________________________________________________________________\n",
            "None\n"
          ],
          "name": "stdout"
        }
      ]
    },
    {
      "cell_type": "code",
      "metadata": {
        "id": "A2Q9BOrneeUM"
      },
      "source": [
        "# for categorical entropy\n",
        "# https://stackoverflow.com/questions/63211181/error-while-using-categorical-crossentropy\n",
        "from tensorflow.keras.utils import to_categorical\n",
        "Y_one_hot=to_categorical(y_train) # convert Y into an one-hot vector"
      ],
      "execution_count": 377,
      "outputs": []
    },
    {
      "cell_type": "code",
      "metadata": {
        "id": "NEs5ddrJeBeG"
      },
      "source": [
        "# https://stackoverflow.com/questions/59737875/keras-change-learning-rate\n",
        "#optimizer = tf.keras.optimizers.Adam(0.001)\n",
        "#optimizer.learning_rate.assign(0.01)\n",
        "\n",
        "# opt = keras.optimizers.Adadelta(learning_rate=0.01)\n",
        "\n",
        "# model.compile(\n",
        "#    optimizer=opt,\n",
        "#    loss='categorical_crossentropy',\n",
        "#    metrics=['accuracy']\n",
        "#)\n",
        "\n",
        "# to be run for categorical cross entropy\n",
        "model.compile(loss='categorical_crossentropy', optimizer=tf.keras.optimizers.Adam(learning_rate=0.001), metrics=['accuracy'])\n"
      ],
      "execution_count": 378,
      "outputs": []
    },
    {
      "cell_type": "code",
      "metadata": {
        "id": "ASdP3qvxes8r",
        "colab": {
          "base_uri": "https://localhost:8080/"
        },
        "outputId": "3b53a2a0-63aa-4d65-aaa0-6b12768cf910"
      },
      "source": [
        "# make sure that the input data is shuffled before hand so that the model doesn't notice patterns and generalizes well\n",
        "# change y_train to y_hot_encoded when using categorical cross entorpy\n",
        "import time\n",
        "start_time = time.time()\n",
        "#history = model.fit(\n",
        "#    df,\n",
        "#    y_train,\n",
        "#    validation_split=0.2,\n",
        "#    batch_size=32,\n",
        "#    epochs=75)\n",
        "\n",
        "\n",
        "# to be run for categorical cross entropy\n",
        "\n",
        "history = model.fit(\n",
        "    df,\n",
        "    Y_one_hot,\n",
        "    validation_split=0.2,\n",
        "    batch_size=32,\n",
        "    epochs=75)"
      ],
      "execution_count": 379,
      "outputs": [
        {
          "output_type": "stream",
          "text": [
            "Epoch 1/75\n",
            "43/43 [==============================] - 5s 96ms/step - loss: 1.6035 - accuracy: 0.4434 - val_loss: 1.0653 - val_accuracy: 0.5513\n",
            "Epoch 2/75\n",
            "43/43 [==============================] - 4s 85ms/step - loss: 0.5792 - accuracy: 0.7929 - val_loss: 0.8484 - val_accuracy: 0.6100\n",
            "Epoch 3/75\n",
            "43/43 [==============================] - 4s 85ms/step - loss: 0.5681 - accuracy: 0.7300 - val_loss: 0.7590 - val_accuracy: 0.5806\n",
            "Epoch 4/75\n",
            "43/43 [==============================] - 4s 90ms/step - loss: 0.4824 - accuracy: 0.8017 - val_loss: 0.3525 - val_accuracy: 0.8768\n",
            "Epoch 5/75\n",
            "43/43 [==============================] - 4s 85ms/step - loss: 0.3491 - accuracy: 0.8773 - val_loss: 0.4469 - val_accuracy: 0.8065\n",
            "Epoch 6/75\n",
            "43/43 [==============================] - 4s 84ms/step - loss: 0.3706 - accuracy: 0.8617 - val_loss: 0.2565 - val_accuracy: 0.9296\n",
            "Epoch 7/75\n",
            "43/43 [==============================] - 4s 85ms/step - loss: 0.3118 - accuracy: 0.8943 - val_loss: 0.2790 - val_accuracy: 0.8974\n",
            "Epoch 8/75\n",
            "43/43 [==============================] - 4s 85ms/step - loss: 0.3201 - accuracy: 0.8833 - val_loss: 0.2335 - val_accuracy: 0.9296\n",
            "Epoch 9/75\n",
            "43/43 [==============================] - 4s 84ms/step - loss: 0.2788 - accuracy: 0.9027 - val_loss: 0.2586 - val_accuracy: 0.8974\n",
            "Epoch 10/75\n",
            "43/43 [==============================] - 4s 84ms/step - loss: 0.3518 - accuracy: 0.8598 - val_loss: 0.2098 - val_accuracy: 0.9326\n",
            "Epoch 11/75\n",
            "43/43 [==============================] - 4s 85ms/step - loss: 0.2705 - accuracy: 0.9066 - val_loss: 0.4530 - val_accuracy: 0.8387\n",
            "Epoch 12/75\n",
            "43/43 [==============================] - 4s 85ms/step - loss: 0.3940 - accuracy: 0.8542 - val_loss: 0.2801 - val_accuracy: 0.8974\n",
            "Epoch 13/75\n",
            "43/43 [==============================] - 4s 85ms/step - loss: 0.3572 - accuracy: 0.8737 - val_loss: 0.2405 - val_accuracy: 0.9179\n",
            "Epoch 14/75\n",
            "43/43 [==============================] - 4s 85ms/step - loss: 0.3636 - accuracy: 0.8768 - val_loss: 0.2142 - val_accuracy: 0.9179\n",
            "Epoch 15/75\n",
            "43/43 [==============================] - 4s 85ms/step - loss: 0.2796 - accuracy: 0.8918 - val_loss: 0.2093 - val_accuracy: 0.9326\n",
            "Epoch 16/75\n",
            "43/43 [==============================] - 4s 85ms/step - loss: 0.2714 - accuracy: 0.9076 - val_loss: 0.1961 - val_accuracy: 0.9179\n",
            "Epoch 17/75\n",
            "43/43 [==============================] - 4s 85ms/step - loss: 0.2760 - accuracy: 0.8900 - val_loss: 0.2451 - val_accuracy: 0.9032\n",
            "Epoch 18/75\n",
            "43/43 [==============================] - 4s 85ms/step - loss: 0.2884 - accuracy: 0.8801 - val_loss: 0.2020 - val_accuracy: 0.9384\n",
            "Epoch 19/75\n",
            "43/43 [==============================] - 4s 85ms/step - loss: 0.2797 - accuracy: 0.8957 - val_loss: 0.1835 - val_accuracy: 0.9384\n",
            "Epoch 20/75\n",
            "43/43 [==============================] - 4s 92ms/step - loss: 0.2504 - accuracy: 0.9086 - val_loss: 0.1930 - val_accuracy: 0.9296\n",
            "Epoch 21/75\n",
            "43/43 [==============================] - 4s 85ms/step - loss: 0.2735 - accuracy: 0.9009 - val_loss: 0.2479 - val_accuracy: 0.9032\n",
            "Epoch 22/75\n",
            "43/43 [==============================] - 4s 86ms/step - loss: 0.3406 - accuracy: 0.8687 - val_loss: 0.2216 - val_accuracy: 0.9120\n",
            "Epoch 23/75\n",
            "43/43 [==============================] - 4s 91ms/step - loss: 0.2366 - accuracy: 0.9072 - val_loss: 0.1782 - val_accuracy: 0.9296\n",
            "Epoch 24/75\n",
            "43/43 [==============================] - 4s 91ms/step - loss: 0.2200 - accuracy: 0.9235 - val_loss: 0.1869 - val_accuracy: 0.9296\n",
            "Epoch 25/75\n",
            "43/43 [==============================] - 5s 111ms/step - loss: 0.2347 - accuracy: 0.9053 - val_loss: 0.1986 - val_accuracy: 0.9296\n",
            "Epoch 26/75\n",
            "43/43 [==============================] - 4s 88ms/step - loss: 0.2640 - accuracy: 0.8986 - val_loss: 0.2128 - val_accuracy: 0.9150\n",
            "Epoch 27/75\n",
            "43/43 [==============================] - 4s 87ms/step - loss: 0.2386 - accuracy: 0.9105 - val_loss: 0.2243 - val_accuracy: 0.9091\n",
            "Epoch 28/75\n",
            "43/43 [==============================] - 4s 87ms/step - loss: 0.2410 - accuracy: 0.8892 - val_loss: 0.2247 - val_accuracy: 0.9238\n",
            "Epoch 29/75\n",
            "43/43 [==============================] - 4s 88ms/step - loss: 0.2651 - accuracy: 0.8928 - val_loss: 0.1865 - val_accuracy: 0.9296\n",
            "Epoch 30/75\n",
            "43/43 [==============================] - 4s 88ms/step - loss: 0.2361 - accuracy: 0.9171 - val_loss: 0.2289 - val_accuracy: 0.9238\n",
            "Epoch 31/75\n",
            "43/43 [==============================] - 4s 85ms/step - loss: 0.2283 - accuracy: 0.9145 - val_loss: 0.1922 - val_accuracy: 0.9384\n",
            "Epoch 32/75\n",
            "43/43 [==============================] - 4s 85ms/step - loss: 0.2778 - accuracy: 0.8910 - val_loss: 0.4188 - val_accuracy: 0.8358\n",
            "Epoch 33/75\n",
            "43/43 [==============================] - 4s 86ms/step - loss: 0.3229 - accuracy: 0.8631 - val_loss: 0.2777 - val_accuracy: 0.8915\n",
            "Epoch 34/75\n",
            "43/43 [==============================] - 4s 87ms/step - loss: 0.2372 - accuracy: 0.9090 - val_loss: 0.2576 - val_accuracy: 0.8944\n",
            "Epoch 35/75\n",
            "43/43 [==============================] - 4s 87ms/step - loss: 0.2655 - accuracy: 0.8913 - val_loss: 0.1786 - val_accuracy: 0.9384\n",
            "Epoch 36/75\n",
            "43/43 [==============================] - 4s 90ms/step - loss: 0.2214 - accuracy: 0.9095 - val_loss: 0.1664 - val_accuracy: 0.9384\n",
            "Epoch 37/75\n",
            "43/43 [==============================] - 4s 88ms/step - loss: 0.3071 - accuracy: 0.8742 - val_loss: 0.2087 - val_accuracy: 0.9091\n",
            "Epoch 38/75\n",
            "43/43 [==============================] - 4s 93ms/step - loss: 0.2057 - accuracy: 0.9169 - val_loss: 0.1832 - val_accuracy: 0.9179\n",
            "Epoch 39/75\n",
            "43/43 [==============================] - 4s 86ms/step - loss: 0.1980 - accuracy: 0.9139 - val_loss: 0.2227 - val_accuracy: 0.9326\n",
            "Epoch 40/75\n",
            "43/43 [==============================] - 4s 86ms/step - loss: 0.2447 - accuracy: 0.8996 - val_loss: 0.2448 - val_accuracy: 0.9150\n",
            "Epoch 41/75\n",
            "43/43 [==============================] - 4s 92ms/step - loss: 0.1925 - accuracy: 0.9109 - val_loss: 0.2042 - val_accuracy: 0.9179\n",
            "Epoch 42/75\n",
            "43/43 [==============================] - 4s 86ms/step - loss: 0.1881 - accuracy: 0.9219 - val_loss: 0.1468 - val_accuracy: 0.9443\n",
            "Epoch 43/75\n",
            "43/43 [==============================] - 4s 86ms/step - loss: 0.2518 - accuracy: 0.8907 - val_loss: 0.2126 - val_accuracy: 0.9150\n",
            "Epoch 44/75\n",
            "43/43 [==============================] - 4s 93ms/step - loss: 0.2306 - accuracy: 0.9176 - val_loss: 0.2491 - val_accuracy: 0.8974\n",
            "Epoch 45/75\n",
            "43/43 [==============================] - 4s 85ms/step - loss: 0.2265 - accuracy: 0.9118 - val_loss: 0.2151 - val_accuracy: 0.9208\n",
            "Epoch 46/75\n",
            "43/43 [==============================] - 4s 86ms/step - loss: 0.2377 - accuracy: 0.8991 - val_loss: 0.1968 - val_accuracy: 0.9267\n",
            "Epoch 47/75\n",
            "43/43 [==============================] - 4s 88ms/step - loss: 0.3187 - accuracy: 0.8965 - val_loss: 0.2188 - val_accuracy: 0.9267\n",
            "Epoch 48/75\n",
            "43/43 [==============================] - 4s 85ms/step - loss: 0.1771 - accuracy: 0.9343 - val_loss: 0.2234 - val_accuracy: 0.9120\n",
            "Epoch 49/75\n",
            "43/43 [==============================] - 4s 86ms/step - loss: 0.2937 - accuracy: 0.8774 - val_loss: 0.1466 - val_accuracy: 0.9501\n",
            "Epoch 50/75\n",
            "43/43 [==============================] - 4s 89ms/step - loss: 0.1948 - accuracy: 0.9373 - val_loss: 0.1926 - val_accuracy: 0.9355\n",
            "Epoch 51/75\n",
            "43/43 [==============================] - 4s 89ms/step - loss: 0.2308 - accuracy: 0.9108 - val_loss: 0.1843 - val_accuracy: 0.9384\n",
            "Epoch 52/75\n",
            "43/43 [==============================] - 4s 93ms/step - loss: 0.1711 - accuracy: 0.9380 - val_loss: 0.2083 - val_accuracy: 0.9062\n",
            "Epoch 53/75\n",
            "43/43 [==============================] - 4s 88ms/step - loss: 0.2977 - accuracy: 0.8862 - val_loss: 0.2118 - val_accuracy: 0.9032\n",
            "Epoch 54/75\n",
            "43/43 [==============================] - 4s 89ms/step - loss: 0.1958 - accuracy: 0.9121 - val_loss: 0.1829 - val_accuracy: 0.9326\n",
            "Epoch 55/75\n",
            "43/43 [==============================] - 4s 91ms/step - loss: 0.1960 - accuracy: 0.9215 - val_loss: 0.2355 - val_accuracy: 0.8944\n",
            "Epoch 56/75\n",
            "43/43 [==============================] - 4s 86ms/step - loss: 0.2291 - accuracy: 0.8921 - val_loss: 0.2507 - val_accuracy: 0.8944\n",
            "Epoch 57/75\n",
            "43/43 [==============================] - 4s 92ms/step - loss: 0.2011 - accuracy: 0.9085 - val_loss: 0.1919 - val_accuracy: 0.9384\n",
            "Epoch 58/75\n",
            "43/43 [==============================] - 4s 87ms/step - loss: 0.2421 - accuracy: 0.8912 - val_loss: 0.2626 - val_accuracy: 0.8886\n",
            "Epoch 59/75\n",
            "43/43 [==============================] - 4s 86ms/step - loss: 0.2306 - accuracy: 0.9022 - val_loss: 0.1741 - val_accuracy: 0.9326\n",
            "Epoch 60/75\n",
            "43/43 [==============================] - 4s 85ms/step - loss: 0.1909 - accuracy: 0.9140 - val_loss: 0.1868 - val_accuracy: 0.9443\n",
            "Epoch 61/75\n",
            "43/43 [==============================] - 4s 93ms/step - loss: 0.1660 - accuracy: 0.9247 - val_loss: 0.1737 - val_accuracy: 0.9384\n",
            "Epoch 62/75\n",
            "43/43 [==============================] - 4s 86ms/step - loss: 0.1754 - accuracy: 0.9239 - val_loss: 0.1593 - val_accuracy: 0.9384\n",
            "Epoch 63/75\n",
            "43/43 [==============================] - 4s 89ms/step - loss: 0.1457 - accuracy: 0.9555 - val_loss: 0.1975 - val_accuracy: 0.9179\n",
            "Epoch 64/75\n",
            "43/43 [==============================] - 4s 89ms/step - loss: 0.1307 - accuracy: 0.9440 - val_loss: 0.1828 - val_accuracy: 0.9179\n",
            "Epoch 65/75\n",
            "43/43 [==============================] - 4s 86ms/step - loss: 0.1264 - accuracy: 0.9524 - val_loss: 0.2351 - val_accuracy: 0.8856\n",
            "Epoch 66/75\n",
            "43/43 [==============================] - 4s 87ms/step - loss: 0.1465 - accuracy: 0.9423 - val_loss: 0.2400 - val_accuracy: 0.9062\n",
            "Epoch 67/75\n",
            "43/43 [==============================] - 4s 86ms/step - loss: 0.1699 - accuracy: 0.9311 - val_loss: 0.2218 - val_accuracy: 0.9062\n",
            "Epoch 68/75\n",
            "43/43 [==============================] - 4s 86ms/step - loss: 0.2062 - accuracy: 0.9101 - val_loss: 0.1649 - val_accuracy: 0.9355\n",
            "Epoch 69/75\n",
            "43/43 [==============================] - 4s 86ms/step - loss: 0.0956 - accuracy: 0.9605 - val_loss: 0.1825 - val_accuracy: 0.9413\n",
            "Epoch 70/75\n",
            "43/43 [==============================] - 4s 94ms/step - loss: 0.1922 - accuracy: 0.9209 - val_loss: 0.1232 - val_accuracy: 0.9589\n",
            "Epoch 71/75\n",
            "43/43 [==============================] - 4s 94ms/step - loss: 0.0879 - accuracy: 0.9667 - val_loss: 0.1232 - val_accuracy: 0.9619\n",
            "Epoch 72/75\n",
            "43/43 [==============================] - 4s 85ms/step - loss: 0.1055 - accuracy: 0.9577 - val_loss: 0.0970 - val_accuracy: 0.9707\n",
            "Epoch 73/75\n",
            "43/43 [==============================] - 4s 87ms/step - loss: 0.1119 - accuracy: 0.9566 - val_loss: 0.2067 - val_accuracy: 0.9120\n",
            "Epoch 74/75\n",
            "43/43 [==============================] - 4s 87ms/step - loss: 0.1696 - accuracy: 0.9251 - val_loss: 0.3243 - val_accuracy: 0.8768\n",
            "Epoch 75/75\n",
            "43/43 [==============================] - 4s 86ms/step - loss: 0.2703 - accuracy: 0.8928 - val_loss: 0.1298 - val_accuracy: 0.9443\n"
          ],
          "name": "stdout"
        }
      ]
    },
    {
      "cell_type": "code",
      "metadata": {
        "id": "vhwajgGzpvrD",
        "colab": {
          "base_uri": "https://localhost:8080/"
        },
        "outputId": "dfe0a59d-837e-43c4-8c7e-5b2c98695afd"
      },
      "source": [
        "history.history"
      ],
      "execution_count": 380,
      "outputs": [
        {
          "output_type": "execute_result",
          "data": {
            "text/plain": [
              "{'accuracy': [0.5549853444099426,\n",
              "  0.8137829899787903,\n",
              "  0.7712609767913818,\n",
              "  0.8328445553779602,\n",
              "  0.8812316656112671,\n",
              "  0.8643695116043091,\n",
              "  0.8944281339645386,\n",
              "  0.8724340200424194,\n",
              "  0.9032257795333862,\n",
              "  0.857038140296936,\n",
              "  0.8988269567489624,\n",
              "  0.8511730432510376,\n",
              "  0.8643695116043091,\n",
              "  0.8841642141342163,\n",
              "  0.8914955854415894,\n",
              "  0.9076246619224548,\n",
              "  0.883431077003479,\n",
              "  0.8826979398727417,\n",
              "  0.8951612710952759,\n",
              "  0.912756621837616,\n",
              "  0.8717008829116821,\n",
              "  0.8687683343887329,\n",
              "  0.9164223074913025,\n",
              "  0.912756621837616,\n",
              "  0.890762448310852,\n",
              "  0.8951612710952759,\n",
              "  0.9076246619224548,\n",
              "  0.9017595052719116,\n",
              "  0.892961859703064,\n",
              "  0.8958944082260132,\n",
              "  0.9149560332298279,\n",
              "  0.8958944082260132,\n",
              "  0.8812316656112671,\n",
              "  0.9054251909255981,\n",
              "  0.9120234847068787,\n",
              "  0.9193548560142517,\n",
              "  0.8753665685653687,\n",
              "  0.912756621837616,\n",
              "  0.9017595052719116,\n",
              "  0.9024926424026489,\n",
              "  0.9222874045372009,\n",
              "  0.9252199530601501,\n",
              "  0.8768328428268433,\n",
              "  0.9222874045372009,\n",
              "  0.9068915247917175,\n",
              "  0.9142228960990906,\n",
              "  0.8768328428268433,\n",
              "  0.936950147151947,\n",
              "  0.9061583280563354,\n",
              "  0.9134897589683533,\n",
              "  0.9266862273216248,\n",
              "  0.9171554446220398,\n",
              "  0.8988269567489624,\n",
              "  0.9083577990531921,\n",
              "  0.9193548560142517,\n",
              "  0.9156891703605652,\n",
              "  0.8922287225723267,\n",
              "  0.9039589166641235,\n",
              "  0.9178885817527771,\n",
              "  0.9332844614982605,\n",
              "  0.9281525015830994,\n",
              "  0.9347507357597351,\n",
              "  0.9552785754203796,\n",
              "  0.9347507357597351,\n",
              "  0.9516128897666931,\n",
              "  0.9442815184593201,\n",
              "  0.9420821070671082,\n",
              "  0.9266862273216248,\n",
              "  0.9589442610740662,\n",
              "  0.9288856387138367,\n",
              "  0.9670087695121765,\n",
              "  0.9523460268974304,\n",
              "  0.9472140669822693,\n",
              "  0.8848973512649536,\n",
              "  0.9090909361839294],\n",
              " 'loss': [1.087561011314392,\n",
              "  0.4974988102912903,\n",
              "  0.5204631090164185,\n",
              "  0.4177398681640625,\n",
              "  0.34731584787368774,\n",
              "  0.35151705145835876,\n",
              "  0.3010626435279846,\n",
              "  0.3333990275859833,\n",
              "  0.27347996830940247,\n",
              "  0.3661816120147705,\n",
              "  0.28359657526016235,\n",
              "  0.39688199758529663,\n",
              "  0.36395159363746643,\n",
              "  0.32478606700897217,\n",
              "  0.282617449760437,\n",
              "  0.2564826011657715,\n",
              "  0.2960578501224518,\n",
              "  0.30162283778190613,\n",
              "  0.2710149586200714,\n",
              "  0.239709734916687,\n",
              "  0.3422434628009796,\n",
              "  0.34374991059303284,\n",
              "  0.23037444055080414,\n",
              "  0.2331247627735138,\n",
              "  0.26980918645858765,\n",
              "  0.27075523138046265,\n",
              "  0.24121549725532532,\n",
              "  0.22655552625656128,\n",
              "  0.28380709886550903,\n",
              "  0.27736005187034607,\n",
              "  0.23307451605796814,\n",
              "  0.2721717953681946,\n",
              "  0.27882900834083557,\n",
              "  0.23763221502304077,\n",
              "  0.23581963777542114,\n",
              "  0.20648562908172607,\n",
              "  0.29759910702705383,\n",
              "  0.22143413126468658,\n",
              "  0.22162410616874695,\n",
              "  0.2393905073404312,\n",
              "  0.18031807243824005,\n",
              "  0.17636598646640778,\n",
              "  0.285240113735199,\n",
              "  0.20944534242153168,\n",
              "  0.24783681333065033,\n",
              "  0.20559851825237274,\n",
              "  0.3999737501144409,\n",
              "  0.1758899837732315,\n",
              "  0.24414771795272827,\n",
              "  0.24865946173667908,\n",
              "  0.20376063883304596,\n",
              "  0.20878849923610687,\n",
              "  0.2593306005001068,\n",
              "  0.2126951962709427,\n",
              "  0.2002687156200409,\n",
              "  0.1897851675748825,\n",
              "  0.2348620891571045,\n",
              "  0.2195875346660614,\n",
              "  0.2052675187587738,\n",
              "  0.15277811884880066,\n",
              "  0.1789165884256363,\n",
              "  0.1573236733675003,\n",
              "  0.13711196184158325,\n",
              "  0.1590021699666977,\n",
              "  0.142188161611557,\n",
              "  0.14475522935390472,\n",
              "  0.15093690156936646,\n",
              "  0.16519519686698914,\n",
              "  0.1006271168589592,\n",
              "  0.1781659573316574,\n",
              "  0.09049306809902191,\n",
              "  0.12609246373176575,\n",
              "  0.1242377907037735,\n",
              "  0.27983638644218445,\n",
              "  0.21842661499977112],\n",
              " 'val_accuracy': [0.5513196587562561,\n",
              "  0.6099706888198853,\n",
              "  0.5806451439857483,\n",
              "  0.8768328428268433,\n",
              "  0.8064516186714172,\n",
              "  0.929618775844574,\n",
              "  0.8973606824874878,\n",
              "  0.929618775844574,\n",
              "  0.8973606824874878,\n",
              "  0.9325513243675232,\n",
              "  0.8387096524238586,\n",
              "  0.8973606824874878,\n",
              "  0.9178885817527771,\n",
              "  0.9178885817527771,\n",
              "  0.9325513243675232,\n",
              "  0.9178885817527771,\n",
              "  0.9032257795333862,\n",
              "  0.9384164214134216,\n",
              "  0.9384164214134216,\n",
              "  0.929618775844574,\n",
              "  0.9032257795333862,\n",
              "  0.9120234847068787,\n",
              "  0.929618775844574,\n",
              "  0.929618775844574,\n",
              "  0.929618775844574,\n",
              "  0.9149560332298279,\n",
              "  0.9090909361839294,\n",
              "  0.9237536787986755,\n",
              "  0.929618775844574,\n",
              "  0.9237536787986755,\n",
              "  0.9384164214134216,\n",
              "  0.8357771039009094,\n",
              "  0.8914955854415894,\n",
              "  0.8944281339645386,\n",
              "  0.9384164214134216,\n",
              "  0.9384164214134216,\n",
              "  0.9090909361839294,\n",
              "  0.9178885817527771,\n",
              "  0.9325513243675232,\n",
              "  0.9149560332298279,\n",
              "  0.9178885817527771,\n",
              "  0.9442815184593201,\n",
              "  0.9149560332298279,\n",
              "  0.8973606824874878,\n",
              "  0.9208211302757263,\n",
              "  0.9266862273216248,\n",
              "  0.9266862273216248,\n",
              "  0.9120234847068787,\n",
              "  0.9501466155052185,\n",
              "  0.9354838728904724,\n",
              "  0.9384164214134216,\n",
              "  0.9061583280563354,\n",
              "  0.9032257795333862,\n",
              "  0.9325513243675232,\n",
              "  0.8944281339645386,\n",
              "  0.8944281339645386,\n",
              "  0.9384164214134216,\n",
              "  0.8885630369186401,\n",
              "  0.9325513243675232,\n",
              "  0.9442815184593201,\n",
              "  0.9384164214134216,\n",
              "  0.9384164214134216,\n",
              "  0.9178885817527771,\n",
              "  0.9178885817527771,\n",
              "  0.8856304883956909,\n",
              "  0.9061583280563354,\n",
              "  0.9061583280563354,\n",
              "  0.9354838728904724,\n",
              "  0.9413489699363708,\n",
              "  0.9589442610740662,\n",
              "  0.9618768095970154,\n",
              "  0.9706745147705078,\n",
              "  0.9120234847068787,\n",
              "  0.8768328428268433,\n",
              "  0.9442815184593201],\n",
              " 'val_loss': [1.0652621984481812,\n",
              "  0.8483565449714661,\n",
              "  0.7590073347091675,\n",
              "  0.352496862411499,\n",
              "  0.44693663716316223,\n",
              "  0.2565341889858246,\n",
              "  0.27896660566329956,\n",
              "  0.23345786333084106,\n",
              "  0.25856295228004456,\n",
              "  0.20979291200637817,\n",
              "  0.4529690444469452,\n",
              "  0.28011250495910645,\n",
              "  0.24047745764255524,\n",
              "  0.2142026573419571,\n",
              "  0.20928889513015747,\n",
              "  0.19612383842468262,\n",
              "  0.2451445460319519,\n",
              "  0.2019854635000229,\n",
              "  0.1835249960422516,\n",
              "  0.19300194084644318,\n",
              "  0.24787327647209167,\n",
              "  0.22158318758010864,\n",
              "  0.17818039655685425,\n",
              "  0.18686023354530334,\n",
              "  0.19862133264541626,\n",
              "  0.21283872425556183,\n",
              "  0.2242891639471054,\n",
              "  0.224666029214859,\n",
              "  0.18645915389060974,\n",
              "  0.22890308499336243,\n",
              "  0.19215601682662964,\n",
              "  0.41880932450294495,\n",
              "  0.27766910195350647,\n",
              "  0.2575623095035553,\n",
              "  0.17863771319389343,\n",
              "  0.16642887890338898,\n",
              "  0.20874238014221191,\n",
              "  0.18317238986492157,\n",
              "  0.22266551852226257,\n",
              "  0.2448362410068512,\n",
              "  0.20419825613498688,\n",
              "  0.14681191742420197,\n",
              "  0.21259228885173798,\n",
              "  0.24910129606723785,\n",
              "  0.21505793929100037,\n",
              "  0.19677430391311646,\n",
              "  0.21876047551631927,\n",
              "  0.22340305149555206,\n",
              "  0.14661499857902527,\n",
              "  0.19256064295768738,\n",
              "  0.18427544832229614,\n",
              "  0.20833654701709747,\n",
              "  0.2117738425731659,\n",
              "  0.1829366534948349,\n",
              "  0.23554348945617676,\n",
              "  0.25069180130958557,\n",
              "  0.19194850325584412,\n",
              "  0.2625775933265686,\n",
              "  0.1740574985742569,\n",
              "  0.18678703904151917,\n",
              "  0.173690527677536,\n",
              "  0.15933768451213837,\n",
              "  0.19745130836963654,\n",
              "  0.1828233003616333,\n",
              "  0.2350841462612152,\n",
              "  0.24004347622394562,\n",
              "  0.22183772921562195,\n",
              "  0.16494564712047577,\n",
              "  0.18250690400600433,\n",
              "  0.1232355386018753,\n",
              "  0.12324945628643036,\n",
              "  0.0969756543636322,\n",
              "  0.20672336220741272,\n",
              "  0.3242834210395813,\n",
              "  0.12978000938892365]}"
            ]
          },
          "metadata": {
            "tags": []
          },
          "execution_count": 380
        }
      ]
    },
    {
      "cell_type": "code",
      "metadata": {
        "colab": {
          "base_uri": "https://localhost:8080/"
        },
        "id": "Kyn1dHRRJ5Wn",
        "outputId": "6f95b3f5-37a9-40bd-db76-10b82d086c01"
      },
      "source": [
        "print(\"--- %s seconds ---\" % (time.time() - start_time))\n"
      ],
      "execution_count": 381,
      "outputs": [
        {
          "output_type": "stream",
          "text": [
            "--- 322.93113589286804 seconds ---\n"
          ],
          "name": "stdout"
        }
      ]
    },
    {
      "cell_type": "code",
      "metadata": {
        "id": "rOU0i1e6jhr3"
      },
      "source": [
        "x_test = X_test #returns a numpy array\n",
        "min_max_scaler = preprocessing.MinMaxScaler()\n",
        "x_scaled_test = min_max_scaler.fit_transform(x_test)\n",
        "df_test = pd.DataFrame(x_scaled_test)"
      ],
      "execution_count": 382,
      "outputs": []
    },
    {
      "cell_type": "code",
      "metadata": {
        "id": "OgeGekJ8lW6S"
      },
      "source": [
        "predictions = model.predict(x=df_test, batch_size=32)"
      ],
      "execution_count": 383,
      "outputs": []
    },
    {
      "cell_type": "code",
      "metadata": {
        "id": "1o6zqIsfl2QX"
      },
      "source": [
        "rounded_predictions = np.argmax(predictions, axis=-1)"
      ],
      "execution_count": 384,
      "outputs": []
    },
    {
      "cell_type": "code",
      "metadata": {
        "id": "NQTy4F7TmotU"
      },
      "source": [
        "cm = confusion_matrix(y_true=y_test, y_pred=rounded_predictions)"
      ],
      "execution_count": 385,
      "outputs": []
    },
    {
      "cell_type": "code",
      "metadata": {
        "colab": {
          "base_uri": "https://localhost:8080/",
          "height": 922
        },
        "id": "rieDywHXuA6R",
        "outputId": "333b3252-713a-4be0-85a3-2393b0d06195"
      },
      "source": [
        "label_mapping = {'NEGATIVE': 0, 'NEUTRAL': 1, 'POSITIVE': 2}\n",
        "# for diff dataset\n",
        "# label_mapping = {'NEGATIVE': 0, 'POSITIVE': 1}\n",
        "plt.figure(figsize=(8, 8))\n",
        "sns.heatmap(cm, annot=True, vmin=0, fmt='g', cbar=False, cmap='Blues')\n",
        "clr = classification_report(y_test, rounded_predictions, target_names=label_mapping.keys())\n",
        "plt.xticks(np.arange(3) + 0.5, label_mapping.keys())\n",
        "plt.yticks(np.arange(3) + 0.5, label_mapping.keys())\n",
        "plt.xlabel(\"Predicted\")\n",
        "plt.ylabel(\"Actual\")\n",
        "plt.title(\"Confusion Matrix\")\n",
        "plt.show()\n",
        "\n",
        "print(\"Classification Report:\\n----------------------\\n\", clr)\n",
        "\n"
      ],
      "execution_count": 386,
      "outputs": [
        {
          "output_type": "display_data",
          "data": {
            "image/png": "[encoded data removed]",
            "text/plain": [
              "<Figure size 800x800 with 1 Axes>"
            ]
          },
          "metadata": {
            "tags": []
          }
        },
        {
          "output_type": "stream",
          "text": [
            "Classification Report:\n",
            "----------------------\n",
            "               precision    recall  f1-score   support\n",
            "\n",
            "    NEGATIVE       0.63      1.00      0.78       137\n",
            "     NEUTRAL       0.79      0.34      0.48       147\n",
            "    POSITIVE       0.88      0.91      0.89       143\n",
            "\n",
            "    accuracy                           0.74       427\n",
            "   macro avg       0.77      0.75      0.72       427\n",
            "weighted avg       0.77      0.74      0.71       427\n",
            "\n"
          ],
          "name": "stdout"
        }
      ]
    },
    {
      "cell_type": "code",
      "metadata": {
        "id": "s5wbr_oav-Kb"
      },
      "source": [
        "# https://stackoverflow.com/questions/26413185/how-to-recover-matplotlib-defaults-after-setting-stylesheet\n",
        "import matplotlib as mpl\n",
        "mpl.rcParams.update(mpl.rcParamsDefault)"
      ],
      "execution_count": 387,
      "outputs": []
    },
    {
      "cell_type": "code",
      "metadata": {
        "id": "73HZGymlybP2"
      },
      "source": [
        "training_acc = history.history['accuracy']\n",
        "validation_acc = history.history['val_accuracy']\n",
        "training_loss  = history.history['loss']\n",
        "validation_loss = history.history['val_loss']"
      ],
      "execution_count": 388,
      "outputs": []
    },
    {
      "cell_type": "code",
      "metadata": {
        "colab": {
          "base_uri": "https://localhost:8080/",
          "height": 472
        },
        "id": "1jgMVKMDyxck",
        "outputId": "cfd549f1-8170-489c-d888-683e0de50f43"
      },
      "source": [
        "epochs = history.epoch\n",
        "plt.plot(epochs, training_acc, color = '#17e6e6', label='Training Accuracy')\n",
        "plt.plot(epochs, validation_acc,color = '#e61771', label='Validation Accuracy')\n",
        "plt.title('Accuracy vs Epochs')\n",
        "plt.xlabel('Epochs')\n",
        "plt.ylabel('Accuracy')\n",
        "plt.legend()\n",
        "plt.savefig('AccuracyVsEpochs.png')\n",
        "plt.show()"
      ],
      "execution_count": 389,
      "outputs": [
        {
          "output_type": "display_data",
          "data": {
            "image/png": "[encoded data removed]",
            "text/plain": [
              "<Figure size 640x480 with 1 Axes>"
            ]
          },
          "metadata": {
            "tags": []
          }
        }
      ]
    }
  ]
}