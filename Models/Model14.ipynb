{
  "nbformat": 4,
  "nbformat_minor": 0,
  "metadata": {
    "colab": {
      "name": "EEGSignalClassification.ipynb",
      "provenance": [],
      "collapsed_sections": []
    },
    "kernelspec": {
      "name": "python3",
      "display_name": "Python 3"
    },
    "language_info": {
      "name": "python"
    }
  },
  "cells": [
    {
      "cell_type": "code",
      "metadata": {
        "id": "iuNWUJKJLY9T"
      },
      "source": [
        "%reset -f "
      ],
      "execution_count": 330,
      "outputs": []
    },
    {
      "cell_type": "code",
      "metadata": {
        "id": "yj4HfL7EcNRq"
      },
      "source": [
        "# libraries used\n",
        "#  https://stats.stackexchange.com/questions/181/how-to-choose-the-number-of-hidden-layers-and-nodes-in-a-feedforward-neural-netw\n",
        "import numpy as np\n",
        "import pandas as pd\n",
        "import seaborn as sns \n",
        "import matplotlib.pyplot as plt\n",
        "from sklearn.model_selection import train_test_split\n",
        "from sklearn.metrics import confusion_matrix, classification_report\n",
        "from sklearn import preprocessing\n",
        "import tensorflow as tf\n",
        "from tensorflow.keras import datasets, layers, models\n",
        "import keras \n",
        "from keras.models import Sequential\n",
        "from keras.layers import Dense, Dropout\n",
        "import itertools"
      ],
      "execution_count": 331,
      "outputs": []
    },
    {
      "cell_type": "code",
      "metadata": {
        "colab": {
          "base_uri": "https://localhost:8080/"
        },
        "id": "WYIp8Qr9ck8Z",
        "outputId": "a6e1db39-8e2d-4635-daf8-e89d1364a4e0"
      },
      "source": [
        "emotions = pd.read_csv(\"drive/MyDrive/EEG/emotions.csv\")\n",
        "emotions.replace(['NEGATIVE', 'POSITIVE', 'NEUTRAL'], [2, 1, 0], inplace=True)\n",
        "emotions['label'].unique()"
      ],
      "execution_count": 332,
      "outputs": [
        {
          "output_type": "execute_result",
          "data": {
            "text/plain": [
              "array([2, 0, 1])"
            ]
          },
          "metadata": {
            "tags": []
          },
          "execution_count": 332
        }
      ]
    },
    {
      "cell_type": "code",
      "metadata": {
        "id": "PvT5tTotcoS3"
      },
      "source": [
        "X = emotions.drop('label', axis=1).copy()\n",
        "y = (emotions['label'].copy())"
      ],
      "execution_count": 333,
      "outputs": []
    },
    {
      "cell_type": "code",
      "metadata": {
        "id": "GUZOuZK7crNV"
      },
      "source": [
        "# Splitting data into training and testing as 80-20 \n",
        "X_train, X_test, y_train, y_test = train_test_split(X, y, test_size=0.2, random_state=1)\n",
        "\n",
        "x = X_train #returns a numpy array\n",
        "min_max_scaler = preprocessing.MinMaxScaler()\n",
        "x_scaled = min_max_scaler.fit_transform(x)\n",
        "df = pd.DataFrame(x_scaled)"
      ],
      "execution_count": 334,
      "outputs": []
    },
    {
      "cell_type": "code",
      "metadata": {
        "id": "BhRoXS4mj6CV"
      },
      "source": [
        "#  resetting the data - https://www.tensorflow.org/api_docs/python/tf/keras/backend/clear_session\n",
        "tf.keras.backend.clear_session()"
      ],
      "execution_count": 335,
      "outputs": []
    },
    {
      "cell_type": "code",
      "metadata": {
        "colab": {
          "base_uri": "https://localhost:8080/"
        },
        "id": "k4a4vwF5cxvU",
        "outputId": "f11e7644-58cd-4c00-c423-d931e1d2d305"
      },
      "source": [
        "model = Sequential()\n",
        "model.add(Dense((2*X_train.shape[1]/3), input_dim=X_train.shape[1], activation='relu'))\n",
        "model.add(Dense((2*X_train.shape[1]/3), activation='relu'))\n",
        "model.add(Dense((1*X_train.shape[1]/3), activation='relu'))\n",
        "model.add(Dense((1*X_train.shape[1]/3), activation='relu'))\n",
        "model.add(Dense(3, activation='softmax'))\n",
        "#model.compile(loss='categorical_crossentropy', optimizer='adam', metrics=['accuracy'])\n",
        "print(model.summary())\n",
        "\n",
        "\n",
        "\n"
      ],
      "execution_count": 336,
      "outputs": [
        {
          "output_type": "stream",
          "text": [
            "Model: \"sequential\"\n",
            "_________________________________________________________________\n",
            "Layer (type)                 Output Shape              Param #   \n",
            "=================================================================\n",
            "dense (Dense)                (None, 1698)              4328202   \n",
            "_________________________________________________________________\n",
            "dense_1 (Dense)              (None, 1698)              2884902   \n",
            "_________________________________________________________________\n",
            "dense_2 (Dense)              (None, 849)               1442451   \n",
            "_________________________________________________________________\n",
            "dense_3 (Dense)              (None, 849)               721650    \n",
            "_________________________________________________________________\n",
            "dense_4 (Dense)              (None, 3)                 2550      \n",
            "=================================================================\n",
            "Total params: 9,379,755\n",
            "Trainable params: 9,379,755\n",
            "Non-trainable params: 0\n",
            "_________________________________________________________________\n",
            "None\n"
          ],
          "name": "stdout"
        }
      ]
    },
    {
      "cell_type": "code",
      "metadata": {
        "id": "A2Q9BOrneeUM"
      },
      "source": [
        "# for categorical entropy\n",
        "# https://stackoverflow.com/questions/63211181/error-while-using-categorical-crossentropy\n",
        "from tensorflow.keras.utils import to_categorical\n",
        "Y_one_hot=to_categorical(y_train) # convert Y into an one-hot vector"
      ],
      "execution_count": 337,
      "outputs": []
    },
    {
      "cell_type": "code",
      "metadata": {
        "id": "NEs5ddrJeBeG"
      },
      "source": [
        "# https://stackoverflow.com/questions/59737875/keras-change-learning-rate\n",
        "#optimizer = tf.keras.optimizers.Adam(0.001)\n",
        "#optimizer.learning_rate.assign(0.01)\n",
        "\n",
        "# opt = keras.optimizers.Adadelta(learning_rate=0.01)\n",
        "\n",
        "# model.compile(\n",
        "#    optimizer=opt,\n",
        "#    loss='categorical_crossentropy',\n",
        "#    metrics=['accuracy']\n",
        "#)\n",
        "\n",
        "# to be run for categorical cross entropy\n",
        "model.compile(loss='categorical_crossentropy', optimizer=tf.keras.optimizers.Adamax(learning_rate=0.01), metrics=['accuracy'])\n"
      ],
      "execution_count": 338,
      "outputs": []
    },
    {
      "cell_type": "code",
      "metadata": {
        "id": "ASdP3qvxes8r",
        "colab": {
          "base_uri": "https://localhost:8080/"
        },
        "outputId": "265b947b-4df5-4715-bda4-297dcdabe23c"
      },
      "source": [
        "# make sure that the input data is shuffled before hand so that the model doesn't notice patterns and generalizes well\n",
        "# change y_train to y_hot_encoded when using categorical cross entorpy\n",
        "import time\n",
        "start_time = time.time()\n",
        "#history = model.fit(\n",
        "#    df,\n",
        "#    y_train,\n",
        "#    validation_split=0.2,\n",
        "#    batch_size=32,\n",
        "#    epochs=75)\n",
        "\n",
        "\n",
        "# to be run for categorical cross entropy\n",
        "\n",
        "history = model.fit(\n",
        "    df,\n",
        "    Y_one_hot,\n",
        "    validation_split=0.2,\n",
        "    batch_size=32,\n",
        "    epochs=75)"
      ],
      "execution_count": 339,
      "outputs": [
        {
          "output_type": "stream",
          "text": [
            "Epoch 1/75\n",
            "43/43 [==============================] - 5s 96ms/step - loss: 264.1472 - accuracy: 0.3305 - val_loss: 1.0444 - val_accuracy: 0.4252\n",
            "Epoch 2/75\n",
            "43/43 [==============================] - 4s 86ms/step - loss: 0.9049 - accuracy: 0.5887 - val_loss: 0.8663 - val_accuracy: 0.5484\n",
            "Epoch 3/75\n",
            "43/43 [==============================] - 4s 85ms/step - loss: 0.5751 - accuracy: 0.7260 - val_loss: 0.4136 - val_accuracy: 0.8446\n",
            "Epoch 4/75\n",
            "43/43 [==============================] - 4s 86ms/step - loss: 0.5129 - accuracy: 0.8206 - val_loss: 0.3164 - val_accuracy: 0.9267\n",
            "Epoch 5/75\n",
            "43/43 [==============================] - 4s 85ms/step - loss: 0.3882 - accuracy: 0.8708 - val_loss: 0.3246 - val_accuracy: 0.8944\n",
            "Epoch 6/75\n",
            "43/43 [==============================] - 4s 86ms/step - loss: 0.3504 - accuracy: 0.8637 - val_loss: 0.2587 - val_accuracy: 0.9062\n",
            "Epoch 7/75\n",
            "43/43 [==============================] - 4s 86ms/step - loss: 0.3451 - accuracy: 0.8751 - val_loss: 0.2768 - val_accuracy: 0.9120\n",
            "Epoch 8/75\n",
            "43/43 [==============================] - 4s 85ms/step - loss: 0.3084 - accuracy: 0.8971 - val_loss: 0.3050 - val_accuracy: 0.8856\n",
            "Epoch 9/75\n",
            "43/43 [==============================] - 4s 86ms/step - loss: 0.3382 - accuracy: 0.8836 - val_loss: 0.2593 - val_accuracy: 0.8974\n",
            "Epoch 10/75\n",
            "43/43 [==============================] - 4s 86ms/step - loss: 0.3079 - accuracy: 0.8847 - val_loss: 0.3721 - val_accuracy: 0.8563\n",
            "Epoch 11/75\n",
            "43/43 [==============================] - 4s 85ms/step - loss: 0.4293 - accuracy: 0.8477 - val_loss: 0.2346 - val_accuracy: 0.9208\n",
            "Epoch 12/75\n",
            "43/43 [==============================] - 4s 96ms/step - loss: 0.2754 - accuracy: 0.9026 - val_loss: 0.2552 - val_accuracy: 0.9296\n",
            "Epoch 13/75\n",
            "43/43 [==============================] - 4s 91ms/step - loss: 0.2978 - accuracy: 0.8918 - val_loss: 0.2286 - val_accuracy: 0.9208\n",
            "Epoch 14/75\n",
            "43/43 [==============================] - 4s 86ms/step - loss: 0.3404 - accuracy: 0.8745 - val_loss: 0.2655 - val_accuracy: 0.9032\n",
            "Epoch 15/75\n",
            "43/43 [==============================] - 4s 86ms/step - loss: 0.2661 - accuracy: 0.9010 - val_loss: 0.2330 - val_accuracy: 0.9120\n",
            "Epoch 16/75\n",
            "43/43 [==============================] - 4s 85ms/step - loss: 0.2690 - accuracy: 0.9029 - val_loss: 0.2263 - val_accuracy: 0.9238\n",
            "Epoch 17/75\n",
            "43/43 [==============================] - 4s 85ms/step - loss: 0.2802 - accuracy: 0.8935 - val_loss: 0.2502 - val_accuracy: 0.9120\n",
            "Epoch 18/75\n",
            "43/43 [==============================] - 4s 85ms/step - loss: 0.2897 - accuracy: 0.9008 - val_loss: 0.2161 - val_accuracy: 0.9267\n",
            "Epoch 19/75\n",
            "43/43 [==============================] - 4s 85ms/step - loss: 0.2922 - accuracy: 0.8864 - val_loss: 0.2515 - val_accuracy: 0.9267\n",
            "Epoch 20/75\n",
            "43/43 [==============================] - 4s 89ms/step - loss: 0.2932 - accuracy: 0.8838 - val_loss: 0.3384 - val_accuracy: 0.8680\n",
            "Epoch 21/75\n",
            "43/43 [==============================] - 4s 87ms/step - loss: 0.3425 - accuracy: 0.8796 - val_loss: 0.2843 - val_accuracy: 0.9208\n",
            "Epoch 22/75\n",
            "43/43 [==============================] - 4s 85ms/step - loss: 0.4076 - accuracy: 0.8506 - val_loss: 0.2550 - val_accuracy: 0.8974\n",
            "Epoch 23/75\n",
            "43/43 [==============================] - 4s 86ms/step - loss: 0.2989 - accuracy: 0.8870 - val_loss: 0.2512 - val_accuracy: 0.9032\n",
            "Epoch 24/75\n",
            "43/43 [==============================] - 4s 85ms/step - loss: 0.3738 - accuracy: 0.8569 - val_loss: 0.3040 - val_accuracy: 0.8856\n",
            "Epoch 25/75\n",
            "43/43 [==============================] - 4s 85ms/step - loss: 0.2770 - accuracy: 0.9043 - val_loss: 0.1987 - val_accuracy: 0.9296\n",
            "Epoch 26/75\n",
            "43/43 [==============================] - 4s 85ms/step - loss: 0.2828 - accuracy: 0.9096 - val_loss: 0.3007 - val_accuracy: 0.9032\n",
            "Epoch 27/75\n",
            "43/43 [==============================] - 4s 85ms/step - loss: 0.3508 - accuracy: 0.8658 - val_loss: 0.2660 - val_accuracy: 0.9062\n",
            "Epoch 28/75\n",
            "43/43 [==============================] - 4s 85ms/step - loss: 0.2760 - accuracy: 0.8996 - val_loss: 0.2786 - val_accuracy: 0.8944\n",
            "Epoch 29/75\n",
            "43/43 [==============================] - 4s 86ms/step - loss: 0.4106 - accuracy: 0.8373 - val_loss: 0.2402 - val_accuracy: 0.9120\n",
            "Epoch 30/75\n",
            "43/43 [==============================] - 4s 85ms/step - loss: 0.2983 - accuracy: 0.9014 - val_loss: 0.2009 - val_accuracy: 0.9413\n",
            "Epoch 31/75\n",
            "43/43 [==============================] - 4s 87ms/step - loss: 0.2873 - accuracy: 0.8837 - val_loss: 0.2249 - val_accuracy: 0.9238\n",
            "Epoch 32/75\n",
            "43/43 [==============================] - 4s 86ms/step - loss: 0.2656 - accuracy: 0.8933 - val_loss: 0.2248 - val_accuracy: 0.9326\n",
            "Epoch 33/75\n",
            "43/43 [==============================] - 4s 91ms/step - loss: 0.2969 - accuracy: 0.9015 - val_loss: 0.4938 - val_accuracy: 0.8328\n",
            "Epoch 34/75\n",
            "43/43 [==============================] - 4s 92ms/step - loss: 0.2915 - accuracy: 0.9035 - val_loss: 0.1931 - val_accuracy: 0.9179\n",
            "Epoch 35/75\n",
            "43/43 [==============================] - 4s 86ms/step - loss: 0.2218 - accuracy: 0.9332 - val_loss: 0.2107 - val_accuracy: 0.9384\n",
            "Epoch 36/75\n",
            "43/43 [==============================] - 4s 85ms/step - loss: 0.2290 - accuracy: 0.9180 - val_loss: 0.2465 - val_accuracy: 0.9179\n",
            "Epoch 37/75\n",
            "43/43 [==============================] - 4s 85ms/step - loss: 0.3198 - accuracy: 0.8869 - val_loss: 0.1913 - val_accuracy: 0.9296\n",
            "Epoch 38/75\n",
            "43/43 [==============================] - 4s 86ms/step - loss: 0.2377 - accuracy: 0.9123 - val_loss: 0.3056 - val_accuracy: 0.8710\n",
            "Epoch 39/75\n",
            "43/43 [==============================] - 4s 85ms/step - loss: 0.2945 - accuracy: 0.8782 - val_loss: 0.1813 - val_accuracy: 0.9355\n",
            "Epoch 40/75\n",
            "43/43 [==============================] - 4s 87ms/step - loss: 0.1901 - accuracy: 0.9234 - val_loss: 0.1971 - val_accuracy: 0.9179\n",
            "Epoch 41/75\n",
            "43/43 [==============================] - 4s 86ms/step - loss: 0.2631 - accuracy: 0.8872 - val_loss: 0.1772 - val_accuracy: 0.9384\n",
            "Epoch 42/75\n",
            "43/43 [==============================] - 4s 84ms/step - loss: 0.2336 - accuracy: 0.9160 - val_loss: 0.1959 - val_accuracy: 0.9150\n",
            "Epoch 43/75\n",
            "43/43 [==============================] - 4s 85ms/step - loss: 0.2042 - accuracy: 0.9251 - val_loss: 0.1882 - val_accuracy: 0.9326\n",
            "Epoch 44/75\n",
            "43/43 [==============================] - 4s 86ms/step - loss: 0.2072 - accuracy: 0.9223 - val_loss: 0.2465 - val_accuracy: 0.8798\n",
            "Epoch 45/75\n",
            "43/43 [==============================] - 4s 86ms/step - loss: 0.2699 - accuracy: 0.8833 - val_loss: 0.1954 - val_accuracy: 0.9326\n",
            "Epoch 46/75\n",
            "43/43 [==============================] - 4s 85ms/step - loss: 0.2724 - accuracy: 0.8795 - val_loss: 0.3474 - val_accuracy: 0.8152\n",
            "Epoch 47/75\n",
            "43/43 [==============================] - 4s 86ms/step - loss: 0.2384 - accuracy: 0.9189 - val_loss: 0.2050 - val_accuracy: 0.9238\n",
            "Epoch 48/75\n",
            "43/43 [==============================] - 4s 86ms/step - loss: 0.2094 - accuracy: 0.9252 - val_loss: 0.1892 - val_accuracy: 0.9326\n",
            "Epoch 49/75\n",
            "43/43 [==============================] - 4s 97ms/step - loss: 0.2061 - accuracy: 0.9204 - val_loss: 0.1567 - val_accuracy: 0.9326\n",
            "Epoch 50/75\n",
            "43/43 [==============================] - 4s 100ms/step - loss: 0.1781 - accuracy: 0.9307 - val_loss: 0.4818 - val_accuracy: 0.8328\n",
            "Epoch 51/75\n",
            "43/43 [==============================] - 4s 86ms/step - loss: 0.2945 - accuracy: 0.8801 - val_loss: 0.1795 - val_accuracy: 0.9296\n",
            "Epoch 52/75\n",
            "43/43 [==============================] - 4s 94ms/step - loss: 0.2808 - accuracy: 0.8851 - val_loss: 0.2282 - val_accuracy: 0.9062\n",
            "Epoch 53/75\n",
            "43/43 [==============================] - 4s 86ms/step - loss: 0.2292 - accuracy: 0.8961 - val_loss: 0.2063 - val_accuracy: 0.9355\n",
            "Epoch 54/75\n",
            "43/43 [==============================] - 4s 85ms/step - loss: 0.2453 - accuracy: 0.9044 - val_loss: 0.2133 - val_accuracy: 0.9150\n",
            "Epoch 55/75\n",
            "43/43 [==============================] - 4s 86ms/step - loss: 0.2066 - accuracy: 0.9173 - val_loss: 0.1819 - val_accuracy: 0.9413\n",
            "Epoch 56/75\n",
            "43/43 [==============================] - 4s 86ms/step - loss: 0.2247 - accuracy: 0.8972 - val_loss: 0.2444 - val_accuracy: 0.9062\n",
            "Epoch 57/75\n",
            "43/43 [==============================] - 4s 86ms/step - loss: 0.2225 - accuracy: 0.9230 - val_loss: 0.2515 - val_accuracy: 0.9062\n",
            "Epoch 58/75\n",
            "43/43 [==============================] - 4s 86ms/step - loss: 0.2500 - accuracy: 0.9044 - val_loss: 0.1826 - val_accuracy: 0.9032\n",
            "Epoch 59/75\n",
            "43/43 [==============================] - 4s 86ms/step - loss: 0.2658 - accuracy: 0.8721 - val_loss: 0.2451 - val_accuracy: 0.8974\n",
            "Epoch 60/75\n",
            "43/43 [==============================] - 4s 86ms/step - loss: 0.2033 - accuracy: 0.9208 - val_loss: 0.1751 - val_accuracy: 0.9443\n",
            "Epoch 61/75\n",
            "43/43 [==============================] - 4s 86ms/step - loss: 0.1878 - accuracy: 0.9184 - val_loss: 0.1569 - val_accuracy: 0.9413\n",
            "Epoch 62/75\n",
            "43/43 [==============================] - 4s 85ms/step - loss: 0.1651 - accuracy: 0.9391 - val_loss: 0.1782 - val_accuracy: 0.9355\n",
            "Epoch 63/75\n",
            "43/43 [==============================] - 4s 85ms/step - loss: 0.2227 - accuracy: 0.9036 - val_loss: 0.1803 - val_accuracy: 0.9238\n",
            "Epoch 64/75\n",
            "43/43 [==============================] - 4s 85ms/step - loss: 0.1861 - accuracy: 0.9320 - val_loss: 0.2055 - val_accuracy: 0.9150\n",
            "Epoch 65/75\n",
            "43/43 [==============================] - 4s 86ms/step - loss: 0.1832 - accuracy: 0.9219 - val_loss: 0.1659 - val_accuracy: 0.9413\n",
            "Epoch 66/75\n",
            "43/43 [==============================] - 4s 86ms/step - loss: 0.1769 - accuracy: 0.9246 - val_loss: 0.1493 - val_accuracy: 0.9384\n",
            "Epoch 67/75\n",
            "43/43 [==============================] - 4s 86ms/step - loss: 0.1731 - accuracy: 0.9399 - val_loss: 0.1517 - val_accuracy: 0.9326\n",
            "Epoch 68/75\n",
            "43/43 [==============================] - 4s 100ms/step - loss: 0.1677 - accuracy: 0.9400 - val_loss: 0.1831 - val_accuracy: 0.9267\n",
            "Epoch 69/75\n",
            "43/43 [==============================] - 4s 99ms/step - loss: 0.1934 - accuracy: 0.9348 - val_loss: 0.1662 - val_accuracy: 0.9355\n",
            "Epoch 70/75\n",
            "43/43 [==============================] - 5s 116ms/step - loss: 0.2272 - accuracy: 0.9134 - val_loss: 0.1880 - val_accuracy: 0.9208\n",
            "Epoch 71/75\n",
            "43/43 [==============================] - 5s 115ms/step - loss: 0.2303 - accuracy: 0.9108 - val_loss: 0.2062 - val_accuracy: 0.9062\n",
            "Epoch 72/75\n",
            "43/43 [==============================] - 4s 100ms/step - loss: 0.1884 - accuracy: 0.9329 - val_loss: 0.1387 - val_accuracy: 0.9472\n",
            "Epoch 73/75\n",
            "43/43 [==============================] - 5s 106ms/step - loss: 0.1808 - accuracy: 0.9354 - val_loss: 0.1647 - val_accuracy: 0.9326\n",
            "Epoch 74/75\n",
            "43/43 [==============================] - 4s 86ms/step - loss: 0.1533 - accuracy: 0.9511 - val_loss: 0.2003 - val_accuracy: 0.9120\n",
            "Epoch 75/75\n",
            "43/43 [==============================] - 4s 98ms/step - loss: 0.2376 - accuracy: 0.8991 - val_loss: 0.1387 - val_accuracy: 0.9443\n"
          ],
          "name": "stdout"
        }
      ]
    },
    {
      "cell_type": "code",
      "metadata": {
        "id": "vhwajgGzpvrD",
        "colab": {
          "base_uri": "https://localhost:8080/"
        },
        "outputId": "360acb24-43aa-4e45-ad00-91dc99fc9c02"
      },
      "source": [
        "history.history"
      ],
      "execution_count": 340,
      "outputs": [
        {
          "output_type": "execute_result",
          "data": {
            "text/plain": [
              "{'accuracy': [0.3350439965724945,\n",
              "  0.6620234847068787,\n",
              "  0.7873900532722473,\n",
              "  0.8049853444099426,\n",
              "  0.857038140296936,\n",
              "  0.8702346086502075,\n",
              "  0.8731671571731567,\n",
              "  0.8900293111801147,\n",
              "  0.8841642141342163,\n",
              "  0.8900293111801147,\n",
              "  0.8643695116043091,\n",
              "  0.8944281339645386,\n",
              "  0.8900293111801147,\n",
              "  0.8519061803817749,\n",
              "  0.8966275453567505,\n",
              "  0.8856304883956909,\n",
              "  0.883431077003479,\n",
              "  0.9039589166641235,\n",
              "  0.8819648027420044,\n",
              "  0.890762448310852,\n",
              "  0.8790322542190552,\n",
              "  0.8746334314346313,\n",
              "  0.9054251909255981,\n",
              "  0.873900294303894,\n",
              "  0.9149560332298279,\n",
              "  0.8614369630813599,\n",
              "  0.8753665685653687,\n",
              "  0.900293231010437,\n",
              "  0.8599706888198853,\n",
              "  0.8944281339645386,\n",
              "  0.8951612710952759,\n",
              "  0.9112903475761414,\n",
              "  0.9010263681411743,\n",
              "  0.9134897589683533,\n",
              "  0.9156891703605652,\n",
              "  0.910557210445404,\n",
              "  0.9046920537948608,\n",
              "  0.8980938196182251,\n",
              "  0.8988269567489624,\n",
              "  0.9112903475761414,\n",
              "  0.900293231010437,\n",
              "  0.9098240733146667,\n",
              "  0.9061583280563354,\n",
              "  0.9112903475761414,\n",
              "  0.8988269567489624,\n",
              "  0.8782991170883179,\n",
              "  0.910557210445404,\n",
              "  0.9112903475761414,\n",
              "  0.9164223074913025,\n",
              "  0.9237536787986755,\n",
              "  0.9068915247917175,\n",
              "  0.8936949968338013,\n",
              "  0.890762448310852,\n",
              "  0.9186217188835144,\n",
              "  0.9112903475761414,\n",
              "  0.9017595052719116,\n",
              "  0.9098240733146667,\n",
              "  0.9164223074913025,\n",
              "  0.8878298997879028,\n",
              "  0.9171554446220398,\n",
              "  0.9252199530601501,\n",
              "  0.9259530901908875,\n",
              "  0.910557210445404,\n",
              "  0.9193548560142517,\n",
              "  0.9164223074913025,\n",
              "  0.9303519129753113,\n",
              "  0.936950147151947,\n",
              "  0.9472140669822693,\n",
              "  0.9406158328056335,\n",
              "  0.9208211302757263,\n",
              "  0.9281525015830994,\n",
              "  0.9303519129753113,\n",
              "  0.9318181872367859,\n",
              "  0.9428152441978455,\n",
              "  0.9134897589683533],\n",
              " 'loss': [91.8388671875,\n",
              "  0.7620934844017029,\n",
              "  0.5154403448104858,\n",
              "  0.5284984111785889,\n",
              "  0.38944506645202637,\n",
              "  0.34111136198043823,\n",
              "  0.3444204330444336,\n",
              "  0.3093891441822052,\n",
              "  0.32636594772338867,\n",
              "  0.2995836138725281,\n",
              "  0.3866336941719055,\n",
              "  0.31032854318618774,\n",
              "  0.2926340401172638,\n",
              "  0.40192902088165283,\n",
              "  0.28091883659362793,\n",
              "  0.31234830617904663,\n",
              "  0.3070823550224304,\n",
              "  0.27559059858322144,\n",
              "  0.297278493642807,\n",
              "  0.29018837213516235,\n",
              "  0.329886794090271,\n",
              "  0.3472684621810913,\n",
              "  0.26457786560058594,\n",
              "  0.3330327570438385,\n",
              "  0.250494122505188,\n",
              "  0.3873822093009949,\n",
              "  0.33346569538116455,\n",
              "  0.27576684951782227,\n",
              "  0.3698822557926178,\n",
              "  0.3043991029262543,\n",
              "  0.2718859016895294,\n",
              "  0.24480661749839783,\n",
              "  0.2737836539745331,\n",
              "  0.24793142080307007,\n",
              "  0.2511671185493469,\n",
              "  0.24771153926849365,\n",
              "  0.27609267830848694,\n",
              "  0.26568132638931274,\n",
              "  0.26471731066703796,\n",
              "  0.22579693794250488,\n",
              "  0.2570367157459259,\n",
              "  0.23053914308547974,\n",
              "  0.23385147750377655,\n",
              "  0.2304641604423523,\n",
              "  0.2557598650455475,\n",
              "  0.29230254888534546,\n",
              "  0.23329497873783112,\n",
              "  0.2357839047908783,\n",
              "  0.21491433680057526,\n",
              "  0.20288679003715515,\n",
              "  0.2438245564699173,\n",
              "  0.26527535915374756,\n",
              "  0.2473054975271225,\n",
              "  0.21978309750556946,\n",
              "  0.22465108335018158,\n",
              "  0.23468102514743805,\n",
              "  0.23607505857944489,\n",
              "  0.20946753025054932,\n",
              "  0.25632598996162415,\n",
              "  0.21204011142253876,\n",
              "  0.18108031153678894,\n",
              "  0.19395269453525543,\n",
              "  0.21064066886901855,\n",
              "  0.21734221279621124,\n",
              "  0.1963941752910614,\n",
              "  0.17149841785430908,\n",
              "  0.17604690790176392,\n",
              "  0.1488133668899536,\n",
              "  0.1757339984178543,\n",
              "  0.21204432845115662,\n",
              "  0.19482608139514923,\n",
              "  0.18478965759277344,\n",
              "  0.191713348031044,\n",
              "  0.17413853108882904,\n",
              "  0.21294350922107697],\n",
              " 'val_accuracy': [0.42521995306015015,\n",
              "  0.5483871102333069,\n",
              "  0.8445748090744019,\n",
              "  0.9266862273216248,\n",
              "  0.8944281339645386,\n",
              "  0.9061583280563354,\n",
              "  0.9120234847068787,\n",
              "  0.8856304883956909,\n",
              "  0.8973606824874878,\n",
              "  0.8563050031661987,\n",
              "  0.9208211302757263,\n",
              "  0.929618775844574,\n",
              "  0.9208211302757263,\n",
              "  0.9032257795333862,\n",
              "  0.9120234847068787,\n",
              "  0.9237536787986755,\n",
              "  0.9120234847068787,\n",
              "  0.9266862273216248,\n",
              "  0.9266862273216248,\n",
              "  0.8680351972579956,\n",
              "  0.9208211302757263,\n",
              "  0.8973606824874878,\n",
              "  0.9032257795333862,\n",
              "  0.8856304883956909,\n",
              "  0.929618775844574,\n",
              "  0.9032257795333862,\n",
              "  0.9061583280563354,\n",
              "  0.8944281339645386,\n",
              "  0.9120234847068787,\n",
              "  0.9413489699363708,\n",
              "  0.9237536787986755,\n",
              "  0.9325513243675232,\n",
              "  0.8328445553779602,\n",
              "  0.9178885817527771,\n",
              "  0.9384164214134216,\n",
              "  0.9178885817527771,\n",
              "  0.929618775844574,\n",
              "  0.8709677457809448,\n",
              "  0.9354838728904724,\n",
              "  0.9178885817527771,\n",
              "  0.9384164214134216,\n",
              "  0.9149560332298279,\n",
              "  0.9325513243675232,\n",
              "  0.8797653913497925,\n",
              "  0.9325513243675232,\n",
              "  0.8152492642402649,\n",
              "  0.9237536787986755,\n",
              "  0.9325513243675232,\n",
              "  0.9325513243675232,\n",
              "  0.8328445553779602,\n",
              "  0.929618775844574,\n",
              "  0.9061583280563354,\n",
              "  0.9354838728904724,\n",
              "  0.9149560332298279,\n",
              "  0.9413489699363708,\n",
              "  0.9061583280563354,\n",
              "  0.9061583280563354,\n",
              "  0.9032257795333862,\n",
              "  0.8973606824874878,\n",
              "  0.9442815184593201,\n",
              "  0.9413489699363708,\n",
              "  0.9354838728904724,\n",
              "  0.9237536787986755,\n",
              "  0.9149560332298279,\n",
              "  0.9413489699363708,\n",
              "  0.9384164214134216,\n",
              "  0.9325513243675232,\n",
              "  0.9266862273216248,\n",
              "  0.9354838728904724,\n",
              "  0.9208211302757263,\n",
              "  0.9061583280563354,\n",
              "  0.9472140669822693,\n",
              "  0.9325513243675232,\n",
              "  0.9120234847068787,\n",
              "  0.9442815184593201],\n",
              " 'val_loss': [1.044392466545105,\n",
              "  0.8663083910942078,\n",
              "  0.4136119484901428,\n",
              "  0.31644001603126526,\n",
              "  0.32463258504867554,\n",
              "  0.2587316334247589,\n",
              "  0.27683451771736145,\n",
              "  0.30502596497535706,\n",
              "  0.259338915348053,\n",
              "  0.37214145064353943,\n",
              "  0.2345779687166214,\n",
              "  0.25515830516815186,\n",
              "  0.22861436009407043,\n",
              "  0.2654581069946289,\n",
              "  0.23297512531280518,\n",
              "  0.22629480063915253,\n",
              "  0.25022992491722107,\n",
              "  0.21605299413204193,\n",
              "  0.25151848793029785,\n",
              "  0.33840495347976685,\n",
              "  0.28429219126701355,\n",
              "  0.2549728453159332,\n",
              "  0.251187801361084,\n",
              "  0.3040139675140381,\n",
              "  0.1987224817276001,\n",
              "  0.30065929889678955,\n",
              "  0.2659642994403839,\n",
              "  0.27864736318588257,\n",
              "  0.24020397663116455,\n",
              "  0.20091478526592255,\n",
              "  0.22486841678619385,\n",
              "  0.2247772514820099,\n",
              "  0.4937514066696167,\n",
              "  0.19312617182731628,\n",
              "  0.2107076495885849,\n",
              "  0.2465038150548935,\n",
              "  0.19129881262779236,\n",
              "  0.30563849210739136,\n",
              "  0.18134205043315887,\n",
              "  0.19705328345298767,\n",
              "  0.1772260218858719,\n",
              "  0.19592183828353882,\n",
              "  0.188234344124794,\n",
              "  0.24647478759288788,\n",
              "  0.19540244340896606,\n",
              "  0.3473908603191376,\n",
              "  0.20496182143688202,\n",
              "  0.1892329454421997,\n",
              "  0.15673480927944183,\n",
              "  0.481803297996521,\n",
              "  0.17945082485675812,\n",
              "  0.22820468246936798,\n",
              "  0.20628204941749573,\n",
              "  0.2132701426744461,\n",
              "  0.1818927377462387,\n",
              "  0.24437187612056732,\n",
              "  0.2514796257019043,\n",
              "  0.18261706829071045,\n",
              "  0.2451263666152954,\n",
              "  0.1751246601343155,\n",
              "  0.15688647329807281,\n",
              "  0.17824238538742065,\n",
              "  0.1803247630596161,\n",
              "  0.20545512437820435,\n",
              "  0.16589900851249695,\n",
              "  0.14928753674030304,\n",
              "  0.15169958770275116,\n",
              "  0.1831037402153015,\n",
              "  0.166249081492424,\n",
              "  0.18795183300971985,\n",
              "  0.20622071623802185,\n",
              "  0.13873305916786194,\n",
              "  0.16466377675533295,\n",
              "  0.2003326416015625,\n",
              "  0.13872265815734863]}"
            ]
          },
          "metadata": {
            "tags": []
          },
          "execution_count": 340
        }
      ]
    },
    {
      "cell_type": "code",
      "metadata": {
        "colab": {
          "base_uri": "https://localhost:8080/"
        },
        "id": "Kyn1dHRRJ5Wn",
        "outputId": "91b87efa-227d-4be8-c2d3-5181c616e4ae"
      },
      "source": [
        "print(\"--- %s seconds ---\" % (time.time() - start_time))\n"
      ],
      "execution_count": 341,
      "outputs": [
        {
          "output_type": "stream",
          "text": [
            "--- 323.0042221546173 seconds ---\n"
          ],
          "name": "stdout"
        }
      ]
    },
    {
      "cell_type": "code",
      "metadata": {
        "id": "rOU0i1e6jhr3"
      },
      "source": [
        "x_test = X_test #returns a numpy array\n",
        "min_max_scaler = preprocessing.MinMaxScaler()\n",
        "x_scaled_test = min_max_scaler.fit_transform(x_test)\n",
        "df_test = pd.DataFrame(x_scaled_test)"
      ],
      "execution_count": 342,
      "outputs": []
    },
    {
      "cell_type": "code",
      "metadata": {
        "id": "OgeGekJ8lW6S"
      },
      "source": [
        "predictions = model.predict(x=df_test, batch_size=32)"
      ],
      "execution_count": 343,
      "outputs": []
    },
    {
      "cell_type": "code",
      "metadata": {
        "id": "1o6zqIsfl2QX"
      },
      "source": [
        "rounded_predictions = np.argmax(predictions, axis=-1)"
      ],
      "execution_count": 344,
      "outputs": []
    },
    {
      "cell_type": "code",
      "metadata": {
        "id": "NQTy4F7TmotU"
      },
      "source": [
        "cm = confusion_matrix(y_true=y_test, y_pred=rounded_predictions)"
      ],
      "execution_count": 345,
      "outputs": []
    },
    {
      "cell_type": "code",
      "metadata": {
        "colab": {
          "base_uri": "https://localhost:8080/",
          "height": 922
        },
        "id": "rieDywHXuA6R",
        "outputId": "f01643ad-02c9-488e-fbb0-85210da12ebb"
      },
      "source": [
        "label_mapping = {'NEGATIVE': 0, 'NEUTRAL': 1, 'POSITIVE': 2}\n",
        "# for diff dataset\n",
        "# label_mapping = {'NEGATIVE': 0, 'POSITIVE': 1}\n",
        "plt.figure(figsize=(8, 8))\n",
        "sns.heatmap(cm, annot=True, vmin=0, fmt='g', cbar=False, cmap='Blues')\n",
        "clr = classification_report(y_test, rounded_predictions, target_names=label_mapping.keys())\n",
        "plt.xticks(np.arange(3) + 0.5, label_mapping.keys())\n",
        "plt.yticks(np.arange(3) + 0.5, label_mapping.keys())\n",
        "plt.xlabel(\"Predicted\")\n",
        "plt.ylabel(\"Actual\")\n",
        "plt.title(\"Confusion Matrix\")\n",
        "plt.show()\n",
        "\n",
        "print(\"Classification Report:\\n----------------------\\n\", clr)\n",
        "\n"
      ],
      "execution_count": 346,
      "outputs": [
        {
          "output_type": "display_data",
          "data": {
            "image/png": "[encoded data removed]",
            "text/plain": [
              "<Figure size 800x800 with 1 Axes>"
            ]
          },
          "metadata": {
            "tags": []
          }
        },
        {
          "output_type": "stream",
          "text": [
            "Classification Report:\n",
            "----------------------\n",
            "               precision    recall  f1-score   support\n",
            "\n",
            "    NEGATIVE       0.65      1.00      0.79       137\n",
            "     NEUTRAL       0.72      0.41      0.53       147\n",
            "    POSITIVE       0.90      0.83      0.87       143\n",
            "\n",
            "    accuracy                           0.74       427\n",
            "   macro avg       0.76      0.75      0.73       427\n",
            "weighted avg       0.76      0.74      0.72       427\n",
            "\n"
          ],
          "name": "stdout"
        }
      ]
    },
    {
      "cell_type": "code",
      "metadata": {
        "id": "s5wbr_oav-Kb"
      },
      "source": [
        "# https://stackoverflow.com/questions/26413185/how-to-recover-matplotlib-defaults-after-setting-stylesheet\n",
        "import matplotlib as mpl\n",
        "mpl.rcParams.update(mpl.rcParamsDefault)"
      ],
      "execution_count": 347,
      "outputs": []
    },
    {
      "cell_type": "code",
      "metadata": {
        "id": "73HZGymlybP2"
      },
      "source": [
        "training_acc = history.history['accuracy']\n",
        "validation_acc = history.history['val_accuracy']\n",
        "training_loss  = history.history['loss']\n",
        "validation_loss = history.history['val_loss']"
      ],
      "execution_count": 348,
      "outputs": []
    },
    {
      "cell_type": "code",
      "metadata": {
        "colab": {
          "base_uri": "https://localhost:8080/",
          "height": 472
        },
        "id": "1jgMVKMDyxck",
        "outputId": "d75f19f6-2468-4a32-bba0-ef6b870490bf"
      },
      "source": [
        "epochs = history.epoch\n",
        "plt.plot(epochs, training_acc, color = '#17e6e6', label='Training Accuracy')\n",
        "plt.plot(epochs, validation_acc,color = '#e61771', label='Validation Accuracy')\n",
        "plt.title('Accuracy vs Epochs')\n",
        "plt.xlabel('Epochs')\n",
        "plt.ylabel('Accuracy')\n",
        "plt.legend()\n",
        "plt.savefig('AccuracyVsEpochs.png')\n",
        "plt.show()"
      ],
      "execution_count": 349,
      "outputs": [
        {
          "output_type": "display_data",
          "data": {
            "image/png": "[encoded data removed]",
            "text/plain": [
              "<Figure size 640x480 with 1 Axes>"
            ]
          },
          "metadata": {
            "tags": []
          }
        }
      ]
    }
  ]
}