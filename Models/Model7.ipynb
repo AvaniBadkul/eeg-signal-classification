{
  "nbformat": 4,
  "nbformat_minor": 0,
  "metadata": {
    "colab": {
      "name": "EEGSignalClassification.ipynb",
      "provenance": []
    },
    "kernelspec": {
      "name": "python3",
      "display_name": "Python 3"
    },
    "language_info": {
      "name": "python"
    }
  },
  "cells": [
    {
      "cell_type": "code",
      "metadata": {
        "id": "iuNWUJKJLY9T"
      },
      "source": [
        "%reset -f "
      ],
      "execution_count": 150,
      "outputs": []
    },
    {
      "cell_type": "code",
      "metadata": {
        "id": "yj4HfL7EcNRq"
      },
      "source": [
        "# libraries used\n",
        "#  https://stats.stackexchange.com/questions/181/how-to-choose-the-number-of-hidden-layers-and-nodes-in-a-feedforward-neural-netw\n",
        "import numpy as np\n",
        "import pandas as pd\n",
        "import seaborn as sns \n",
        "import matplotlib.pyplot as plt\n",
        "from sklearn.model_selection import train_test_split\n",
        "from sklearn.metrics import confusion_matrix, classification_report\n",
        "from sklearn import preprocessing\n",
        "import tensorflow as tf\n",
        "from tensorflow.keras import datasets, layers, models\n",
        "import keras \n",
        "from keras.models import Sequential\n",
        "from keras.layers import Dense, Dropout\n",
        "import itertools"
      ],
      "execution_count": 151,
      "outputs": []
    },
    {
      "cell_type": "code",
      "metadata": {
        "colab": {
          "base_uri": "https://localhost:8080/"
        },
        "id": "WYIp8Qr9ck8Z",
        "outputId": "3544f8de-51fd-452a-d35f-0ac918268266"
      },
      "source": [
        "emotions = pd.read_csv(\"drive/MyDrive/EEG/emotions.csv\")\n",
        "emotions.replace(['NEGATIVE', 'POSITIVE', 'NEUTRAL'], [2, 1, 0], inplace=True)\n",
        "emotions['label'].unique()"
      ],
      "execution_count": 152,
      "outputs": [
        {
          "output_type": "execute_result",
          "data": {
            "text/plain": [
              "array([2, 0, 1])"
            ]
          },
          "metadata": {
            "tags": []
          },
          "execution_count": 152
        }
      ]
    },
    {
      "cell_type": "code",
      "metadata": {
        "id": "PvT5tTotcoS3"
      },
      "source": [
        "X = emotions.drop('label', axis=1).copy()\n",
        "y = (emotions['label'].copy())"
      ],
      "execution_count": 153,
      "outputs": []
    },
    {
      "cell_type": "code",
      "metadata": {
        "id": "GUZOuZK7crNV"
      },
      "source": [
        "# Splitting data into training and testing as 80-20 \n",
        "X_train, X_test, y_train, y_test = train_test_split(X, y, test_size=0.2, random_state=1)\n",
        "\n",
        "x = X_train #returns a numpy array\n",
        "min_max_scaler = preprocessing.MinMaxScaler()\n",
        "x_scaled = min_max_scaler.fit_transform(x)\n",
        "df = pd.DataFrame(x_scaled)"
      ],
      "execution_count": 154,
      "outputs": []
    },
    {
      "cell_type": "code",
      "metadata": {
        "id": "BhRoXS4mj6CV"
      },
      "source": [
        "#  resetting the data - https://www.tensorflow.org/api_docs/python/tf/keras/backend/clear_session\n",
        "tf.keras.backend.clear_session()"
      ],
      "execution_count": 155,
      "outputs": []
    },
    {
      "cell_type": "code",
      "metadata": {
        "colab": {
          "base_uri": "https://localhost:8080/"
        },
        "id": "k4a4vwF5cxvU",
        "outputId": "faa357f8-c6c3-4d50-acc9-a46869ff8893"
      },
      "source": [
        "model = Sequential()\n",
        "model.add(Dense((2*X_train.shape[1]/3), input_dim=X_train.shape[1], activation='relu'))\n",
        "model.add(Dense((2*X_train.shape[1]/3), activation='relu'))\n",
        "model.add(Dense((1*X_train.shape[1]/3), activation='relu'))\n",
        "model.add(Dense((1*X_train.shape[1]/3), activation='relu'))\n",
        "model.add(Dense(3, activation='softmax'))\n",
        "#model.compile(loss='categorical_crossentropy', optimizer='adam', metrics=['accuracy'])\n",
        "print(model.summary())\n",
        "\n",
        "\n",
        "\n"
      ],
      "execution_count": 156,
      "outputs": [
        {
          "output_type": "stream",
          "text": [
            "Model: \"sequential\"\n",
            "_________________________________________________________________\n",
            "Layer (type)                 Output Shape              Param #   \n",
            "=================================================================\n",
            "dense (Dense)                (None, 1698)              4328202   \n",
            "_________________________________________________________________\n",
            "dense_1 (Dense)              (None, 1698)              2884902   \n",
            "_________________________________________________________________\n",
            "dense_2 (Dense)              (None, 849)               1442451   \n",
            "_________________________________________________________________\n",
            "dense_3 (Dense)              (None, 849)               721650    \n",
            "_________________________________________________________________\n",
            "dense_4 (Dense)              (None, 3)                 2550      \n",
            "=================================================================\n",
            "Total params: 9,379,755\n",
            "Trainable params: 9,379,755\n",
            "Non-trainable params: 0\n",
            "_________________________________________________________________\n",
            "None\n"
          ],
          "name": "stdout"
        }
      ]
    },
    {
      "cell_type": "code",
      "metadata": {
        "id": "A2Q9BOrneeUM"
      },
      "source": [
        "# for categorical entropy\n",
        "# https://stackoverflow.com/questions/63211181/error-while-using-categorical-crossentropy\n",
        "from tensorflow.keras.utils import to_categorical\n",
        "Y_one_hot=to_categorical(y_train) # convert Y into an one-hot vector"
      ],
      "execution_count": 157,
      "outputs": []
    },
    {
      "cell_type": "code",
      "metadata": {
        "id": "NEs5ddrJeBeG"
      },
      "source": [
        "# https://stackoverflow.com/questions/59737875/keras-change-learning-rate\n",
        "#optimizer = tf.keras.optimizers.Adam(0.001)\n",
        "#optimizer.learning_rate.assign(0.01)\n",
        "\n",
        "opt = keras.optimizers.Adam(learning_rate=0.01)\n",
        "\n",
        "model.compile(\n",
        "    optimizer=opt,\n",
        "    loss='sparse_categorical_crossentropy',\n",
        "    metrics=['accuracy']\n",
        ")\n",
        "\n",
        "# to be run for categorical cross entropy\n",
        "# model.compile(loss='categorical_crossentropy', optimizer=tf.keras.optimizers.Adam(lr=0.01), metrics=['accuracy'])\n"
      ],
      "execution_count": 158,
      "outputs": []
    },
    {
      "cell_type": "code",
      "metadata": {
        "id": "ASdP3qvxes8r",
        "colab": {
          "base_uri": "https://localhost:8080/"
        },
        "outputId": "21892757-e2cc-460a-d60e-09b4e73be5f6"
      },
      "source": [
        "# make sure that the input data is shuffled before hand so that the model doesn't notice patterns and generalizes well\n",
        "# change y_train to y_hot_encoded when using categorical cross entorpy\n",
        "import time\n",
        "start_time = time.time()\n",
        "history = model.fit(\n",
        "    df,\n",
        "    y_train,\n",
        "    validation_split=0.2,\n",
        "    batch_size=32,\n",
        "    epochs=75)"
      ],
      "execution_count": 159,
      "outputs": [
        {
          "output_type": "stream",
          "text": [
            "Epoch 1/75\n",
            "43/43 [==============================] - 6s 112ms/step - loss: 375.9396 - accuracy: 0.3590 - val_loss: 1.6136 - val_accuracy: 0.3431\n",
            "Epoch 2/75\n",
            "43/43 [==============================] - 4s 85ms/step - loss: 1.2409 - accuracy: 0.2932 - val_loss: 1.0980 - val_accuracy: 0.3431\n",
            "Epoch 3/75\n",
            "43/43 [==============================] - 4s 85ms/step - loss: 1.1487 - accuracy: 0.3374 - val_loss: 1.0984 - val_accuracy: 0.3431\n",
            "Epoch 4/75\n",
            "43/43 [==============================] - 4s 85ms/step - loss: 1.0985 - accuracy: 0.3422 - val_loss: 1.1000 - val_accuracy: 0.3079\n",
            "Epoch 5/75\n",
            "43/43 [==============================] - 4s 86ms/step - loss: 1.0995 - accuracy: 0.3111 - val_loss: 1.0998 - val_accuracy: 0.3431\n",
            "Epoch 6/75\n",
            "43/43 [==============================] - 5s 108ms/step - loss: 1.0992 - accuracy: 0.3486 - val_loss: 1.0987 - val_accuracy: 0.3431\n",
            "Epoch 7/75\n",
            "43/43 [==============================] - 4s 99ms/step - loss: 1.0992 - accuracy: 0.3152 - val_loss: 1.0990 - val_accuracy: 0.3079\n",
            "Epoch 8/75\n",
            "43/43 [==============================] - 4s 97ms/step - loss: 1.0992 - accuracy: 0.3282 - val_loss: 1.1004 - val_accuracy: 0.3079\n",
            "Epoch 9/75\n",
            "43/43 [==============================] - 4s 84ms/step - loss: 1.0977 - accuracy: 0.3478 - val_loss: 1.0994 - val_accuracy: 0.3431\n",
            "Epoch 10/75\n",
            "43/43 [==============================] - 4s 84ms/step - loss: 1.0990 - accuracy: 0.3203 - val_loss: 1.0991 - val_accuracy: 0.3431\n",
            "Epoch 11/75\n",
            "43/43 [==============================] - 4s 98ms/step - loss: 1.0972 - accuracy: 0.3720 - val_loss: 1.0997 - val_accuracy: 0.3079\n",
            "Epoch 12/75\n",
            "43/43 [==============================] - 4s 85ms/step - loss: 1.0989 - accuracy: 0.3241 - val_loss: 1.0997 - val_accuracy: 0.3079\n",
            "Epoch 13/75\n",
            "43/43 [==============================] - 4s 95ms/step - loss: 1.0989 - accuracy: 0.3312 - val_loss: 1.0995 - val_accuracy: 0.3431\n",
            "Epoch 14/75\n",
            "43/43 [==============================] - 4s 87ms/step - loss: 1.0994 - accuracy: 0.3183 - val_loss: 1.0993 - val_accuracy: 0.3431\n",
            "Epoch 15/75\n",
            "43/43 [==============================] - 4s 92ms/step - loss: 1.0984 - accuracy: 0.3412 - val_loss: 1.0993 - val_accuracy: 0.3079\n",
            "Epoch 16/75\n",
            "43/43 [==============================] - 4s 85ms/step - loss: 1.0997 - accuracy: 0.3072 - val_loss: 1.0997 - val_accuracy: 0.3431\n",
            "Epoch 17/75\n",
            "43/43 [==============================] - 4s 92ms/step - loss: 1.0989 - accuracy: 0.3363 - val_loss: 1.0995 - val_accuracy: 0.3431\n",
            "Epoch 18/75\n",
            "43/43 [==============================] - 4s 97ms/step - loss: 1.0976 - accuracy: 0.3326 - val_loss: 1.0996 - val_accuracy: 0.3079\n",
            "Epoch 19/75\n",
            "43/43 [==============================] - 4s 91ms/step - loss: 1.0989 - accuracy: 0.3529 - val_loss: 1.0988 - val_accuracy: 0.3431\n",
            "Epoch 20/75\n",
            "43/43 [==============================] - 4s 97ms/step - loss: 1.0991 - accuracy: 0.3332 - val_loss: 1.0988 - val_accuracy: 0.3431\n",
            "Epoch 21/75\n",
            "43/43 [==============================] - 4s 95ms/step - loss: 1.0987 - accuracy: 0.3250 - val_loss: 1.0994 - val_accuracy: 0.3431\n",
            "Epoch 22/75\n",
            "43/43 [==============================] - 4s 104ms/step - loss: 1.0991 - accuracy: 0.3156 - val_loss: 1.0992 - val_accuracy: 0.3431\n",
            "Epoch 23/75\n",
            "43/43 [==============================] - 4s 84ms/step - loss: 1.0984 - accuracy: 0.3412 - val_loss: 1.0995 - val_accuracy: 0.3079\n",
            "Epoch 24/75\n",
            "43/43 [==============================] - 4s 85ms/step - loss: 1.0992 - accuracy: 0.3351 - val_loss: 1.0997 - val_accuracy: 0.3079\n",
            "Epoch 25/75\n",
            "43/43 [==============================] - 4s 84ms/step - loss: 1.0988 - accuracy: 0.3487 - val_loss: 1.0996 - val_accuracy: 0.3431\n",
            "Epoch 26/75\n",
            "43/43 [==============================] - 4s 85ms/step - loss: 1.0992 - accuracy: 0.3270 - val_loss: 1.0991 - val_accuracy: 0.3431\n",
            "Epoch 27/75\n",
            "43/43 [==============================] - 5s 107ms/step - loss: 1.0980 - accuracy: 0.3488 - val_loss: 1.0997 - val_accuracy: 0.3431\n",
            "Epoch 28/75\n",
            "43/43 [==============================] - 4s 84ms/step - loss: 1.0982 - accuracy: 0.3597 - val_loss: 1.0993 - val_accuracy: 0.3079\n",
            "Epoch 29/75\n",
            "43/43 [==============================] - 4s 98ms/step - loss: 1.0993 - accuracy: 0.3225 - val_loss: 1.0995 - val_accuracy: 0.3079\n",
            "Epoch 30/75\n",
            "43/43 [==============================] - 4s 89ms/step - loss: 1.0992 - accuracy: 0.3205 - val_loss: 1.0988 - val_accuracy: 0.3431\n",
            "Epoch 31/75\n",
            "43/43 [==============================] - 4s 93ms/step - loss: 1.0994 - accuracy: 0.3200 - val_loss: 1.0997 - val_accuracy: 0.3431\n",
            "Epoch 32/75\n",
            "43/43 [==============================] - 4s 92ms/step - loss: 1.0999 - accuracy: 0.3100 - val_loss: 1.0998 - val_accuracy: 0.3431\n",
            "Epoch 33/75\n",
            "43/43 [==============================] - 4s 104ms/step - loss: 1.0978 - accuracy: 0.3489 - val_loss: 1.1003 - val_accuracy: 0.3079\n",
            "Epoch 34/75\n",
            "43/43 [==============================] - 4s 94ms/step - loss: 1.0980 - accuracy: 0.3426 - val_loss: 1.0988 - val_accuracy: 0.3431\n",
            "Epoch 35/75\n",
            "43/43 [==============================] - 5s 117ms/step - loss: 1.0986 - accuracy: 0.3469 - val_loss: 1.0993 - val_accuracy: 0.3079\n",
            "Epoch 36/75\n",
            "43/43 [==============================] - 4s 95ms/step - loss: 1.0989 - accuracy: 0.3410 - val_loss: 1.0993 - val_accuracy: 0.3431\n",
            "Epoch 37/75\n",
            "43/43 [==============================] - 4s 104ms/step - loss: 1.0992 - accuracy: 0.3284 - val_loss: 1.0993 - val_accuracy: 0.3431\n",
            "Epoch 38/75\n",
            "43/43 [==============================] - 4s 103ms/step - loss: 1.0991 - accuracy: 0.3321 - val_loss: 1.0998 - val_accuracy: 0.3431\n",
            "Epoch 39/75\n",
            "43/43 [==============================] - 5s 112ms/step - loss: 1.0999 - accuracy: 0.3183 - val_loss: 1.0991 - val_accuracy: 0.3431\n",
            "Epoch 40/75\n",
            "43/43 [==============================] - 4s 98ms/step - loss: 1.0987 - accuracy: 0.3266 - val_loss: 1.0987 - val_accuracy: 0.3431\n",
            "Epoch 41/75\n",
            "43/43 [==============================] - 5s 107ms/step - loss: 1.1011 - accuracy: 0.2974 - val_loss: 1.0993 - val_accuracy: 0.3431\n",
            "Epoch 42/75\n",
            "43/43 [==============================] - 5s 106ms/step - loss: 1.0984 - accuracy: 0.3562 - val_loss: 1.0996 - val_accuracy: 0.3079\n",
            "Epoch 43/75\n",
            "43/43 [==============================] - 4s 88ms/step - loss: 1.0984 - accuracy: 0.3136 - val_loss: 1.0994 - val_accuracy: 0.3431\n",
            "Epoch 44/75\n",
            "43/43 [==============================] - 4s 86ms/step - loss: 1.0980 - accuracy: 0.3481 - val_loss: 1.0991 - val_accuracy: 0.3079\n",
            "Epoch 45/75\n",
            "43/43 [==============================] - 4s 85ms/step - loss: 1.0986 - accuracy: 0.3522 - val_loss: 1.0986 - val_accuracy: 0.3431\n",
            "Epoch 46/75\n",
            "43/43 [==============================] - 4s 85ms/step - loss: 1.0988 - accuracy: 0.3343 - val_loss: 1.0995 - val_accuracy: 0.3431\n",
            "Epoch 47/75\n",
            "43/43 [==============================] - 4s 86ms/step - loss: 1.0984 - accuracy: 0.3246 - val_loss: 1.0987 - val_accuracy: 0.3431\n",
            "Epoch 48/75\n",
            "43/43 [==============================] - 4s 92ms/step - loss: 1.0980 - accuracy: 0.3576 - val_loss: 1.0984 - val_accuracy: 0.3431\n",
            "Epoch 49/75\n",
            "43/43 [==============================] - 4s 90ms/step - loss: 1.0986 - accuracy: 0.3451 - val_loss: 1.0995 - val_accuracy: 0.3079\n",
            "Epoch 50/75\n",
            "43/43 [==============================] - 4s 92ms/step - loss: 1.0982 - accuracy: 0.3500 - val_loss: 1.0992 - val_accuracy: 0.3431\n",
            "Epoch 51/75\n",
            "43/43 [==============================] - 4s 101ms/step - loss: 1.0994 - accuracy: 0.3141 - val_loss: 1.0990 - val_accuracy: 0.3431\n",
            "Epoch 52/75\n",
            "43/43 [==============================] - 4s 96ms/step - loss: 1.0986 - accuracy: 0.3384 - val_loss: 1.0995 - val_accuracy: 0.3431\n",
            "Epoch 53/75\n",
            "43/43 [==============================] - 4s 86ms/step - loss: 1.0985 - accuracy: 0.3503 - val_loss: 1.0987 - val_accuracy: 0.3431\n",
            "Epoch 54/75\n",
            "43/43 [==============================] - 4s 89ms/step - loss: 1.0994 - accuracy: 0.3137 - val_loss: 1.0991 - val_accuracy: 0.3431\n",
            "Epoch 55/75\n",
            "43/43 [==============================] - 4s 98ms/step - loss: 1.0986 - accuracy: 0.3279 - val_loss: 1.0995 - val_accuracy: 0.3431\n",
            "Epoch 56/75\n",
            "43/43 [==============================] - 4s 93ms/step - loss: 1.0995 - accuracy: 0.3389 - val_loss: 1.0992 - val_accuracy: 0.3079\n",
            "Epoch 57/75\n",
            "43/43 [==============================] - 4s 85ms/step - loss: 1.0980 - accuracy: 0.3566 - val_loss: 1.0995 - val_accuracy: 0.3431\n",
            "Epoch 58/75\n",
            "43/43 [==============================] - 4s 90ms/step - loss: 1.1008 - accuracy: 0.2969 - val_loss: 1.0994 - val_accuracy: 0.3431\n",
            "Epoch 59/75\n",
            "43/43 [==============================] - 4s 86ms/step - loss: 1.0988 - accuracy: 0.3419 - val_loss: 1.0994 - val_accuracy: 0.3079\n",
            "Epoch 60/75\n",
            "43/43 [==============================] - 4s 98ms/step - loss: 1.0988 - accuracy: 0.3391 - val_loss: 1.0989 - val_accuracy: 0.3431\n",
            "Epoch 61/75\n",
            "43/43 [==============================] - 4s 97ms/step - loss: 1.0985 - accuracy: 0.3413 - val_loss: 1.0993 - val_accuracy: 0.3431\n",
            "Epoch 62/75\n",
            "43/43 [==============================] - 4s 97ms/step - loss: 1.0996 - accuracy: 0.3101 - val_loss: 1.0995 - val_accuracy: 0.3431\n",
            "Epoch 63/75\n",
            "43/43 [==============================] - 4s 85ms/step - loss: 1.0983 - accuracy: 0.3338 - val_loss: 1.0992 - val_accuracy: 0.3431\n",
            "Epoch 64/75\n",
            "43/43 [==============================] - 4s 85ms/step - loss: 1.0986 - accuracy: 0.3411 - val_loss: 1.0988 - val_accuracy: 0.3431\n",
            "Epoch 65/75\n",
            "43/43 [==============================] - 4s 96ms/step - loss: 1.0990 - accuracy: 0.3272 - val_loss: 1.0985 - val_accuracy: 0.3431\n",
            "Epoch 66/75\n",
            "43/43 [==============================] - 4s 99ms/step - loss: 1.0993 - accuracy: 0.3329 - val_loss: 1.0995 - val_accuracy: 0.3431\n",
            "Epoch 67/75\n",
            "43/43 [==============================] - 4s 85ms/step - loss: 1.0988 - accuracy: 0.3439 - val_loss: 1.0990 - val_accuracy: 0.3431\n",
            "Epoch 68/75\n",
            "43/43 [==============================] - 4s 85ms/step - loss: 1.0984 - accuracy: 0.3451 - val_loss: 1.0997 - val_accuracy: 0.3079\n",
            "Epoch 69/75\n",
            "43/43 [==============================] - 4s 85ms/step - loss: 1.0983 - accuracy: 0.3349 - val_loss: 1.0989 - val_accuracy: 0.3079\n",
            "Epoch 70/75\n",
            "43/43 [==============================] - 4s 85ms/step - loss: 1.0989 - accuracy: 0.2948 - val_loss: 1.0989 - val_accuracy: 0.3431\n",
            "Epoch 71/75\n",
            "43/43 [==============================] - 4s 99ms/step - loss: 1.0993 - accuracy: 0.3229 - val_loss: 1.0995 - val_accuracy: 0.3079\n",
            "Epoch 72/75\n",
            "43/43 [==============================] - 4s 99ms/step - loss: 1.0994 - accuracy: 0.3415 - val_loss: 1.0998 - val_accuracy: 0.3079\n",
            "Epoch 73/75\n",
            "43/43 [==============================] - 4s 97ms/step - loss: 1.0988 - accuracy: 0.3284 - val_loss: 1.0991 - val_accuracy: 0.3431\n",
            "Epoch 74/75\n",
            "43/43 [==============================] - 4s 86ms/step - loss: 1.0978 - accuracy: 0.3559 - val_loss: 1.0996 - val_accuracy: 0.3079\n",
            "Epoch 75/75\n",
            "43/43 [==============================] - 4s 86ms/step - loss: 1.0990 - accuracy: 0.3398 - val_loss: 1.0993 - val_accuracy: 0.3431\n"
          ],
          "name": "stdout"
        }
      ]
    },
    {
      "cell_type": "code",
      "metadata": {
        "id": "vhwajgGzpvrD",
        "colab": {
          "base_uri": "https://localhost:8080/"
        },
        "outputId": "cee74f0b-113a-48b7-e40f-d4b2eb017dab"
      },
      "source": [
        "history.history"
      ],
      "execution_count": 160,
      "outputs": [
        {
          "output_type": "execute_result",
          "data": {
            "text/plain": [
              "{'accuracy': [0.3497067391872406,\n",
              "  0.3152492642402649,\n",
              "  0.34090909361839294,\n",
              "  0.331378310918808,\n",
              "  0.3123167157173157,\n",
              "  0.3189149498939514,\n",
              "  0.3042522072792053,\n",
              "  0.32917889952659607,\n",
              "  0.32917889952659607,\n",
              "  0.32331377267837524,\n",
              "  0.33870968222618103,\n",
              "  0.3372434079647064,\n",
              "  0.32697945833206177,\n",
              "  0.32478004693984985,\n",
              "  0.3335777223110199,\n",
              "  0.3145161271095276,\n",
              "  0.33870968222618103,\n",
              "  0.32111436128616333,\n",
              "  0.3379765450954437,\n",
              "  0.33870968222618103,\n",
              "  0.3189149498939514,\n",
              "  0.3196480870246887,\n",
              "  0.3343108594417572,\n",
              "  0.3196480870246887,\n",
              "  0.34384164214134216,\n",
              "  0.33870968222618103,\n",
              "  0.33870968222618103,\n",
              "  0.3365102708339691,\n",
              "  0.32258063554763794,\n",
              "  0.3306451737880707,\n",
              "  0.3277125954627991,\n",
              "  0.32697945833206177,\n",
              "  0.3379765450954437,\n",
              "  0.3372434079647064,\n",
              "  0.3299120366573334,\n",
              "  0.33870968222618103,\n",
              "  0.33870968222618103,\n",
              "  0.3306451737880707,\n",
              "  0.320381224155426,\n",
              "  0.33870968222618103,\n",
              "  0.3181818127632141,\n",
              "  0.3350439965724945,\n",
              "  0.32184749841690063,\n",
              "  0.3379765450954437,\n",
              "  0.3365102708339691,\n",
              "  0.32478004693984985,\n",
              "  0.3196480870246887,\n",
              "  0.33870968222618103,\n",
              "  0.3335777223110199,\n",
              "  0.3379765450954437,\n",
              "  0.32404690980911255,\n",
              "  0.3159824013710022,\n",
              "  0.33870968222618103,\n",
              "  0.3189149498939514,\n",
              "  0.3189149498939514,\n",
              "  0.33870968222618103,\n",
              "  0.3299120366573334,\n",
              "  0.30571848154067993,\n",
              "  0.3372434079647064,\n",
              "  0.32331377267837524,\n",
              "  0.3306451737880707,\n",
              "  0.3189149498939514,\n",
              "  0.331378310918808,\n",
              "  0.3306451737880707,\n",
              "  0.32551318407058716,\n",
              "  0.32551318407058716,\n",
              "  0.33870968222618103,\n",
              "  0.3350439965724945,\n",
              "  0.32697945833206177,\n",
              "  0.3152492642402649,\n",
              "  0.32478004693984985,\n",
              "  0.3372434079647064,\n",
              "  0.3350439965724945,\n",
              "  0.34090909361839294,\n",
              "  0.3357771337032318],\n",
              " 'loss': [130.5142059326172,\n",
              "  1.169651746749878,\n",
              "  1.1274056434631348,\n",
              "  1.099103569984436,\n",
              "  1.0995583534240723,\n",
              "  1.1003849506378174,\n",
              "  1.0991790294647217,\n",
              "  1.0989437103271484,\n",
              "  1.098767638206482,\n",
              "  1.0990197658538818,\n",
              "  1.099100947380066,\n",
              "  1.0990986824035645,\n",
              "  1.0989758968353271,\n",
              "  1.0988366603851318,\n",
              "  1.0991958379745483,\n",
              "  1.0991220474243164,\n",
              "  1.0990797281265259,\n",
              "  1.098875641822815,\n",
              "  1.0989803075790405,\n",
              "  1.0990839004516602,\n",
              "  1.0987768173217773,\n",
              "  1.098854422569275,\n",
              "  1.0990285873413086,\n",
              "  1.0996451377868652,\n",
              "  1.0991319417953491,\n",
              "  1.098775863647461,\n",
              "  1.0986827611923218,\n",
              "  1.0992788076400757,\n",
              "  1.099395990371704,\n",
              "  1.0991657972335815,\n",
              "  1.09923255443573,\n",
              "  1.0995991230010986,\n",
              "  1.0989978313446045,\n",
              "  1.0990595817565918,\n",
              "  1.0992982387542725,\n",
              "  1.0988045930862427,\n",
              "  1.098802089691162,\n",
              "  1.0990065336227417,\n",
              "  1.1001564264297485,\n",
              "  1.0997637510299683,\n",
              "  1.0996544361114502,\n",
              "  1.0996310710906982,\n",
              "  1.0993603467941284,\n",
              "  1.0989471673965454,\n",
              "  1.0993579626083374,\n",
              "  1.0991827249526978,\n",
              "  1.0988129377365112,\n",
              "  1.0993179082870483,\n",
              "  1.0988889932632446,\n",
              "  1.0988935232162476,\n",
              "  1.0991517305374146,\n",
              "  1.0993094444274902,\n",
              "  1.0990886688232422,\n",
              "  1.0995378494262695,\n",
              "  1.0990569591522217,\n",
              "  1.0990355014801025,\n",
              "  1.1003479957580566,\n",
              "  1.100264549255371,\n",
              "  1.0991851091384888,\n",
              "  1.0992404222488403,\n",
              "  1.0991090536117554,\n",
              "  1.0992076396942139,\n",
              "  1.099177598953247,\n",
              "  1.098996877670288,\n",
              "  1.0997962951660156,\n",
              "  1.0994555950164795,\n",
              "  1.0996094942092896,\n",
              "  1.0988215208053589,\n",
              "  1.0993586778640747,\n",
              "  1.0988543033599854,\n",
              "  1.099255084991455,\n",
              "  1.0993151664733887,\n",
              "  1.0990512371063232,\n",
              "  1.0990678071975708,\n",
              "  1.0989909172058105],\n",
              " 'val_accuracy': [0.34310850501060486,\n",
              "  0.34310850501060486,\n",
              "  0.34310850501060486,\n",
              "  0.30791789293289185,\n",
              "  0.34310850501060486,\n",
              "  0.34310850501060486,\n",
              "  0.30791789293289185,\n",
              "  0.30791789293289185,\n",
              "  0.34310850501060486,\n",
              "  0.34310850501060486,\n",
              "  0.30791789293289185,\n",
              "  0.30791789293289185,\n",
              "  0.34310850501060486,\n",
              "  0.34310850501060486,\n",
              "  0.30791789293289185,\n",
              "  0.34310850501060486,\n",
              "  0.34310850501060486,\n",
              "  0.30791789293289185,\n",
              "  0.34310850501060486,\n",
              "  0.34310850501060486,\n",
              "  0.34310850501060486,\n",
              "  0.34310850501060486,\n",
              "  0.30791789293289185,\n",
              "  0.30791789293289185,\n",
              "  0.34310850501060486,\n",
              "  0.34310850501060486,\n",
              "  0.34310850501060486,\n",
              "  0.30791789293289185,\n",
              "  0.30791789293289185,\n",
              "  0.34310850501060486,\n",
              "  0.34310850501060486,\n",
              "  0.34310850501060486,\n",
              "  0.30791789293289185,\n",
              "  0.34310850501060486,\n",
              "  0.30791789293289185,\n",
              "  0.34310850501060486,\n",
              "  0.34310850501060486,\n",
              "  0.34310850501060486,\n",
              "  0.34310850501060486,\n",
              "  0.34310850501060486,\n",
              "  0.34310850501060486,\n",
              "  0.30791789293289185,\n",
              "  0.34310850501060486,\n",
              "  0.30791789293289185,\n",
              "  0.34310850501060486,\n",
              "  0.34310850501060486,\n",
              "  0.34310850501060486,\n",
              "  0.34310850501060486,\n",
              "  0.30791789293289185,\n",
              "  0.34310850501060486,\n",
              "  0.34310850501060486,\n",
              "  0.34310850501060486,\n",
              "  0.34310850501060486,\n",
              "  0.34310850501060486,\n",
              "  0.34310850501060486,\n",
              "  0.30791789293289185,\n",
              "  0.34310850501060486,\n",
              "  0.34310850501060486,\n",
              "  0.30791789293289185,\n",
              "  0.34310850501060486,\n",
              "  0.34310850501060486,\n",
              "  0.34310850501060486,\n",
              "  0.34310850501060486,\n",
              "  0.34310850501060486,\n",
              "  0.34310850501060486,\n",
              "  0.34310850501060486,\n",
              "  0.34310850501060486,\n",
              "  0.30791789293289185,\n",
              "  0.30791789293289185,\n",
              "  0.34310850501060486,\n",
              "  0.30791789293289185,\n",
              "  0.30791789293289185,\n",
              "  0.34310850501060486,\n",
              "  0.30791789293289185,\n",
              "  0.34310850501060486],\n",
              " 'val_loss': [1.6136211156845093,\n",
              "  1.0979702472686768,\n",
              "  1.0983928442001343,\n",
              "  1.0999590158462524,\n",
              "  1.099772334098816,\n",
              "  1.0986814498901367,\n",
              "  1.0989948511123657,\n",
              "  1.1003514528274536,\n",
              "  1.0994447469711304,\n",
              "  1.0990568399429321,\n",
              "  1.0996792316436768,\n",
              "  1.0996557474136353,\n",
              "  1.0995473861694336,\n",
              "  1.099299669265747,\n",
              "  1.0993226766586304,\n",
              "  1.0996774435043335,\n",
              "  1.0994902849197388,\n",
              "  1.0995523929595947,\n",
              "  1.0987935066223145,\n",
              "  1.0988138914108276,\n",
              "  1.0993883609771729,\n",
              "  1.0991748571395874,\n",
              "  1.099544882774353,\n",
              "  1.09968900680542,\n",
              "  1.0996029376983643,\n",
              "  1.099121332168579,\n",
              "  1.0996772050857544,\n",
              "  1.0992634296417236,\n",
              "  1.0995357036590576,\n",
              "  1.0988497734069824,\n",
              "  1.0997369289398193,\n",
              "  1.0998300313949585,\n",
              "  1.1002789735794067,\n",
              "  1.0987532138824463,\n",
              "  1.0993229150772095,\n",
              "  1.0993353128433228,\n",
              "  1.0993287563323975,\n",
              "  1.0997501611709595,\n",
              "  1.0991079807281494,\n",
              "  1.0986647605895996,\n",
              "  1.0992813110351562,\n",
              "  1.0995692014694214,\n",
              "  1.0993574857711792,\n",
              "  1.0991086959838867,\n",
              "  1.098623275756836,\n",
              "  1.0994516611099243,\n",
              "  1.098701000213623,\n",
              "  1.098364233970642,\n",
              "  1.0994596481323242,\n",
              "  1.0992422103881836,\n",
              "  1.0989773273468018,\n",
              "  1.0995434522628784,\n",
              "  1.0986948013305664,\n",
              "  1.0990729331970215,\n",
              "  1.0994977951049805,\n",
              "  1.0992414951324463,\n",
              "  1.0994993448257446,\n",
              "  1.0994476079940796,\n",
              "  1.0994490385055542,\n",
              "  1.0988906621932983,\n",
              "  1.0993152856826782,\n",
              "  1.099479079246521,\n",
              "  1.0992379188537598,\n",
              "  1.0988399982452393,\n",
              "  1.0985078811645508,\n",
              "  1.0994558334350586,\n",
              "  1.0989762544631958,\n",
              "  1.0996570587158203,\n",
              "  1.0988651514053345,\n",
              "  1.0989410877227783,\n",
              "  1.0994668006896973,\n",
              "  1.0998271703720093,\n",
              "  1.0991456508636475,\n",
              "  1.099600076675415,\n",
              "  1.0992885828018188]}"
            ]
          },
          "metadata": {
            "tags": []
          },
          "execution_count": 160
        }
      ]
    },
    {
      "cell_type": "code",
      "metadata": {
        "colab": {
          "base_uri": "https://localhost:8080/"
        },
        "id": "Kyn1dHRRJ5Wn",
        "outputId": "b0239656-1635-43cb-97ca-bfc7e62fc24a"
      },
      "source": [
        "print(\"--- %s seconds ---\" % (time.time() - start_time))\n"
      ],
      "execution_count": 161,
      "outputs": [
        {
          "output_type": "stream",
          "text": [
            "--- 300.87691736221313 seconds ---\n"
          ],
          "name": "stdout"
        }
      ]
    },
    {
      "cell_type": "code",
      "metadata": {
        "id": "rOU0i1e6jhr3"
      },
      "source": [
        "x_test = X_test #returns a numpy array\n",
        "min_max_scaler = preprocessing.MinMaxScaler()\n",
        "x_scaled_test = min_max_scaler.fit_transform(x_test)\n",
        "df_test = pd.DataFrame(x_scaled_test)"
      ],
      "execution_count": 162,
      "outputs": []
    },
    {
      "cell_type": "code",
      "metadata": {
        "id": "OgeGekJ8lW6S"
      },
      "source": [
        "predictions = model.predict(x=df_test, batch_size=32)"
      ],
      "execution_count": 163,
      "outputs": []
    },
    {
      "cell_type": "code",
      "metadata": {
        "id": "1o6zqIsfl2QX"
      },
      "source": [
        "rounded_predictions = np.argmax(predictions, axis=-1)"
      ],
      "execution_count": 164,
      "outputs": []
    },
    {
      "cell_type": "code",
      "metadata": {
        "id": "NQTy4F7TmotU"
      },
      "source": [
        "cm = confusion_matrix(y_true=y_test, y_pred=rounded_predictions)"
      ],
      "execution_count": 165,
      "outputs": []
    },
    {
      "cell_type": "code",
      "metadata": {
        "colab": {
          "base_uri": "https://localhost:8080/",
          "height": 976
        },
        "id": "rieDywHXuA6R",
        "outputId": "a5e50de0-b84d-4d46-ed35-a608bfcfaec7"
      },
      "source": [
        "label_mapping = {'NEGATIVE': 0, 'NEUTRAL': 1, 'POSITIVE': 2}\n",
        "# for diff dataset\n",
        "# label_mapping = {'NEGATIVE': 0, 'POSITIVE': 1}\n",
        "plt.figure(figsize=(8, 8))\n",
        "sns.heatmap(cm, annot=True, vmin=0, fmt='g', cbar=False, cmap='Blues')\n",
        "clr = classification_report(y_test, rounded_predictions, target_names=label_mapping.keys())\n",
        "plt.xticks(np.arange(3) + 0.5, label_mapping.keys())\n",
        "plt.yticks(np.arange(3) + 0.5, label_mapping.keys())\n",
        "plt.xlabel(\"Predicted\")\n",
        "plt.ylabel(\"Actual\")\n",
        "plt.title(\"Confusion Matrix\")\n",
        "plt.show()\n",
        "\n",
        "print(\"Classification Report:\\n----------------------\\n\", clr)\n",
        "\n"
      ],
      "execution_count": 166,
      "outputs": [
        {
          "output_type": "stream",
          "text": [
            "/usr/local/lib/python3.7/dist-packages/sklearn/metrics/_classification.py:1272: UndefinedMetricWarning: Precision and F-score are ill-defined and being set to 0.0 in labels with no predicted samples. Use `zero_division` parameter to control this behavior.\n",
            "  _warn_prf(average, modifier, msg_start, len(result))\n"
          ],
          "name": "stderr"
        },
        {
          "output_type": "display_data",
          "data": {
            "image/png": "[encoded data removed]",
            "text/plain": [
              "<Figure size 800x800 with 1 Axes>"
            ]
          },
          "metadata": {
            "tags": []
          }
        },
        {
          "output_type": "stream",
          "text": [
            "Classification Report:\n",
            "----------------------\n",
            "               precision    recall  f1-score   support\n",
            "\n",
            "    NEGATIVE       0.32      1.00      0.49       137\n",
            "     NEUTRAL       0.00      0.00      0.00       147\n",
            "    POSITIVE       0.00      0.00      0.00       143\n",
            "\n",
            "    accuracy                           0.32       427\n",
            "   macro avg       0.11      0.33      0.16       427\n",
            "weighted avg       0.10      0.32      0.16       427\n",
            "\n"
          ],
          "name": "stdout"
        }
      ]
    },
    {
      "cell_type": "code",
      "metadata": {
        "id": "s5wbr_oav-Kb"
      },
      "source": [
        "# https://stackoverflow.com/questions/26413185/how-to-recover-matplotlib-defaults-after-setting-stylesheet\n",
        "import matplotlib as mpl\n",
        "mpl.rcParams.update(mpl.rcParamsDefault)"
      ],
      "execution_count": 167,
      "outputs": []
    },
    {
      "cell_type": "code",
      "metadata": {
        "id": "73HZGymlybP2"
      },
      "source": [
        "training_acc = history.history['accuracy']\n",
        "validation_acc = history.history['val_accuracy']\n",
        "training_loss  = history.history['loss']\n",
        "validation_loss = history.history['val_loss']"
      ],
      "execution_count": 168,
      "outputs": []
    },
    {
      "cell_type": "code",
      "metadata": {
        "colab": {
          "base_uri": "https://localhost:8080/",
          "height": 472
        },
        "id": "1jgMVKMDyxck",
        "outputId": "c520c357-8b2e-4887-a9b6-bacebf214658"
      },
      "source": [
        "epochs = history.epoch\n",
        "plt.plot(epochs, training_acc, color = '#17e6e6', label='Training Accuracy')\n",
        "plt.plot(epochs, validation_acc,color = '#e61771', label='Validation Accuracy')\n",
        "plt.title('Accuracy vs Epochs')\n",
        "plt.xlabel('Epochs')\n",
        "plt.ylabel('Accuracy')\n",
        "plt.legend()\n",
        "plt.savefig('AccuracyVsEpochs.png')\n",
        "plt.show()"
      ],
      "execution_count": 169,
      "outputs": [
        {
          "output_type": "display_data",
          "data": {
            "image/png": "[encoded data removed]",
            "text/plain": [
              "<Figure size 640x480 with 1 Axes>"
            ]
          },
          "metadata": {
            "tags": []
          }
        }
      ]
    }
  ]
}