{
  "nbformat": 4,
  "nbformat_minor": 0,
  "metadata": {
    "colab": {
      "name": "EEGSignalClassification.ipynb",
      "provenance": []
    },
    "kernelspec": {
      "name": "python3",
      "display_name": "Python 3"
    },
    "language_info": {
      "name": "python"
    }
  },
  "cells": [
    {
      "cell_type": "code",
      "metadata": {
        "id": "iuNWUJKJLY9T"
      },
      "source": [
        "%reset -f "
      ],
      "execution_count": 190,
      "outputs": []
    },
    {
      "cell_type": "code",
      "metadata": {
        "id": "yj4HfL7EcNRq"
      },
      "source": [
        "# libraries used\n",
        "#  https://stats.stackexchange.com/questions/181/how-to-choose-the-number-of-hidden-layers-and-nodes-in-a-feedforward-neural-netw\n",
        "import numpy as np\n",
        "import pandas as pd\n",
        "import seaborn as sns \n",
        "import matplotlib.pyplot as plt\n",
        "from sklearn.model_selection import train_test_split\n",
        "from sklearn.metrics import confusion_matrix, classification_report\n",
        "from sklearn import preprocessing\n",
        "import tensorflow as tf\n",
        "from tensorflow.keras import datasets, layers, models\n",
        "import keras \n",
        "from keras.models import Sequential\n",
        "from keras.layers import Dense, Dropout\n",
        "import itertools"
      ],
      "execution_count": 191,
      "outputs": []
    },
    {
      "cell_type": "code",
      "metadata": {
        "colab": {
          "base_uri": "https://localhost:8080/"
        },
        "id": "WYIp8Qr9ck8Z",
        "outputId": "13c96476-bfd0-4a95-91e6-cd60307f783b"
      },
      "source": [
        "emotions = pd.read_csv(\"drive/MyDrive/EEG/emotions.csv\")\n",
        "emotions.replace(['NEGATIVE', 'POSITIVE', 'NEUTRAL'], [2, 1, 0], inplace=True)\n",
        "emotions['label'].unique()"
      ],
      "execution_count": 192,
      "outputs": [
        {
          "output_type": "execute_result",
          "data": {
            "text/plain": [
              "array([2, 0, 1])"
            ]
          },
          "metadata": {
            "tags": []
          },
          "execution_count": 192
        }
      ]
    },
    {
      "cell_type": "code",
      "metadata": {
        "id": "PvT5tTotcoS3"
      },
      "source": [
        "X = emotions.drop('label', axis=1).copy()\n",
        "y = (emotions['label'].copy())"
      ],
      "execution_count": 193,
      "outputs": []
    },
    {
      "cell_type": "code",
      "metadata": {
        "id": "GUZOuZK7crNV"
      },
      "source": [
        "# Splitting data into training and testing as 80-20 \n",
        "X_train, X_test, y_train, y_test = train_test_split(X, y, test_size=0.2, random_state=1)\n",
        "\n",
        "x = X_train #returns a numpy array\n",
        "min_max_scaler = preprocessing.MinMaxScaler()\n",
        "x_scaled = min_max_scaler.fit_transform(x)\n",
        "df = pd.DataFrame(x_scaled)"
      ],
      "execution_count": 194,
      "outputs": []
    },
    {
      "cell_type": "code",
      "metadata": {
        "id": "BhRoXS4mj6CV"
      },
      "source": [
        "#  resetting the data - https://www.tensorflow.org/api_docs/python/tf/keras/backend/clear_session\n",
        "tf.keras.backend.clear_session()"
      ],
      "execution_count": 195,
      "outputs": []
    },
    {
      "cell_type": "code",
      "metadata": {
        "colab": {
          "base_uri": "https://localhost:8080/"
        },
        "id": "k4a4vwF5cxvU",
        "outputId": "b4aacf6d-a0cc-4255-9fe0-3a39ea488731"
      },
      "source": [
        "model = Sequential()\n",
        "model.add(Dense((2*X_train.shape[1]/3), input_dim=X_train.shape[1], activation='relu'))\n",
        "model.add(Dense((2*X_train.shape[1]/3), activation='relu'))\n",
        "model.add(Dense((1*X_train.shape[1]/3), activation='relu'))\n",
        "model.add(Dense((1*X_train.shape[1]/3), activation='relu'))\n",
        "model.add(Dense(3, activation='softmax'))\n",
        "#model.compile(loss='categorical_crossentropy', optimizer='adam', metrics=['accuracy'])\n",
        "print(model.summary())\n",
        "\n",
        "\n",
        "\n"
      ],
      "execution_count": 196,
      "outputs": [
        {
          "output_type": "stream",
          "text": [
            "Model: \"sequential\"\n",
            "_________________________________________________________________\n",
            "Layer (type)                 Output Shape              Param #   \n",
            "=================================================================\n",
            "dense (Dense)                (None, 1698)              4328202   \n",
            "_________________________________________________________________\n",
            "dense_1 (Dense)              (None, 1698)              2884902   \n",
            "_________________________________________________________________\n",
            "dense_2 (Dense)              (None, 849)               1442451   \n",
            "_________________________________________________________________\n",
            "dense_3 (Dense)              (None, 849)               721650    \n",
            "_________________________________________________________________\n",
            "dense_4 (Dense)              (None, 3)                 2550      \n",
            "=================================================================\n",
            "Total params: 9,379,755\n",
            "Trainable params: 9,379,755\n",
            "Non-trainable params: 0\n",
            "_________________________________________________________________\n",
            "None\n"
          ],
          "name": "stdout"
        }
      ]
    },
    {
      "cell_type": "code",
      "metadata": {
        "id": "A2Q9BOrneeUM"
      },
      "source": [
        "# for categorical entropy\n",
        "# https://stackoverflow.com/questions/63211181/error-while-using-categorical-crossentropy\n",
        "from tensorflow.keras.utils import to_categorical\n",
        "Y_one_hot=to_categorical(y_train) # convert Y into an one-hot vector"
      ],
      "execution_count": 197,
      "outputs": []
    },
    {
      "cell_type": "code",
      "metadata": {
        "id": "NEs5ddrJeBeG",
        "colab": {
          "base_uri": "https://localhost:8080/"
        },
        "outputId": "a2c5cf86-80e2-4e4a-993c-b71ebe34e9e2"
      },
      "source": [
        "# https://stackoverflow.com/questions/59737875/keras-change-learning-rate\n",
        "#optimizer = tf.keras.optimizers.Adam(0.001)\n",
        "#optimizer.learning_rate.assign(0.01)\n",
        "\n",
        "opt = keras.optimizers.SGD(learning_rate=0.01)\n",
        "\n",
        "# model.compile(\n",
        "#    optimizer=opt,\n",
        "#    loss='categorical_crossentropy',\n",
        "#    metrics=['accuracy']\n",
        "#)\n",
        "\n",
        "# to be run for categorical cross entropy\n",
        "model.compile(loss='categorical_crossentropy', optimizer=tf.keras.optimizers.Adam(lr=0.01), metrics=['accuracy'])\n"
      ],
      "execution_count": 198,
      "outputs": [
        {
          "output_type": "stream",
          "text": [
            "/usr/local/lib/python3.7/dist-packages/tensorflow/python/keras/optimizer_v2/optimizer_v2.py:375: UserWarning: The `lr` argument is deprecated, use `learning_rate` instead.\n",
            "  \"The `lr` argument is deprecated, use `learning_rate` instead.\")\n"
          ],
          "name": "stderr"
        }
      ]
    },
    {
      "cell_type": "code",
      "metadata": {
        "id": "ASdP3qvxes8r",
        "colab": {
          "base_uri": "https://localhost:8080/"
        },
        "outputId": "28440008-9e39-4aa6-a686-8e0d99a1e74d"
      },
      "source": [
        "# make sure that the input data is shuffled before hand so that the model doesn't notice patterns and generalizes well\n",
        "# change y_train to y_hot_encoded when using categorical cross entorpy\n",
        "import time\n",
        "start_time = time.time()\n",
        "#history = model.fit(\n",
        "#    df,\n",
        "#    y_train,\n",
        "#    validation_split=0.2,\n",
        "#    batch_size=32,\n",
        "#    epochs=75)\n",
        "\n",
        "\n",
        "# to be run for categorical cross entropy\n",
        "\n",
        "history = model.fit(\n",
        "    df,\n",
        "    Y_one_hot,\n",
        "    validation_split=0.2,\n",
        "    batch_size=32,\n",
        "    epochs=75)"
      ],
      "execution_count": 199,
      "outputs": [
        {
          "output_type": "stream",
          "text": [
            "Epoch 1/75\n",
            "43/43 [==============================] - 5s 103ms/step - loss: 219.3396 - accuracy: 0.3465 - val_loss: 1.2743 - val_accuracy: 0.3431\n",
            "Epoch 2/75\n",
            "43/43 [==============================] - 4s 90ms/step - loss: 1.0654 - accuracy: 0.4656 - val_loss: 0.5856 - val_accuracy: 0.5924\n",
            "Epoch 3/75\n",
            "43/43 [==============================] - 5s 106ms/step - loss: 0.6244 - accuracy: 0.7147 - val_loss: 0.7295 - val_accuracy: 0.5279\n",
            "Epoch 4/75\n",
            "43/43 [==============================] - 4s 85ms/step - loss: 0.5843 - accuracy: 0.7239 - val_loss: 0.5141 - val_accuracy: 0.7273\n",
            "Epoch 5/75\n",
            "43/43 [==============================] - 4s 98ms/step - loss: 0.4463 - accuracy: 0.8134 - val_loss: 0.3449 - val_accuracy: 0.8856\n",
            "Epoch 6/75\n",
            "43/43 [==============================] - 4s 85ms/step - loss: 0.3493 - accuracy: 0.8701 - val_loss: 0.2736 - val_accuracy: 0.9238\n",
            "Epoch 7/75\n",
            "43/43 [==============================] - 4s 99ms/step - loss: 0.3585 - accuracy: 0.8705 - val_loss: 0.3511 - val_accuracy: 0.9150\n",
            "Epoch 8/75\n",
            "43/43 [==============================] - 4s 86ms/step - loss: 0.3727 - accuracy: 0.8756 - val_loss: 0.2848 - val_accuracy: 0.9003\n",
            "Epoch 9/75\n",
            "43/43 [==============================] - 4s 104ms/step - loss: 0.5860 - accuracy: 0.7769 - val_loss: 0.4213 - val_accuracy: 0.8739\n",
            "Epoch 10/75\n",
            "43/43 [==============================] - 4s 98ms/step - loss: 0.8929 - accuracy: 0.7100 - val_loss: 0.2513 - val_accuracy: 0.9296\n",
            "Epoch 11/75\n",
            "43/43 [==============================] - 4s 96ms/step - loss: 0.4268 - accuracy: 0.8601 - val_loss: 0.2780 - val_accuracy: 0.9003\n",
            "Epoch 12/75\n",
            "43/43 [==============================] - 5s 114ms/step - loss: 0.4262 - accuracy: 0.8291 - val_loss: 0.2415 - val_accuracy: 0.9150\n",
            "Epoch 13/75\n",
            "43/43 [==============================] - 4s 87ms/step - loss: 0.4215 - accuracy: 0.8436 - val_loss: 0.3318 - val_accuracy: 0.9208\n",
            "Epoch 14/75\n",
            "43/43 [==============================] - 4s 95ms/step - loss: 0.3382 - accuracy: 0.8957 - val_loss: 0.4577 - val_accuracy: 0.8475\n",
            "Epoch 15/75\n",
            "43/43 [==============================] - 4s 100ms/step - loss: 0.3803 - accuracy: 0.8706 - val_loss: 0.4494 - val_accuracy: 0.8094\n",
            "Epoch 16/75\n",
            "43/43 [==============================] - 4s 87ms/step - loss: 0.4303 - accuracy: 0.8486 - val_loss: 0.4600 - val_accuracy: 0.8182\n",
            "Epoch 17/75\n",
            "43/43 [==============================] - 4s 85ms/step - loss: 0.3822 - accuracy: 0.8737 - val_loss: 0.3679 - val_accuracy: 0.8094\n",
            "Epoch 18/75\n",
            "43/43 [==============================] - 4s 104ms/step - loss: 0.2941 - accuracy: 0.8876 - val_loss: 0.2634 - val_accuracy: 0.9179\n",
            "Epoch 19/75\n",
            "43/43 [==============================] - 5s 105ms/step - loss: 0.3617 - accuracy: 0.8658 - val_loss: 0.2206 - val_accuracy: 0.9267\n",
            "Epoch 20/75\n",
            "43/43 [==============================] - 4s 86ms/step - loss: 0.2748 - accuracy: 0.9018 - val_loss: 0.3154 - val_accuracy: 0.8856\n",
            "Epoch 21/75\n",
            "43/43 [==============================] - 4s 98ms/step - loss: 0.3191 - accuracy: 0.8765 - val_loss: 0.2409 - val_accuracy: 0.9267\n",
            "Epoch 22/75\n",
            "43/43 [==============================] - 4s 98ms/step - loss: 0.2517 - accuracy: 0.9143 - val_loss: 0.2145 - val_accuracy: 0.9150\n",
            "Epoch 23/75\n",
            "43/43 [==============================] - 4s 99ms/step - loss: 0.2664 - accuracy: 0.9100 - val_loss: 0.1974 - val_accuracy: 0.9267\n",
            "Epoch 24/75\n",
            "43/43 [==============================] - 4s 92ms/step - loss: 0.2868 - accuracy: 0.9010 - val_loss: 0.4858 - val_accuracy: 0.7449\n",
            "Epoch 25/75\n",
            "43/43 [==============================] - 4s 90ms/step - loss: 0.3225 - accuracy: 0.8762 - val_loss: 0.2457 - val_accuracy: 0.9062\n",
            "Epoch 26/75\n",
            "43/43 [==============================] - 4s 98ms/step - loss: 0.2634 - accuracy: 0.9133 - val_loss: 0.2337 - val_accuracy: 0.9091\n",
            "Epoch 27/75\n",
            "43/43 [==============================] - 4s 97ms/step - loss: 0.3182 - accuracy: 0.8778 - val_loss: 0.2295 - val_accuracy: 0.9267\n",
            "Epoch 28/75\n",
            "43/43 [==============================] - 4s 92ms/step - loss: 0.2915 - accuracy: 0.8949 - val_loss: 0.3015 - val_accuracy: 0.8768\n",
            "Epoch 29/75\n",
            "43/43 [==============================] - 4s 86ms/step - loss: 0.3443 - accuracy: 0.8631 - val_loss: 0.2541 - val_accuracy: 0.9150\n",
            "Epoch 30/75\n",
            "43/43 [==============================] - 4s 103ms/step - loss: 0.2968 - accuracy: 0.8845 - val_loss: 0.2022 - val_accuracy: 0.9384\n",
            "Epoch 31/75\n",
            "43/43 [==============================] - 4s 86ms/step - loss: 0.2638 - accuracy: 0.9031 - val_loss: 0.3412 - val_accuracy: 0.8240\n",
            "Epoch 32/75\n",
            "43/43 [==============================] - 4s 98ms/step - loss: 0.3425 - accuracy: 0.8640 - val_loss: 0.2238 - val_accuracy: 0.9267\n",
            "Epoch 33/75\n",
            "43/43 [==============================] - 4s 91ms/step - loss: 0.2294 - accuracy: 0.9185 - val_loss: 0.2104 - val_accuracy: 0.9238\n",
            "Epoch 34/75\n",
            "43/43 [==============================] - 4s 85ms/step - loss: 0.2423 - accuracy: 0.9183 - val_loss: 0.2016 - val_accuracy: 0.9267\n",
            "Epoch 35/75\n",
            "43/43 [==============================] - 4s 99ms/step - loss: 0.2468 - accuracy: 0.9087 - val_loss: 0.1789 - val_accuracy: 0.9296\n",
            "Epoch 36/75\n",
            "43/43 [==============================] - 4s 92ms/step - loss: 0.2171 - accuracy: 0.9176 - val_loss: 0.1937 - val_accuracy: 0.9296\n",
            "Epoch 37/75\n",
            "43/43 [==============================] - 4s 92ms/step - loss: 0.2342 - accuracy: 0.9199 - val_loss: 0.1962 - val_accuracy: 0.9179\n",
            "Epoch 38/75\n",
            "43/43 [==============================] - 4s 98ms/step - loss: 0.2145 - accuracy: 0.9156 - val_loss: 0.2156 - val_accuracy: 0.9296\n",
            "Epoch 39/75\n",
            "43/43 [==============================] - 4s 89ms/step - loss: 0.2751 - accuracy: 0.9039 - val_loss: 0.2843 - val_accuracy: 0.8739\n",
            "Epoch 40/75\n",
            "43/43 [==============================] - 4s 94ms/step - loss: 0.2804 - accuracy: 0.8865 - val_loss: 0.6190 - val_accuracy: 0.7595\n",
            "Epoch 41/75\n",
            "43/43 [==============================] - 4s 86ms/step - loss: 0.6637 - accuracy: 0.8099 - val_loss: 0.2355 - val_accuracy: 0.9326\n",
            "Epoch 42/75\n",
            "43/43 [==============================] - 4s 99ms/step - loss: 0.3605 - accuracy: 0.8675 - val_loss: 0.4177 - val_accuracy: 0.8299\n",
            "Epoch 43/75\n",
            "43/43 [==============================] - 4s 94ms/step - loss: 0.4170 - accuracy: 0.8393 - val_loss: 0.2906 - val_accuracy: 0.9003\n",
            "Epoch 44/75\n",
            "43/43 [==============================] - 4s 98ms/step - loss: 0.2752 - accuracy: 0.9045 - val_loss: 0.2354 - val_accuracy: 0.9120\n",
            "Epoch 45/75\n",
            "43/43 [==============================] - 4s 86ms/step - loss: 0.3024 - accuracy: 0.8754 - val_loss: 0.3735 - val_accuracy: 0.8182\n",
            "Epoch 46/75\n",
            "43/43 [==============================] - 4s 101ms/step - loss: 0.3045 - accuracy: 0.8796 - val_loss: 0.3348 - val_accuracy: 0.8622\n",
            "Epoch 47/75\n",
            "43/43 [==============================] - 4s 104ms/step - loss: 0.3563 - accuracy: 0.8673 - val_loss: 0.2162 - val_accuracy: 0.9355\n",
            "Epoch 48/75\n",
            "43/43 [==============================] - 5s 113ms/step - loss: 0.2804 - accuracy: 0.9078 - val_loss: 0.2528 - val_accuracy: 0.9091\n",
            "Epoch 49/75\n",
            "43/43 [==============================] - 4s 90ms/step - loss: 0.3123 - accuracy: 0.8997 - val_loss: 0.2671 - val_accuracy: 0.8739\n",
            "Epoch 50/75\n",
            "43/43 [==============================] - 4s 91ms/step - loss: 0.2191 - accuracy: 0.9236 - val_loss: 0.5625 - val_accuracy: 0.7214\n",
            "Epoch 51/75\n",
            "43/43 [==============================] - 4s 94ms/step - loss: 0.3779 - accuracy: 0.8664 - val_loss: 0.4931 - val_accuracy: 0.7977\n",
            "Epoch 52/75\n",
            "43/43 [==============================] - 4s 93ms/step - loss: 0.3114 - accuracy: 0.8791 - val_loss: 0.2802 - val_accuracy: 0.9179\n",
            "Epoch 53/75\n",
            "43/43 [==============================] - 4s 100ms/step - loss: 0.3147 - accuracy: 0.9044 - val_loss: 0.4203 - val_accuracy: 0.8358\n",
            "Epoch 54/75\n",
            "43/43 [==============================] - 4s 93ms/step - loss: 0.2993 - accuracy: 0.8938 - val_loss: 0.2318 - val_accuracy: 0.9296\n",
            "Epoch 55/75\n",
            "43/43 [==============================] - 4s 85ms/step - loss: 0.2537 - accuracy: 0.9175 - val_loss: 0.3403 - val_accuracy: 0.8328\n",
            "Epoch 56/75\n",
            "43/43 [==============================] - 4s 93ms/step - loss: 0.2477 - accuracy: 0.9157 - val_loss: 0.1820 - val_accuracy: 0.9296\n",
            "Epoch 57/75\n",
            "43/43 [==============================] - 5s 106ms/step - loss: 0.2094 - accuracy: 0.9298 - val_loss: 0.2059 - val_accuracy: 0.9267\n",
            "Epoch 58/75\n",
            "43/43 [==============================] - 4s 87ms/step - loss: 0.2288 - accuracy: 0.9195 - val_loss: 0.1914 - val_accuracy: 0.9326\n",
            "Epoch 59/75\n",
            "43/43 [==============================] - 4s 92ms/step - loss: 0.1906 - accuracy: 0.9340 - val_loss: 0.2003 - val_accuracy: 0.9179\n",
            "Epoch 60/75\n",
            "43/43 [==============================] - 5s 107ms/step - loss: 0.2125 - accuracy: 0.9244 - val_loss: 0.1888 - val_accuracy: 0.9267\n",
            "Epoch 61/75\n",
            "43/43 [==============================] - 4s 89ms/step - loss: 0.2114 - accuracy: 0.9158 - val_loss: 0.2221 - val_accuracy: 0.9326\n",
            "Epoch 62/75\n",
            "43/43 [==============================] - 5s 109ms/step - loss: 0.1974 - accuracy: 0.9221 - val_loss: 0.2247 - val_accuracy: 0.9150\n",
            "Epoch 63/75\n",
            "43/43 [==============================] - 4s 91ms/step - loss: 0.2199 - accuracy: 0.9204 - val_loss: 0.2360 - val_accuracy: 0.8974\n",
            "Epoch 64/75\n",
            "43/43 [==============================] - 4s 94ms/step - loss: 0.2255 - accuracy: 0.9113 - val_loss: 0.2253 - val_accuracy: 0.9062\n",
            "Epoch 65/75\n",
            "43/43 [==============================] - 4s 90ms/step - loss: 0.2201 - accuracy: 0.9155 - val_loss: 0.1687 - val_accuracy: 0.9355\n",
            "Epoch 66/75\n",
            "43/43 [==============================] - 4s 91ms/step - loss: 0.2109 - accuracy: 0.9076 - val_loss: 0.1843 - val_accuracy: 0.9296\n",
            "Epoch 67/75\n",
            "43/43 [==============================] - 4s 103ms/step - loss: 0.2030 - accuracy: 0.9234 - val_loss: 0.2064 - val_accuracy: 0.9296\n",
            "Epoch 68/75\n",
            "43/43 [==============================] - 6s 129ms/step - loss: 0.2345 - accuracy: 0.9183 - val_loss: 0.2127 - val_accuracy: 0.9179\n",
            "Epoch 69/75\n",
            "43/43 [==============================] - 4s 103ms/step - loss: 0.2191 - accuracy: 0.9194 - val_loss: 0.1843 - val_accuracy: 0.9355\n",
            "Epoch 70/75\n",
            "43/43 [==============================] - 5s 106ms/step - loss: 0.1899 - accuracy: 0.9280 - val_loss: 0.1850 - val_accuracy: 0.9296\n",
            "Epoch 71/75\n",
            "43/43 [==============================] - 4s 86ms/step - loss: 0.1995 - accuracy: 0.9235 - val_loss: 0.1996 - val_accuracy: 0.9267\n",
            "Epoch 72/75\n",
            "43/43 [==============================] - 4s 86ms/step - loss: 0.1811 - accuracy: 0.9396 - val_loss: 0.1746 - val_accuracy: 0.9326\n",
            "Epoch 73/75\n",
            "43/43 [==============================] - 4s 87ms/step - loss: 0.1828 - accuracy: 0.9258 - val_loss: 0.1895 - val_accuracy: 0.9384\n",
            "Epoch 74/75\n",
            "43/43 [==============================] - 4s 88ms/step - loss: 0.1963 - accuracy: 0.9246 - val_loss: 0.1703 - val_accuracy: 0.9326\n",
            "Epoch 75/75\n",
            "43/43 [==============================] - 4s 90ms/step - loss: 0.2171 - accuracy: 0.9131 - val_loss: 0.1989 - val_accuracy: 0.9326\n"
          ],
          "name": "stdout"
        }
      ]
    },
    {
      "cell_type": "code",
      "metadata": {
        "id": "vhwajgGzpvrD",
        "colab": {
          "base_uri": "https://localhost:8080/"
        },
        "outputId": "cbed78c4-dc88-4280-a662-efa31e607f77"
      },
      "source": [
        "history.history"
      ],
      "execution_count": 200,
      "outputs": [
        {
          "output_type": "execute_result",
          "data": {
            "text/plain": [
              "{'accuracy': [0.3321114480495453,\n",
              "  0.507331371307373,\n",
              "  0.7316715717315674,\n",
              "  0.7456011772155762,\n",
              "  0.8489736318588257,\n",
              "  0.8621701002120972,\n",
              "  0.8563050031661987,\n",
              "  0.8870967626571655,\n",
              "  0.7793254852294922,\n",
              "  0.7126099467277527,\n",
              "  0.8643695116043091,\n",
              "  0.8577712774276733,\n",
              "  0.8519061803817749,\n",
              "  0.857038140296936,\n",
              "  0.8709677457809448,\n",
              "  0.8731671571731567,\n",
              "  0.8922287225723267,\n",
              "  0.8900293111801147,\n",
              "  0.8936949968338013,\n",
              "  0.8900293111801147,\n",
              "  0.8841642141342163,\n",
              "  0.9061583280563354,\n",
              "  0.9024926424026489,\n",
              "  0.866568922996521,\n",
              "  0.8856304883956909,\n",
              "  0.9039589166641235,\n",
              "  0.8680351972579956,\n",
              "  0.9017595052719116,\n",
              "  0.8797653913497925,\n",
              "  0.8900293111801147,\n",
              "  0.890762448310852,\n",
              "  0.8841642141342163,\n",
              "  0.9134897589683533,\n",
              "  0.9171554446220398,\n",
              "  0.9098240733146667,\n",
              "  0.9024926424026489,\n",
              "  0.9186217188835144,\n",
              "  0.9112903475761414,\n",
              "  0.890762448310852,\n",
              "  0.8885630369186401,\n",
              "  0.8526393175125122,\n",
              "  0.8804985284805298,\n",
              "  0.8526393175125122,\n",
              "  0.9032257795333862,\n",
              "  0.8966275453567505,\n",
              "  0.9017595052719116,\n",
              "  0.8900293111801147,\n",
              "  0.8995600938796997,\n",
              "  0.8973606824874878,\n",
              "  0.9054251909255981,\n",
              "  0.8306451439857483,\n",
              "  0.8958944082260132,\n",
              "  0.9017595052719116,\n",
              "  0.8995600938796997,\n",
              "  0.8980938196182251,\n",
              "  0.9193548560142517,\n",
              "  0.9244868159294128,\n",
              "  0.9230205416679382,\n",
              "  0.9252199530601501,\n",
              "  0.9244868159294128,\n",
              "  0.8914955854415894,\n",
              "  0.9164223074913025,\n",
              "  0.9244868159294128,\n",
              "  0.9164223074913025,\n",
              "  0.9222874045372009,\n",
              "  0.9171554446220398,\n",
              "  0.9230205416679382,\n",
              "  0.8966275453567505,\n",
              "  0.9164223074913025,\n",
              "  0.9237536787986755,\n",
              "  0.9230205416679382,\n",
              "  0.9325513243675232,\n",
              "  0.9318181872367859,\n",
              "  0.9244868159294128,\n",
              "  0.9259530901908875],\n",
              " 'loss': [75.00493621826172,\n",
              "  1.0262582302093506,\n",
              "  0.6067406535148621,\n",
              "  0.5789000391960144,\n",
              "  0.4091241657733917,\n",
              "  0.3601974844932556,\n",
              "  0.4027654528617859,\n",
              "  0.3448459506034851,\n",
              "  0.5649102330207825,\n",
              "  0.8106789588928223,\n",
              "  0.40594080090522766,\n",
              "  0.37694796919822693,\n",
              "  0.4332515299320221,\n",
              "  0.3852568566799164,\n",
              "  0.3690302073955536,\n",
              "  0.3661758005619049,\n",
              "  0.32346412539482117,\n",
              "  0.30151113867759705,\n",
              "  0.312369167804718,\n",
              "  0.3021169602870941,\n",
              "  0.3169560432434082,\n",
              "  0.2614157497882843,\n",
              "  0.27428457140922546,\n",
              "  0.3610328435897827,\n",
              "  0.3083856403827667,\n",
              "  0.2857457399368286,\n",
              "  0.32810795307159424,\n",
              "  0.2742912173271179,\n",
              "  0.3125857710838318,\n",
              "  0.2869432866573334,\n",
              "  0.27915826439857483,\n",
              "  0.3282577693462372,\n",
              "  0.24763764441013336,\n",
              "  0.23887032270431519,\n",
              "  0.24696841835975647,\n",
              "  0.249942809343338,\n",
              "  0.23216842114925385,\n",
              "  0.22992487251758575,\n",
              "  0.2929673492908478,\n",
              "  0.28911101818084717,\n",
              "  0.5914707183837891,\n",
              "  0.34144553542137146,\n",
              "  0.3736236095428467,\n",
              "  0.26779401302337646,\n",
              "  0.2868908643722534,\n",
              "  0.26790860295295715,\n",
              "  0.28999313712120056,\n",
              "  0.27202850580215454,\n",
              "  0.2898925542831421,\n",
              "  0.25572311878204346,\n",
              "  0.44208988547325134,\n",
              "  0.29740437865257263,\n",
              "  0.3029852509498596,\n",
              "  0.2832089066505432,\n",
              "  0.28659316897392273,\n",
              "  0.23991890251636505,\n",
              "  0.21945960819721222,\n",
              "  0.21979592740535736,\n",
              "  0.20839208364486694,\n",
              "  0.20890241861343384,\n",
              "  0.2657499313354492,\n",
              "  0.21529166400432587,\n",
              "  0.2091486155986786,\n",
              "  0.21027183532714844,\n",
              "  0.21091288328170776,\n",
              "  0.21223680675029755,\n",
              "  0.21344327926635742,\n",
              "  0.26599717140197754,\n",
              "  0.22698451578617096,\n",
              "  0.2000434696674347,\n",
              "  0.19857224822044373,\n",
              "  0.1858392357826233,\n",
              "  0.18356895446777344,\n",
              "  0.20292797684669495,\n",
              "  0.19785910844802856],\n",
              " 'val_accuracy': [0.34310850501060486,\n",
              "  0.5923753380775452,\n",
              "  0.5278592109680176,\n",
              "  0.7272727489471436,\n",
              "  0.8856304883956909,\n",
              "  0.9237536787986755,\n",
              "  0.9149560332298279,\n",
              "  0.900293231010437,\n",
              "  0.873900294303894,\n",
              "  0.929618775844574,\n",
              "  0.900293231010437,\n",
              "  0.9149560332298279,\n",
              "  0.9208211302757263,\n",
              "  0.8475073575973511,\n",
              "  0.8093841671943665,\n",
              "  0.8181818127632141,\n",
              "  0.8093841671943665,\n",
              "  0.9178885817527771,\n",
              "  0.9266862273216248,\n",
              "  0.8856304883956909,\n",
              "  0.9266862273216248,\n",
              "  0.9149560332298279,\n",
              "  0.9266862273216248,\n",
              "  0.7448680400848389,\n",
              "  0.9061583280563354,\n",
              "  0.9090909361839294,\n",
              "  0.9266862273216248,\n",
              "  0.8768328428268433,\n",
              "  0.9149560332298279,\n",
              "  0.9384164214134216,\n",
              "  0.8240469098091125,\n",
              "  0.9266862273216248,\n",
              "  0.9237536787986755,\n",
              "  0.9266862273216248,\n",
              "  0.929618775844574,\n",
              "  0.929618775844574,\n",
              "  0.9178885817527771,\n",
              "  0.929618775844574,\n",
              "  0.873900294303894,\n",
              "  0.759530782699585,\n",
              "  0.9325513243675232,\n",
              "  0.829912006855011,\n",
              "  0.900293231010437,\n",
              "  0.9120234847068787,\n",
              "  0.8181818127632141,\n",
              "  0.8621701002120972,\n",
              "  0.9354838728904724,\n",
              "  0.9090909361839294,\n",
              "  0.873900294303894,\n",
              "  0.7214076519012451,\n",
              "  0.7976539731025696,\n",
              "  0.9178885817527771,\n",
              "  0.8357771039009094,\n",
              "  0.929618775844574,\n",
              "  0.8328445553779602,\n",
              "  0.929618775844574,\n",
              "  0.9266862273216248,\n",
              "  0.9325513243675232,\n",
              "  0.9178885817527771,\n",
              "  0.9266862273216248,\n",
              "  0.9325513243675232,\n",
              "  0.9149560332298279,\n",
              "  0.8973606824874878,\n",
              "  0.9061583280563354,\n",
              "  0.9354838728904724,\n",
              "  0.929618775844574,\n",
              "  0.929618775844574,\n",
              "  0.9178885817527771,\n",
              "  0.9354838728904724,\n",
              "  0.929618775844574,\n",
              "  0.9266862273216248,\n",
              "  0.9325513243675232,\n",
              "  0.9384164214134216,\n",
              "  0.9325513243675232,\n",
              "  0.9325513243675232],\n",
              " 'val_loss': [1.2743114233016968,\n",
              "  0.5856216549873352,\n",
              "  0.7294837236404419,\n",
              "  0.514117956161499,\n",
              "  0.34492138028144836,\n",
              "  0.2735762298107147,\n",
              "  0.35114893317222595,\n",
              "  0.28480443358421326,\n",
              "  0.42125990986824036,\n",
              "  0.25129207968711853,\n",
              "  0.2780277729034424,\n",
              "  0.24151206016540527,\n",
              "  0.3318103551864624,\n",
              "  0.4576517939567566,\n",
              "  0.44943881034851074,\n",
              "  0.4600283205509186,\n",
              "  0.36788907647132874,\n",
              "  0.26339054107666016,\n",
              "  0.2206440418958664,\n",
              "  0.315359503030777,\n",
              "  0.24090389907360077,\n",
              "  0.21448254585266113,\n",
              "  0.1973872184753418,\n",
              "  0.48583313822746277,\n",
              "  0.24571789801120758,\n",
              "  0.23371990025043488,\n",
              "  0.22945234179496765,\n",
              "  0.3015303611755371,\n",
              "  0.254082053899765,\n",
              "  0.20220278203487396,\n",
              "  0.3412281274795532,\n",
              "  0.22380807995796204,\n",
              "  0.2103540450334549,\n",
              "  0.20156419277191162,\n",
              "  0.17890770733356476,\n",
              "  0.19369423389434814,\n",
              "  0.19617082178592682,\n",
              "  0.21559469401836395,\n",
              "  0.2842691242694855,\n",
              "  0.6189567446708679,\n",
              "  0.2355453222990036,\n",
              "  0.4176589250564575,\n",
              "  0.2905963361263275,\n",
              "  0.23543508350849152,\n",
              "  0.3735481798648834,\n",
              "  0.33483728766441345,\n",
              "  0.21624478697776794,\n",
              "  0.2527739107608795,\n",
              "  0.2670638859272003,\n",
              "  0.562524139881134,\n",
              "  0.4930794835090637,\n",
              "  0.280179500579834,\n",
              "  0.4202711582183838,\n",
              "  0.23182842135429382,\n",
              "  0.3402719497680664,\n",
              "  0.18198172748088837,\n",
              "  0.2059069275856018,\n",
              "  0.19141437113285065,\n",
              "  0.2003343403339386,\n",
              "  0.18882331252098083,\n",
              "  0.22205817699432373,\n",
              "  0.22469039261341095,\n",
              "  0.23599344491958618,\n",
              "  0.225290447473526,\n",
              "  0.16870051622390747,\n",
              "  0.18433929979801178,\n",
              "  0.20638613402843475,\n",
              "  0.2126641422510147,\n",
              "  0.18429988622665405,\n",
              "  0.18497008085250854,\n",
              "  0.19955037534236908,\n",
              "  0.17461329698562622,\n",
              "  0.18945741653442383,\n",
              "  0.17026828229427338,\n",
              "  0.19885562360286713]}"
            ]
          },
          "metadata": {
            "tags": []
          },
          "execution_count": 200
        }
      ]
    },
    {
      "cell_type": "code",
      "metadata": {
        "colab": {
          "base_uri": "https://localhost:8080/"
        },
        "id": "Kyn1dHRRJ5Wn",
        "outputId": "270f7979-7123-4613-f6c1-d9a6e7ea3b48"
      },
      "source": [
        "print(\"--- %s seconds ---\" % (time.time() - start_time))\n"
      ],
      "execution_count": 201,
      "outputs": [
        {
          "output_type": "stream",
          "text": [
            "--- 323.0562722682953 seconds ---\n"
          ],
          "name": "stdout"
        }
      ]
    },
    {
      "cell_type": "code",
      "metadata": {
        "id": "rOU0i1e6jhr3"
      },
      "source": [
        "x_test = X_test #returns a numpy array\n",
        "min_max_scaler = preprocessing.MinMaxScaler()\n",
        "x_scaled_test = min_max_scaler.fit_transform(x_test)\n",
        "df_test = pd.DataFrame(x_scaled_test)"
      ],
      "execution_count": 202,
      "outputs": []
    },
    {
      "cell_type": "code",
      "metadata": {
        "id": "OgeGekJ8lW6S"
      },
      "source": [
        "predictions = model.predict(x=df_test, batch_size=32)"
      ],
      "execution_count": 203,
      "outputs": []
    },
    {
      "cell_type": "code",
      "metadata": {
        "id": "1o6zqIsfl2QX"
      },
      "source": [
        "rounded_predictions = np.argmax(predictions, axis=-1)"
      ],
      "execution_count": 204,
      "outputs": []
    },
    {
      "cell_type": "code",
      "metadata": {
        "id": "NQTy4F7TmotU"
      },
      "source": [
        "cm = confusion_matrix(y_true=y_test, y_pred=rounded_predictions)"
      ],
      "execution_count": 205,
      "outputs": []
    },
    {
      "cell_type": "code",
      "metadata": {
        "colab": {
          "base_uri": "https://localhost:8080/",
          "height": 922
        },
        "id": "rieDywHXuA6R",
        "outputId": "617a0079-bd1d-4d2a-8e6f-b41f99ce559b"
      },
      "source": [
        "label_mapping = {'NEGATIVE': 0, 'NEUTRAL': 1, 'POSITIVE': 2}\n",
        "# for diff dataset\n",
        "# label_mapping = {'NEGATIVE': 0, 'POSITIVE': 1}\n",
        "plt.figure(figsize=(8, 8))\n",
        "sns.heatmap(cm, annot=True, vmin=0, fmt='g', cbar=False, cmap='Blues')\n",
        "clr = classification_report(y_test, rounded_predictions, target_names=label_mapping.keys())\n",
        "plt.xticks(np.arange(3) + 0.5, label_mapping.keys())\n",
        "plt.yticks(np.arange(3) + 0.5, label_mapping.keys())\n",
        "plt.xlabel(\"Predicted\")\n",
        "plt.ylabel(\"Actual\")\n",
        "plt.title(\"Confusion Matrix\")\n",
        "plt.show()\n",
        "\n",
        "print(\"Classification Report:\\n----------------------\\n\", clr)\n",
        "\n"
      ],
      "execution_count": 206,
      "outputs": [
        {
          "output_type": "display_data",
          "data": {
            "image/png": "[encoded data removed]",
            "text/plain": [
              "<Figure size 800x800 with 1 Axes>"
            ]
          },
          "metadata": {
            "tags": []
          }
        },
        {
          "output_type": "stream",
          "text": [
            "Classification Report:\n",
            "----------------------\n",
            "               precision    recall  f1-score   support\n",
            "\n",
            "    NEGATIVE       0.53      1.00      0.69       137\n",
            "     NEUTRAL       0.19      0.09      0.12       147\n",
            "    POSITIVE       0.89      0.62      0.73       143\n",
            "\n",
            "    accuracy                           0.56       427\n",
            "   macro avg       0.54      0.57      0.51       427\n",
            "weighted avg       0.53      0.56      0.51       427\n",
            "\n"
          ],
          "name": "stdout"
        }
      ]
    },
    {
      "cell_type": "code",
      "metadata": {
        "id": "s5wbr_oav-Kb"
      },
      "source": [
        "# https://stackoverflow.com/questions/26413185/how-to-recover-matplotlib-defaults-after-setting-stylesheet\n",
        "import matplotlib as mpl\n",
        "mpl.rcParams.update(mpl.rcParamsDefault)"
      ],
      "execution_count": 207,
      "outputs": []
    },
    {
      "cell_type": "code",
      "metadata": {
        "id": "73HZGymlybP2"
      },
      "source": [
        "training_acc = history.history['accuracy']\n",
        "validation_acc = history.history['val_accuracy']\n",
        "training_loss  = history.history['loss']\n",
        "validation_loss = history.history['val_loss']"
      ],
      "execution_count": 208,
      "outputs": []
    },
    {
      "cell_type": "code",
      "metadata": {
        "colab": {
          "base_uri": "https://localhost:8080/",
          "height": 472
        },
        "id": "1jgMVKMDyxck",
        "outputId": "06d5e2fc-ef23-435d-c8db-6dbb79d3cf70"
      },
      "source": [
        "epochs = history.epoch\n",
        "plt.plot(epochs, training_acc, color = '#17e6e6', label='Training Accuracy')\n",
        "plt.plot(epochs, validation_acc,color = '#e61771', label='Validation Accuracy')\n",
        "plt.title('Accuracy vs Epochs')\n",
        "plt.xlabel('Epochs')\n",
        "plt.ylabel('Accuracy')\n",
        "plt.legend()\n",
        "plt.savefig('AccuracyVsEpochs.png')\n",
        "plt.show()"
      ],
      "execution_count": 209,
      "outputs": [
        {
          "output_type": "display_data",
          "data": {
            "image/png": "[encoded data removed]",
            "text/plain": [
              "<Figure size 640x480 with 1 Axes>"
            ]
          },
          "metadata": {
            "tags": []
          }
        }
      ]
    }
  ]
}