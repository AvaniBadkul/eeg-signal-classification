{
  "nbformat": 4,
  "nbformat_minor": 0,
  "metadata": {
    "colab": {
      "name": "EEGSignalClassification.ipynb",
      "provenance": [],
      "collapsed_sections": []
    },
    "kernelspec": {
      "name": "python3",
      "display_name": "Python 3"
    },
    "language_info": {
      "name": "python"
    }
  },
  "cells": [
    {
      "cell_type": "code",
      "metadata": {
        "id": "iuNWUJKJLY9T"
      },
      "source": [
        "%reset -f "
      ],
      "execution_count": 310,
      "outputs": []
    },
    {
      "cell_type": "code",
      "metadata": {
        "id": "yj4HfL7EcNRq"
      },
      "source": [
        "# libraries used\n",
        "#  https://stats.stackexchange.com/questions/181/how-to-choose-the-number-of-hidden-layers-and-nodes-in-a-feedforward-neural-netw\n",
        "import numpy as np\n",
        "import pandas as pd\n",
        "import seaborn as sns \n",
        "import matplotlib.pyplot as plt\n",
        "from sklearn.model_selection import train_test_split\n",
        "from sklearn.metrics import confusion_matrix, classification_report\n",
        "from sklearn import preprocessing\n",
        "import tensorflow as tf\n",
        "from tensorflow.keras import datasets, layers, models\n",
        "import keras \n",
        "from keras.models import Sequential\n",
        "from keras.layers import Dense, Dropout\n",
        "import itertools"
      ],
      "execution_count": 311,
      "outputs": []
    },
    {
      "cell_type": "code",
      "metadata": {
        "colab": {
          "base_uri": "https://localhost:8080/"
        },
        "id": "WYIp8Qr9ck8Z",
        "outputId": "de684a56-50eb-4a62-ca4c-66a99333f6e1"
      },
      "source": [
        "emotions = pd.read_csv(\"drive/MyDrive/EEG/emotions.csv\")\n",
        "emotions.replace(['NEGATIVE', 'POSITIVE', 'NEUTRAL'], [2, 1, 0], inplace=True)\n",
        "emotions['label'].unique()"
      ],
      "execution_count": 312,
      "outputs": [
        {
          "output_type": "execute_result",
          "data": {
            "text/plain": [
              "array([2, 0, 1])"
            ]
          },
          "metadata": {
            "tags": []
          },
          "execution_count": 312
        }
      ]
    },
    {
      "cell_type": "code",
      "metadata": {
        "id": "PvT5tTotcoS3"
      },
      "source": [
        "X = emotions.drop('label', axis=1).copy()\n",
        "y = (emotions['label'].copy())"
      ],
      "execution_count": 313,
      "outputs": []
    },
    {
      "cell_type": "code",
      "metadata": {
        "id": "GUZOuZK7crNV"
      },
      "source": [
        "# Splitting data into training and testing as 80-20 \n",
        "X_train, X_test, y_train, y_test = train_test_split(X, y, test_size=0.2, random_state=1)\n",
        "\n",
        "x = X_train #returns a numpy array\n",
        "min_max_scaler = preprocessing.MinMaxScaler()\n",
        "x_scaled = min_max_scaler.fit_transform(x)\n",
        "df = pd.DataFrame(x_scaled)"
      ],
      "execution_count": 314,
      "outputs": []
    },
    {
      "cell_type": "code",
      "metadata": {
        "id": "BhRoXS4mj6CV"
      },
      "source": [
        "#  resetting the data - https://www.tensorflow.org/api_docs/python/tf/keras/backend/clear_session\n",
        "tf.keras.backend.clear_session()"
      ],
      "execution_count": 315,
      "outputs": []
    },
    {
      "cell_type": "code",
      "metadata": {
        "colab": {
          "base_uri": "https://localhost:8080/"
        },
        "id": "k4a4vwF5cxvU",
        "outputId": "bc1901a2-d63d-4f3c-e26c-5e3fe83b55c7"
      },
      "source": [
        "model = Sequential()\n",
        "model.add(Dense((2*X_train.shape[1]/3), input_dim=X_train.shape[1], activation='relu'))\n",
        "model.add(Dense((2*X_train.shape[1]/3), activation='relu'))\n",
        "model.add(Dense((1*X_train.shape[1]/3), activation='relu'))\n",
        "model.add(Dense((1*X_train.shape[1]/3), activation='relu'))\n",
        "model.add(Dense(3, activation='softmax'))\n",
        "#model.compile(loss='categorical_crossentropy', optimizer='adam', metrics=['accuracy'])\n",
        "print(model.summary())\n",
        "\n",
        "\n",
        "\n"
      ],
      "execution_count": 316,
      "outputs": [
        {
          "output_type": "stream",
          "text": [
            "Model: \"sequential\"\n",
            "_________________________________________________________________\n",
            "Layer (type)                 Output Shape              Param #   \n",
            "=================================================================\n",
            "dense (Dense)                (None, 1698)              4328202   \n",
            "_________________________________________________________________\n",
            "dense_1 (Dense)              (None, 1698)              2884902   \n",
            "_________________________________________________________________\n",
            "dense_2 (Dense)              (None, 849)               1442451   \n",
            "_________________________________________________________________\n",
            "dense_3 (Dense)              (None, 849)               721650    \n",
            "_________________________________________________________________\n",
            "dense_4 (Dense)              (None, 3)                 2550      \n",
            "=================================================================\n",
            "Total params: 9,379,755\n",
            "Trainable params: 9,379,755\n",
            "Non-trainable params: 0\n",
            "_________________________________________________________________\n",
            "None\n"
          ],
          "name": "stdout"
        }
      ]
    },
    {
      "cell_type": "code",
      "metadata": {
        "id": "A2Q9BOrneeUM"
      },
      "source": [
        "# for categorical entropy\n",
        "# https://stackoverflow.com/questions/63211181/error-while-using-categorical-crossentropy\n",
        "from tensorflow.keras.utils import to_categorical\n",
        "Y_one_hot=to_categorical(y_train) # convert Y into an one-hot vector"
      ],
      "execution_count": 317,
      "outputs": []
    },
    {
      "cell_type": "code",
      "metadata": {
        "id": "NEs5ddrJeBeG"
      },
      "source": [
        "# https://stackoverflow.com/questions/59737875/keras-change-learning-rate\n",
        "#optimizer = tf.keras.optimizers.Adam(0.001)\n",
        "#optimizer.learning_rate.assign(0.01)\n",
        "\n",
        "# opt = keras.optimizers.Adadelta(learning_rate=0.01)\n",
        "\n",
        "# model.compile(\n",
        "#    optimizer=opt,\n",
        "#    loss='categorical_crossentropy',\n",
        "#    metrics=['accuracy']\n",
        "#)\n",
        "\n",
        "# to be run for categorical cross entropy\n",
        "model.compile(loss='categorical_crossentropy', optimizer=tf.keras.optimizers.Adagrad(learning_rate=0.01), metrics=['accuracy'])\n"
      ],
      "execution_count": 318,
      "outputs": []
    },
    {
      "cell_type": "code",
      "metadata": {
        "id": "ASdP3qvxes8r",
        "colab": {
          "base_uri": "https://localhost:8080/"
        },
        "outputId": "5fd5646f-8de7-4c88-8371-ef16a5f78bf7"
      },
      "source": [
        "# make sure that the input data is shuffled before hand so that the model doesn't notice patterns and generalizes well\n",
        "# change y_train to y_hot_encoded when using categorical cross entorpy\n",
        "import time\n",
        "start_time = time.time()\n",
        "#history = model.fit(\n",
        "#    df,\n",
        "#    y_train,\n",
        "#    validation_split=0.2,\n",
        "#    batch_size=32,\n",
        "#    epochs=75)\n",
        "\n",
        "\n",
        "# to be run for categorical cross entropy\n",
        "\n",
        "history = model.fit(\n",
        "    df,\n",
        "    Y_one_hot,\n",
        "    validation_split=0.2,\n",
        "    batch_size=32,\n",
        "    epochs=75)"
      ],
      "execution_count": 319,
      "outputs": [
        {
          "output_type": "stream",
          "text": [
            "Epoch 1/75\n",
            "43/43 [==============================] - 5s 102ms/step - loss: 1.0404 - accuracy: 0.4441 - val_loss: 0.7566 - val_accuracy: 0.6921\n",
            "Epoch 2/75\n",
            "43/43 [==============================] - 4s 96ms/step - loss: 0.7613 - accuracy: 0.6512 - val_loss: 0.7778 - val_accuracy: 0.5865\n",
            "Epoch 3/75\n",
            "43/43 [==============================] - 4s 92ms/step - loss: 0.6646 - accuracy: 0.6986 - val_loss: 0.6086 - val_accuracy: 0.6686\n",
            "Epoch 4/75\n",
            "43/43 [==============================] - 4s 82ms/step - loss: 0.6430 - accuracy: 0.7248 - val_loss: 0.7225 - val_accuracy: 0.5806\n",
            "Epoch 5/75\n",
            "43/43 [==============================] - 4s 83ms/step - loss: 0.6200 - accuracy: 0.7078 - val_loss: 0.3889 - val_accuracy: 0.9062\n",
            "Epoch 6/75\n",
            "43/43 [==============================] - 3s 81ms/step - loss: 0.5507 - accuracy: 0.7513 - val_loss: 0.4822 - val_accuracy: 0.7830\n",
            "Epoch 7/75\n",
            "43/43 [==============================] - 3s 81ms/step - loss: 0.4803 - accuracy: 0.8066 - val_loss: 0.4550 - val_accuracy: 0.7507\n",
            "Epoch 8/75\n",
            "43/43 [==============================] - 4s 83ms/step - loss: 0.5012 - accuracy: 0.7934 - val_loss: 0.5081 - val_accuracy: 0.7097\n",
            "Epoch 9/75\n",
            "43/43 [==============================] - 3s 81ms/step - loss: 0.4349 - accuracy: 0.8091 - val_loss: 1.6570 - val_accuracy: 0.5982\n",
            "Epoch 10/75\n",
            "43/43 [==============================] - 4s 84ms/step - loss: 0.5899 - accuracy: 0.7805 - val_loss: 0.5390 - val_accuracy: 0.7390\n",
            "Epoch 11/75\n",
            "43/43 [==============================] - 4s 84ms/step - loss: 0.4322 - accuracy: 0.8207 - val_loss: 0.4464 - val_accuracy: 0.8065\n",
            "Epoch 12/75\n",
            "43/43 [==============================] - 4s 82ms/step - loss: 0.4610 - accuracy: 0.8033 - val_loss: 0.3815 - val_accuracy: 0.7859\n",
            "Epoch 13/75\n",
            "43/43 [==============================] - 4s 82ms/step - loss: 0.4349 - accuracy: 0.8368 - val_loss: 0.4620 - val_accuracy: 0.8094\n",
            "Epoch 14/75\n",
            "43/43 [==============================] - 4s 93ms/step - loss: 0.4215 - accuracy: 0.8190 - val_loss: 0.2372 - val_accuracy: 0.9267\n",
            "Epoch 15/75\n",
            "43/43 [==============================] - 5s 106ms/step - loss: 0.3504 - accuracy: 0.8565 - val_loss: 0.2666 - val_accuracy: 0.9296\n",
            "Epoch 16/75\n",
            "43/43 [==============================] - 3s 81ms/step - loss: 0.3536 - accuracy: 0.8554 - val_loss: 0.2423 - val_accuracy: 0.9326\n",
            "Epoch 17/75\n",
            "43/43 [==============================] - 4s 82ms/step - loss: 0.3665 - accuracy: 0.8544 - val_loss: 0.4551 - val_accuracy: 0.7771\n",
            "Epoch 18/75\n",
            "43/43 [==============================] - 3s 81ms/step - loss: 0.3491 - accuracy: 0.8407 - val_loss: 0.3678 - val_accuracy: 0.8827\n",
            "Epoch 19/75\n",
            "43/43 [==============================] - 4s 88ms/step - loss: 0.3252 - accuracy: 0.8786 - val_loss: 0.2314 - val_accuracy: 0.9062\n",
            "Epoch 20/75\n",
            "43/43 [==============================] - 4s 93ms/step - loss: 0.3056 - accuracy: 0.8674 - val_loss: 0.3242 - val_accuracy: 0.8475\n",
            "Epoch 21/75\n",
            "43/43 [==============================] - 5s 108ms/step - loss: 0.3149 - accuracy: 0.8587 - val_loss: 0.5365 - val_accuracy: 0.7273\n",
            "Epoch 22/75\n",
            "43/43 [==============================] - 4s 89ms/step - loss: 0.3995 - accuracy: 0.8209 - val_loss: 0.6826 - val_accuracy: 0.7625\n",
            "Epoch 23/75\n",
            "43/43 [==============================] - 4s 88ms/step - loss: 0.3257 - accuracy: 0.8645 - val_loss: 0.2056 - val_accuracy: 0.9267\n",
            "Epoch 24/75\n",
            "43/43 [==============================] - 4s 82ms/step - loss: 0.3892 - accuracy: 0.8452 - val_loss: 0.2257 - val_accuracy: 0.8915\n",
            "Epoch 25/75\n",
            "43/43 [==============================] - 4s 88ms/step - loss: 0.2484 - accuracy: 0.9064 - val_loss: 0.9723 - val_accuracy: 0.5894\n",
            "Epoch 26/75\n",
            "43/43 [==============================] - 4s 86ms/step - loss: 0.3294 - accuracy: 0.8752 - val_loss: 0.2352 - val_accuracy: 0.9384\n",
            "Epoch 27/75\n",
            "43/43 [==============================] - 4s 83ms/step - loss: 0.2458 - accuracy: 0.9120 - val_loss: 0.2359 - val_accuracy: 0.8886\n",
            "Epoch 28/75\n",
            "43/43 [==============================] - 3s 80ms/step - loss: 0.2221 - accuracy: 0.9087 - val_loss: 0.3579 - val_accuracy: 0.8358\n",
            "Epoch 29/75\n",
            "43/43 [==============================] - 4s 82ms/step - loss: 0.2967 - accuracy: 0.8740 - val_loss: 0.2611 - val_accuracy: 0.8974\n",
            "Epoch 30/75\n",
            "43/43 [==============================] - 3s 81ms/step - loss: 0.3039 - accuracy: 0.8731 - val_loss: 0.2248 - val_accuracy: 0.8886\n",
            "Epoch 31/75\n",
            "43/43 [==============================] - 3s 81ms/step - loss: 0.3096 - accuracy: 0.8898 - val_loss: 0.1970 - val_accuracy: 0.9355\n",
            "Epoch 32/75\n",
            "43/43 [==============================] - 4s 82ms/step - loss: 0.2171 - accuracy: 0.9194 - val_loss: 0.2595 - val_accuracy: 0.9032\n",
            "Epoch 33/75\n",
            "43/43 [==============================] - 3s 81ms/step - loss: 0.2343 - accuracy: 0.9078 - val_loss: 0.1965 - val_accuracy: 0.9003\n",
            "Epoch 34/75\n",
            "43/43 [==============================] - 3s 81ms/step - loss: 0.1965 - accuracy: 0.9273 - val_loss: 0.2769 - val_accuracy: 0.9032\n",
            "Epoch 35/75\n",
            "43/43 [==============================] - 4s 82ms/step - loss: 0.2554 - accuracy: 0.9005 - val_loss: 0.1752 - val_accuracy: 0.9501\n",
            "Epoch 36/75\n",
            "43/43 [==============================] - 4s 82ms/step - loss: 0.2187 - accuracy: 0.9087 - val_loss: 0.1402 - val_accuracy: 0.9413\n",
            "Epoch 37/75\n",
            "43/43 [==============================] - 4s 82ms/step - loss: 0.2088 - accuracy: 0.9170 - val_loss: 0.1277 - val_accuracy: 0.9589\n",
            "Epoch 38/75\n",
            "43/43 [==============================] - 4s 87ms/step - loss: 0.1865 - accuracy: 0.9371 - val_loss: 0.3549 - val_accuracy: 0.8768\n",
            "Epoch 39/75\n",
            "43/43 [==============================] - 3s 81ms/step - loss: 0.2309 - accuracy: 0.8979 - val_loss: 0.2893 - val_accuracy: 0.8856\n",
            "Epoch 40/75\n",
            "43/43 [==============================] - 4s 87ms/step - loss: 0.2149 - accuracy: 0.9310 - val_loss: 0.1383 - val_accuracy: 0.9531\n",
            "Epoch 41/75\n",
            "43/43 [==============================] - 4s 82ms/step - loss: 0.2036 - accuracy: 0.9269 - val_loss: 0.3346 - val_accuracy: 0.8768\n",
            "Epoch 42/75\n",
            "43/43 [==============================] - 3s 82ms/step - loss: 0.1646 - accuracy: 0.9505 - val_loss: 1.1227 - val_accuracy: 0.5249\n",
            "Epoch 43/75\n",
            "43/43 [==============================] - 3s 81ms/step - loss: 0.3022 - accuracy: 0.8711 - val_loss: 0.1390 - val_accuracy: 0.9589\n",
            "Epoch 44/75\n",
            "43/43 [==============================] - 3s 80ms/step - loss: 0.1939 - accuracy: 0.9281 - val_loss: 0.2726 - val_accuracy: 0.8856\n",
            "Epoch 45/75\n",
            "43/43 [==============================] - 3s 81ms/step - loss: 0.1853 - accuracy: 0.9358 - val_loss: 0.2645 - val_accuracy: 0.9091\n",
            "Epoch 46/75\n",
            "43/43 [==============================] - 3s 80ms/step - loss: 0.1812 - accuracy: 0.9356 - val_loss: 0.3478 - val_accuracy: 0.8152\n",
            "Epoch 47/75\n",
            "43/43 [==============================] - 3s 80ms/step - loss: 0.2294 - accuracy: 0.9061 - val_loss: 0.2048 - val_accuracy: 0.9296\n",
            "Epoch 48/75\n",
            "43/43 [==============================] - 4s 87ms/step - loss: 0.1404 - accuracy: 0.9427 - val_loss: 0.1649 - val_accuracy: 0.9531\n",
            "Epoch 49/75\n",
            "43/43 [==============================] - 4s 87ms/step - loss: 0.1696 - accuracy: 0.9291 - val_loss: 0.2195 - val_accuracy: 0.9150\n",
            "Epoch 50/75\n",
            "43/43 [==============================] - 3s 81ms/step - loss: 0.1650 - accuracy: 0.9412 - val_loss: 0.2521 - val_accuracy: 0.8974\n",
            "Epoch 51/75\n",
            "43/43 [==============================] - 3s 82ms/step - loss: 0.2299 - accuracy: 0.9130 - val_loss: 0.2917 - val_accuracy: 0.8446\n",
            "Epoch 52/75\n",
            "43/43 [==============================] - 3s 81ms/step - loss: 0.2009 - accuracy: 0.9116 - val_loss: 0.1357 - val_accuracy: 0.9501\n",
            "Epoch 53/75\n",
            "43/43 [==============================] - 3s 81ms/step - loss: 0.1817 - accuracy: 0.9243 - val_loss: 0.1271 - val_accuracy: 0.9472\n",
            "Epoch 54/75\n",
            "43/43 [==============================] - 3s 80ms/step - loss: 0.2000 - accuracy: 0.9354 - val_loss: 0.2412 - val_accuracy: 0.8974\n",
            "Epoch 55/75\n",
            "43/43 [==============================] - 4s 88ms/step - loss: 0.1568 - accuracy: 0.9403 - val_loss: 0.1122 - val_accuracy: 0.9589\n",
            "Epoch 56/75\n",
            "43/43 [==============================] - 4s 82ms/step - loss: 0.1180 - accuracy: 0.9543 - val_loss: 0.5395 - val_accuracy: 0.7683\n",
            "Epoch 57/75\n",
            "43/43 [==============================] - 4s 82ms/step - loss: 0.2716 - accuracy: 0.8828 - val_loss: 0.1127 - val_accuracy: 0.9619\n",
            "Epoch 58/75\n",
            "43/43 [==============================] - 3s 80ms/step - loss: 0.1057 - accuracy: 0.9660 - val_loss: 0.2485 - val_accuracy: 0.8798\n",
            "Epoch 59/75\n",
            "43/43 [==============================] - 3s 81ms/step - loss: 0.1309 - accuracy: 0.9503 - val_loss: 0.1375 - val_accuracy: 0.9443\n",
            "Epoch 60/75\n",
            "43/43 [==============================] - 4s 82ms/step - loss: 0.1415 - accuracy: 0.9317 - val_loss: 0.1446 - val_accuracy: 0.9560\n",
            "Epoch 61/75\n",
            "43/43 [==============================] - 3s 80ms/step - loss: 0.1471 - accuracy: 0.9507 - val_loss: 0.1090 - val_accuracy: 0.9589\n",
            "Epoch 62/75\n",
            "43/43 [==============================] - 3s 80ms/step - loss: 0.1097 - accuracy: 0.9619 - val_loss: 0.1775 - val_accuracy: 0.9296\n",
            "Epoch 63/75\n",
            "43/43 [==============================] - 3s 80ms/step - loss: 0.1407 - accuracy: 0.9375 - val_loss: 0.0934 - val_accuracy: 0.9736\n",
            "Epoch 64/75\n",
            "43/43 [==============================] - 4s 82ms/step - loss: 0.1140 - accuracy: 0.9619 - val_loss: 0.1279 - val_accuracy: 0.9531\n",
            "Epoch 65/75\n",
            "43/43 [==============================] - 4s 84ms/step - loss: 0.1818 - accuracy: 0.9370 - val_loss: 0.1327 - val_accuracy: 0.9413\n",
            "Epoch 66/75\n",
            "43/43 [==============================] - 3s 81ms/step - loss: 0.1283 - accuracy: 0.9482 - val_loss: 0.1316 - val_accuracy: 0.9501\n",
            "Epoch 67/75\n",
            "43/43 [==============================] - 4s 82ms/step - loss: 0.1125 - accuracy: 0.9599 - val_loss: 0.1877 - val_accuracy: 0.9326\n",
            "Epoch 68/75\n",
            "43/43 [==============================] - 3s 81ms/step - loss: 0.1498 - accuracy: 0.9411 - val_loss: 0.2031 - val_accuracy: 0.9179\n",
            "Epoch 69/75\n",
            "43/43 [==============================] - 4s 83ms/step - loss: 0.1078 - accuracy: 0.9576 - val_loss: 0.1813 - val_accuracy: 0.9120\n",
            "Epoch 70/75\n",
            "43/43 [==============================] - 3s 81ms/step - loss: 0.2114 - accuracy: 0.9096 - val_loss: 0.1562 - val_accuracy: 0.9413\n",
            "Epoch 71/75\n",
            "43/43 [==============================] - 4s 83ms/step - loss: 0.1434 - accuracy: 0.9358 - val_loss: 0.1432 - val_accuracy: 0.9413\n",
            "Epoch 72/75\n",
            "43/43 [==============================] - 4s 83ms/step - loss: 0.1217 - accuracy: 0.9476 - val_loss: 0.1880 - val_accuracy: 0.9326\n",
            "Epoch 73/75\n",
            "43/43 [==============================] - 4s 84ms/step - loss: 0.1359 - accuracy: 0.9438 - val_loss: 0.4536 - val_accuracy: 0.7830\n",
            "Epoch 74/75\n",
            "43/43 [==============================] - 4s 83ms/step - loss: 0.1194 - accuracy: 0.9556 - val_loss: 0.2085 - val_accuracy: 0.9032\n",
            "Epoch 75/75\n",
            "43/43 [==============================] - 3s 82ms/step - loss: 0.2486 - accuracy: 0.8986 - val_loss: 0.1057 - val_accuracy: 0.9795\n"
          ],
          "name": "stdout"
        }
      ]
    },
    {
      "cell_type": "code",
      "metadata": {
        "id": "vhwajgGzpvrD",
        "colab": {
          "base_uri": "https://localhost:8080/"
        },
        "outputId": "87353c41-dc5b-485a-af52-6dbc059e41a6"
      },
      "source": [
        "history.history"
      ],
      "execution_count": 320,
      "outputs": [
        {
          "output_type": "execute_result",
          "data": {
            "text/plain": [
              "{'accuracy': [0.5190615653991699,\n",
              "  0.6788856387138367,\n",
              "  0.6715542674064636,\n",
              "  0.7353372573852539,\n",
              "  0.7543988227844238,\n",
              "  0.7580645084381104,\n",
              "  0.8145161271095276,\n",
              "  0.796187698841095,\n",
              "  0.820381224155426,\n",
              "  0.7917888760566711,\n",
              "  0.8401759266853333,\n",
              "  0.8159824013710022,\n",
              "  0.8379765152931213,\n",
              "  0.8409090638160706,\n",
              "  0.8460410833358765,\n",
              "  0.8651026487350464,\n",
              "  0.8687683343887329,\n",
              "  0.8262463212013245,\n",
              "  0.8687683343887329,\n",
              "  0.8797653913497925,\n",
              "  0.8687683343887329,\n",
              "  0.8658357858657837,\n",
              "  0.8673020601272583,\n",
              "  0.8717008829116821,\n",
              "  0.8900293111801147,\n",
              "  0.8870967626571655,\n",
              "  0.8958944082260132,\n",
              "  0.9017595052719116,\n",
              "  0.890762448310852,\n",
              "  0.890762448310852,\n",
              "  0.8900293111801147,\n",
              "  0.9164223074913025,\n",
              "  0.8973606824874878,\n",
              "  0.8988269567489624,\n",
              "  0.9076246619224548,\n",
              "  0.9054251909255981,\n",
              "  0.9061583280563354,\n",
              "  0.9222874045372009,\n",
              "  0.9046920537948608,\n",
              "  0.9266862273216248,\n",
              "  0.9178885817527771,\n",
              "  0.9384164214134216,\n",
              "  0.9164223074913025,\n",
              "  0.9252199530601501,\n",
              "  0.9244868159294128,\n",
              "  0.9340175986289978,\n",
              "  0.9222874045372009,\n",
              "  0.9340175986289978,\n",
              "  0.9310850501060486,\n",
              "  0.9354838728904724,\n",
              "  0.9237536787986755,\n",
              "  0.9354838728904724,\n",
              "  0.9332844614982605,\n",
              "  0.929618775844574,\n",
              "  0.9508797526359558,\n",
              "  0.9494134783744812,\n",
              "  0.9208211302757263,\n",
              "  0.9574779868125916,\n",
              "  0.9472140669822693,\n",
              "  0.9398826956748962,\n",
              "  0.9530791640281677,\n",
              "  0.96334308385849,\n",
              "  0.9376832842826843,\n",
              "  0.9530791640281677,\n",
              "  0.9244868159294128,\n",
              "  0.9516128897666931,\n",
              "  0.9406158328056335,\n",
              "  0.9442815184593201,\n",
              "  0.9567448496818542,\n",
              "  0.9266862273216248,\n",
              "  0.953812301158905,\n",
              "  0.9332844614982605,\n",
              "  0.9523460268974304,\n",
              "  0.9640762209892273,\n",
              "  0.929618775844574],\n",
              " 'loss': [0.9653217196464539,\n",
              "  0.7628662586212158,\n",
              "  0.7038953900337219,\n",
              "  0.6234214901924133,\n",
              "  0.5637608170509338,\n",
              "  0.5462812781333923,\n",
              "  0.4767327308654785,\n",
              "  0.49656516313552856,\n",
              "  0.4296257793903351,\n",
              "  0.5077068209648132,\n",
              "  0.4077039659023285,\n",
              "  0.44386807084083557,\n",
              "  0.4198119640350342,\n",
              "  0.39213117957115173,\n",
              "  0.38728615641593933,\n",
              "  0.3426596522331238,\n",
              "  0.3308049142360687,\n",
              "  0.3900490701198578,\n",
              "  0.32364946603775024,\n",
              "  0.29001519083976746,\n",
              "  0.30264824628829956,\n",
              "  0.3168736696243286,\n",
              "  0.32914820313453674,\n",
              "  0.3332953453063965,\n",
              "  0.27339309453964233,\n",
              "  0.2800919711589813,\n",
              "  0.2701968848705292,\n",
              "  0.2552369236946106,\n",
              "  0.2777056097984314,\n",
              "  0.26484525203704834,\n",
              "  0.2909657657146454,\n",
              "  0.21573106944561005,\n",
              "  0.25197696685791016,\n",
              "  0.2652197480201721,\n",
              "  0.24484913051128387,\n",
              "  0.2271689772605896,\n",
              "  0.23274926841259003,\n",
              "  0.21169188618659973,\n",
              "  0.23390242457389832,\n",
              "  0.20855064690113068,\n",
              "  0.22992229461669922,\n",
              "  0.17323198914527893,\n",
              "  0.2204507738351822,\n",
              "  0.20180439949035645,\n",
              "  0.2106257975101471,\n",
              "  0.17734114825725555,\n",
              "  0.19864508509635925,\n",
              "  0.15628638863563538,\n",
              "  0.17214645445346832,\n",
              "  0.16653211414813995,\n",
              "  0.19002015888690948,\n",
              "  0.15922242403030396,\n",
              "  0.16971509158611298,\n",
              "  0.1936948448419571,\n",
              "  0.1399267166852951,\n",
              "  0.13376332819461823,\n",
              "  0.19182197749614716,\n",
              "  0.12417633831501007,\n",
              "  0.1447342038154602,\n",
              "  0.15793733298778534,\n",
              "  0.14134564995765686,\n",
              "  0.11799072474241257,\n",
              "  0.1457700878381729,\n",
              "  0.1447506546974182,\n",
              "  0.20618630945682526,\n",
              "  0.12849953770637512,\n",
              "  0.16106504201889038,\n",
              "  0.14565567672252655,\n",
              "  0.10949494689702988,\n",
              "  0.1830538809299469,\n",
              "  0.11940771341323853,\n",
              "  0.17254312336444855,\n",
              "  0.12336286902427673,\n",
              "  0.10217512398958206,\n",
              "  0.1666802167892456],\n",
              " 'val_accuracy': [0.6920821070671082,\n",
              "  0.5865102410316467,\n",
              "  0.6686217188835144,\n",
              "  0.5806451439857483,\n",
              "  0.9061583280563354,\n",
              "  0.7829912304878235,\n",
              "  0.7507331371307373,\n",
              "  0.7096773982048035,\n",
              "  0.5982404947280884,\n",
              "  0.7390029430389404,\n",
              "  0.8064516186714172,\n",
              "  0.7859237790107727,\n",
              "  0.8093841671943665,\n",
              "  0.9266862273216248,\n",
              "  0.929618775844574,\n",
              "  0.9325513243675232,\n",
              "  0.7771260738372803,\n",
              "  0.8826979398727417,\n",
              "  0.9061583280563354,\n",
              "  0.8475073575973511,\n",
              "  0.7272727489471436,\n",
              "  0.7624633312225342,\n",
              "  0.9266862273216248,\n",
              "  0.8914955854415894,\n",
              "  0.589442789554596,\n",
              "  0.9384164214134216,\n",
              "  0.8885630369186401,\n",
              "  0.8357771039009094,\n",
              "  0.8973606824874878,\n",
              "  0.8885630369186401,\n",
              "  0.9354838728904724,\n",
              "  0.9032257795333862,\n",
              "  0.900293231010437,\n",
              "  0.9032257795333862,\n",
              "  0.9501466155052185,\n",
              "  0.9413489699363708,\n",
              "  0.9589442610740662,\n",
              "  0.8768328428268433,\n",
              "  0.8856304883956909,\n",
              "  0.9530791640281677,\n",
              "  0.8768328428268433,\n",
              "  0.5249266624450684,\n",
              "  0.9589442610740662,\n",
              "  0.8856304883956909,\n",
              "  0.9090909361839294,\n",
              "  0.8152492642402649,\n",
              "  0.929618775844574,\n",
              "  0.9530791640281677,\n",
              "  0.9149560332298279,\n",
              "  0.8973606824874878,\n",
              "  0.8445748090744019,\n",
              "  0.9501466155052185,\n",
              "  0.9472140669822693,\n",
              "  0.8973606824874878,\n",
              "  0.9589442610740662,\n",
              "  0.7683284282684326,\n",
              "  0.9618768095970154,\n",
              "  0.8797653913497925,\n",
              "  0.9442815184593201,\n",
              "  0.9560117125511169,\n",
              "  0.9589442610740662,\n",
              "  0.929618775844574,\n",
              "  0.973607063293457,\n",
              "  0.9530791640281677,\n",
              "  0.9413489699363708,\n",
              "  0.9501466155052185,\n",
              "  0.9325513243675232,\n",
              "  0.9178885817527771,\n",
              "  0.9120234847068787,\n",
              "  0.9413489699363708,\n",
              "  0.9413489699363708,\n",
              "  0.9325513243675232,\n",
              "  0.7829912304878235,\n",
              "  0.9032257795333862,\n",
              "  0.9794721603393555],\n",
              " 'val_loss': [0.7566003203392029,\n",
              "  0.7778016328811646,\n",
              "  0.6086048483848572,\n",
              "  0.7224970459938049,\n",
              "  0.3889106810092926,\n",
              "  0.4822221100330353,\n",
              "  0.45503100752830505,\n",
              "  0.5081470608711243,\n",
              "  1.6569528579711914,\n",
              "  0.5389713644981384,\n",
              "  0.4463649094104767,\n",
              "  0.38154226541519165,\n",
              "  0.4620090126991272,\n",
              "  0.23717360198497772,\n",
              "  0.26657238602638245,\n",
              "  0.24228185415267944,\n",
              "  0.45513319969177246,\n",
              "  0.36781978607177734,\n",
              "  0.23140113055706024,\n",
              "  0.3242362141609192,\n",
              "  0.536530077457428,\n",
              "  0.6825708746910095,\n",
              "  0.2056243121623993,\n",
              "  0.2257007211446762,\n",
              "  0.9722875952720642,\n",
              "  0.2352089136838913,\n",
              "  0.23585893213748932,\n",
              "  0.35785770416259766,\n",
              "  0.26107314229011536,\n",
              "  0.22479140758514404,\n",
              "  0.1970086395740509,\n",
              "  0.2594895660877228,\n",
              "  0.19646935164928436,\n",
              "  0.2768663763999939,\n",
              "  0.17521613836288452,\n",
              "  0.14021456241607666,\n",
              "  0.12769560515880585,\n",
              "  0.35493698716163635,\n",
              "  0.28929752111434937,\n",
              "  0.13828551769256592,\n",
              "  0.334554523229599,\n",
              "  1.122727632522583,\n",
              "  0.1389733850955963,\n",
              "  0.2725543677806854,\n",
              "  0.264468252658844,\n",
              "  0.34778690338134766,\n",
              "  0.20476548373699188,\n",
              "  0.16492682695388794,\n",
              "  0.21952588856220245,\n",
              "  0.2520758807659149,\n",
              "  0.2916968762874603,\n",
              "  0.13569782674312592,\n",
              "  0.12705682218074799,\n",
              "  0.24115918576717377,\n",
              "  0.11217798292636871,\n",
              "  0.5394657254219055,\n",
              "  0.11269327253103256,\n",
              "  0.24847890436649323,\n",
              "  0.13747745752334595,\n",
              "  0.14456887543201447,\n",
              "  0.10898198187351227,\n",
              "  0.17746034264564514,\n",
              "  0.0934261903166771,\n",
              "  0.12792697548866272,\n",
              "  0.1327182650566101,\n",
              "  0.13155321776866913,\n",
              "  0.18769268691539764,\n",
              "  0.20314280688762665,\n",
              "  0.18129615485668182,\n",
              "  0.15622806549072266,\n",
              "  0.14316143095493317,\n",
              "  0.18795239925384521,\n",
              "  0.453571081161499,\n",
              "  0.2085149586200714,\n",
              "  0.10573100298643112]}"
            ]
          },
          "metadata": {
            "tags": []
          },
          "execution_count": 320
        }
      ]
    },
    {
      "cell_type": "code",
      "metadata": {
        "colab": {
          "base_uri": "https://localhost:8080/"
        },
        "id": "Kyn1dHRRJ5Wn",
        "outputId": "644c167c-a24a-4fed-f09d-b730c00764c1"
      },
      "source": [
        "print(\"--- %s seconds ---\" % (time.time() - start_time))\n"
      ],
      "execution_count": 321,
      "outputs": [
        {
          "output_type": "stream",
          "text": [
            "--- 322.9594748020172 seconds ---\n"
          ],
          "name": "stdout"
        }
      ]
    },
    {
      "cell_type": "code",
      "metadata": {
        "id": "rOU0i1e6jhr3"
      },
      "source": [
        "x_test = X_test #returns a numpy array\n",
        "min_max_scaler = preprocessing.MinMaxScaler()\n",
        "x_scaled_test = min_max_scaler.fit_transform(x_test)\n",
        "df_test = pd.DataFrame(x_scaled_test)"
      ],
      "execution_count": 322,
      "outputs": []
    },
    {
      "cell_type": "code",
      "metadata": {
        "id": "OgeGekJ8lW6S"
      },
      "source": [
        "predictions = model.predict(x=df_test, batch_size=32)"
      ],
      "execution_count": 323,
      "outputs": []
    },
    {
      "cell_type": "code",
      "metadata": {
        "id": "1o6zqIsfl2QX"
      },
      "source": [
        "rounded_predictions = np.argmax(predictions, axis=-1)"
      ],
      "execution_count": 324,
      "outputs": []
    },
    {
      "cell_type": "code",
      "metadata": {
        "id": "NQTy4F7TmotU"
      },
      "source": [
        "cm = confusion_matrix(y_true=y_test, y_pred=rounded_predictions)"
      ],
      "execution_count": 325,
      "outputs": []
    },
    {
      "cell_type": "code",
      "metadata": {
        "colab": {
          "base_uri": "https://localhost:8080/",
          "height": 922
        },
        "id": "rieDywHXuA6R",
        "outputId": "d9593b5b-8912-4a62-ef24-6496102023b3"
      },
      "source": [
        "label_mapping = {'NEGATIVE': 0, 'NEUTRAL': 1, 'POSITIVE': 2}\n",
        "# for diff dataset\n",
        "# label_mapping = {'NEGATIVE': 0, 'POSITIVE': 1}\n",
        "plt.figure(figsize=(8, 8))\n",
        "sns.heatmap(cm, annot=True, vmin=0, fmt='g', cbar=False, cmap='Blues')\n",
        "clr = classification_report(y_test, rounded_predictions, target_names=label_mapping.keys())\n",
        "plt.xticks(np.arange(3) + 0.5, label_mapping.keys())\n",
        "plt.yticks(np.arange(3) + 0.5, label_mapping.keys())\n",
        "plt.xlabel(\"Predicted\")\n",
        "plt.ylabel(\"Actual\")\n",
        "plt.title(\"Confusion Matrix\")\n",
        "plt.show()\n",
        "\n",
        "print(\"Classification Report:\\n----------------------\\n\", clr)\n",
        "\n"
      ],
      "execution_count": 326,
      "outputs": [
        {
          "output_type": "display_data",
          "data": {
            "image/png": "[encoded data removed]",
            "text/plain": [
              "<Figure size 800x800 with 1 Axes>"
            ]
          },
          "metadata": {
            "tags": []
          }
        },
        {
          "output_type": "stream",
          "text": [
            "Classification Report:\n",
            "----------------------\n",
            "               precision    recall  f1-score   support\n",
            "\n",
            "    NEGATIVE       0.96      0.97      0.97       137\n",
            "     NEUTRAL       0.82      0.96      0.89       147\n",
            "    POSITIVE       0.99      0.82      0.90       143\n",
            "\n",
            "    accuracy                           0.92       427\n",
            "   macro avg       0.93      0.92      0.92       427\n",
            "weighted avg       0.93      0.92      0.92       427\n",
            "\n"
          ],
          "name": "stdout"
        }
      ]
    },
    {
      "cell_type": "code",
      "metadata": {
        "id": "s5wbr_oav-Kb"
      },
      "source": [
        "# https://stackoverflow.com/questions/26413185/how-to-recover-matplotlib-defaults-after-setting-stylesheet\n",
        "import matplotlib as mpl\n",
        "mpl.rcParams.update(mpl.rcParamsDefault)"
      ],
      "execution_count": 327,
      "outputs": []
    },
    {
      "cell_type": "code",
      "metadata": {
        "id": "73HZGymlybP2"
      },
      "source": [
        "training_acc = history.history['accuracy']\n",
        "validation_acc = history.history['val_accuracy']\n",
        "training_loss  = history.history['loss']\n",
        "validation_loss = history.history['val_loss']"
      ],
      "execution_count": 328,
      "outputs": []
    },
    {
      "cell_type": "code",
      "metadata": {
        "colab": {
          "base_uri": "https://localhost:8080/",
          "height": 472
        },
        "id": "1jgMVKMDyxck",
        "outputId": "2fc36d84-a092-47b8-efa3-b30062d724f4"
      },
      "source": [
        "epochs = history.epoch\n",
        "plt.plot(epochs, training_acc, color = '#17e6e6', label='Training Accuracy')\n",
        "plt.plot(epochs, validation_acc,color = '#e61771', label='Validation Accuracy')\n",
        "plt.title('Accuracy vs Epochs')\n",
        "plt.xlabel('Epochs')\n",
        "plt.ylabel('Accuracy')\n",
        "plt.legend()\n",
        "plt.savefig('AccuracyVsEpochs.png')\n",
        "plt.show()"
      ],
      "execution_count": 329,
      "outputs": [
        {
          "output_type": "display_data",
          "data": {
            "image/png": "[encoded data removed]",
            "text/plain": [
              "<Figure size 640x480 with 1 Axes>"
            ]
          },
          "metadata": {
            "tags": []
          }
        }
      ]
    }
  ]
}