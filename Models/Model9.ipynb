{
  "nbformat": 4,
  "nbformat_minor": 0,
  "metadata": {
    "colab": {
      "name": "EEGSignalClassification.ipynb",
      "provenance": [],
      "collapsed_sections": []
    },
    "kernelspec": {
      "name": "python3",
      "display_name": "Python 3"
    },
    "language_info": {
      "name": "python"
    }
  },
  "cells": [
    {
      "cell_type": "code",
      "metadata": {
        "id": "iuNWUJKJLY9T"
      },
      "source": [
        "%reset -f "
      ],
      "execution_count": 470,
      "outputs": []
    },
    {
      "cell_type": "code",
      "metadata": {
        "id": "yj4HfL7EcNRq"
      },
      "source": [
        "# libraries used\n",
        "#  https://stats.stackexchange.com/questions/181/how-to-choose-the-number-of-hidden-layers-and-nodes-in-a-feedforward-neural-netw\n",
        "import numpy as np\n",
        "import pandas as pd\n",
        "import seaborn as sns \n",
        "import matplotlib.pyplot as plt\n",
        "from sklearn.model_selection import train_test_split\n",
        "from sklearn.metrics import confusion_matrix, classification_report\n",
        "from sklearn import preprocessing\n",
        "import tensorflow as tf\n",
        "from tensorflow.keras import datasets, layers, models\n",
        "import keras \n",
        "from keras.models import Sequential\n",
        "from keras.layers import Dense, Dropout\n",
        "import itertools"
      ],
      "execution_count": 471,
      "outputs": []
    },
    {
      "cell_type": "code",
      "metadata": {
        "colab": {
          "base_uri": "https://localhost:8080/"
        },
        "id": "WYIp8Qr9ck8Z",
        "outputId": "b5df941b-73c3-4385-b9e0-aeff51f4c890"
      },
      "source": [
        "emotions = pd.read_csv(\"drive/MyDrive/EEG/emotions.csv\")\n",
        "emotions.replace(['NEGATIVE', 'POSITIVE', 'NEUTRAL'], [2, 1, 0], inplace=True)\n",
        "emotions['label'].unique()"
      ],
      "execution_count": 472,
      "outputs": [
        {
          "output_type": "execute_result",
          "data": {
            "text/plain": [
              "array([2, 0, 1])"
            ]
          },
          "metadata": {
            "tags": []
          },
          "execution_count": 472
        }
      ]
    },
    {
      "cell_type": "code",
      "metadata": {
        "id": "PvT5tTotcoS3"
      },
      "source": [
        "X = emotions.drop('label', axis=1).copy()\n",
        "y = (emotions['label'].copy())"
      ],
      "execution_count": 473,
      "outputs": []
    },
    {
      "cell_type": "code",
      "metadata": {
        "id": "GUZOuZK7crNV"
      },
      "source": [
        "# Splitting data into training and testing as 80-20 \n",
        "X_train, X_test, y_train, y_test = train_test_split(X, y, test_size=0.2, random_state=1)\n",
        "\n",
        "x = X_train #returns a numpy array\n",
        "min_max_scaler = preprocessing.MinMaxScaler()\n",
        "x_scaled = min_max_scaler.fit_transform(x)\n",
        "df = pd.DataFrame(x_scaled)"
      ],
      "execution_count": 474,
      "outputs": []
    },
    {
      "cell_type": "code",
      "metadata": {
        "id": "BhRoXS4mj6CV"
      },
      "source": [
        "#  resetting the data - https://www.tensorflow.org/api_docs/python/tf/keras/backend/clear_session\n",
        "tf.keras.backend.clear_session()"
      ],
      "execution_count": 475,
      "outputs": []
    },
    {
      "cell_type": "code",
      "metadata": {
        "colab": {
          "base_uri": "https://localhost:8080/"
        },
        "id": "k4a4vwF5cxvU",
        "outputId": "09387f81-273d-44d8-9abf-6f0a6358c892"
      },
      "source": [
        "model = Sequential()\n",
        "model.add(Dense((2*X_train.shape[1]/3), input_dim=X_train.shape[1], activation='relu'))\n",
        "model.add(Dense((2*X_train.shape[1]/3), activation='relu'))\n",
        "model.add(Dense((1*X_train.shape[1]/3), activation='relu'))\n",
        "model.add(Dense((1*X_train.shape[1]/3), activation='relu'))\n",
        "model.add(Dense(3, activation='softmax'))\n",
        "#model.compile(loss='categorical_crossentropy', optimizer='adam', metrics=['accuracy'])\n",
        "print(model.summary())\n",
        "\n",
        "\n",
        "\n"
      ],
      "execution_count": 476,
      "outputs": [
        {
          "output_type": "stream",
          "text": [
            "Model: \"sequential\"\n",
            "_________________________________________________________________\n",
            "Layer (type)                 Output Shape              Param #   \n",
            "=================================================================\n",
            "dense (Dense)                (None, 1698)              4328202   \n",
            "_________________________________________________________________\n",
            "dense_1 (Dense)              (None, 1698)              2884902   \n",
            "_________________________________________________________________\n",
            "dense_2 (Dense)              (None, 849)               1442451   \n",
            "_________________________________________________________________\n",
            "dense_3 (Dense)              (None, 849)               721650    \n",
            "_________________________________________________________________\n",
            "dense_4 (Dense)              (None, 3)                 2550      \n",
            "=================================================================\n",
            "Total params: 9,379,755\n",
            "Trainable params: 9,379,755\n",
            "Non-trainable params: 0\n",
            "_________________________________________________________________\n",
            "None\n"
          ],
          "name": "stdout"
        }
      ]
    },
    {
      "cell_type": "code",
      "metadata": {
        "id": "A2Q9BOrneeUM"
      },
      "source": [
        "# for categorical entropy\n",
        "# https://stackoverflow.com/questions/63211181/error-while-using-categorical-crossentropy\n",
        "from tensorflow.keras.utils import to_categorical\n",
        "Y_one_hot=to_categorical(y_train) # convert Y into an one-hot vector"
      ],
      "execution_count": 477,
      "outputs": []
    },
    {
      "cell_type": "code",
      "metadata": {
        "id": "NEs5ddrJeBeG"
      },
      "source": [
        "# https://stackoverflow.com/questions/59737875/keras-change-learning-rate\n",
        "#optimizer = tf.keras.optimizers.Adam(0.001)\n",
        "#optimizer.learning_rate.assign(0.01)\n",
        "\n",
        "opt = keras.optimizers.Adadelta(learning_rate=0.001)\n",
        "\n",
        "model.compile(\n",
        "    optimizer=opt,\n",
        "    loss='sparse_categorical_crossentropy',\n",
        "    metrics=['accuracy']\n",
        ")\n",
        "\n",
        "# to be run for categorical cross entropy\n",
        "# model.compile(loss='categorical_crossentropy', optimizer=tf.keras.optimizers.Adadelta(learning_rate=0.001), metrics=['accuracy'])\n"
      ],
      "execution_count": 478,
      "outputs": []
    },
    {
      "cell_type": "code",
      "metadata": {
        "id": "ASdP3qvxes8r",
        "colab": {
          "base_uri": "https://localhost:8080/"
        },
        "outputId": "a3309126-c339-4f34-b018-92744adf4e3d"
      },
      "source": [
        "# make sure that the input data is shuffled before hand so that the model doesn't notice patterns and generalizes well\n",
        "# change y_train to y_hot_encoded when using categorical cross entorpy\n",
        "import time\n",
        "start_time = time.time()\n",
        "history = model.fit(\n",
        "    df,\n",
        "    y_train,\n",
        "    validation_split=0.2,\n",
        "    batch_size=32,\n",
        "    epochs=75)\n",
        "\n",
        "\n",
        "# to be run for categorical cross entropy\n",
        "\n",
        "#history = model.fit(\n",
        "#    df,\n",
        "#    Y_one_hot,\n",
        "#    validation_split=0.2,\n",
        "#    batch_size=32,\n",
        "#    epochs=75)"
      ],
      "execution_count": 479,
      "outputs": [
        {
          "output_type": "stream",
          "text": [
            "Epoch 1/75\n",
            "43/43 [==============================] - 5s 102ms/step - loss: 1.0986 - accuracy: 0.3759 - val_loss: 1.0477 - val_accuracy: 0.6100\n",
            "Epoch 2/75\n",
            "43/43 [==============================] - 4s 95ms/step - loss: 1.0336 - accuracy: 0.6484 - val_loss: 0.9996 - val_accuracy: 0.6540\n",
            "Epoch 3/75\n",
            "43/43 [==============================] - 4s 91ms/step - loss: 0.9899 - accuracy: 0.6695 - val_loss: 0.9647 - val_accuracy: 0.6540\n",
            "Epoch 4/75\n",
            "43/43 [==============================] - 4s 90ms/step - loss: 0.9514 - accuracy: 0.6786 - val_loss: 0.9341 - val_accuracy: 0.7595\n",
            "Epoch 5/75\n",
            "43/43 [==============================] - 4s 90ms/step - loss: 0.9317 - accuracy: 0.7366 - val_loss: 0.9078 - val_accuracy: 0.6628\n",
            "Epoch 6/75\n",
            "43/43 [==============================] - 4s 90ms/step - loss: 0.8896 - accuracy: 0.7097 - val_loss: 0.8832 - val_accuracy: 0.9032\n",
            "Epoch 7/75\n",
            "43/43 [==============================] - 4s 91ms/step - loss: 0.8749 - accuracy: 0.8381 - val_loss: 0.8581 - val_accuracy: 0.6716\n",
            "Epoch 8/75\n",
            "43/43 [==============================] - 4s 91ms/step - loss: 0.8454 - accuracy: 0.6957 - val_loss: 0.8350 - val_accuracy: 0.7918\n",
            "Epoch 9/75\n",
            "43/43 [==============================] - 4s 91ms/step - loss: 0.8246 - accuracy: 0.7430 - val_loss: 0.8151 - val_accuracy: 0.7977\n",
            "Epoch 10/75\n",
            "43/43 [==============================] - 4s 91ms/step - loss: 0.8063 - accuracy: 0.8045 - val_loss: 0.7984 - val_accuracy: 0.7742\n",
            "Epoch 11/75\n",
            "43/43 [==============================] - 4s 91ms/step - loss: 0.7959 - accuracy: 0.7575 - val_loss: 0.7825 - val_accuracy: 0.7537\n",
            "Epoch 12/75\n",
            "43/43 [==============================] - 4s 91ms/step - loss: 0.7716 - accuracy: 0.7331 - val_loss: 0.7658 - val_accuracy: 0.8094\n",
            "Epoch 13/75\n",
            "43/43 [==============================] - 4s 91ms/step - loss: 0.7744 - accuracy: 0.7933 - val_loss: 0.7543 - val_accuracy: 0.7537\n",
            "Epoch 14/75\n",
            "43/43 [==============================] - 4s 91ms/step - loss: 0.7394 - accuracy: 0.7741 - val_loss: 0.7363 - val_accuracy: 0.7918\n",
            "Epoch 15/75\n",
            "43/43 [==============================] - 4s 91ms/step - loss: 0.7296 - accuracy: 0.7745 - val_loss: 0.7236 - val_accuracy: 0.8035\n",
            "Epoch 16/75\n",
            "43/43 [==============================] - 4s 91ms/step - loss: 0.7081 - accuracy: 0.7781 - val_loss: 0.7092 - val_accuracy: 0.7889\n",
            "Epoch 17/75\n",
            "43/43 [==============================] - 4s 90ms/step - loss: 0.6940 - accuracy: 0.7887 - val_loss: 0.6977 - val_accuracy: 0.8798\n",
            "Epoch 18/75\n",
            "43/43 [==============================] - 4s 91ms/step - loss: 0.6847 - accuracy: 0.8075 - val_loss: 0.6838 - val_accuracy: 0.8710\n",
            "Epoch 19/75\n",
            "43/43 [==============================] - 4s 91ms/step - loss: 0.6771 - accuracy: 0.8356 - val_loss: 0.6731 - val_accuracy: 0.8915\n",
            "Epoch 20/75\n",
            "43/43 [==============================] - 4s 90ms/step - loss: 0.6704 - accuracy: 0.8479 - val_loss: 0.6611 - val_accuracy: 0.8651\n",
            "Epoch 21/75\n",
            "43/43 [==============================] - 4s 97ms/step - loss: 0.6574 - accuracy: 0.8517 - val_loss: 0.6510 - val_accuracy: 0.8680\n",
            "Epoch 22/75\n",
            "43/43 [==============================] - 4s 92ms/step - loss: 0.6454 - accuracy: 0.8601 - val_loss: 0.6400 - val_accuracy: 0.8856\n",
            "Epoch 23/75\n",
            "43/43 [==============================] - 4s 91ms/step - loss: 0.6429 - accuracy: 0.8632 - val_loss: 0.6309 - val_accuracy: 0.8563\n",
            "Epoch 24/75\n",
            "43/43 [==============================] - 4s 98ms/step - loss: 0.6314 - accuracy: 0.8437 - val_loss: 0.6206 - val_accuracy: 0.8944\n",
            "Epoch 25/75\n",
            "43/43 [==============================] - 4s 94ms/step - loss: 0.6108 - accuracy: 0.8624 - val_loss: 0.6119 - val_accuracy: 0.9179\n",
            "Epoch 26/75\n",
            "43/43 [==============================] - 4s 90ms/step - loss: 0.6013 - accuracy: 0.8829 - val_loss: 0.6027 - val_accuracy: 0.9062\n",
            "Epoch 27/75\n",
            "43/43 [==============================] - 4s 91ms/step - loss: 0.5953 - accuracy: 0.8846 - val_loss: 0.5932 - val_accuracy: 0.9296\n",
            "Epoch 28/75\n",
            "43/43 [==============================] - 4s 91ms/step - loss: 0.5796 - accuracy: 0.8770 - val_loss: 0.5872 - val_accuracy: 0.9296\n",
            "Epoch 29/75\n",
            "43/43 [==============================] - 4s 92ms/step - loss: 0.5760 - accuracy: 0.8971 - val_loss: 0.5773 - val_accuracy: 0.9238\n",
            "Epoch 30/75\n",
            "43/43 [==============================] - 4s 97ms/step - loss: 0.5665 - accuracy: 0.8844 - val_loss: 0.5684 - val_accuracy: 0.9150\n",
            "Epoch 31/75\n",
            "43/43 [==============================] - 4s 91ms/step - loss: 0.5698 - accuracy: 0.8817 - val_loss: 0.5600 - val_accuracy: 0.9296\n",
            "Epoch 32/75\n",
            "43/43 [==============================] - 4s 92ms/step - loss: 0.5778 - accuracy: 0.8808 - val_loss: 0.5544 - val_accuracy: 0.9032\n",
            "Epoch 33/75\n",
            "43/43 [==============================] - 4s 97ms/step - loss: 0.5602 - accuracy: 0.8929 - val_loss: 0.5451 - val_accuracy: 0.9179\n",
            "Epoch 34/75\n",
            "43/43 [==============================] - 4s 91ms/step - loss: 0.5412 - accuracy: 0.8829 - val_loss: 0.5370 - val_accuracy: 0.9238\n",
            "Epoch 35/75\n",
            "43/43 [==============================] - 4s 92ms/step - loss: 0.5344 - accuracy: 0.8962 - val_loss: 0.5317 - val_accuracy: 0.9267\n",
            "Epoch 36/75\n",
            "43/43 [==============================] - 4s 91ms/step - loss: 0.5502 - accuracy: 0.8740 - val_loss: 0.5255 - val_accuracy: 0.9062\n",
            "Epoch 37/75\n",
            "43/43 [==============================] - 4s 97ms/step - loss: 0.5146 - accuracy: 0.9001 - val_loss: 0.5156 - val_accuracy: 0.9208\n",
            "Epoch 38/75\n",
            "43/43 [==============================] - 4s 91ms/step - loss: 0.5160 - accuracy: 0.9053 - val_loss: 0.5083 - val_accuracy: 0.9267\n",
            "Epoch 39/75\n",
            "43/43 [==============================] - 4s 91ms/step - loss: 0.5261 - accuracy: 0.8913 - val_loss: 0.5034 - val_accuracy: 0.9267\n",
            "Epoch 40/75\n",
            "43/43 [==============================] - 4s 91ms/step - loss: 0.5060 - accuracy: 0.8953 - val_loss: 0.4950 - val_accuracy: 0.9296\n",
            "Epoch 41/75\n",
            "43/43 [==============================] - 4s 91ms/step - loss: 0.4938 - accuracy: 0.9021 - val_loss: 0.4890 - val_accuracy: 0.9208\n",
            "Epoch 42/75\n",
            "43/43 [==============================] - 4s 90ms/step - loss: 0.4730 - accuracy: 0.9020 - val_loss: 0.4825 - val_accuracy: 0.9326\n",
            "Epoch 43/75\n",
            "43/43 [==============================] - 4s 96ms/step - loss: 0.4653 - accuracy: 0.9126 - val_loss: 0.4776 - val_accuracy: 0.9296\n",
            "Epoch 44/75\n",
            "43/43 [==============================] - 4s 90ms/step - loss: 0.4855 - accuracy: 0.9067 - val_loss: 0.4717 - val_accuracy: 0.9296\n",
            "Epoch 45/75\n",
            "43/43 [==============================] - 4s 90ms/step - loss: 0.4696 - accuracy: 0.9062 - val_loss: 0.4651 - val_accuracy: 0.9208\n",
            "Epoch 46/75\n",
            "43/43 [==============================] - 4s 92ms/step - loss: 0.4668 - accuracy: 0.9074 - val_loss: 0.4595 - val_accuracy: 0.9238\n",
            "Epoch 47/75\n",
            "43/43 [==============================] - 4s 97ms/step - loss: 0.4671 - accuracy: 0.9032 - val_loss: 0.4543 - val_accuracy: 0.9208\n",
            "Epoch 48/75\n",
            "43/43 [==============================] - 4s 95ms/step - loss: 0.4635 - accuracy: 0.8955 - val_loss: 0.4524 - val_accuracy: 0.9238\n",
            "Epoch 49/75\n",
            "43/43 [==============================] - 4s 94ms/step - loss: 0.4607 - accuracy: 0.8973 - val_loss: 0.4488 - val_accuracy: 0.9150\n",
            "Epoch 50/75\n",
            "43/43 [==============================] - 4s 91ms/step - loss: 0.4520 - accuracy: 0.8946 - val_loss: 0.4392 - val_accuracy: 0.9267\n",
            "Epoch 51/75\n",
            "43/43 [==============================] - 4s 98ms/step - loss: 0.4488 - accuracy: 0.8982 - val_loss: 0.4353 - val_accuracy: 0.9267\n",
            "Epoch 52/75\n",
            "43/43 [==============================] - 4s 92ms/step - loss: 0.4413 - accuracy: 0.9025 - val_loss: 0.4297 - val_accuracy: 0.9267\n",
            "Epoch 53/75\n",
            "43/43 [==============================] - 4s 92ms/step - loss: 0.4425 - accuracy: 0.8994 - val_loss: 0.4251 - val_accuracy: 0.9296\n",
            "Epoch 54/75\n",
            "43/43 [==============================] - 4s 92ms/step - loss: 0.4377 - accuracy: 0.8994 - val_loss: 0.4219 - val_accuracy: 0.9238\n",
            "Epoch 55/75\n",
            "43/43 [==============================] - 4s 91ms/step - loss: 0.4292 - accuracy: 0.8998 - val_loss: 0.4176 - val_accuracy: 0.9296\n",
            "Epoch 56/75\n",
            "43/43 [==============================] - 4s 103ms/step - loss: 0.4171 - accuracy: 0.9101 - val_loss: 0.4113 - val_accuracy: 0.9296\n",
            "Epoch 57/75\n",
            "43/43 [==============================] - 4s 92ms/step - loss: 0.4121 - accuracy: 0.9160 - val_loss: 0.4072 - val_accuracy: 0.9296\n",
            "Epoch 58/75\n",
            "43/43 [==============================] - 4s 92ms/step - loss: 0.4171 - accuracy: 0.9044 - val_loss: 0.4030 - val_accuracy: 0.9267\n",
            "Epoch 59/75\n",
            "43/43 [==============================] - 4s 92ms/step - loss: 0.4260 - accuracy: 0.8939 - val_loss: 0.3993 - val_accuracy: 0.9296\n",
            "Epoch 60/75\n",
            "43/43 [==============================] - 4s 97ms/step - loss: 0.4237 - accuracy: 0.8935 - val_loss: 0.3949 - val_accuracy: 0.9296\n",
            "Epoch 61/75\n",
            "43/43 [==============================] - 4s 94ms/step - loss: 0.4009 - accuracy: 0.9086 - val_loss: 0.3997 - val_accuracy: 0.9120\n",
            "Epoch 62/75\n",
            "43/43 [==============================] - 4s 100ms/step - loss: 0.4156 - accuracy: 0.8901 - val_loss: 0.3889 - val_accuracy: 0.9296\n",
            "Epoch 63/75\n",
            "43/43 [==============================] - 4s 100ms/step - loss: 0.3895 - accuracy: 0.9045 - val_loss: 0.3839 - val_accuracy: 0.9296\n",
            "Epoch 64/75\n",
            "43/43 [==============================] - 4s 93ms/step - loss: 0.4207 - accuracy: 0.8886 - val_loss: 0.3800 - val_accuracy: 0.9296\n",
            "Epoch 65/75\n",
            "43/43 [==============================] - 4s 92ms/step - loss: 0.4156 - accuracy: 0.8931 - val_loss: 0.3813 - val_accuracy: 0.9179\n",
            "Epoch 66/75\n",
            "43/43 [==============================] - 4s 101ms/step - loss: 0.4103 - accuracy: 0.8944 - val_loss: 0.3731 - val_accuracy: 0.9326\n",
            "Epoch 67/75\n",
            "43/43 [==============================] - 4s 93ms/step - loss: 0.4091 - accuracy: 0.8803 - val_loss: 0.3720 - val_accuracy: 0.9296\n",
            "Epoch 68/75\n",
            "43/43 [==============================] - 4s 93ms/step - loss: 0.3819 - accuracy: 0.9089 - val_loss: 0.3728 - val_accuracy: 0.9150\n",
            "Epoch 69/75\n",
            "43/43 [==============================] - 4s 94ms/step - loss: 0.4055 - accuracy: 0.8825 - val_loss: 0.3639 - val_accuracy: 0.9296\n",
            "Epoch 70/75\n",
            "43/43 [==============================] - 4s 94ms/step - loss: 0.3678 - accuracy: 0.9105 - val_loss: 0.3604 - val_accuracy: 0.9326\n",
            "Epoch 71/75\n",
            "43/43 [==============================] - 4s 94ms/step - loss: 0.3872 - accuracy: 0.8988 - val_loss: 0.3575 - val_accuracy: 0.9326\n",
            "Epoch 72/75\n",
            "43/43 [==============================] - 4s 93ms/step - loss: 0.3727 - accuracy: 0.9041 - val_loss: 0.3561 - val_accuracy: 0.9296\n",
            "Epoch 73/75\n",
            "43/43 [==============================] - 4s 93ms/step - loss: 0.3811 - accuracy: 0.8939 - val_loss: 0.3529 - val_accuracy: 0.9296\n",
            "Epoch 74/75\n",
            "43/43 [==============================] - 4s 93ms/step - loss: 0.3525 - accuracy: 0.9090 - val_loss: 0.3489 - val_accuracy: 0.9326\n",
            "Epoch 75/75\n",
            "43/43 [==============================] - 4s 100ms/step - loss: 0.3730 - accuracy: 0.9000 - val_loss: 0.3471 - val_accuracy: 0.9238\n"
          ],
          "name": "stdout"
        }
      ]
    },
    {
      "cell_type": "code",
      "metadata": {
        "id": "vhwajgGzpvrD",
        "colab": {
          "base_uri": "https://localhost:8080/"
        },
        "outputId": "0dacc101-c086-4548-855b-cd13c8750214"
      },
      "source": [
        "history.history"
      ],
      "execution_count": 480,
      "outputs": [
        {
          "output_type": "execute_result",
          "data": {
            "text/plain": [
              "{'accuracy': [0.5124633312225342,\n",
              "  0.6576246619224548,\n",
              "  0.6810850501060486,\n",
              "  0.6759530901908875,\n",
              "  0.723607063293457,\n",
              "  0.6957477927207947,\n",
              "  0.7932551503181458,\n",
              "  0.7001466155052185,\n",
              "  0.7228739261627197,\n",
              "  0.7683284282684326,\n",
              "  0.757331371307373,\n",
              "  0.740469217300415,\n",
              "  0.7983871102333069,\n",
              "  0.7624633312225342,\n",
              "  0.7807917594909668,\n",
              "  0.7976539731025696,\n",
              "  0.8013196587562561,\n",
              "  0.8057184815406799,\n",
              "  0.8174486756324768,\n",
              "  0.8431084752082825,\n",
              "  0.849706768989563,\n",
              "  0.8482404947280884,\n",
              "  0.866568922996521,\n",
              "  0.8548387289047241,\n",
              "  0.8658357858657837,\n",
              "  0.8746334314346313,\n",
              "  0.8724340200424194,\n",
              "  0.8768328428268433,\n",
              "  0.8885630369186401,\n",
              "  0.8900293111801147,\n",
              "  0.8856304883956909,\n",
              "  0.8936949968338013,\n",
              "  0.8951612710952759,\n",
              "  0.8870967626571655,\n",
              "  0.8914955854415894,\n",
              "  0.8958944082260132,\n",
              "  0.8966275453567505,\n",
              "  0.900293231010437,\n",
              "  0.900293231010437,\n",
              "  0.8980938196182251,\n",
              "  0.9039589166641235,\n",
              "  0.8973606824874878,\n",
              "  0.8988269567489624,\n",
              "  0.9017595052719116,\n",
              "  0.900293231010437,\n",
              "  0.9017595052719116,\n",
              "  0.9039589166641235,\n",
              "  0.9039589166641235,\n",
              "  0.9010263681411743,\n",
              "  0.8958944082260132,\n",
              "  0.9017595052719116,\n",
              "  0.9039589166641235,\n",
              "  0.9010263681411743,\n",
              "  0.9010263681411743,\n",
              "  0.9010263681411743,\n",
              "  0.8995600938796997,\n",
              "  0.8995600938796997,\n",
              "  0.8995600938796997,\n",
              "  0.8966275453567505,\n",
              "  0.8995600938796997,\n",
              "  0.9046920537948608,\n",
              "  0.900293231010437,\n",
              "  0.9046920537948608,\n",
              "  0.9024926424026489,\n",
              "  0.9046920537948608,\n",
              "  0.9017595052719116,\n",
              "  0.8958944082260132,\n",
              "  0.9024926424026489,\n",
              "  0.8966275453567505,\n",
              "  0.9024926424026489,\n",
              "  0.9017595052719116,\n",
              "  0.9010263681411743,\n",
              "  0.8995600938796997,\n",
              "  0.8995600938796997,\n",
              "  0.9032257795333862],\n",
              " 'loss': [1.0800849199295044,\n",
              "  1.0221977233886719,\n",
              "  0.9802641868591309,\n",
              "  0.9467748999595642,\n",
              "  0.9186001420021057,\n",
              "  0.8911864757537842,\n",
              "  0.8658527135848999,\n",
              "  0.8421459794044495,\n",
              "  0.8214446306228638,\n",
              "  0.8030252456665039,\n",
              "  0.785574734210968,\n",
              "  0.7696489095687866,\n",
              "  0.7545318007469177,\n",
              "  0.7406604290008545,\n",
              "  0.7255694270133972,\n",
              "  0.7124569416046143,\n",
              "  0.6987594366073608,\n",
              "  0.687322199344635,\n",
              "  0.6764243841171265,\n",
              "  0.6644194722175598,\n",
              "  0.6537619233131409,\n",
              "  0.6434245109558105,\n",
              "  0.6341782808303833,\n",
              "  0.6251681447029114,\n",
              "  0.6167651414871216,\n",
              "  0.6076681613922119,\n",
              "  0.5989317297935486,\n",
              "  0.5908322334289551,\n",
              "  0.5833334922790527,\n",
              "  0.5744877457618713,\n",
              "  0.5675321221351624,\n",
              "  0.5597527027130127,\n",
              "  0.5526336431503296,\n",
              "  0.5454035997390747,\n",
              "  0.5386256575584412,\n",
              "  0.5318870544433594,\n",
              "  0.5257465243339539,\n",
              "  0.5184533596038818,\n",
              "  0.512336015701294,\n",
              "  0.5062294602394104,\n",
              "  0.5003162026405334,\n",
              "  0.4931439757347107,\n",
              "  0.4880267381668091,\n",
              "  0.4832736849784851,\n",
              "  0.4779989421367645,\n",
              "  0.47283169627189636,\n",
              "  0.4686724543571472,\n",
              "  0.4630967378616333,\n",
              "  0.4589770436286926,\n",
              "  0.4546467065811157,\n",
              "  0.44971373677253723,\n",
              "  0.4456603527069092,\n",
              "  0.44153010845184326,\n",
              "  0.4373231530189514,\n",
              "  0.4333205223083496,\n",
              "  0.4294789433479309,\n",
              "  0.4255431890487671,\n",
              "  0.4218534231185913,\n",
              "  0.41785240173339844,\n",
              "  0.41412121057510376,\n",
              "  0.41083988547325134,\n",
              "  0.4076377749443054,\n",
              "  0.4038039743900299,\n",
              "  0.4009177088737488,\n",
              "  0.3977273106575012,\n",
              "  0.3948734402656555,\n",
              "  0.3913104832172394,\n",
              "  0.3884178102016449,\n",
              "  0.3862859010696411,\n",
              "  0.3831787705421448,\n",
              "  0.3810211420059204,\n",
              "  0.37807655334472656,\n",
              "  0.37567827105522156,\n",
              "  0.3727685511112213,\n",
              "  0.3709068298339844],\n",
              " 'val_accuracy': [0.6099706888198853,\n",
              "  0.6539589166641235,\n",
              "  0.6539589166641235,\n",
              "  0.759530782699585,\n",
              "  0.662756621837616,\n",
              "  0.9032257795333862,\n",
              "  0.6715542674064636,\n",
              "  0.7917888760566711,\n",
              "  0.7976539731025696,\n",
              "  0.774193525314331,\n",
              "  0.7536656856536865,\n",
              "  0.8093841671943665,\n",
              "  0.7536656856536865,\n",
              "  0.7917888760566711,\n",
              "  0.803519070148468,\n",
              "  0.7888563275337219,\n",
              "  0.8797653913497925,\n",
              "  0.8709677457809448,\n",
              "  0.8914955854415894,\n",
              "  0.8651026487350464,\n",
              "  0.8680351972579956,\n",
              "  0.8856304883956909,\n",
              "  0.8563050031661987,\n",
              "  0.8944281339645386,\n",
              "  0.9178885817527771,\n",
              "  0.9061583280563354,\n",
              "  0.929618775844574,\n",
              "  0.929618775844574,\n",
              "  0.9237536787986755,\n",
              "  0.9149560332298279,\n",
              "  0.929618775844574,\n",
              "  0.9032257795333862,\n",
              "  0.9178885817527771,\n",
              "  0.9237536787986755,\n",
              "  0.9266862273216248,\n",
              "  0.9061583280563354,\n",
              "  0.9208211302757263,\n",
              "  0.9266862273216248,\n",
              "  0.9266862273216248,\n",
              "  0.929618775844574,\n",
              "  0.9208211302757263,\n",
              "  0.9325513243675232,\n",
              "  0.929618775844574,\n",
              "  0.929618775844574,\n",
              "  0.9208211302757263,\n",
              "  0.9237536787986755,\n",
              "  0.9208211302757263,\n",
              "  0.9237536787986755,\n",
              "  0.9149560332298279,\n",
              "  0.9266862273216248,\n",
              "  0.9266862273216248,\n",
              "  0.9266862273216248,\n",
              "  0.929618775844574,\n",
              "  0.9237536787986755,\n",
              "  0.929618775844574,\n",
              "  0.929618775844574,\n",
              "  0.929618775844574,\n",
              "  0.9266862273216248,\n",
              "  0.929618775844574,\n",
              "  0.929618775844574,\n",
              "  0.9120234847068787,\n",
              "  0.929618775844574,\n",
              "  0.929618775844574,\n",
              "  0.929618775844574,\n",
              "  0.9178885817527771,\n",
              "  0.9325513243675232,\n",
              "  0.929618775844574,\n",
              "  0.9149560332298279,\n",
              "  0.929618775844574,\n",
              "  0.9325513243675232,\n",
              "  0.9325513243675232,\n",
              "  0.929618775844574,\n",
              "  0.929618775844574,\n",
              "  0.9325513243675232,\n",
              "  0.9237536787986755],\n",
              " 'val_loss': [1.0476632118225098,\n",
              "  0.9996383786201477,\n",
              "  0.964738130569458,\n",
              "  0.9340900778770447,\n",
              "  0.9078264236450195,\n",
              "  0.883247435092926,\n",
              "  0.8581064939498901,\n",
              "  0.8350274562835693,\n",
              "  0.8151484131813049,\n",
              "  0.798424243927002,\n",
              "  0.7824996709823608,\n",
              "  0.7658315300941467,\n",
              "  0.7542529702186584,\n",
              "  0.7363386750221252,\n",
              "  0.7235541343688965,\n",
              "  0.7091869711875916,\n",
              "  0.6977088451385498,\n",
              "  0.6838341951370239,\n",
              "  0.6731102466583252,\n",
              "  0.6611084938049316,\n",
              "  0.6509923338890076,\n",
              "  0.6400167346000671,\n",
              "  0.630867600440979,\n",
              "  0.6205746531486511,\n",
              "  0.6119034886360168,\n",
              "  0.6026792526245117,\n",
              "  0.5931571125984192,\n",
              "  0.5871562361717224,\n",
              "  0.5773228406906128,\n",
              "  0.5684322118759155,\n",
              "  0.5599888563156128,\n",
              "  0.5543676614761353,\n",
              "  0.5450751185417175,\n",
              "  0.5370169878005981,\n",
              "  0.5316990613937378,\n",
              "  0.5255332589149475,\n",
              "  0.5155873894691467,\n",
              "  0.5082724690437317,\n",
              "  0.5033518075942993,\n",
              "  0.494991272687912,\n",
              "  0.48902055621147156,\n",
              "  0.48247507214546204,\n",
              "  0.47758930921554565,\n",
              "  0.4716654121875763,\n",
              "  0.46509262919425964,\n",
              "  0.45952102541923523,\n",
              "  0.4543112814426422,\n",
              "  0.4523826539516449,\n",
              "  0.448771595954895,\n",
              "  0.4392378330230713,\n",
              "  0.4353063702583313,\n",
              "  0.4297388195991516,\n",
              "  0.42506730556488037,\n",
              "  0.42193788290023804,\n",
              "  0.4176398515701294,\n",
              "  0.4113177955150604,\n",
              "  0.40720757842063904,\n",
              "  0.40298762917518616,\n",
              "  0.39932337403297424,\n",
              "  0.3948916792869568,\n",
              "  0.3996998965740204,\n",
              "  0.3888514041900635,\n",
              "  0.3838688135147095,\n",
              "  0.37999793887138367,\n",
              "  0.3813261389732361,\n",
              "  0.37310776114463806,\n",
              "  0.3719898462295532,\n",
              "  0.3728332221508026,\n",
              "  0.36389461159706116,\n",
              "  0.3603675365447998,\n",
              "  0.3574787676334381,\n",
              "  0.3561176061630249,\n",
              "  0.35290756821632385,\n",
              "  0.3488630950450897,\n",
              "  0.3471194803714752]}"
            ]
          },
          "metadata": {
            "tags": []
          },
          "execution_count": 480
        }
      ]
    },
    {
      "cell_type": "code",
      "metadata": {
        "colab": {
          "base_uri": "https://localhost:8080/"
        },
        "id": "Kyn1dHRRJ5Wn",
        "outputId": "9d3de477-542c-43e4-a507-f65517728d9e"
      },
      "source": [
        "print(\"--- %s seconds ---\" % (time.time() - start_time))\n"
      ],
      "execution_count": 481,
      "outputs": [
        {
          "output_type": "stream",
          "text": [
            "--- 300.80503368377686 seconds ---\n"
          ],
          "name": "stdout"
        }
      ]
    },
    {
      "cell_type": "code",
      "metadata": {
        "id": "rOU0i1e6jhr3"
      },
      "source": [
        "x_test = X_test #returns a numpy array\n",
        "min_max_scaler = preprocessing.MinMaxScaler()\n",
        "x_scaled_test = min_max_scaler.fit_transform(x_test)\n",
        "df_test = pd.DataFrame(x_scaled_test)"
      ],
      "execution_count": 482,
      "outputs": []
    },
    {
      "cell_type": "code",
      "metadata": {
        "id": "OgeGekJ8lW6S"
      },
      "source": [
        "predictions = model.predict(x=df_test, batch_size=32)"
      ],
      "execution_count": 483,
      "outputs": []
    },
    {
      "cell_type": "code",
      "metadata": {
        "id": "1o6zqIsfl2QX"
      },
      "source": [
        "rounded_predictions = np.argmax(predictions, axis=-1)"
      ],
      "execution_count": 484,
      "outputs": []
    },
    {
      "cell_type": "code",
      "metadata": {
        "id": "NQTy4F7TmotU"
      },
      "source": [
        "cm = confusion_matrix(y_true=y_test, y_pred=rounded_predictions)"
      ],
      "execution_count": 485,
      "outputs": []
    },
    {
      "cell_type": "code",
      "metadata": {
        "colab": {
          "base_uri": "https://localhost:8080/",
          "height": 922
        },
        "id": "rieDywHXuA6R",
        "outputId": "61ce936e-4e3c-4abf-f4ec-2a0ff5119721"
      },
      "source": [
        "label_mapping = {'NEGATIVE': 0, 'NEUTRAL': 1, 'POSITIVE': 2}\n",
        "# for diff dataset\n",
        "# label_mapping = {'NEGATIVE': 0, 'POSITIVE': 1}\n",
        "plt.figure(figsize=(8, 8))\n",
        "sns.heatmap(cm, annot=True, vmin=0, fmt='g', cbar=False, cmap='Blues')\n",
        "clr = classification_report(y_test, rounded_predictions, target_names=label_mapping.keys())\n",
        "plt.xticks(np.arange(3) + 0.5, label_mapping.keys())\n",
        "plt.yticks(np.arange(3) + 0.5, label_mapping.keys())\n",
        "plt.xlabel(\"Predicted\")\n",
        "plt.ylabel(\"Actual\")\n",
        "plt.title(\"Confusion Matrix\")\n",
        "plt.show()\n",
        "\n",
        "print(\"Classification Report:\\n----------------------\\n\", clr)\n",
        "\n"
      ],
      "execution_count": 486,
      "outputs": [
        {
          "output_type": "display_data",
          "data": {
            "image/png": "[encoded data removed]",
            "text/plain": [
              "<Figure size 800x800 with 1 Axes>"
            ]
          },
          "metadata": {
            "tags": []
          }
        },
        {
          "output_type": "stream",
          "text": [
            "Classification Report:\n",
            "----------------------\n",
            "               precision    recall  f1-score   support\n",
            "\n",
            "    NEGATIVE       0.95      0.61      0.75       137\n",
            "     NEUTRAL       0.69      0.81      0.74       147\n",
            "    POSITIVE       0.85      0.99      0.91       143\n",
            "\n",
            "    accuracy                           0.81       427\n",
            "   macro avg       0.83      0.80      0.80       427\n",
            "weighted avg       0.83      0.81      0.80       427\n",
            "\n"
          ],
          "name": "stdout"
        }
      ]
    },
    {
      "cell_type": "code",
      "metadata": {
        "id": "s5wbr_oav-Kb"
      },
      "source": [
        "# https://stackoverflow.com/questions/26413185/how-to-recover-matplotlib-defaults-after-setting-stylesheet\n",
        "import matplotlib as mpl\n",
        "mpl.rcParams.update(mpl.rcParamsDefault)"
      ],
      "execution_count": 487,
      "outputs": []
    },
    {
      "cell_type": "code",
      "metadata": {
        "id": "73HZGymlybP2"
      },
      "source": [
        "training_acc = history.history['accuracy']\n",
        "validation_acc = history.history['val_accuracy']\n",
        "training_loss  = history.history['loss']\n",
        "validation_loss = history.history['val_loss']"
      ],
      "execution_count": 488,
      "outputs": []
    },
    {
      "cell_type": "code",
      "metadata": {
        "colab": {
          "base_uri": "https://localhost:8080/",
          "height": 472
        },
        "id": "1jgMVKMDyxck",
        "outputId": "0e5a71c7-db98-4079-d6d2-8f4ebd9dc876"
      },
      "source": [
        "epochs = history.epoch\n",
        "plt.plot(epochs, training_acc, color = '#17e6e6', label='Training Accuracy')\n",
        "plt.plot(epochs, validation_acc,color = '#e61771', label='Validation Accuracy')\n",
        "plt.title('Accuracy vs Epochs')\n",
        "plt.xlabel('Epochs')\n",
        "plt.ylabel('Accuracy')\n",
        "plt.legend()\n",
        "plt.savefig('AccuracyVsEpochs.png')\n",
        "plt.show()"
      ],
      "execution_count": 489,
      "outputs": [
        {
          "output_type": "display_data",
          "data": {
            "image/png": "[encoded data removed]",
            "text/plain": [
              "<Figure size 640x480 with 1 Axes>"
            ]
          },
          "metadata": {
            "tags": []
          }
        }
      ]
    }
  ]
}