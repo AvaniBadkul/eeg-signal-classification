{
  "nbformat": 4,
  "nbformat_minor": 0,
  "metadata": {
    "colab": {
      "name": "EEGSignalClassification.ipynb",
      "provenance": []
    },
    "kernelspec": {
      "name": "python3",
      "display_name": "Python 3"
    },
    "language_info": {
      "name": "python"
    }
  },
  "cells": [
    {
      "cell_type": "code",
      "metadata": {
        "id": "iuNWUJKJLY9T"
      },
      "source": [
        "%reset -f "
      ],
      "execution_count": 70,
      "outputs": []
    },
    {
      "cell_type": "code",
      "metadata": {
        "id": "yj4HfL7EcNRq"
      },
      "source": [
        "# libraries used\n",
        "#  https://stats.stackexchange.com/questions/181/how-to-choose-the-number-of-hidden-layers-and-nodes-in-a-feedforward-neural-netw\n",
        "import numpy as np\n",
        "import pandas as pd\n",
        "import seaborn as sns \n",
        "import matplotlib.pyplot as plt\n",
        "from sklearn.model_selection import train_test_split\n",
        "from sklearn.metrics import confusion_matrix, classification_report\n",
        "from sklearn import preprocessing\n",
        "import tensorflow as tf\n",
        "from tensorflow.keras import datasets, layers, models\n",
        "import keras \n",
        "from keras.models import Sequential\n",
        "from keras.layers import Dense, Dropout\n",
        "import itertools"
      ],
      "execution_count": 71,
      "outputs": []
    },
    {
      "cell_type": "code",
      "metadata": {
        "colab": {
          "base_uri": "https://localhost:8080/"
        },
        "id": "WYIp8Qr9ck8Z",
        "outputId": "19221b82-d187-4d2a-bf1d-d4a4b8691389"
      },
      "source": [
        "emotions = pd.read_csv(\"drive/MyDrive/EEG/emotions.csv\")\n",
        "emotions.replace(['NEGATIVE', 'POSITIVE', 'NEUTRAL'], [2, 1, 0], inplace=True)\n",
        "emotions['label'].unique()"
      ],
      "execution_count": 72,
      "outputs": [
        {
          "output_type": "execute_result",
          "data": {
            "text/plain": [
              "array([2, 0, 1])"
            ]
          },
          "metadata": {
            "tags": []
          },
          "execution_count": 72
        }
      ]
    },
    {
      "cell_type": "code",
      "metadata": {
        "id": "PvT5tTotcoS3"
      },
      "source": [
        "X = emotions.drop('label', axis=1).copy()\n",
        "y = (emotions['label'].copy())"
      ],
      "execution_count": 73,
      "outputs": []
    },
    {
      "cell_type": "code",
      "metadata": {
        "id": "GUZOuZK7crNV"
      },
      "source": [
        "# Splitting data into training and testing as 80-20 \n",
        "X_train, X_test, y_train, y_test = train_test_split(X, y, test_size=0.2, random_state=1)\n",
        "\n",
        "x = X_train #returns a numpy array\n",
        "min_max_scaler = preprocessing.MinMaxScaler()\n",
        "x_scaled = min_max_scaler.fit_transform(x)\n",
        "df = pd.DataFrame(x_scaled)"
      ],
      "execution_count": 74,
      "outputs": []
    },
    {
      "cell_type": "code",
      "metadata": {
        "id": "BhRoXS4mj6CV"
      },
      "source": [
        "#  resetting the data - https://www.tensorflow.org/api_docs/python/tf/keras/backend/clear_session\n",
        "tf.keras.backend.clear_session()"
      ],
      "execution_count": 75,
      "outputs": []
    },
    {
      "cell_type": "code",
      "metadata": {
        "colab": {
          "base_uri": "https://localhost:8080/"
        },
        "id": "k4a4vwF5cxvU",
        "outputId": "6c136a51-9108-45a8-ebfe-964b6bcaca0e"
      },
      "source": [
        "model = Sequential()\n",
        "model.add(Dense((2*X_train.shape[1]/3), input_dim=X_train.shape[1], activation='relu'))\n",
        "model.add(Dense((2*X_train.shape[1]/3), activation='relu'))\n",
        "model.add(Dense((1*X_train.shape[1]/3), activation='relu'))\n",
        "model.add(Dense((1*X_train.shape[1]/3), activation='relu'))\n",
        "model.add(Dense(3, activation='softmax'))\n",
        "#model.compile(loss='categorical_crossentropy', optimizer='adam', metrics=['accuracy'])\n",
        "print(model.summary())\n",
        "\n",
        "\n",
        "\n"
      ],
      "execution_count": 76,
      "outputs": [
        {
          "output_type": "stream",
          "text": [
            "Model: \"sequential\"\n",
            "_________________________________________________________________\n",
            "Layer (type)                 Output Shape              Param #   \n",
            "=================================================================\n",
            "dense (Dense)                (None, 1698)              4328202   \n",
            "_________________________________________________________________\n",
            "dense_1 (Dense)              (None, 1698)              2884902   \n",
            "_________________________________________________________________\n",
            "dense_2 (Dense)              (None, 849)               1442451   \n",
            "_________________________________________________________________\n",
            "dense_3 (Dense)              (None, 849)               721650    \n",
            "_________________________________________________________________\n",
            "dense_4 (Dense)              (None, 3)                 2550      \n",
            "=================================================================\n",
            "Total params: 9,379,755\n",
            "Trainable params: 9,379,755\n",
            "Non-trainable params: 0\n",
            "_________________________________________________________________\n",
            "None\n"
          ],
          "name": "stdout"
        }
      ]
    },
    {
      "cell_type": "code",
      "metadata": {
        "id": "A2Q9BOrneeUM"
      },
      "source": [
        "# for categorical entropy\n",
        "# https://stackoverflow.com/questions/63211181/error-while-using-categorical-crossentropy\n",
        "from tensorflow.keras.utils import to_categorical\n",
        "Y_one_hot=to_categorical(y_train) # convert Y into an one-hot vector"
      ],
      "execution_count": 77,
      "outputs": []
    },
    {
      "cell_type": "code",
      "metadata": {
        "id": "NEs5ddrJeBeG"
      },
      "source": [
        "# https://stackoverflow.com/questions/59737875/keras-change-learning-rate\n",
        "#optimizer = tf.keras.optimizers.Adam(0.001)\n",
        "#optimizer.learning_rate.assign(0.01)\n",
        "\n",
        "opt = keras.optimizers.Adagrad(learning_rate=0.01)\n",
        "\n",
        "model.compile(\n",
        "    optimizer=opt,\n",
        "    loss='sparse_categorical_crossentropy',\n",
        "    metrics=['accuracy']\n",
        ")\n",
        "\n",
        "# to be run for categorical cross entropy\n",
        "# model.compile(loss='categorical_crossentropy', optimizer=tf.keras.optimizers.Adam(lr=0.01), metrics=['accuracy'])\n"
      ],
      "execution_count": 78,
      "outputs": []
    },
    {
      "cell_type": "code",
      "metadata": {
        "id": "ASdP3qvxes8r",
        "colab": {
          "base_uri": "https://localhost:8080/"
        },
        "outputId": "3a05b543-3d83-48a5-e124-d4ba0b59f0b8"
      },
      "source": [
        "# make sure that the input data is shuffled before hand so that the model doesn't notice patterns and generalizes well\n",
        "# change y_train to y_hot_encoded when using categorical cross entorpy\n",
        "import time\n",
        "start_time = time.time()\n",
        "history = model.fit(\n",
        "    df,\n",
        "    y_train,\n",
        "    validation_split=0.2,\n",
        "    batch_size=32,\n",
        "    epochs=75)"
      ],
      "execution_count": 79,
      "outputs": [
        {
          "output_type": "stream",
          "text": [
            "Epoch 1/75\n",
            "43/43 [==============================] - 6s 112ms/step - loss: 1.0799 - accuracy: 0.4472 - val_loss: 0.8305 - val_accuracy: 0.4692\n",
            "Epoch 2/75\n",
            "43/43 [==============================] - 4s 94ms/step - loss: 0.8410 - accuracy: 0.5875 - val_loss: 0.7643 - val_accuracy: 0.6393\n",
            "Epoch 3/75\n",
            "43/43 [==============================] - 4s 84ms/step - loss: 0.6426 - accuracy: 0.7323 - val_loss: 1.4203 - val_accuracy: 0.3109\n",
            "Epoch 4/75\n",
            "43/43 [==============================] - 3s 78ms/step - loss: 0.8612 - accuracy: 0.6257 - val_loss: 0.4777 - val_accuracy: 0.8944\n",
            "Epoch 5/75\n",
            "43/43 [==============================] - 4s 90ms/step - loss: 0.6215 - accuracy: 0.7423 - val_loss: 0.4669 - val_accuracy: 0.8094\n",
            "Epoch 6/75\n",
            "43/43 [==============================] - 4s 90ms/step - loss: 0.6455 - accuracy: 0.7230 - val_loss: 0.5984 - val_accuracy: 0.7859\n",
            "Epoch 7/75\n",
            "43/43 [==============================] - 4s 85ms/step - loss: 0.5080 - accuracy: 0.8048 - val_loss: 0.3310 - val_accuracy: 0.9326\n",
            "Epoch 8/75\n",
            "43/43 [==============================] - 4s 91ms/step - loss: 0.4939 - accuracy: 0.8090 - val_loss: 0.3183 - val_accuracy: 0.9179\n",
            "Epoch 9/75\n",
            "43/43 [==============================] - 4s 85ms/step - loss: 0.5076 - accuracy: 0.7953 - val_loss: 0.2933 - val_accuracy: 0.9032\n",
            "Epoch 10/75\n",
            "43/43 [==============================] - 4s 85ms/step - loss: 0.4201 - accuracy: 0.8340 - val_loss: 0.3368 - val_accuracy: 0.8651\n",
            "Epoch 11/75\n",
            "43/43 [==============================] - 3s 79ms/step - loss: 0.3872 - accuracy: 0.8604 - val_loss: 0.3871 - val_accuracy: 0.8504\n",
            "Epoch 12/75\n",
            "43/43 [==============================] - 3s 78ms/step - loss: 0.3971 - accuracy: 0.8482 - val_loss: 0.5848 - val_accuracy: 0.7097\n",
            "Epoch 13/75\n",
            "43/43 [==============================] - 4s 105ms/step - loss: 0.4493 - accuracy: 0.8162 - val_loss: 0.2714 - val_accuracy: 0.9150\n",
            "Epoch 14/75\n",
            "43/43 [==============================] - 4s 88ms/step - loss: 0.3840 - accuracy: 0.8386 - val_loss: 0.2251 - val_accuracy: 0.9326\n",
            "Epoch 15/75\n",
            "43/43 [==============================] - 4s 92ms/step - loss: 0.3656 - accuracy: 0.8643 - val_loss: 0.2410 - val_accuracy: 0.9150\n",
            "Epoch 16/75\n",
            "43/43 [==============================] - 4s 97ms/step - loss: 0.3808 - accuracy: 0.8380 - val_loss: 0.2987 - val_accuracy: 0.8915\n",
            "Epoch 17/75\n",
            "43/43 [==============================] - 4s 90ms/step - loss: 0.3480 - accuracy: 0.8617 - val_loss: 0.2124 - val_accuracy: 0.9355\n",
            "Epoch 18/75\n",
            "43/43 [==============================] - 4s 94ms/step - loss: 0.3624 - accuracy: 0.8603 - val_loss: 0.2406 - val_accuracy: 0.8856\n",
            "Epoch 19/75\n",
            "43/43 [==============================] - 4s 92ms/step - loss: 0.2756 - accuracy: 0.8928 - val_loss: 0.8382 - val_accuracy: 0.4428\n",
            "Epoch 20/75\n",
            "43/43 [==============================] - 4s 93ms/step - loss: 0.4039 - accuracy: 0.8248 - val_loss: 0.2702 - val_accuracy: 0.8856\n",
            "Epoch 21/75\n",
            "43/43 [==============================] - 3s 79ms/step - loss: 0.3075 - accuracy: 0.8734 - val_loss: 0.8365 - val_accuracy: 0.6100\n",
            "Epoch 22/75\n",
            "43/43 [==============================] - 4s 98ms/step - loss: 0.3410 - accuracy: 0.8697 - val_loss: 0.2410 - val_accuracy: 0.9091\n",
            "Epoch 23/75\n",
            "43/43 [==============================] - 4s 86ms/step - loss: 0.3054 - accuracy: 0.8819 - val_loss: 0.4235 - val_accuracy: 0.8240\n",
            "Epoch 24/75\n",
            "43/43 [==============================] - 4s 93ms/step - loss: 0.2889 - accuracy: 0.8812 - val_loss: 0.3918 - val_accuracy: 0.7683\n",
            "Epoch 25/75\n",
            "43/43 [==============================] - 4s 105ms/step - loss: 0.3479 - accuracy: 0.8611 - val_loss: 0.1953 - val_accuracy: 0.9238\n",
            "Epoch 26/75\n",
            "43/43 [==============================] - 4s 104ms/step - loss: 0.2542 - accuracy: 0.8904 - val_loss: 0.1860 - val_accuracy: 0.9238\n",
            "Epoch 27/75\n",
            "43/43 [==============================] - 5s 110ms/step - loss: 0.2329 - accuracy: 0.9081 - val_loss: 0.2461 - val_accuracy: 0.8739\n",
            "Epoch 28/75\n",
            "43/43 [==============================] - 5s 105ms/step - loss: 0.2791 - accuracy: 0.8817 - val_loss: 0.1963 - val_accuracy: 0.9032\n",
            "Epoch 29/75\n",
            "43/43 [==============================] - 4s 83ms/step - loss: 0.3327 - accuracy: 0.8679 - val_loss: 0.4483 - val_accuracy: 0.8006\n",
            "Epoch 30/75\n",
            "43/43 [==============================] - 4s 82ms/step - loss: 0.3252 - accuracy: 0.8711 - val_loss: 0.2409 - val_accuracy: 0.8827\n",
            "Epoch 31/75\n",
            "43/43 [==============================] - 4s 89ms/step - loss: 0.2883 - accuracy: 0.8746 - val_loss: 0.9734 - val_accuracy: 0.5748\n",
            "Epoch 32/75\n",
            "43/43 [==============================] - 4s 89ms/step - loss: 0.2693 - accuracy: 0.8813 - val_loss: 0.2279 - val_accuracy: 0.8974\n",
            "Epoch 33/75\n",
            "43/43 [==============================] - 5s 109ms/step - loss: 0.2530 - accuracy: 0.8949 - val_loss: 0.1911 - val_accuracy: 0.9384\n",
            "Epoch 34/75\n",
            "43/43 [==============================] - 4s 101ms/step - loss: 0.2165 - accuracy: 0.9270 - val_loss: 0.2995 - val_accuracy: 0.8856\n",
            "Epoch 35/75\n",
            "43/43 [==============================] - 4s 89ms/step - loss: 0.1953 - accuracy: 0.9299 - val_loss: 0.2344 - val_accuracy: 0.9062\n",
            "Epoch 36/75\n",
            "43/43 [==============================] - 4s 81ms/step - loss: 0.2210 - accuracy: 0.9123 - val_loss: 0.2183 - val_accuracy: 0.9413\n",
            "Epoch 37/75\n",
            "43/43 [==============================] - 4s 83ms/step - loss: 0.2008 - accuracy: 0.9262 - val_loss: 0.2068 - val_accuracy: 0.9091\n",
            "Epoch 38/75\n",
            "43/43 [==============================] - 4s 89ms/step - loss: 0.2586 - accuracy: 0.8802 - val_loss: 0.1639 - val_accuracy: 0.9501\n",
            "Epoch 39/75\n",
            "43/43 [==============================] - 4s 82ms/step - loss: 0.2134 - accuracy: 0.9174 - val_loss: 0.1867 - val_accuracy: 0.9413\n",
            "Epoch 40/75\n",
            "43/43 [==============================] - 4s 85ms/step - loss: 0.2371 - accuracy: 0.8988 - val_loss: 0.1708 - val_accuracy: 0.9413\n",
            "Epoch 41/75\n",
            "43/43 [==============================] - 4s 93ms/step - loss: 0.2127 - accuracy: 0.9156 - val_loss: 0.1537 - val_accuracy: 0.9413\n",
            "Epoch 42/75\n",
            "43/43 [==============================] - 4s 92ms/step - loss: 0.1795 - accuracy: 0.9300 - val_loss: 0.1620 - val_accuracy: 0.9472\n",
            "Epoch 43/75\n",
            "43/43 [==============================] - 4s 88ms/step - loss: 0.2372 - accuracy: 0.9007 - val_loss: 0.1152 - val_accuracy: 0.9648\n",
            "Epoch 44/75\n",
            "43/43 [==============================] - 3s 80ms/step - loss: 0.1669 - accuracy: 0.9398 - val_loss: 0.1853 - val_accuracy: 0.9531\n",
            "Epoch 45/75\n",
            "43/43 [==============================] - 4s 86ms/step - loss: 0.1784 - accuracy: 0.9215 - val_loss: 0.2786 - val_accuracy: 0.8739\n",
            "Epoch 46/75\n",
            "43/43 [==============================] - 3s 78ms/step - loss: 0.2243 - accuracy: 0.9178 - val_loss: 0.4662 - val_accuracy: 0.7977\n",
            "Epoch 47/75\n",
            "43/43 [==============================] - 3s 78ms/step - loss: 0.2565 - accuracy: 0.8987 - val_loss: 1.0976 - val_accuracy: 0.7067\n",
            "Epoch 48/75\n",
            "43/43 [==============================] - 3s 79ms/step - loss: 0.3156 - accuracy: 0.8768 - val_loss: 0.3457 - val_accuracy: 0.8035\n",
            "Epoch 49/75\n",
            "43/43 [==============================] - 3s 80ms/step - loss: 0.2061 - accuracy: 0.9089 - val_loss: 0.1858 - val_accuracy: 0.9179\n",
            "Epoch 50/75\n",
            "43/43 [==============================] - 4s 83ms/step - loss: 0.2001 - accuracy: 0.9267 - val_loss: 0.1246 - val_accuracy: 0.9677\n",
            "Epoch 51/75\n",
            "43/43 [==============================] - 4s 92ms/step - loss: 0.1357 - accuracy: 0.9596 - val_loss: 0.1253 - val_accuracy: 0.9531\n",
            "Epoch 52/75\n",
            "43/43 [==============================] - 3s 79ms/step - loss: 0.1847 - accuracy: 0.9219 - val_loss: 0.1786 - val_accuracy: 0.9384\n",
            "Epoch 53/75\n",
            "43/43 [==============================] - 4s 91ms/step - loss: 0.1845 - accuracy: 0.9284 - val_loss: 0.1219 - val_accuracy: 0.9560\n",
            "Epoch 54/75\n",
            "43/43 [==============================] - 4s 86ms/step - loss: 0.2374 - accuracy: 0.9096 - val_loss: 0.2435 - val_accuracy: 0.8827\n",
            "Epoch 55/75\n",
            "43/43 [==============================] - 4s 84ms/step - loss: 0.1984 - accuracy: 0.9206 - val_loss: 0.1891 - val_accuracy: 0.9326\n",
            "Epoch 56/75\n",
            "43/43 [==============================] - 4s 98ms/step - loss: 0.1817 - accuracy: 0.9227 - val_loss: 0.1372 - val_accuracy: 0.9648\n",
            "Epoch 57/75\n",
            "43/43 [==============================] - 3s 79ms/step - loss: 0.1620 - accuracy: 0.9484 - val_loss: 0.1431 - val_accuracy: 0.9413\n",
            "Epoch 58/75\n",
            "43/43 [==============================] - 3s 79ms/step - loss: 0.1582 - accuracy: 0.9470 - val_loss: 0.3145 - val_accuracy: 0.8886\n",
            "Epoch 59/75\n",
            "43/43 [==============================] - 3s 80ms/step - loss: 0.1590 - accuracy: 0.9492 - val_loss: 0.3804 - val_accuracy: 0.8915\n",
            "Epoch 60/75\n",
            "43/43 [==============================] - 4s 97ms/step - loss: 0.2155 - accuracy: 0.9210 - val_loss: 0.2085 - val_accuracy: 0.9355\n",
            "Epoch 61/75\n",
            "43/43 [==============================] - 4s 83ms/step - loss: 0.1361 - accuracy: 0.9548 - val_loss: 0.1396 - val_accuracy: 0.9472\n",
            "Epoch 62/75\n",
            "43/43 [==============================] - 4s 82ms/step - loss: 0.2057 - accuracy: 0.9270 - val_loss: 0.1445 - val_accuracy: 0.9472\n",
            "Epoch 63/75\n",
            "43/43 [==============================] - 4s 86ms/step - loss: 0.1677 - accuracy: 0.9336 - val_loss: 0.1651 - val_accuracy: 0.9267\n",
            "Epoch 64/75\n",
            "43/43 [==============================] - 3s 80ms/step - loss: 0.1737 - accuracy: 0.9360 - val_loss: 0.1839 - val_accuracy: 0.9326\n",
            "Epoch 65/75\n",
            "43/43 [==============================] - 4s 91ms/step - loss: 0.1743 - accuracy: 0.9412 - val_loss: 0.2050 - val_accuracy: 0.9413\n",
            "Epoch 66/75\n",
            "43/43 [==============================] - 3s 79ms/step - loss: 0.1433 - accuracy: 0.9562 - val_loss: 0.1900 - val_accuracy: 0.9384\n",
            "Epoch 67/75\n",
            "43/43 [==============================] - 3s 80ms/step - loss: 0.1635 - accuracy: 0.9345 - val_loss: 0.4729 - val_accuracy: 0.8416\n",
            "Epoch 68/75\n",
            "43/43 [==============================] - 4s 87ms/step - loss: 0.3953 - accuracy: 0.8743 - val_loss: 0.1694 - val_accuracy: 0.9326\n",
            "Epoch 69/75\n",
            "43/43 [==============================] - 3s 79ms/step - loss: 0.1352 - accuracy: 0.9503 - val_loss: 0.1099 - val_accuracy: 0.9589\n",
            "Epoch 70/75\n",
            "43/43 [==============================] - 4s 86ms/step - loss: 0.1403 - accuracy: 0.9473 - val_loss: 0.1271 - val_accuracy: 0.9501\n",
            "Epoch 71/75\n",
            "43/43 [==============================] - 4s 86ms/step - loss: 0.1263 - accuracy: 0.9573 - val_loss: 0.1541 - val_accuracy: 0.9560\n",
            "Epoch 72/75\n",
            "43/43 [==============================] - 4s 88ms/step - loss: 0.1317 - accuracy: 0.9492 - val_loss: 0.1033 - val_accuracy: 0.9619\n",
            "Epoch 73/75\n",
            "43/43 [==============================] - 4s 90ms/step - loss: 0.1326 - accuracy: 0.9439 - val_loss: 0.1844 - val_accuracy: 0.9238\n",
            "Epoch 74/75\n",
            "43/43 [==============================] - 4s 100ms/step - loss: 0.1685 - accuracy: 0.9334 - val_loss: 0.0896 - val_accuracy: 0.9677\n",
            "Epoch 75/75\n",
            "43/43 [==============================] - 3s 80ms/step - loss: 0.1673 - accuracy: 0.9326 - val_loss: 0.1036 - val_accuracy: 0.9707\n"
          ],
          "name": "stdout"
        }
      ]
    },
    {
      "cell_type": "code",
      "metadata": {
        "id": "vhwajgGzpvrD",
        "colab": {
          "base_uri": "https://localhost:8080/"
        },
        "outputId": "3e3ea788-3632-4972-9ddd-c4a605b77a04"
      },
      "source": [
        "history.history"
      ],
      "execution_count": 80,
      "outputs": [
        {
          "output_type": "execute_result",
          "data": {
            "text/plain": [
              "{'accuracy': [0.49340176582336426,\n",
              "  0.6158357858657837,\n",
              "  0.7111436724662781,\n",
              "  0.6898826956748962,\n",
              "  0.7756597995758057,\n",
              "  0.7390029430389404,\n",
              "  0.8005865216255188,\n",
              "  0.8086510300636292,\n",
              "  0.8057184815406799,\n",
              "  0.8181818127632141,\n",
              "  0.8240469098091125,\n",
              "  0.8475073575973511,\n",
              "  0.8445748090744019,\n",
              "  0.8482404947280884,\n",
              "  0.8585044145584106,\n",
              "  0.839442789554596,\n",
              "  0.873900294303894,\n",
              "  0.8680351972579956,\n",
              "  0.8651026487350464,\n",
              "  0.8548387289047241,\n",
              "  0.8585044145584106,\n",
              "  0.8680351972579956,\n",
              "  0.8870967626571655,\n",
              "  0.8782991170883179,\n",
              "  0.8643695116043091,\n",
              "  0.8863636255264282,\n",
              "  0.8988269567489624,\n",
              "  0.8826979398727417,\n",
              "  0.8563050031661987,\n",
              "  0.8848973512649536,\n",
              "  0.8958944082260132,\n",
              "  0.9039589166641235,\n",
              "  0.8951612710952759,\n",
              "  0.9156891703605652,\n",
              "  0.9222874045372009,\n",
              "  0.912756621837616,\n",
              "  0.9090909361839294,\n",
              "  0.8870967626571655,\n",
              "  0.9208211302757263,\n",
              "  0.920087993144989,\n",
              "  0.9186217188835144,\n",
              "  0.910557210445404,\n",
              "  0.9318181872367859,\n",
              "  0.920087993144989,\n",
              "  0.9340175986289978,\n",
              "  0.920087993144989,\n",
              "  0.9244868159294128,\n",
              "  0.9068915247917175,\n",
              "  0.9354838728904724,\n",
              "  0.9340175986289978,\n",
              "  0.9457477927207947,\n",
              "  0.9244868159294128,\n",
              "  0.9376832842826843,\n",
              "  0.9010263681411743,\n",
              "  0.9134897589683533,\n",
              "  0.9237536787986755,\n",
              "  0.9435483813285828,\n",
              "  0.9244868159294128,\n",
              "  0.9420821070671082,\n",
              "  0.9406158328056335,\n",
              "  0.9567448496818542,\n",
              "  0.929618775844574,\n",
              "  0.9215542674064636,\n",
              "  0.9237536787986755,\n",
              "  0.9457477927207947,\n",
              "  0.9288856387138367,\n",
              "  0.9413489699363708,\n",
              "  0.9112903475761414,\n",
              "  0.9420821070671082,\n",
              "  0.9508797526359558,\n",
              "  0.9472140669822693,\n",
              "  0.9574779868125916,\n",
              "  0.9472140669822693,\n",
              "  0.9501466155052185,\n",
              "  0.9457477927207947],\n",
              " 'loss': [1.0076122283935547,\n",
              "  0.8212758898735046,\n",
              "  0.650399923324585,\n",
              "  0.7077579498291016,\n",
              "  0.5793302655220032,\n",
              "  0.6235958337783813,\n",
              "  0.5038962364196777,\n",
              "  0.4882768988609314,\n",
              "  0.47602060437202454,\n",
              "  0.45870739221572876,\n",
              "  0.4347867965698242,\n",
              "  0.38318756222724915,\n",
              "  0.40594208240509033,\n",
              "  0.378858357667923,\n",
              "  0.3736530542373657,\n",
              "  0.3725677728652954,\n",
              "  0.32866141200065613,\n",
              "  0.3403571546077728,\n",
              "  0.33640146255493164,\n",
              "  0.3555704653263092,\n",
              "  0.3387805223464966,\n",
              "  0.330440491437912,\n",
              "  0.28866517543792725,\n",
              "  0.29420921206474304,\n",
              "  0.33213573694229126,\n",
              "  0.28056779503822327,\n",
              "  0.25220510363578796,\n",
              "  0.275662899017334,\n",
              "  0.3478817045688629,\n",
              "  0.283626914024353,\n",
              "  0.25034210085868835,\n",
              "  0.23976927995681763,\n",
              "  0.27022406458854675,\n",
              "  0.2333422750234604,\n",
              "  0.21331502497196198,\n",
              "  0.22864653170108795,\n",
              "  0.23532813787460327,\n",
              "  0.262129545211792,\n",
              "  0.2066592276096344,\n",
              "  0.2022387832403183,\n",
              "  0.20924389362335205,\n",
              "  0.2177843600511551,\n",
              "  0.19289062917232513,\n",
              "  0.19201017916202545,\n",
              "  0.16537779569625854,\n",
              "  0.2032424658536911,\n",
              "  0.19585192203521729,\n",
              "  0.24112188816070557,\n",
              "  0.17273060977458954,\n",
              "  0.17675264179706573,\n",
              "  0.16220344603061676,\n",
              "  0.1898774802684784,\n",
              "  0.1597539335489273,\n",
              "  0.26220518350601196,\n",
              "  0.25740867853164673,\n",
              "  0.1866590827703476,\n",
              "  0.16933561861515045,\n",
              "  0.20003192126750946,\n",
              "  0.16081872582435608,\n",
              "  0.1779938042163849,\n",
              "  0.12293606996536255,\n",
              "  0.1950826346874237,\n",
              "  0.2224733978509903,\n",
              "  0.23009254038333893,\n",
              "  0.15871651470661163,\n",
              "  0.1845465451478958,\n",
              "  0.16593463718891144,\n",
              "  0.25603774189949036,\n",
              "  0.14322471618652344,\n",
              "  0.13920648396015167,\n",
              "  0.1591884195804596,\n",
              "  0.11467473208904266,\n",
              "  0.1248200386762619,\n",
              "  0.1347038447856903,\n",
              "  0.13932161033153534],\n",
              " 'val_accuracy': [0.4692082107067108,\n",
              "  0.6392961740493774,\n",
              "  0.31085044145584106,\n",
              "  0.8944281339645386,\n",
              "  0.8093841671943665,\n",
              "  0.7859237790107727,\n",
              "  0.9325513243675232,\n",
              "  0.9178885817527771,\n",
              "  0.9032257795333862,\n",
              "  0.8651026487350464,\n",
              "  0.8504399061203003,\n",
              "  0.7096773982048035,\n",
              "  0.9149560332298279,\n",
              "  0.9325513243675232,\n",
              "  0.9149560332298279,\n",
              "  0.8914955854415894,\n",
              "  0.9354838728904724,\n",
              "  0.8856304883956909,\n",
              "  0.44281524419784546,\n",
              "  0.8856304883956909,\n",
              "  0.6099706888198853,\n",
              "  0.9090909361839294,\n",
              "  0.8240469098091125,\n",
              "  0.7683284282684326,\n",
              "  0.9237536787986755,\n",
              "  0.9237536787986755,\n",
              "  0.873900294303894,\n",
              "  0.9032257795333862,\n",
              "  0.8005865216255188,\n",
              "  0.8826979398727417,\n",
              "  0.5747800469398499,\n",
              "  0.8973606824874878,\n",
              "  0.9384164214134216,\n",
              "  0.8856304883956909,\n",
              "  0.9061583280563354,\n",
              "  0.9413489699363708,\n",
              "  0.9090909361839294,\n",
              "  0.9501466155052185,\n",
              "  0.9413489699363708,\n",
              "  0.9413489699363708,\n",
              "  0.9413489699363708,\n",
              "  0.9472140669822693,\n",
              "  0.9648093581199646,\n",
              "  0.9530791640281677,\n",
              "  0.873900294303894,\n",
              "  0.7976539731025696,\n",
              "  0.7067448496818542,\n",
              "  0.803519070148468,\n",
              "  0.9178885817527771,\n",
              "  0.9677419066429138,\n",
              "  0.9530791640281677,\n",
              "  0.9384164214134216,\n",
              "  0.9560117125511169,\n",
              "  0.8826979398727417,\n",
              "  0.9325513243675232,\n",
              "  0.9648093581199646,\n",
              "  0.9413489699363708,\n",
              "  0.8885630369186401,\n",
              "  0.8914955854415894,\n",
              "  0.9354838728904724,\n",
              "  0.9472140669822693,\n",
              "  0.9472140669822693,\n",
              "  0.9266862273216248,\n",
              "  0.9325513243675232,\n",
              "  0.9413489699363708,\n",
              "  0.9384164214134216,\n",
              "  0.8416422009468079,\n",
              "  0.9325513243675232,\n",
              "  0.9589442610740662,\n",
              "  0.9501466155052185,\n",
              "  0.9560117125511169,\n",
              "  0.9618768095970154,\n",
              "  0.9237536787986755,\n",
              "  0.9677419066429138,\n",
              "  0.9706745147705078],\n",
              " 'val_loss': [0.8304736614227295,\n",
              "  0.7643499970436096,\n",
              "  1.420311689376831,\n",
              "  0.4777129888534546,\n",
              "  0.4669134318828583,\n",
              "  0.5984381437301636,\n",
              "  0.33098113536834717,\n",
              "  0.3182513117790222,\n",
              "  0.29333922266960144,\n",
              "  0.3368312120437622,\n",
              "  0.3871440291404724,\n",
              "  0.5848158001899719,\n",
              "  0.27138552069664,\n",
              "  0.22505353391170502,\n",
              "  0.24097827076911926,\n",
              "  0.2987269461154938,\n",
              "  0.2124200016260147,\n",
              "  0.24064885079860687,\n",
              "  0.8382161259651184,\n",
              "  0.270219087600708,\n",
              "  0.8365336060523987,\n",
              "  0.24104540050029755,\n",
              "  0.42350244522094727,\n",
              "  0.3918226659297943,\n",
              "  0.19533662497997284,\n",
              "  0.18604163825511932,\n",
              "  0.2460763156414032,\n",
              "  0.19627028703689575,\n",
              "  0.44825300574302673,\n",
              "  0.240883931517601,\n",
              "  0.9733819365501404,\n",
              "  0.22788554430007935,\n",
              "  0.1911323368549347,\n",
              "  0.2995005249977112,\n",
              "  0.2343604862689972,\n",
              "  0.21826083958148956,\n",
              "  0.20680727064609528,\n",
              "  0.1639149934053421,\n",
              "  0.18670351803302765,\n",
              "  0.1708385944366455,\n",
              "  0.15369755029678345,\n",
              "  0.16200585663318634,\n",
              "  0.1152462586760521,\n",
              "  0.18529821932315826,\n",
              "  0.2786061465740204,\n",
              "  0.4661944508552551,\n",
              "  1.0975556373596191,\n",
              "  0.3457474112510681,\n",
              "  0.18582375347614288,\n",
              "  0.12461656332015991,\n",
              "  0.12532325088977814,\n",
              "  0.17861932516098022,\n",
              "  0.1219426840543747,\n",
              "  0.24345336854457855,\n",
              "  0.1891256868839264,\n",
              "  0.13715064525604248,\n",
              "  0.1431405246257782,\n",
              "  0.31452617049217224,\n",
              "  0.3803873360157013,\n",
              "  0.20845146477222443,\n",
              "  0.13958513736724854,\n",
              "  0.1445050835609436,\n",
              "  0.16510722041130066,\n",
              "  0.1838901937007904,\n",
              "  0.20503336191177368,\n",
              "  0.19002288579940796,\n",
              "  0.4728635251522064,\n",
              "  0.1693686991930008,\n",
              "  0.10989203304052353,\n",
              "  0.12709273397922516,\n",
              "  0.154080331325531,\n",
              "  0.10334066301584244,\n",
              "  0.18438665568828583,\n",
              "  0.08963929116725922,\n",
              "  0.10355164855718613]}"
            ]
          },
          "metadata": {
            "tags": []
          },
          "execution_count": 80
        }
      ]
    },
    {
      "cell_type": "code",
      "metadata": {
        "colab": {
          "base_uri": "https://localhost:8080/"
        },
        "id": "Kyn1dHRRJ5Wn",
        "outputId": "5cabcd07-891c-446c-ce64-e88e02051fb1"
      },
      "source": [
        "print(\"--- %s seconds ---\" % (time.time() - start_time))\n"
      ],
      "execution_count": 81,
      "outputs": [
        {
          "output_type": "stream",
          "text": [
            "--- 323.13859272003174 seconds ---\n"
          ],
          "name": "stdout"
        }
      ]
    },
    {
      "cell_type": "code",
      "metadata": {
        "id": "rOU0i1e6jhr3"
      },
      "source": [
        "x_test = X_test #returns a numpy array\n",
        "min_max_scaler = preprocessing.MinMaxScaler()\n",
        "x_scaled_test = min_max_scaler.fit_transform(x_test)\n",
        "df_test = pd.DataFrame(x_scaled_test)"
      ],
      "execution_count": 82,
      "outputs": []
    },
    {
      "cell_type": "code",
      "metadata": {
        "id": "OgeGekJ8lW6S"
      },
      "source": [
        "predictions = model.predict(x=df_test, batch_size=32)"
      ],
      "execution_count": 83,
      "outputs": []
    },
    {
      "cell_type": "code",
      "metadata": {
        "id": "1o6zqIsfl2QX"
      },
      "source": [
        "rounded_predictions = np.argmax(predictions, axis=-1)"
      ],
      "execution_count": 84,
      "outputs": []
    },
    {
      "cell_type": "code",
      "metadata": {
        "id": "NQTy4F7TmotU"
      },
      "source": [
        "cm = confusion_matrix(y_true=y_test, y_pred=rounded_predictions)"
      ],
      "execution_count": 85,
      "outputs": []
    },
    {
      "cell_type": "code",
      "metadata": {
        "colab": {
          "base_uri": "https://localhost:8080/",
          "height": 922
        },
        "id": "rieDywHXuA6R",
        "outputId": "e4196a85-3ed5-44fc-f018-b498bf204940"
      },
      "source": [
        "label_mapping = {'NEGATIVE': 0, 'NEUTRAL': 1, 'POSITIVE': 2}\n",
        "# for diff dataset\n",
        "# label_mapping = {'NEGATIVE': 0, 'POSITIVE': 1}\n",
        "plt.figure(figsize=(8, 8))\n",
        "sns.heatmap(cm, annot=True, vmin=0, fmt='g', cbar=False, cmap='Blues')\n",
        "clr = classification_report(y_test, rounded_predictions, target_names=label_mapping.keys())\n",
        "plt.xticks(np.arange(3) + 0.5, label_mapping.keys())\n",
        "plt.yticks(np.arange(3) + 0.5, label_mapping.keys())\n",
        "plt.xlabel(\"Predicted\")\n",
        "plt.ylabel(\"Actual\")\n",
        "plt.title(\"Confusion Matrix\")\n",
        "plt.show()\n",
        "\n",
        "print(\"Classification Report:\\n----------------------\\n\", clr)\n",
        "\n"
      ],
      "execution_count": 86,
      "outputs": [
        {
          "output_type": "display_data",
          "data": {
            "image/png": "[encoded data removed]",
            "text/plain": [
              "<Figure size 800x800 with 1 Axes>"
            ]
          },
          "metadata": {
            "tags": []
          }
        },
        {
          "output_type": "stream",
          "text": [
            "Classification Report:\n",
            "----------------------\n",
            "               precision    recall  f1-score   support\n",
            "\n",
            "    NEGATIVE       0.96      0.97      0.97       137\n",
            "     NEUTRAL       0.91      0.93      0.92       147\n",
            "    POSITIVE       0.96      0.93      0.94       143\n",
            "\n",
            "    accuracy                           0.94       427\n",
            "   macro avg       0.94      0.94      0.94       427\n",
            "weighted avg       0.94      0.94      0.94       427\n",
            "\n"
          ],
          "name": "stdout"
        }
      ]
    },
    {
      "cell_type": "code",
      "metadata": {
        "id": "s5wbr_oav-Kb"
      },
      "source": [
        "# https://stackoverflow.com/questions/26413185/how-to-recover-matplotlib-defaults-after-setting-stylesheet\n",
        "import matplotlib as mpl\n",
        "mpl.rcParams.update(mpl.rcParamsDefault)"
      ],
      "execution_count": 87,
      "outputs": []
    },
    {
      "cell_type": "code",
      "metadata": {
        "id": "73HZGymlybP2"
      },
      "source": [
        "training_acc = history.history['accuracy']\n",
        "validation_acc = history.history['val_accuracy']\n",
        "training_loss  = history.history['loss']\n",
        "validation_loss = history.history['val_loss']"
      ],
      "execution_count": 88,
      "outputs": []
    },
    {
      "cell_type": "code",
      "metadata": {
        "colab": {
          "base_uri": "https://localhost:8080/",
          "height": 472
        },
        "id": "1jgMVKMDyxck",
        "outputId": "1351f1e2-57e8-4cd5-dbfc-63adcb08faba"
      },
      "source": [
        "epochs = history.epoch\n",
        "plt.plot(epochs, training_acc, color = '#17e6e6', label='Training Accuracy')\n",
        "plt.plot(epochs, validation_acc,color = '#e61771', label='Validation Accuracy')\n",
        "plt.title('Accuracy vs Epochs')\n",
        "plt.xlabel('Epochs')\n",
        "plt.ylabel('Accuracy')\n",
        "plt.legend()\n",
        "plt.savefig('AccuracyVsEpochs.png')\n",
        "plt.show()"
      ],
      "execution_count": 89,
      "outputs": [
        {
          "output_type": "display_data",
          "data": {
            "image/png": "[encoded data removed]",
            "text/plain": [
              "<Figure size 640x480 with 1 Axes>"
            ]
          },
          "metadata": {
            "tags": []
          }
        },
        {
          "output_type": "display_data",
          "data": {
            "application/javascript": [
              "\n",
              "    async function download(id, filename, size) {\n",
              "      if (!google.colab.kernel.accessAllowed) {\n",
              "        return;\n",
              "      }\n",
              "      const div = document.createElement('div');\n",
              "      const label = document.createElement('label');\n",
              "      label.textContent = `Downloading \"${filename}\": `;\n",
              "      div.appendChild(label);\n",
              "      const progress = document.createElement('progress');\n",
              "      progress.max = size;\n",
              "      div.appendChild(progress);\n",
              "      document.body.appendChild(div);\n",
              "\n",
              "      const buffers = [];\n",
              "      let downloaded = 0;\n",
              "\n",
              "      const channel = await google.colab.kernel.comms.open(id);\n",
              "      // Send a message to notify the kernel that we're ready.\n",
              "      channel.send({})\n",
              "\n",
              "      for await (const message of channel.messages) {\n",
              "        // Send a message to notify the kernel that we're ready.\n",
              "        channel.send({})\n",
              "        if (message.buffers) {\n",
              "          for (const buffer of message.buffers) {\n",
              "            buffers.push(buffer);\n",
              "            downloaded += buffer.byteLength;\n",
              "            progress.value = downloaded;\n",
              "          }\n",
              "        }\n",
              "      }\n",
              "      const blob = new Blob(buffers, {type: 'application/binary'});\n",
              "      const a = document.createElement('a');\n",
              "      a.href = window.URL.createObjectURL(blob);\n",
              "      a.download = filename;\n",
              "      div.appendChild(a);\n",
              "      a.click();\n",
              "      div.remove();\n",
              "    }\n",
              "  "
            ],
            "text/plain": [
              "<IPython.core.display.Javascript object>"
            ]
          },
          "metadata": {
            "tags": []
          }
        },
        {
          "output_type": "display_data",
          "data": {
            "application/javascript": [
              "download(\"download_15efa6b3-c6f9-4e85-b608-3614d4627d1d\", \"AccuracyVsEpochs.png\", 48774)"
            ],
            "text/plain": [
              "<IPython.core.display.Javascript object>"
            ]
          },
          "metadata": {
            "tags": []
          }
        }
      ]
    }
  ]
}