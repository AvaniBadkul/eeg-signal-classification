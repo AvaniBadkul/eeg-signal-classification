{
  "nbformat": 4,
  "nbformat_minor": 0,
  "metadata": {
    "colab": {
      "name": "EEGSignalClassification.ipynb",
      "provenance": [],
      "collapsed_sections": []
    },
    "kernelspec": {
      "name": "python3",
      "display_name": "Python 3"
    },
    "language_info": {
      "name": "python"
    }
  },
  "cells": [
    {
      "cell_type": "code",
      "metadata": {
        "id": "iuNWUJKJLY9T"
      },
      "source": [
        "%reset -f "
      ],
      "execution_count": 350,
      "outputs": []
    },
    {
      "cell_type": "code",
      "metadata": {
        "id": "yj4HfL7EcNRq"
      },
      "source": [
        "# libraries used\n",
        "#  https://stats.stackexchange.com/questions/181/how-to-choose-the-number-of-hidden-layers-and-nodes-in-a-feedforward-neural-netw\n",
        "import numpy as np\n",
        "import pandas as pd\n",
        "import seaborn as sns \n",
        "import matplotlib.pyplot as plt\n",
        "from sklearn.model_selection import train_test_split\n",
        "from sklearn.metrics import confusion_matrix, classification_report\n",
        "from sklearn import preprocessing\n",
        "import tensorflow as tf\n",
        "from tensorflow.keras import datasets, layers, models\n",
        "import keras \n",
        "from keras.models import Sequential\n",
        "from keras.layers import Dense, Dropout\n",
        "import itertools"
      ],
      "execution_count": 351,
      "outputs": []
    },
    {
      "cell_type": "code",
      "metadata": {
        "colab": {
          "base_uri": "https://localhost:8080/"
        },
        "id": "WYIp8Qr9ck8Z",
        "outputId": "4cc6f836-5d12-4665-e349-1834c57faa17"
      },
      "source": [
        "emotions = pd.read_csv(\"drive/MyDrive/EEG/emotions.csv\")\n",
        "emotions.replace(['NEGATIVE', 'POSITIVE', 'NEUTRAL'], [2, 1, 0], inplace=True)\n",
        "emotions['label'].unique()"
      ],
      "execution_count": 352,
      "outputs": [
        {
          "output_type": "execute_result",
          "data": {
            "text/plain": [
              "array([2, 0, 1])"
            ]
          },
          "metadata": {
            "tags": []
          },
          "execution_count": 352
        }
      ]
    },
    {
      "cell_type": "code",
      "metadata": {
        "id": "PvT5tTotcoS3"
      },
      "source": [
        "X = emotions.drop('label', axis=1).copy()\n",
        "y = (emotions['label'].copy())"
      ],
      "execution_count": 353,
      "outputs": []
    },
    {
      "cell_type": "code",
      "metadata": {
        "id": "GUZOuZK7crNV"
      },
      "source": [
        "# Splitting data into training and testing as 80-20 \n",
        "X_train, X_test, y_train, y_test = train_test_split(X, y, test_size=0.2, random_state=1)\n",
        "\n",
        "x = X_train #returns a numpy array\n",
        "min_max_scaler = preprocessing.MinMaxScaler()\n",
        "x_scaled = min_max_scaler.fit_transform(x)\n",
        "df = pd.DataFrame(x_scaled)"
      ],
      "execution_count": 354,
      "outputs": []
    },
    {
      "cell_type": "code",
      "metadata": {
        "id": "BhRoXS4mj6CV"
      },
      "source": [
        "#  resetting the data - https://www.tensorflow.org/api_docs/python/tf/keras/backend/clear_session\n",
        "tf.keras.backend.clear_session()"
      ],
      "execution_count": 355,
      "outputs": []
    },
    {
      "cell_type": "code",
      "metadata": {
        "colab": {
          "base_uri": "https://localhost:8080/"
        },
        "id": "k4a4vwF5cxvU",
        "outputId": "aaebb563-cddb-4847-b096-56fff8f5976c"
      },
      "source": [
        "model = Sequential()\n",
        "model.add(Dense((2*X_train.shape[1]/3), input_dim=X_train.shape[1], activation='relu'))\n",
        "model.add(Dense((2*X_train.shape[1]/3), activation='relu'))\n",
        "model.add(Dense((1*X_train.shape[1]/3), activation='relu'))\n",
        "model.add(Dense((1*X_train.shape[1]/3), activation='relu'))\n",
        "model.add(Dense(3, activation='softmax'))\n",
        "#model.compile(loss='categorical_crossentropy', optimizer='adam', metrics=['accuracy'])\n",
        "print(model.summary())\n",
        "\n",
        "\n",
        "\n"
      ],
      "execution_count": 356,
      "outputs": [
        {
          "output_type": "stream",
          "text": [
            "Model: \"sequential\"\n",
            "_________________________________________________________________\n",
            "Layer (type)                 Output Shape              Param #   \n",
            "=================================================================\n",
            "dense (Dense)                (None, 1698)              4328202   \n",
            "_________________________________________________________________\n",
            "dense_1 (Dense)              (None, 1698)              2884902   \n",
            "_________________________________________________________________\n",
            "dense_2 (Dense)              (None, 849)               1442451   \n",
            "_________________________________________________________________\n",
            "dense_3 (Dense)              (None, 849)               721650    \n",
            "_________________________________________________________________\n",
            "dense_4 (Dense)              (None, 3)                 2550      \n",
            "=================================================================\n",
            "Total params: 9,379,755\n",
            "Trainable params: 9,379,755\n",
            "Non-trainable params: 0\n",
            "_________________________________________________________________\n",
            "None\n"
          ],
          "name": "stdout"
        }
      ]
    },
    {
      "cell_type": "code",
      "metadata": {
        "id": "A2Q9BOrneeUM"
      },
      "source": [
        "# for categorical entropy\n",
        "# https://stackoverflow.com/questions/63211181/error-while-using-categorical-crossentropy\n",
        "from tensorflow.keras.utils import to_categorical\n",
        "Y_one_hot=to_categorical(y_train) # convert Y into an one-hot vector"
      ],
      "execution_count": 357,
      "outputs": []
    },
    {
      "cell_type": "code",
      "metadata": {
        "id": "NEs5ddrJeBeG"
      },
      "source": [
        "# https://stackoverflow.com/questions/59737875/keras-change-learning-rate\n",
        "#optimizer = tf.keras.optimizers.Adam(0.001)\n",
        "#optimizer.learning_rate.assign(0.01)\n",
        "\n",
        "# opt = keras.optimizers.Adadelta(learning_rate=0.01)\n",
        "\n",
        "# model.compile(\n",
        "#    optimizer=opt,\n",
        "#    loss='categorical_crossentropy',\n",
        "#    metrics=['accuracy']\n",
        "#)\n",
        "\n",
        "# to be run for categorical cross entropy\n",
        "model.compile(loss='categorical_crossentropy', optimizer=tf.keras.optimizers.Adamax(learning_rate=0.001), metrics=['accuracy'])\n"
      ],
      "execution_count": 358,
      "outputs": []
    },
    {
      "cell_type": "code",
      "metadata": {
        "id": "ASdP3qvxes8r",
        "colab": {
          "base_uri": "https://localhost:8080/"
        },
        "outputId": "0d50eaa3-6e47-41f1-d449-306b26dd46fa"
      },
      "source": [
        "# make sure that the input data is shuffled before hand so that the model doesn't notice patterns and generalizes well\n",
        "# change y_train to y_hot_encoded when using categorical cross entorpy\n",
        "import time\n",
        "start_time = time.time()\n",
        "#history = model.fit(\n",
        "#    df,\n",
        "#    y_train,\n",
        "#    validation_split=0.2,\n",
        "#    batch_size=32,\n",
        "#    epochs=75)\n",
        "\n",
        "\n",
        "# to be run for categorical cross entropy\n",
        "\n",
        "history = model.fit(\n",
        "    df,\n",
        "    Y_one_hot,\n",
        "    validation_split=0.2,\n",
        "    batch_size=32,\n",
        "    epochs=75)"
      ],
      "execution_count": 359,
      "outputs": [
        {
          "output_type": "stream",
          "text": [
            "Epoch 1/75\n",
            "43/43 [==============================] - 5s 97ms/step - loss: 1.7866 - accuracy: 0.3993 - val_loss: 0.6264 - val_accuracy: 0.8592\n",
            "Epoch 2/75\n",
            "43/43 [==============================] - 4s 85ms/step - loss: 0.5985 - accuracy: 0.7517 - val_loss: 0.4368 - val_accuracy: 0.7889\n",
            "Epoch 3/75\n",
            "43/43 [==============================] - 4s 85ms/step - loss: 0.3881 - accuracy: 0.8615 - val_loss: 0.3330 - val_accuracy: 0.8622\n",
            "Epoch 4/75\n",
            "43/43 [==============================] - 4s 89ms/step - loss: 0.4549 - accuracy: 0.8211 - val_loss: 0.2827 - val_accuracy: 0.9326\n",
            "Epoch 5/75\n",
            "43/43 [==============================] - 4s 95ms/step - loss: 0.3410 - accuracy: 0.8622 - val_loss: 0.2448 - val_accuracy: 0.9296\n",
            "Epoch 6/75\n",
            "43/43 [==============================] - 4s 94ms/step - loss: 0.2842 - accuracy: 0.9056 - val_loss: 0.2364 - val_accuracy: 0.9267\n",
            "Epoch 7/75\n",
            "43/43 [==============================] - 4s 88ms/step - loss: 0.3030 - accuracy: 0.8954 - val_loss: 0.2159 - val_accuracy: 0.9238\n",
            "Epoch 8/75\n",
            "43/43 [==============================] - 5s 111ms/step - loss: 0.2845 - accuracy: 0.9029 - val_loss: 0.2854 - val_accuracy: 0.9003\n",
            "Epoch 9/75\n",
            "43/43 [==============================] - 4s 86ms/step - loss: 0.2916 - accuracy: 0.8906 - val_loss: 0.2135 - val_accuracy: 0.9267\n",
            "Epoch 10/75\n",
            "43/43 [==============================] - 4s 95ms/step - loss: 0.2955 - accuracy: 0.8967 - val_loss: 0.2346 - val_accuracy: 0.9120\n",
            "Epoch 11/75\n",
            "43/43 [==============================] - 4s 89ms/step - loss: 0.3042 - accuracy: 0.8824 - val_loss: 0.2144 - val_accuracy: 0.9296\n",
            "Epoch 12/75\n",
            "43/43 [==============================] - 4s 85ms/step - loss: 0.2887 - accuracy: 0.8986 - val_loss: 0.2571 - val_accuracy: 0.9032\n",
            "Epoch 13/75\n",
            "43/43 [==============================] - 4s 86ms/step - loss: 0.2888 - accuracy: 0.8856 - val_loss: 0.1988 - val_accuracy: 0.9355\n",
            "Epoch 14/75\n",
            "43/43 [==============================] - 4s 93ms/step - loss: 0.2176 - accuracy: 0.9187 - val_loss: 0.2136 - val_accuracy: 0.9150\n",
            "Epoch 15/75\n",
            "43/43 [==============================] - 4s 87ms/step - loss: 0.2742 - accuracy: 0.9030 - val_loss: 0.2450 - val_accuracy: 0.9062\n",
            "Epoch 16/75\n",
            "43/43 [==============================] - 4s 86ms/step - loss: 0.2890 - accuracy: 0.8876 - val_loss: 0.2493 - val_accuracy: 0.9120\n",
            "Epoch 17/75\n",
            "43/43 [==============================] - 4s 86ms/step - loss: 0.2921 - accuracy: 0.8923 - val_loss: 0.2439 - val_accuracy: 0.9032\n",
            "Epoch 18/75\n",
            "43/43 [==============================] - 4s 86ms/step - loss: 0.2845 - accuracy: 0.8881 - val_loss: 0.1869 - val_accuracy: 0.9296\n",
            "Epoch 19/75\n",
            "43/43 [==============================] - 4s 85ms/step - loss: 0.2171 - accuracy: 0.9202 - val_loss: 0.2409 - val_accuracy: 0.9238\n",
            "Epoch 20/75\n",
            "43/43 [==============================] - 4s 86ms/step - loss: 0.2385 - accuracy: 0.9267 - val_loss: 0.1947 - val_accuracy: 0.9355\n",
            "Epoch 21/75\n",
            "43/43 [==============================] - 4s 86ms/step - loss: 0.2248 - accuracy: 0.9149 - val_loss: 0.2319 - val_accuracy: 0.9003\n",
            "Epoch 22/75\n",
            "43/43 [==============================] - 4s 86ms/step - loss: 0.2606 - accuracy: 0.8999 - val_loss: 0.2956 - val_accuracy: 0.8710\n",
            "Epoch 23/75\n",
            "43/43 [==============================] - 4s 86ms/step - loss: 0.3047 - accuracy: 0.8665 - val_loss: 0.2356 - val_accuracy: 0.9120\n",
            "Epoch 24/75\n",
            "43/43 [==============================] - 4s 86ms/step - loss: 0.2309 - accuracy: 0.9069 - val_loss: 0.2174 - val_accuracy: 0.9267\n",
            "Epoch 25/75\n",
            "43/43 [==============================] - 4s 86ms/step - loss: 0.2769 - accuracy: 0.9151 - val_loss: 0.1851 - val_accuracy: 0.9355\n",
            "Epoch 26/75\n",
            "43/43 [==============================] - 4s 87ms/step - loss: 0.2063 - accuracy: 0.9277 - val_loss: 0.1903 - val_accuracy: 0.9208\n",
            "Epoch 27/75\n",
            "43/43 [==============================] - 4s 86ms/step - loss: 0.2445 - accuracy: 0.9045 - val_loss: 0.3446 - val_accuracy: 0.8270\n",
            "Epoch 28/75\n",
            "43/43 [==============================] - 4s 87ms/step - loss: 0.3051 - accuracy: 0.8743 - val_loss: 0.1935 - val_accuracy: 0.9267\n",
            "Epoch 29/75\n",
            "43/43 [==============================] - 4s 86ms/step - loss: 0.2196 - accuracy: 0.9176 - val_loss: 0.3036 - val_accuracy: 0.8592\n",
            "Epoch 30/75\n",
            "43/43 [==============================] - 4s 87ms/step - loss: 0.2912 - accuracy: 0.8812 - val_loss: 0.2020 - val_accuracy: 0.9326\n",
            "Epoch 31/75\n",
            "43/43 [==============================] - 4s 87ms/step - loss: 0.2087 - accuracy: 0.9237 - val_loss: 0.1543 - val_accuracy: 0.9443\n",
            "Epoch 32/75\n",
            "43/43 [==============================] - 4s 86ms/step - loss: 0.1806 - accuracy: 0.9330 - val_loss: 0.2289 - val_accuracy: 0.9062\n",
            "Epoch 33/75\n",
            "43/43 [==============================] - 4s 87ms/step - loss: 0.1986 - accuracy: 0.9195 - val_loss: 0.1466 - val_accuracy: 0.9413\n",
            "Epoch 34/75\n",
            "43/43 [==============================] - 4s 87ms/step - loss: 0.1712 - accuracy: 0.9375 - val_loss: 0.3407 - val_accuracy: 0.8328\n",
            "Epoch 35/75\n",
            "43/43 [==============================] - 4s 86ms/step - loss: 0.2263 - accuracy: 0.9199 - val_loss: 0.1616 - val_accuracy: 0.9413\n",
            "Epoch 36/75\n",
            "43/43 [==============================] - 4s 87ms/step - loss: 0.1386 - accuracy: 0.9481 - val_loss: 0.1318 - val_accuracy: 0.9472\n",
            "Epoch 37/75\n",
            "43/43 [==============================] - 4s 86ms/step - loss: 0.1628 - accuracy: 0.9415 - val_loss: 0.1329 - val_accuracy: 0.9501\n",
            "Epoch 38/75\n",
            "43/43 [==============================] - 4s 92ms/step - loss: 0.1147 - accuracy: 0.9624 - val_loss: 0.1742 - val_accuracy: 0.9296\n",
            "Epoch 39/75\n",
            "43/43 [==============================] - 4s 99ms/step - loss: 0.1799 - accuracy: 0.9310 - val_loss: 0.1204 - val_accuracy: 0.9531\n",
            "Epoch 40/75\n",
            "43/43 [==============================] - 4s 85ms/step - loss: 0.1467 - accuracy: 0.9461 - val_loss: 0.2253 - val_accuracy: 0.9032\n",
            "Epoch 41/75\n",
            "43/43 [==============================] - 4s 85ms/step - loss: 0.1254 - accuracy: 0.9604 - val_loss: 0.1547 - val_accuracy: 0.9443\n",
            "Epoch 42/75\n",
            "43/43 [==============================] - 4s 86ms/step - loss: 0.1566 - accuracy: 0.9379 - val_loss: 0.1999 - val_accuracy: 0.9326\n",
            "Epoch 43/75\n",
            "43/43 [==============================] - 4s 84ms/step - loss: 0.1540 - accuracy: 0.9428 - val_loss: 0.1639 - val_accuracy: 0.9267\n",
            "Epoch 44/75\n",
            "43/43 [==============================] - 4s 85ms/step - loss: 0.0940 - accuracy: 0.9668 - val_loss: 0.1043 - val_accuracy: 0.9648\n",
            "Epoch 45/75\n",
            "43/43 [==============================] - 4s 86ms/step - loss: 0.1052 - accuracy: 0.9574 - val_loss: 0.1132 - val_accuracy: 0.9531\n",
            "Epoch 46/75\n",
            "43/43 [==============================] - 4s 92ms/step - loss: 0.1002 - accuracy: 0.9609 - val_loss: 0.1962 - val_accuracy: 0.9443\n",
            "Epoch 47/75\n",
            "43/43 [==============================] - 4s 86ms/step - loss: 0.1293 - accuracy: 0.9492 - val_loss: 0.1326 - val_accuracy: 0.9443\n",
            "Epoch 48/75\n",
            "43/43 [==============================] - 4s 85ms/step - loss: 0.1056 - accuracy: 0.9596 - val_loss: 0.1815 - val_accuracy: 0.9296\n",
            "Epoch 49/75\n",
            "43/43 [==============================] - 4s 84ms/step - loss: 0.1565 - accuracy: 0.9297 - val_loss: 0.1323 - val_accuracy: 0.9501\n",
            "Epoch 50/75\n",
            "43/43 [==============================] - 4s 85ms/step - loss: 0.0981 - accuracy: 0.9607 - val_loss: 0.0980 - val_accuracy: 0.9619\n",
            "Epoch 51/75\n",
            "43/43 [==============================] - 4s 85ms/step - loss: 0.0784 - accuracy: 0.9658 - val_loss: 0.0817 - val_accuracy: 0.9648\n",
            "Epoch 52/75\n",
            "43/43 [==============================] - 4s 86ms/step - loss: 0.0785 - accuracy: 0.9739 - val_loss: 0.0845 - val_accuracy: 0.9677\n",
            "Epoch 53/75\n",
            "43/43 [==============================] - 4s 92ms/step - loss: 0.0833 - accuracy: 0.9716 - val_loss: 0.1663 - val_accuracy: 0.9501\n",
            "Epoch 54/75\n",
            "43/43 [==============================] - 4s 92ms/step - loss: 0.1140 - accuracy: 0.9634 - val_loss: 0.0888 - val_accuracy: 0.9707\n",
            "Epoch 55/75\n",
            "43/43 [==============================] - 4s 85ms/step - loss: 0.0694 - accuracy: 0.9770 - val_loss: 0.1284 - val_accuracy: 0.9589\n",
            "Epoch 56/75\n",
            "43/43 [==============================] - 4s 85ms/step - loss: 0.0748 - accuracy: 0.9787 - val_loss: 0.0897 - val_accuracy: 0.9707\n",
            "Epoch 57/75\n",
            "43/43 [==============================] - 4s 85ms/step - loss: 0.1023 - accuracy: 0.9632 - val_loss: 0.1548 - val_accuracy: 0.9501\n",
            "Epoch 58/75\n",
            "43/43 [==============================] - 4s 85ms/step - loss: 0.1039 - accuracy: 0.9631 - val_loss: 0.0848 - val_accuracy: 0.9824\n",
            "Epoch 59/75\n",
            "43/43 [==============================] - 4s 86ms/step - loss: 0.1077 - accuracy: 0.9651 - val_loss: 0.1447 - val_accuracy: 0.9413\n",
            "Epoch 60/75\n",
            "43/43 [==============================] - 4s 93ms/step - loss: 0.1152 - accuracy: 0.9622 - val_loss: 0.0947 - val_accuracy: 0.9707\n",
            "Epoch 61/75\n",
            "43/43 [==============================] - 4s 86ms/step - loss: 0.0605 - accuracy: 0.9797 - val_loss: 0.1106 - val_accuracy: 0.9707\n",
            "Epoch 62/75\n",
            "43/43 [==============================] - 4s 92ms/step - loss: 0.1126 - accuracy: 0.9587 - val_loss: 0.0937 - val_accuracy: 0.9736\n",
            "Epoch 63/75\n",
            "43/43 [==============================] - 4s 90ms/step - loss: 0.0488 - accuracy: 0.9807 - val_loss: 0.0645 - val_accuracy: 0.9707\n",
            "Epoch 64/75\n",
            "43/43 [==============================] - 4s 87ms/step - loss: 0.0414 - accuracy: 0.9863 - val_loss: 0.1038 - val_accuracy: 0.9619\n",
            "Epoch 65/75\n",
            "43/43 [==============================] - 4s 85ms/step - loss: 0.1151 - accuracy: 0.9654 - val_loss: 0.1679 - val_accuracy: 0.9472\n",
            "Epoch 66/75\n",
            "43/43 [==============================] - 4s 92ms/step - loss: 0.1187 - accuracy: 0.9643 - val_loss: 0.0847 - val_accuracy: 0.9648\n",
            "Epoch 67/75\n",
            "43/43 [==============================] - 4s 85ms/step - loss: 0.0646 - accuracy: 0.9767 - val_loss: 0.0771 - val_accuracy: 0.9765\n",
            "Epoch 68/75\n",
            "43/43 [==============================] - 4s 93ms/step - loss: 0.0311 - accuracy: 0.9909 - val_loss: 0.1298 - val_accuracy: 0.9531\n",
            "Epoch 69/75\n",
            "43/43 [==============================] - 4s 86ms/step - loss: 0.0881 - accuracy: 0.9650 - val_loss: 0.1010 - val_accuracy: 0.9619\n",
            "Epoch 70/75\n",
            "43/43 [==============================] - 4s 85ms/step - loss: 0.0664 - accuracy: 0.9738 - val_loss: 0.0670 - val_accuracy: 0.9824\n",
            "Epoch 71/75\n",
            "43/43 [==============================] - 4s 92ms/step - loss: 0.0526 - accuracy: 0.9801 - val_loss: 0.0585 - val_accuracy: 0.9824\n",
            "Epoch 72/75\n",
            "43/43 [==============================] - 4s 85ms/step - loss: 0.0290 - accuracy: 0.9871 - val_loss: 0.0634 - val_accuracy: 0.9795\n",
            "Epoch 73/75\n",
            "43/43 [==============================] - 4s 87ms/step - loss: 0.0607 - accuracy: 0.9766 - val_loss: 0.0682 - val_accuracy: 0.9765\n",
            "Epoch 74/75\n",
            "43/43 [==============================] - 4s 91ms/step - loss: 0.0471 - accuracy: 0.9860 - val_loss: 0.0616 - val_accuracy: 0.9824\n",
            "Epoch 75/75\n",
            "43/43 [==============================] - 4s 91ms/step - loss: 0.0284 - accuracy: 0.9902 - val_loss: 0.0862 - val_accuracy: 0.9736\n"
          ],
          "name": "stdout"
        }
      ]
    },
    {
      "cell_type": "code",
      "metadata": {
        "id": "vhwajgGzpvrD",
        "colab": {
          "base_uri": "https://localhost:8080/"
        },
        "outputId": "4371d9ad-5db0-494e-c460-6e64f2579e9d"
      },
      "source": [
        "history.history"
      ],
      "execution_count": 360,
      "outputs": [
        {
          "output_type": "execute_result",
          "data": {
            "text/plain": [
              "{'accuracy': [0.47140762209892273,\n",
              "  0.7536656856536865,\n",
              "  0.8643695116043091,\n",
              "  0.8467742204666138,\n",
              "  0.8702346086502075,\n",
              "  0.8995600938796997,\n",
              "  0.890762448310852,\n",
              "  0.8885630369186401,\n",
              "  0.8951612710952759,\n",
              "  0.8621701002120972,\n",
              "  0.8980938196182251,\n",
              "  0.8995600938796997,\n",
              "  0.9024926424026489,\n",
              "  0.9061583280563354,\n",
              "  0.8870967626571655,\n",
              "  0.9046920537948608,\n",
              "  0.8885630369186401,\n",
              "  0.8958944082260132,\n",
              "  0.8951612710952759,\n",
              "  0.9208211302757263,\n",
              "  0.912756621837616,\n",
              "  0.9046920537948608,\n",
              "  0.8768328428268433,\n",
              "  0.883431077003479,\n",
              "  0.9120234847068787,\n",
              "  0.9134897589683533,\n",
              "  0.8892961740493774,\n",
              "  0.8878298997879028,\n",
              "  0.8951612710952759,\n",
              "  0.9024926424026489,\n",
              "  0.9288856387138367,\n",
              "  0.9347507357597351,\n",
              "  0.9208211302757263,\n",
              "  0.9486803412437439,\n",
              "  0.9310850501060486,\n",
              "  0.9347507357597351,\n",
              "  0.936950147151947,\n",
              "  0.9479472041130066,\n",
              "  0.9435483813285828,\n",
              "  0.9376832842826843,\n",
              "  0.9626099467277527,\n",
              "  0.9516128897666931,\n",
              "  0.9501466155052185,\n",
              "  0.9530791640281677,\n",
              "  0.9596773982048035,\n",
              "  0.9567448496818542,\n",
              "  0.96334308385849,\n",
              "  0.9516128897666931,\n",
              "  0.9391495585441589,\n",
              "  0.9611436724662781,\n",
              "  0.9662756323814392,\n",
              "  0.9640762209892273,\n",
              "  0.9787390232086182,\n",
              "  0.9677419066429138,\n",
              "  0.9604105353355408,\n",
              "  0.973607063293457,\n",
              "  0.9662756323814392,\n",
              "  0.9589442610740662,\n",
              "  0.9560117125511169,\n",
              "  0.9508797526359558,\n",
              "  0.9750733375549316,\n",
              "  0.96334308385849,\n",
              "  0.9750733375549316,\n",
              "  0.9860703945159912,\n",
              "  0.9545454382896423,\n",
              "  0.9706745147705078,\n",
              "  0.9809384346008301,\n",
              "  0.9853372573852539,\n",
              "  0.9574779868125916,\n",
              "  0.9780058860778809,\n",
              "  0.9802052974700928,\n",
              "  0.9853372573852539,\n",
              "  0.983137845993042,\n",
              "  0.990469217300415,\n",
              "  0.9882698059082031],\n",
              " 'loss': [1.2282425165176392,\n",
              "  0.5797103047370911,\n",
              "  0.3876277506351471,\n",
              "  0.4092739224433899,\n",
              "  0.3329564034938812,\n",
              "  0.30168065428733826,\n",
              "  0.3115394711494446,\n",
              "  0.3095775246620178,\n",
              "  0.284991592168808,\n",
              "  0.3551672697067261,\n",
              "  0.2790248990058899,\n",
              "  0.2857040464878082,\n",
              "  0.2663268744945526,\n",
              "  0.25333234667778015,\n",
              "  0.29915428161621094,\n",
              "  0.2576262652873993,\n",
              "  0.2922375202178955,\n",
              "  0.2714058458805084,\n",
              "  0.26497843861579895,\n",
              "  0.2438095211982727,\n",
              "  0.22140958905220032,\n",
              "  0.25113314390182495,\n",
              "  0.3019726872444153,\n",
              "  0.26808369159698486,\n",
              "  0.2607830762863159,\n",
              "  0.22517195343971252,\n",
              "  0.28332340717315674,\n",
              "  0.29769188165664673,\n",
              "  0.2547919452190399,\n",
              "  0.2677302956581116,\n",
              "  0.1892254799604416,\n",
              "  0.17382080852985382,\n",
              "  0.20133979618549347,\n",
              "  0.1508442610502243,\n",
              "  0.1869729608297348,\n",
              "  0.16772688925266266,\n",
              "  0.17265909910202026,\n",
              "  0.15076574683189392,\n",
              "  0.15593715012073517,\n",
              "  0.17604830861091614,\n",
              "  0.11735061556100845,\n",
              "  0.14171302318572998,\n",
              "  0.13947269320487976,\n",
              "  0.11001966893672943,\n",
              "  0.11079850792884827,\n",
              "  0.10646228492259979,\n",
              "  0.10162922739982605,\n",
              "  0.1301131248474121,\n",
              "  0.14653682708740234,\n",
              "  0.10239909589290619,\n",
              "  0.07935947179794312,\n",
              "  0.0990273728966713,\n",
              "  0.06759577244520187,\n",
              "  0.08633323013782501,\n",
              "  0.1069379597902298,\n",
              "  0.08430273085832596,\n",
              "  0.09127005189657211,\n",
              "  0.10867771506309509,\n",
              "  0.12779302895069122,\n",
              "  0.1380189061164856,\n",
              "  0.06731623411178589,\n",
              "  0.09769218415021896,\n",
              "  0.05917280539870262,\n",
              "  0.04492415487766266,\n",
              "  0.13209596276283264,\n",
              "  0.08592211455106735,\n",
              "  0.053250495344400406,\n",
              "  0.040172748267650604,\n",
              "  0.11039452999830246,\n",
              "  0.05772712081670761,\n",
              "  0.053757887333631516,\n",
              "  0.034820374101400375,\n",
              "  0.04846741259098053,\n",
              "  0.031144751235842705,\n",
              "  0.03323463723063469],\n",
              " 'val_accuracy': [0.859237551689148,\n",
              "  0.7888563275337219,\n",
              "  0.8621701002120972,\n",
              "  0.9325513243675232,\n",
              "  0.929618775844574,\n",
              "  0.9266862273216248,\n",
              "  0.9237536787986755,\n",
              "  0.900293231010437,\n",
              "  0.9266862273216248,\n",
              "  0.9120234847068787,\n",
              "  0.929618775844574,\n",
              "  0.9032257795333862,\n",
              "  0.9354838728904724,\n",
              "  0.9149560332298279,\n",
              "  0.9061583280563354,\n",
              "  0.9120234847068787,\n",
              "  0.9032257795333862,\n",
              "  0.929618775844574,\n",
              "  0.9237536787986755,\n",
              "  0.9354838728904724,\n",
              "  0.900293231010437,\n",
              "  0.8709677457809448,\n",
              "  0.9120234847068787,\n",
              "  0.9266862273216248,\n",
              "  0.9354838728904724,\n",
              "  0.9208211302757263,\n",
              "  0.8269794583320618,\n",
              "  0.9266862273216248,\n",
              "  0.859237551689148,\n",
              "  0.9325513243675232,\n",
              "  0.9442815184593201,\n",
              "  0.9061583280563354,\n",
              "  0.9413489699363708,\n",
              "  0.8328445553779602,\n",
              "  0.9413489699363708,\n",
              "  0.9472140669822693,\n",
              "  0.9501466155052185,\n",
              "  0.929618775844574,\n",
              "  0.9530791640281677,\n",
              "  0.9032257795333862,\n",
              "  0.9442815184593201,\n",
              "  0.9325513243675232,\n",
              "  0.9266862273216248,\n",
              "  0.9648093581199646,\n",
              "  0.9530791640281677,\n",
              "  0.9442815184593201,\n",
              "  0.9442815184593201,\n",
              "  0.929618775844574,\n",
              "  0.9501466155052185,\n",
              "  0.9618768095970154,\n",
              "  0.9648093581199646,\n",
              "  0.9677419066429138,\n",
              "  0.9501466155052185,\n",
              "  0.9706745147705078,\n",
              "  0.9589442610740662,\n",
              "  0.9706745147705078,\n",
              "  0.9501466155052185,\n",
              "  0.9824047088623047,\n",
              "  0.9413489699363708,\n",
              "  0.9706745147705078,\n",
              "  0.9706745147705078,\n",
              "  0.973607063293457,\n",
              "  0.9706745147705078,\n",
              "  0.9618768095970154,\n",
              "  0.9472140669822693,\n",
              "  0.9648093581199646,\n",
              "  0.9765396118164062,\n",
              "  0.9530791640281677,\n",
              "  0.9618768095970154,\n",
              "  0.9824047088623047,\n",
              "  0.9824047088623047,\n",
              "  0.9794721603393555,\n",
              "  0.9765396118164062,\n",
              "  0.9824047088623047,\n",
              "  0.973607063293457],\n",
              " 'val_loss': [0.6264495849609375,\n",
              "  0.4367664158344269,\n",
              "  0.3330405652523041,\n",
              "  0.2826994061470032,\n",
              "  0.2447841614484787,\n",
              "  0.23636627197265625,\n",
              "  0.21586470305919647,\n",
              "  0.28542912006378174,\n",
              "  0.21349027752876282,\n",
              "  0.23457424342632294,\n",
              "  0.2144365906715393,\n",
              "  0.25705209374427795,\n",
              "  0.19882617890834808,\n",
              "  0.21359466016292572,\n",
              "  0.24497579038143158,\n",
              "  0.2493230402469635,\n",
              "  0.24394749104976654,\n",
              "  0.1868506222963333,\n",
              "  0.24094460904598236,\n",
              "  0.19471058249473572,\n",
              "  0.23186983168125153,\n",
              "  0.2955637574195862,\n",
              "  0.23561832308769226,\n",
              "  0.217378631234169,\n",
              "  0.18511660397052765,\n",
              "  0.19032424688339233,\n",
              "  0.34463855624198914,\n",
              "  0.1935216337442398,\n",
              "  0.30355697870254517,\n",
              "  0.20201312005519867,\n",
              "  0.15431156754493713,\n",
              "  0.22889883816242218,\n",
              "  0.14661449193954468,\n",
              "  0.34066739678382874,\n",
              "  0.16164429485797882,\n",
              "  0.1318204402923584,\n",
              "  0.13294140994548798,\n",
              "  0.17420250177383423,\n",
              "  0.12036997824907303,\n",
              "  0.22525551915168762,\n",
              "  0.1547248661518097,\n",
              "  0.1998763531446457,\n",
              "  0.16388490796089172,\n",
              "  0.10434254258871078,\n",
              "  0.11324724555015564,\n",
              "  0.19623909890651703,\n",
              "  0.1326284259557724,\n",
              "  0.1815103143453598,\n",
              "  0.13228456676006317,\n",
              "  0.09799590706825256,\n",
              "  0.08173912018537521,\n",
              "  0.08453027904033661,\n",
              "  0.16633842885494232,\n",
              "  0.08881702274084091,\n",
              "  0.12844528257846832,\n",
              "  0.08965343236923218,\n",
              "  0.15483997762203217,\n",
              "  0.08482925593852997,\n",
              "  0.14468058943748474,\n",
              "  0.0947326123714447,\n",
              "  0.11060336977243423,\n",
              "  0.09374240785837173,\n",
              "  0.06449722498655319,\n",
              "  0.10381700843572617,\n",
              "  0.16787955164909363,\n",
              "  0.08474604785442352,\n",
              "  0.07711660861968994,\n",
              "  0.1297527700662613,\n",
              "  0.10104919224977493,\n",
              "  0.06698016822338104,\n",
              "  0.05848431959748268,\n",
              "  0.06344365328550339,\n",
              "  0.06824540346860886,\n",
              "  0.06159801036119461,\n",
              "  0.08615848422050476]}"
            ]
          },
          "metadata": {
            "tags": []
          },
          "execution_count": 360
        }
      ]
    },
    {
      "cell_type": "code",
      "metadata": {
        "colab": {
          "base_uri": "https://localhost:8080/"
        },
        "id": "Kyn1dHRRJ5Wn",
        "outputId": "f0f0b50c-ca9b-4184-ab81-83d6763340b9"
      },
      "source": [
        "print(\"--- %s seconds ---\" % (time.time() - start_time))\n"
      ],
      "execution_count": 361,
      "outputs": [
        {
          "output_type": "stream",
          "text": [
            "--- 322.9299826622009 seconds ---\n"
          ],
          "name": "stdout"
        }
      ]
    },
    {
      "cell_type": "code",
      "metadata": {
        "id": "rOU0i1e6jhr3"
      },
      "source": [
        "x_test = X_test #returns a numpy array\n",
        "min_max_scaler = preprocessing.MinMaxScaler()\n",
        "x_scaled_test = min_max_scaler.fit_transform(x_test)\n",
        "df_test = pd.DataFrame(x_scaled_test)"
      ],
      "execution_count": 362,
      "outputs": []
    },
    {
      "cell_type": "code",
      "metadata": {
        "id": "OgeGekJ8lW6S"
      },
      "source": [
        "predictions = model.predict(x=df_test, batch_size=32)"
      ],
      "execution_count": 363,
      "outputs": []
    },
    {
      "cell_type": "code",
      "metadata": {
        "id": "1o6zqIsfl2QX"
      },
      "source": [
        "rounded_predictions = np.argmax(predictions, axis=-1)"
      ],
      "execution_count": 364,
      "outputs": []
    },
    {
      "cell_type": "code",
      "metadata": {
        "id": "NQTy4F7TmotU"
      },
      "source": [
        "cm = confusion_matrix(y_true=y_test, y_pred=rounded_predictions)"
      ],
      "execution_count": 365,
      "outputs": []
    },
    {
      "cell_type": "code",
      "metadata": {
        "colab": {
          "base_uri": "https://localhost:8080/",
          "height": 922
        },
        "id": "rieDywHXuA6R",
        "outputId": "f01dd863-da9d-42a6-9021-3bcfb6a8cf18"
      },
      "source": [
        "label_mapping = {'NEGATIVE': 0, 'NEUTRAL': 1, 'POSITIVE': 2}\n",
        "# for diff dataset\n",
        "# label_mapping = {'NEGATIVE': 0, 'POSITIVE': 1}\n",
        "plt.figure(figsize=(8, 8))\n",
        "sns.heatmap(cm, annot=True, vmin=0, fmt='g', cbar=False, cmap='Blues')\n",
        "clr = classification_report(y_test, rounded_predictions, target_names=label_mapping.keys())\n",
        "plt.xticks(np.arange(3) + 0.5, label_mapping.keys())\n",
        "plt.yticks(np.arange(3) + 0.5, label_mapping.keys())\n",
        "plt.xlabel(\"Predicted\")\n",
        "plt.ylabel(\"Actual\")\n",
        "plt.title(\"Confusion Matrix\")\n",
        "plt.show()\n",
        "\n",
        "print(\"Classification Report:\\n----------------------\\n\", clr)\n",
        "\n"
      ],
      "execution_count": 366,
      "outputs": [
        {
          "output_type": "display_data",
          "data": {
            "image/png": "[encoded data removed]",
            "text/plain": [
              "<Figure size 800x800 with 1 Axes>"
            ]
          },
          "metadata": {
            "tags": []
          }
        },
        {
          "output_type": "stream",
          "text": [
            "Classification Report:\n",
            "----------------------\n",
            "               precision    recall  f1-score   support\n",
            "\n",
            "    NEGATIVE       0.65      1.00      0.79       137\n",
            "     NEUTRAL       0.53      0.49      0.51       147\n",
            "    POSITIVE       0.99      0.56      0.71       143\n",
            "\n",
            "    accuracy                           0.68       427\n",
            "   macro avg       0.72      0.68      0.67       427\n",
            "weighted avg       0.72      0.68      0.67       427\n",
            "\n"
          ],
          "name": "stdout"
        }
      ]
    },
    {
      "cell_type": "code",
      "metadata": {
        "id": "s5wbr_oav-Kb"
      },
      "source": [
        "# https://stackoverflow.com/questions/26413185/how-to-recover-matplotlib-defaults-after-setting-stylesheet\n",
        "import matplotlib as mpl\n",
        "mpl.rcParams.update(mpl.rcParamsDefault)"
      ],
      "execution_count": 367,
      "outputs": []
    },
    {
      "cell_type": "code",
      "metadata": {
        "id": "73HZGymlybP2"
      },
      "source": [
        "training_acc = history.history['accuracy']\n",
        "validation_acc = history.history['val_accuracy']\n",
        "training_loss  = history.history['loss']\n",
        "validation_loss = history.history['val_loss']"
      ],
      "execution_count": 368,
      "outputs": []
    },
    {
      "cell_type": "code",
      "metadata": {
        "colab": {
          "base_uri": "https://localhost:8080/",
          "height": 472
        },
        "id": "1jgMVKMDyxck",
        "outputId": "6ebf71b5-65fc-4919-fc9a-1e5f86bada39"
      },
      "source": [
        "epochs = history.epoch\n",
        "plt.plot(epochs, training_acc, color = '#17e6e6', label='Training Accuracy')\n",
        "plt.plot(epochs, validation_acc,color = '#e61771', label='Validation Accuracy')\n",
        "plt.title('Accuracy vs Epochs')\n",
        "plt.xlabel('Epochs')\n",
        "plt.ylabel('Accuracy')\n",
        "plt.legend()\n",
        "plt.savefig('AccuracyVsEpochs.png')\n",
        "plt.show()"
      ],
      "execution_count": 369,
      "outputs": [
        {
          "output_type": "display_data",
          "data": {
            "image/png": "[encoded data removed]",
            "text/plain": [
              "<Figure size 640x480 with 1 Axes>"
            ]
          },
          "metadata": {
            "tags": []
          }
        }
      ]
    }
  ]
}