{
  "nbformat": 4,
  "nbformat_minor": 0,
  "metadata": {
    "colab": {
      "name": "EEGSignalClassification.ipynb",
      "provenance": [],
      "collapsed_sections": []
    },
    "kernelspec": {
      "name": "python3",
      "display_name": "Python 3"
    },
    "language_info": {
      "name": "python"
    }
  },
  "cells": [
    {
      "cell_type": "code",
      "metadata": {
        "id": "iuNWUJKJLY9T"
      },
      "source": [
        "%reset -f "
      ],
      "execution_count": 290,
      "outputs": []
    },
    {
      "cell_type": "code",
      "metadata": {
        "id": "yj4HfL7EcNRq"
      },
      "source": [
        "# libraries used\n",
        "#  https://stats.stackexchange.com/questions/181/how-to-choose-the-number-of-hidden-layers-and-nodes-in-a-feedforward-neural-netw\n",
        "import numpy as np\n",
        "import pandas as pd\n",
        "import seaborn as sns \n",
        "import matplotlib.pyplot as plt\n",
        "from sklearn.model_selection import train_test_split\n",
        "from sklearn.metrics import confusion_matrix, classification_report\n",
        "from sklearn import preprocessing\n",
        "import tensorflow as tf\n",
        "from tensorflow.keras import datasets, layers, models\n",
        "import keras \n",
        "from keras.models import Sequential\n",
        "from keras.layers import Dense, Dropout\n",
        "import itertools"
      ],
      "execution_count": 291,
      "outputs": []
    },
    {
      "cell_type": "code",
      "metadata": {
        "colab": {
          "base_uri": "https://localhost:8080/"
        },
        "id": "WYIp8Qr9ck8Z",
        "outputId": "d53ad430-edc6-4639-ddf5-58508c48a785"
      },
      "source": [
        "emotions = pd.read_csv(\"drive/MyDrive/EEG/emotions.csv\")\n",
        "emotions.replace(['NEGATIVE', 'POSITIVE', 'NEUTRAL'], [2, 1, 0], inplace=True)\n",
        "emotions['label'].unique()"
      ],
      "execution_count": 292,
      "outputs": [
        {
          "output_type": "execute_result",
          "data": {
            "text/plain": [
              "array([2, 0, 1])"
            ]
          },
          "metadata": {
            "tags": []
          },
          "execution_count": 292
        }
      ]
    },
    {
      "cell_type": "code",
      "metadata": {
        "id": "PvT5tTotcoS3"
      },
      "source": [
        "X = emotions.drop('label', axis=1).copy()\n",
        "y = (emotions['label'].copy())"
      ],
      "execution_count": 293,
      "outputs": []
    },
    {
      "cell_type": "code",
      "metadata": {
        "id": "GUZOuZK7crNV"
      },
      "source": [
        "# Splitting data into training and testing as 80-20 \n",
        "X_train, X_test, y_train, y_test = train_test_split(X, y, test_size=0.2, random_state=1)\n",
        "\n",
        "x = X_train #returns a numpy array\n",
        "min_max_scaler = preprocessing.MinMaxScaler()\n",
        "x_scaled = min_max_scaler.fit_transform(x)\n",
        "df = pd.DataFrame(x_scaled)"
      ],
      "execution_count": 294,
      "outputs": []
    },
    {
      "cell_type": "code",
      "metadata": {
        "id": "BhRoXS4mj6CV"
      },
      "source": [
        "#  resetting the data - https://www.tensorflow.org/api_docs/python/tf/keras/backend/clear_session\n",
        "tf.keras.backend.clear_session()"
      ],
      "execution_count": 295,
      "outputs": []
    },
    {
      "cell_type": "code",
      "metadata": {
        "colab": {
          "base_uri": "https://localhost:8080/"
        },
        "id": "k4a4vwF5cxvU",
        "outputId": "203bf876-d7f2-4247-cfee-8d1627e2bd97"
      },
      "source": [
        "model = Sequential()\n",
        "model.add(Dense((2*X_train.shape[1]/3), input_dim=X_train.shape[1], activation='relu'))\n",
        "model.add(Dense((2*X_train.shape[1]/3), activation='relu'))\n",
        "model.add(Dense((1*X_train.shape[1]/3), activation='relu'))\n",
        "model.add(Dense((1*X_train.shape[1]/3), activation='relu'))\n",
        "model.add(Dense(3, activation='softmax'))\n",
        "#model.compile(loss='categorical_crossentropy', optimizer='adam', metrics=['accuracy'])\n",
        "print(model.summary())\n",
        "\n",
        "\n",
        "\n"
      ],
      "execution_count": 296,
      "outputs": [
        {
          "output_type": "stream",
          "text": [
            "Model: \"sequential\"\n",
            "_________________________________________________________________\n",
            "Layer (type)                 Output Shape              Param #   \n",
            "=================================================================\n",
            "dense (Dense)                (None, 1698)              4328202   \n",
            "_________________________________________________________________\n",
            "dense_1 (Dense)              (None, 1698)              2884902   \n",
            "_________________________________________________________________\n",
            "dense_2 (Dense)              (None, 849)               1442451   \n",
            "_________________________________________________________________\n",
            "dense_3 (Dense)              (None, 849)               721650    \n",
            "_________________________________________________________________\n",
            "dense_4 (Dense)              (None, 3)                 2550      \n",
            "=================================================================\n",
            "Total params: 9,379,755\n",
            "Trainable params: 9,379,755\n",
            "Non-trainable params: 0\n",
            "_________________________________________________________________\n",
            "None\n"
          ],
          "name": "stdout"
        }
      ]
    },
    {
      "cell_type": "code",
      "metadata": {
        "id": "A2Q9BOrneeUM"
      },
      "source": [
        "# for categorical entropy\n",
        "# https://stackoverflow.com/questions/63211181/error-while-using-categorical-crossentropy\n",
        "from tensorflow.keras.utils import to_categorical\n",
        "Y_one_hot=to_categorical(y_train) # convert Y into an one-hot vector"
      ],
      "execution_count": 297,
      "outputs": []
    },
    {
      "cell_type": "code",
      "metadata": {
        "id": "NEs5ddrJeBeG"
      },
      "source": [
        "# https://stackoverflow.com/questions/59737875/keras-change-learning-rate\n",
        "#optimizer = tf.keras.optimizers.Adam(0.001)\n",
        "#optimizer.learning_rate.assign(0.01)\n",
        "\n",
        "# opt = keras.optimizers.Adadelta(learning_rate=0.01)\n",
        "\n",
        "# model.compile(\n",
        "#    optimizer=opt,\n",
        "#    loss='categorical_crossentropy',\n",
        "#    metrics=['accuracy']\n",
        "#)\n",
        "\n",
        "# to be run for categorical cross entropy\n",
        "model.compile(loss='categorical_crossentropy', optimizer=tf.keras.optimizers.Adadelta(learning_rate=0.01), metrics=['accuracy'])\n"
      ],
      "execution_count": 298,
      "outputs": []
    },
    {
      "cell_type": "code",
      "metadata": {
        "id": "ASdP3qvxes8r",
        "colab": {
          "base_uri": "https://localhost:8080/"
        },
        "outputId": "af3d92af-5b72-4c85-cdb3-1d2809aa8e35"
      },
      "source": [
        "# make sure that the input data is shuffled before hand so that the model doesn't notice patterns and generalizes well\n",
        "# change y_train to y_hot_encoded when using categorical cross entorpy\n",
        "import time\n",
        "start_time = time.time()\n",
        "#history = model.fit(\n",
        "#    df,\n",
        "#    y_train,\n",
        "#    validation_split=0.2,\n",
        "#    batch_size=32,\n",
        "#    epochs=75)\n",
        "\n",
        "\n",
        "# to be run for categorical cross entropy\n",
        "\n",
        "history = model.fit(\n",
        "    df,\n",
        "    Y_one_hot,\n",
        "    validation_split=0.2,\n",
        "    batch_size=32,\n",
        "    epochs=75)"
      ],
      "execution_count": 299,
      "outputs": [
        {
          "output_type": "stream",
          "text": [
            "Epoch 1/75\n",
            "43/43 [==============================] - 5s 103ms/step - loss: 0.9831 - accuracy: 0.5310 - val_loss: 0.7978 - val_accuracy: 0.6481\n",
            "Epoch 2/75\n",
            "43/43 [==============================] - 4s 99ms/step - loss: 0.7461 - accuracy: 0.7500 - val_loss: 0.6789 - val_accuracy: 0.6598\n",
            "Epoch 3/75\n",
            "43/43 [==============================] - 4s 91ms/step - loss: 0.6539 - accuracy: 0.7706 - val_loss: 0.5754 - val_accuracy: 0.9267\n",
            "Epoch 4/75\n",
            "43/43 [==============================] - 4s 93ms/step - loss: 0.5775 - accuracy: 0.8350 - val_loss: 0.5132 - val_accuracy: 0.9150\n",
            "Epoch 5/75\n",
            "43/43 [==============================] - 4s 92ms/step - loss: 0.5133 - accuracy: 0.8497 - val_loss: 0.4610 - val_accuracy: 0.9267\n",
            "Epoch 6/75\n",
            "43/43 [==============================] - 5s 106ms/step - loss: 0.4976 - accuracy: 0.8579 - val_loss: 0.4215 - val_accuracy: 0.9296\n",
            "Epoch 7/75\n",
            "43/43 [==============================] - 4s 91ms/step - loss: 0.4345 - accuracy: 0.8754 - val_loss: 0.3829 - val_accuracy: 0.9238\n",
            "Epoch 8/75\n",
            "43/43 [==============================] - 4s 91ms/step - loss: 0.4129 - accuracy: 0.8694 - val_loss: 0.3828 - val_accuracy: 0.8856\n",
            "Epoch 9/75\n",
            "43/43 [==============================] - 4s 98ms/step - loss: 0.3957 - accuracy: 0.8715 - val_loss: 0.3354 - val_accuracy: 0.9238\n",
            "Epoch 10/75\n",
            "43/43 [==============================] - 4s 91ms/step - loss: 0.3780 - accuracy: 0.8754 - val_loss: 0.3471 - val_accuracy: 0.8974\n",
            "Epoch 11/75\n",
            "43/43 [==============================] - 4s 92ms/step - loss: 0.3648 - accuracy: 0.8775 - val_loss: 0.3296 - val_accuracy: 0.9150\n",
            "Epoch 12/75\n",
            "43/43 [==============================] - 4s 92ms/step - loss: 0.3369 - accuracy: 0.8843 - val_loss: 0.3445 - val_accuracy: 0.8739\n",
            "Epoch 13/75\n",
            "43/43 [==============================] - 4s 98ms/step - loss: 0.3500 - accuracy: 0.8778 - val_loss: 0.2805 - val_accuracy: 0.9296\n",
            "Epoch 14/75\n",
            "43/43 [==============================] - 4s 96ms/step - loss: 0.3137 - accuracy: 0.9051 - val_loss: 0.3101 - val_accuracy: 0.8798\n",
            "Epoch 15/75\n",
            "43/43 [==============================] - 4s 100ms/step - loss: 0.3323 - accuracy: 0.8777 - val_loss: 0.2712 - val_accuracy: 0.9120\n",
            "Epoch 16/75\n",
            "43/43 [==============================] - 4s 91ms/step - loss: 0.2961 - accuracy: 0.9053 - val_loss: 0.2632 - val_accuracy: 0.9384\n",
            "Epoch 17/75\n",
            "43/43 [==============================] - 4s 98ms/step - loss: 0.2677 - accuracy: 0.9142 - val_loss: 0.2800 - val_accuracy: 0.9003\n",
            "Epoch 18/75\n",
            "43/43 [==============================] - 4s 91ms/step - loss: 0.2879 - accuracy: 0.8984 - val_loss: 0.3183 - val_accuracy: 0.8651\n",
            "Epoch 19/75\n",
            "43/43 [==============================] - 4s 92ms/step - loss: 0.2787 - accuracy: 0.9159 - val_loss: 0.2411 - val_accuracy: 0.9238\n",
            "Epoch 20/75\n",
            "43/43 [==============================] - 4s 93ms/step - loss: 0.2655 - accuracy: 0.9171 - val_loss: 0.2411 - val_accuracy: 0.9120\n",
            "Epoch 21/75\n",
            "43/43 [==============================] - 4s 96ms/step - loss: 0.2763 - accuracy: 0.9037 - val_loss: 0.2498 - val_accuracy: 0.9384\n",
            "Epoch 22/75\n",
            "43/43 [==============================] - 4s 92ms/step - loss: 0.2957 - accuracy: 0.9023 - val_loss: 0.2347 - val_accuracy: 0.9091\n",
            "Epoch 23/75\n",
            "43/43 [==============================] - 4s 92ms/step - loss: 0.2634 - accuracy: 0.9075 - val_loss: 0.2278 - val_accuracy: 0.9150\n",
            "Epoch 24/75\n",
            "43/43 [==============================] - 4s 92ms/step - loss: 0.2572 - accuracy: 0.9097 - val_loss: 0.2468 - val_accuracy: 0.8974\n",
            "Epoch 25/75\n",
            "43/43 [==============================] - 4s 93ms/step - loss: 0.2649 - accuracy: 0.9000 - val_loss: 0.2205 - val_accuracy: 0.9413\n",
            "Epoch 26/75\n",
            "43/43 [==============================] - 5s 106ms/step - loss: 0.2521 - accuracy: 0.9073 - val_loss: 0.2124 - val_accuracy: 0.9296\n",
            "Epoch 27/75\n",
            "43/43 [==============================] - 4s 91ms/step - loss: 0.2901 - accuracy: 0.8889 - val_loss: 0.2173 - val_accuracy: 0.9150\n",
            "Epoch 28/75\n",
            "43/43 [==============================] - 4s 98ms/step - loss: 0.2397 - accuracy: 0.9098 - val_loss: 0.2420 - val_accuracy: 0.9003\n",
            "Epoch 29/75\n",
            "43/43 [==============================] - 4s 99ms/step - loss: 0.2619 - accuracy: 0.8896 - val_loss: 0.2170 - val_accuracy: 0.9091\n",
            "Epoch 30/75\n",
            "43/43 [==============================] - 4s 92ms/step - loss: 0.2470 - accuracy: 0.9050 - val_loss: 0.2164 - val_accuracy: 0.9179\n",
            "Epoch 31/75\n",
            "43/43 [==============================] - 4s 92ms/step - loss: 0.2610 - accuracy: 0.8955 - val_loss: 0.2014 - val_accuracy: 0.9296\n",
            "Epoch 32/75\n",
            "43/43 [==============================] - 4s 92ms/step - loss: 0.2498 - accuracy: 0.8928 - val_loss: 0.2032 - val_accuracy: 0.9384\n",
            "Epoch 33/75\n",
            "43/43 [==============================] - 4s 100ms/step - loss: 0.2477 - accuracy: 0.9010 - val_loss: 0.1987 - val_accuracy: 0.9384\n",
            "Epoch 34/75\n",
            "43/43 [==============================] - 4s 100ms/step - loss: 0.2271 - accuracy: 0.9113 - val_loss: 0.2070 - val_accuracy: 0.9326\n",
            "Epoch 35/75\n",
            "43/43 [==============================] - 4s 101ms/step - loss: 0.2293 - accuracy: 0.9169 - val_loss: 0.2138 - val_accuracy: 0.9003\n",
            "Epoch 36/75\n",
            "43/43 [==============================] - 4s 92ms/step - loss: 0.2409 - accuracy: 0.9020 - val_loss: 0.1989 - val_accuracy: 0.9355\n",
            "Epoch 37/75\n",
            "43/43 [==============================] - 4s 92ms/step - loss: 0.2321 - accuracy: 0.9211 - val_loss: 0.2011 - val_accuracy: 0.9267\n",
            "Epoch 38/75\n",
            "43/43 [==============================] - 4s 93ms/step - loss: 0.2212 - accuracy: 0.9184 - val_loss: 0.2069 - val_accuracy: 0.9384\n",
            "Epoch 39/75\n",
            "43/43 [==============================] - 4s 93ms/step - loss: 0.2245 - accuracy: 0.9150 - val_loss: 0.1866 - val_accuracy: 0.9413\n",
            "Epoch 40/75\n",
            "43/43 [==============================] - 4s 94ms/step - loss: 0.2222 - accuracy: 0.9163 - val_loss: 0.3467 - val_accuracy: 0.8446\n",
            "Epoch 41/75\n",
            "43/43 [==============================] - 4s 101ms/step - loss: 0.2301 - accuracy: 0.9019 - val_loss: 0.1904 - val_accuracy: 0.9355\n",
            "Epoch 42/75\n",
            "43/43 [==============================] - 4s 94ms/step - loss: 0.2182 - accuracy: 0.9126 - val_loss: 0.2330 - val_accuracy: 0.9179\n",
            "Epoch 43/75\n",
            "43/43 [==============================] - 4s 95ms/step - loss: 0.2288 - accuracy: 0.9110 - val_loss: 0.2091 - val_accuracy: 0.9267\n",
            "Epoch 44/75\n",
            "43/43 [==============================] - 4s 103ms/step - loss: 0.2148 - accuracy: 0.9128 - val_loss: 0.1812 - val_accuracy: 0.9238\n",
            "Epoch 45/75\n",
            "43/43 [==============================] - 4s 96ms/step - loss: 0.1954 - accuracy: 0.9262 - val_loss: 0.2183 - val_accuracy: 0.9238\n",
            "Epoch 46/75\n",
            "43/43 [==============================] - 4s 104ms/step - loss: 0.2140 - accuracy: 0.9181 - val_loss: 0.1705 - val_accuracy: 0.9355\n",
            "Epoch 47/75\n",
            "43/43 [==============================] - 4s 103ms/step - loss: 0.1948 - accuracy: 0.9310 - val_loss: 0.1844 - val_accuracy: 0.9150\n",
            "Epoch 48/75\n",
            "43/43 [==============================] - 4s 99ms/step - loss: 0.1844 - accuracy: 0.9294 - val_loss: 0.1918 - val_accuracy: 0.9384\n",
            "Epoch 49/75\n",
            "43/43 [==============================] - 4s 97ms/step - loss: 0.1932 - accuracy: 0.9371 - val_loss: 0.2241 - val_accuracy: 0.9091\n",
            "Epoch 50/75\n",
            "43/43 [==============================] - 4s 99ms/step - loss: 0.1868 - accuracy: 0.9336 - val_loss: 0.1774 - val_accuracy: 0.9296\n",
            "Epoch 51/75\n",
            "43/43 [==============================] - 4s 99ms/step - loss: 0.2145 - accuracy: 0.9149 - val_loss: 0.1705 - val_accuracy: 0.9326\n",
            "Epoch 52/75\n",
            "43/43 [==============================] - 4s 98ms/step - loss: 0.1773 - accuracy: 0.9362 - val_loss: 0.1584 - val_accuracy: 0.9443\n",
            "Epoch 53/75\n",
            "43/43 [==============================] - 4s 99ms/step - loss: 0.2148 - accuracy: 0.9143 - val_loss: 0.1628 - val_accuracy: 0.9384\n",
            "Epoch 54/75\n",
            "43/43 [==============================] - 4s 96ms/step - loss: 0.1764 - accuracy: 0.9387 - val_loss: 0.1606 - val_accuracy: 0.9296\n",
            "Epoch 55/75\n",
            "43/43 [==============================] - 4s 97ms/step - loss: 0.1662 - accuracy: 0.9440 - val_loss: 0.1782 - val_accuracy: 0.9150\n",
            "Epoch 56/75\n",
            "43/43 [==============================] - 4s 97ms/step - loss: 0.1830 - accuracy: 0.9243 - val_loss: 0.1743 - val_accuracy: 0.9384\n",
            "Epoch 57/75\n",
            "43/43 [==============================] - 4s 96ms/step - loss: 0.1767 - accuracy: 0.9372 - val_loss: 0.1668 - val_accuracy: 0.9443\n",
            "Epoch 58/75\n",
            "43/43 [==============================] - 4s 97ms/step - loss: 0.1945 - accuracy: 0.9317 - val_loss: 0.1694 - val_accuracy: 0.9531\n",
            "Epoch 59/75\n",
            "43/43 [==============================] - 4s 96ms/step - loss: 0.1835 - accuracy: 0.9369 - val_loss: 0.1645 - val_accuracy: 0.9355\n",
            "Epoch 60/75\n",
            "43/43 [==============================] - 4s 98ms/step - loss: 0.1857 - accuracy: 0.9358 - val_loss: 0.1507 - val_accuracy: 0.9501\n",
            "Epoch 61/75\n",
            "43/43 [==============================] - 4s 98ms/step - loss: 0.1620 - accuracy: 0.9451 - val_loss: 0.1446 - val_accuracy: 0.9472\n",
            "Epoch 62/75\n",
            "43/43 [==============================] - 4s 98ms/step - loss: 0.1668 - accuracy: 0.9432 - val_loss: 0.1565 - val_accuracy: 0.9326\n",
            "Epoch 63/75\n",
            "43/43 [==============================] - 4s 96ms/step - loss: 0.1588 - accuracy: 0.9484 - val_loss: 0.1486 - val_accuracy: 0.9443\n",
            "Epoch 64/75\n",
            "43/43 [==============================] - 4s 98ms/step - loss: 0.1712 - accuracy: 0.9361 - val_loss: 0.1492 - val_accuracy: 0.9472\n",
            "Epoch 65/75\n",
            "43/43 [==============================] - 4s 97ms/step - loss: 0.1575 - accuracy: 0.9471 - val_loss: 0.1673 - val_accuracy: 0.9384\n",
            "Epoch 66/75\n",
            "43/43 [==============================] - 4s 96ms/step - loss: 0.1541 - accuracy: 0.9510 - val_loss: 0.1563 - val_accuracy: 0.9677\n",
            "Epoch 67/75\n",
            "43/43 [==============================] - 4s 103ms/step - loss: 0.1750 - accuracy: 0.9473 - val_loss: 0.1421 - val_accuracy: 0.9413\n",
            "Epoch 68/75\n",
            "43/43 [==============================] - 4s 103ms/step - loss: 0.1587 - accuracy: 0.9454 - val_loss: 0.1358 - val_accuracy: 0.9472\n",
            "Epoch 69/75\n",
            "43/43 [==============================] - 4s 102ms/step - loss: 0.1435 - accuracy: 0.9573 - val_loss: 0.1926 - val_accuracy: 0.9208\n",
            "Epoch 70/75\n",
            "43/43 [==============================] - 5s 105ms/step - loss: 0.1742 - accuracy: 0.9393 - val_loss: 0.1518 - val_accuracy: 0.9326\n",
            "Epoch 71/75\n",
            "43/43 [==============================] - 4s 98ms/step - loss: 0.1372 - accuracy: 0.9543 - val_loss: 0.1405 - val_accuracy: 0.9589\n",
            "Epoch 72/75\n",
            "43/43 [==============================] - 5s 109ms/step - loss: 0.1400 - accuracy: 0.9597 - val_loss: 0.1579 - val_accuracy: 0.9296\n",
            "Epoch 73/75\n",
            "43/43 [==============================] - 4s 98ms/step - loss: 0.1376 - accuracy: 0.9539 - val_loss: 0.2268 - val_accuracy: 0.8915\n",
            "Epoch 74/75\n",
            "43/43 [==============================] - 4s 99ms/step - loss: 0.1564 - accuracy: 0.9485 - val_loss: 0.1378 - val_accuracy: 0.9589\n",
            "Epoch 75/75\n",
            "43/43 [==============================] - 4s 97ms/step - loss: 0.1533 - accuracy: 0.9414 - val_loss: 0.1593 - val_accuracy: 0.9472\n"
          ],
          "name": "stdout"
        }
      ]
    },
    {
      "cell_type": "code",
      "metadata": {
        "id": "vhwajgGzpvrD",
        "colab": {
          "base_uri": "https://localhost:8080/"
        },
        "outputId": "73706846-2dac-4a1a-be1f-3e9013793ecc"
      },
      "source": [
        "history.history"
      ],
      "execution_count": 300,
      "outputs": [
        {
          "output_type": "execute_result",
          "data": {
            "text/plain": [
              "{'accuracy': [0.640762448310852,\n",
              "  0.7521994113922119,\n",
              "  0.8013196587562561,\n",
              "  0.8196480870246887,\n",
              "  0.8643695116043091,\n",
              "  0.857038140296936,\n",
              "  0.8826979398727417,\n",
              "  0.873900294303894,\n",
              "  0.8680351972579956,\n",
              "  0.883431077003479,\n",
              "  0.8768328428268433,\n",
              "  0.883431077003479,\n",
              "  0.8636363744735718,\n",
              "  0.8966275453567505,\n",
              "  0.8848973512649536,\n",
              "  0.8980938196182251,\n",
              "  0.8980938196182251,\n",
              "  0.9017595052719116,\n",
              "  0.900293231010437,\n",
              "  0.9046920537948608,\n",
              "  0.9024926424026489,\n",
              "  0.9017595052719116,\n",
              "  0.8995600938796997,\n",
              "  0.9032257795333862,\n",
              "  0.8980938196182251,\n",
              "  0.9054251909255981,\n",
              "  0.8944281339645386,\n",
              "  0.9083577990531921,\n",
              "  0.9024926424026489,\n",
              "  0.9061583280563354,\n",
              "  0.900293231010437,\n",
              "  0.9010263681411743,\n",
              "  0.910557210445404,\n",
              "  0.9186217188835144,\n",
              "  0.9098240733146667,\n",
              "  0.9039589166641235,\n",
              "  0.9186217188835144,\n",
              "  0.9142228960990906,\n",
              "  0.9193548560142517,\n",
              "  0.9164223074913025,\n",
              "  0.912756621837616,\n",
              "  0.9156891703605652,\n",
              "  0.9193548560142517,\n",
              "  0.9156891703605652,\n",
              "  0.9230205416679382,\n",
              "  0.920087993144989,\n",
              "  0.9266862273216248,\n",
              "  0.929618775844574,\n",
              "  0.9266862273216248,\n",
              "  0.929618775844574,\n",
              "  0.9222874045372009,\n",
              "  0.9281525015830994,\n",
              "  0.9244868159294128,\n",
              "  0.9347507357597351,\n",
              "  0.9310850501060486,\n",
              "  0.9310850501060486,\n",
              "  0.9354838728904724,\n",
              "  0.9274193644523621,\n",
              "  0.9340175986289978,\n",
              "  0.9391495585441589,\n",
              "  0.9428152441978455,\n",
              "  0.9354838728904724,\n",
              "  0.9479472041130066,\n",
              "  0.9413489699363708,\n",
              "  0.9420821070671082,\n",
              "  0.9450146555900574,\n",
              "  0.9435483813285828,\n",
              "  0.9457477927207947,\n",
              "  0.9530791640281677,\n",
              "  0.9457477927207947,\n",
              "  0.9508797526359558,\n",
              "  0.9523460268974304,\n",
              "  0.9530791640281677,\n",
              "  0.9508797526359558,\n",
              "  0.9501466155052185],\n",
              " 'loss': [0.9071241617202759,\n",
              "  0.7214350700378418,\n",
              "  0.6252319812774658,\n",
              "  0.5706491470336914,\n",
              "  0.5022838711738586,\n",
              "  0.4710831642150879,\n",
              "  0.4293680489063263,\n",
              "  0.41005030274391174,\n",
              "  0.3974674344062805,\n",
              "  0.3612975478172302,\n",
              "  0.3604612946510315,\n",
              "  0.3395978510379791,\n",
              "  0.3582283854484558,\n",
              "  0.318335622549057,\n",
              "  0.3204306960105896,\n",
              "  0.30458083748817444,\n",
              "  0.29711073637008667,\n",
              "  0.29206591844558716,\n",
              "  0.2894047498703003,\n",
              "  0.28304335474967957,\n",
              "  0.27609536051750183,\n",
              "  0.27209311723709106,\n",
              "  0.27479445934295654,\n",
              "  0.26721876859664917,\n",
              "  0.27009689807891846,\n",
              "  0.2533612847328186,\n",
              "  0.27352631092071533,\n",
              "  0.248945951461792,\n",
              "  0.25332459807395935,\n",
              "  0.24411064386367798,\n",
              "  0.2522162199020386,\n",
              "  0.24595044553279877,\n",
              "  0.2338496446609497,\n",
              "  0.22823333740234375,\n",
              "  0.23692035675048828,\n",
              "  0.23723512887954712,\n",
              "  0.22368822991847992,\n",
              "  0.22494401037693024,\n",
              "  0.21744054555892944,\n",
              "  0.2183607816696167,\n",
              "  0.21901288628578186,\n",
              "  0.21781133115291595,\n",
              "  0.21116535365581512,\n",
              "  0.21357761323451996,\n",
              "  0.2071036547422409,\n",
              "  0.2075691521167755,\n",
              "  0.19590124487876892,\n",
              "  0.19110174477100372,\n",
              "  0.20146888494491577,\n",
              "  0.19289883971214294,\n",
              "  0.20019909739494324,\n",
              "  0.1906442791223526,\n",
              "  0.19955316185951233,\n",
              "  0.18452295660972595,\n",
              "  0.18763300776481628,\n",
              "  0.18169695138931274,\n",
              "  0.18161112070083618,\n",
              "  0.1855819970369339,\n",
              "  0.17947134375572205,\n",
              "  0.17117871344089508,\n",
              "  0.1738956868648529,\n",
              "  0.17559055984020233,\n",
              "  0.16017183661460876,\n",
              "  0.16207526624202728,\n",
              "  0.16253116726875305,\n",
              "  0.1587218940258026,\n",
              "  0.16737347841262817,\n",
              "  0.15707091987133026,\n",
              "  0.1480395793914795,\n",
              "  0.1562740057706833,\n",
              "  0.14543181657791138,\n",
              "  0.14963525533676147,\n",
              "  0.14204910397529602,\n",
              "  0.14266234636306763,\n",
              "  0.14375939965248108],\n",
              " 'val_accuracy': [0.6480938196182251,\n",
              "  0.6598240733146667,\n",
              "  0.9266862273216248,\n",
              "  0.9149560332298279,\n",
              "  0.9266862273216248,\n",
              "  0.929618775844574,\n",
              "  0.9237536787986755,\n",
              "  0.8856304883956909,\n",
              "  0.9237536787986755,\n",
              "  0.8973606824874878,\n",
              "  0.9149560332298279,\n",
              "  0.873900294303894,\n",
              "  0.929618775844574,\n",
              "  0.8797653913497925,\n",
              "  0.9120234847068787,\n",
              "  0.9384164214134216,\n",
              "  0.900293231010437,\n",
              "  0.8651026487350464,\n",
              "  0.9237536787986755,\n",
              "  0.9120234847068787,\n",
              "  0.9384164214134216,\n",
              "  0.9090909361839294,\n",
              "  0.9149560332298279,\n",
              "  0.8973606824874878,\n",
              "  0.9413489699363708,\n",
              "  0.929618775844574,\n",
              "  0.9149560332298279,\n",
              "  0.900293231010437,\n",
              "  0.9090909361839294,\n",
              "  0.9178885817527771,\n",
              "  0.929618775844574,\n",
              "  0.9384164214134216,\n",
              "  0.9384164214134216,\n",
              "  0.9325513243675232,\n",
              "  0.900293231010437,\n",
              "  0.9354838728904724,\n",
              "  0.9266862273216248,\n",
              "  0.9384164214134216,\n",
              "  0.9413489699363708,\n",
              "  0.8445748090744019,\n",
              "  0.9354838728904724,\n",
              "  0.9178885817527771,\n",
              "  0.9266862273216248,\n",
              "  0.9237536787986755,\n",
              "  0.9237536787986755,\n",
              "  0.9354838728904724,\n",
              "  0.9149560332298279,\n",
              "  0.9384164214134216,\n",
              "  0.9090909361839294,\n",
              "  0.929618775844574,\n",
              "  0.9325513243675232,\n",
              "  0.9442815184593201,\n",
              "  0.9384164214134216,\n",
              "  0.929618775844574,\n",
              "  0.9149560332298279,\n",
              "  0.9384164214134216,\n",
              "  0.9442815184593201,\n",
              "  0.9530791640281677,\n",
              "  0.9354838728904724,\n",
              "  0.9501466155052185,\n",
              "  0.9472140669822693,\n",
              "  0.9325513243675232,\n",
              "  0.9442815184593201,\n",
              "  0.9472140669822693,\n",
              "  0.9384164214134216,\n",
              "  0.9677419066429138,\n",
              "  0.9413489699363708,\n",
              "  0.9472140669822693,\n",
              "  0.9208211302757263,\n",
              "  0.9325513243675232,\n",
              "  0.9589442610740662,\n",
              "  0.929618775844574,\n",
              "  0.8914955854415894,\n",
              "  0.9589442610740662,\n",
              "  0.9472140669822693],\n",
              " 'val_loss': [0.7977743148803711,\n",
              "  0.6789059638977051,\n",
              "  0.5754261016845703,\n",
              "  0.5132460594177246,\n",
              "  0.4610442519187927,\n",
              "  0.4214838147163391,\n",
              "  0.3829144835472107,\n",
              "  0.382804274559021,\n",
              "  0.3354469835758209,\n",
              "  0.3470679819583893,\n",
              "  0.3296126127243042,\n",
              "  0.34445154666900635,\n",
              "  0.28046178817749023,\n",
              "  0.3101339340209961,\n",
              "  0.27119144797325134,\n",
              "  0.2632487118244171,\n",
              "  0.27997100353240967,\n",
              "  0.3183339834213257,\n",
              "  0.24112607538700104,\n",
              "  0.24107815325260162,\n",
              "  0.24984000623226166,\n",
              "  0.23468708992004395,\n",
              "  0.22777339816093445,\n",
              "  0.24681764841079712,\n",
              "  0.22052901983261108,\n",
              "  0.21239280700683594,\n",
              "  0.21731893718242645,\n",
              "  0.2420041859149933,\n",
              "  0.2169732302427292,\n",
              "  0.21635620296001434,\n",
              "  0.20143765211105347,\n",
              "  0.20321743190288544,\n",
              "  0.19869469106197357,\n",
              "  0.2069660723209381,\n",
              "  0.21376845240592957,\n",
              "  0.1988937109708786,\n",
              "  0.20107939839363098,\n",
              "  0.20688396692276,\n",
              "  0.18657582998275757,\n",
              "  0.3467161953449249,\n",
              "  0.1904020607471466,\n",
              "  0.233034148812294,\n",
              "  0.2090710997581482,\n",
              "  0.18123996257781982,\n",
              "  0.21829530596733093,\n",
              "  0.1704699546098709,\n",
              "  0.18440033495426178,\n",
              "  0.1918283998966217,\n",
              "  0.22406084835529327,\n",
              "  0.17736271023750305,\n",
              "  0.17052820324897766,\n",
              "  0.15837723016738892,\n",
              "  0.16280440986156464,\n",
              "  0.160603865981102,\n",
              "  0.17821115255355835,\n",
              "  0.1743425577878952,\n",
              "  0.16675545275211334,\n",
              "  0.16943864524364471,\n",
              "  0.16445930302143097,\n",
              "  0.15068000555038452,\n",
              "  0.14455825090408325,\n",
              "  0.15648724138736725,\n",
              "  0.14857415854930878,\n",
              "  0.14919795095920563,\n",
              "  0.16725635528564453,\n",
              "  0.15632352232933044,\n",
              "  0.14210085570812225,\n",
              "  0.13579624891281128,\n",
              "  0.19261039793491364,\n",
              "  0.15180468559265137,\n",
              "  0.14053921401500702,\n",
              "  0.1578773409128189,\n",
              "  0.2268366664648056,\n",
              "  0.13779352605342865,\n",
              "  0.15929166972637177]}"
            ]
          },
          "metadata": {
            "tags": []
          },
          "execution_count": 300
        }
      ]
    },
    {
      "cell_type": "code",
      "metadata": {
        "colab": {
          "base_uri": "https://localhost:8080/"
        },
        "id": "Kyn1dHRRJ5Wn",
        "outputId": "053b45a3-c33b-479b-fece-00c45c6a44c0"
      },
      "source": [
        "print(\"--- %s seconds ---\" % (time.time() - start_time))\n"
      ],
      "execution_count": 301,
      "outputs": [
        {
          "output_type": "stream",
          "text": [
            "--- 312.70224475860596 seconds ---\n"
          ],
          "name": "stdout"
        }
      ]
    },
    {
      "cell_type": "code",
      "metadata": {
        "id": "rOU0i1e6jhr3"
      },
      "source": [
        "x_test = X_test #returns a numpy array\n",
        "min_max_scaler = preprocessing.MinMaxScaler()\n",
        "x_scaled_test = min_max_scaler.fit_transform(x_test)\n",
        "df_test = pd.DataFrame(x_scaled_test)"
      ],
      "execution_count": 302,
      "outputs": []
    },
    {
      "cell_type": "code",
      "metadata": {
        "id": "OgeGekJ8lW6S"
      },
      "source": [
        "predictions = model.predict(x=df_test, batch_size=32)"
      ],
      "execution_count": 303,
      "outputs": []
    },
    {
      "cell_type": "code",
      "metadata": {
        "id": "1o6zqIsfl2QX"
      },
      "source": [
        "rounded_predictions = np.argmax(predictions, axis=-1)"
      ],
      "execution_count": 304,
      "outputs": []
    },
    {
      "cell_type": "code",
      "metadata": {
        "id": "NQTy4F7TmotU"
      },
      "source": [
        "cm = confusion_matrix(y_true=y_test, y_pred=rounded_predictions)"
      ],
      "execution_count": 305,
      "outputs": []
    },
    {
      "cell_type": "code",
      "metadata": {
        "colab": {
          "base_uri": "https://localhost:8080/",
          "height": 922
        },
        "id": "rieDywHXuA6R",
        "outputId": "988a8d34-71d3-4e7a-a87e-288e38997bee"
      },
      "source": [
        "label_mapping = {'NEGATIVE': 0, 'NEUTRAL': 1, 'POSITIVE': 2}\n",
        "# for diff dataset\n",
        "# label_mapping = {'NEGATIVE': 0, 'POSITIVE': 1}\n",
        "plt.figure(figsize=(8, 8))\n",
        "sns.heatmap(cm, annot=True, vmin=0, fmt='g', cbar=False, cmap='Blues')\n",
        "clr = classification_report(y_test, rounded_predictions, target_names=label_mapping.keys())\n",
        "plt.xticks(np.arange(3) + 0.5, label_mapping.keys())\n",
        "plt.yticks(np.arange(3) + 0.5, label_mapping.keys())\n",
        "plt.xlabel(\"Predicted\")\n",
        "plt.ylabel(\"Actual\")\n",
        "plt.title(\"Confusion Matrix\")\n",
        "plt.show()\n",
        "\n",
        "print(\"Classification Report:\\n----------------------\\n\", clr)\n",
        "\n"
      ],
      "execution_count": 306,
      "outputs": [
        {
          "output_type": "display_data",
          "data": {
            "image/png": "[encoded data removed]",
            "text/plain": [
              "<Figure size 800x800 with 1 Axes>"
            ]
          },
          "metadata": {
            "tags": []
          }
        },
        {
          "output_type": "stream",
          "text": [
            "Classification Report:\n",
            "----------------------\n",
            "               precision    recall  f1-score   support\n",
            "\n",
            "    NEGATIVE       0.98      0.82      0.89       137\n",
            "     NEUTRAL       0.54      0.99      0.69       147\n",
            "    POSITIVE       1.00      0.29      0.45       143\n",
            "\n",
            "    accuracy                           0.70       427\n",
            "   macro avg       0.84      0.70      0.68       427\n",
            "weighted avg       0.83      0.70      0.68       427\n",
            "\n"
          ],
          "name": "stdout"
        }
      ]
    },
    {
      "cell_type": "code",
      "metadata": {
        "id": "s5wbr_oav-Kb"
      },
      "source": [
        "# https://stackoverflow.com/questions/26413185/how-to-recover-matplotlib-defaults-after-setting-stylesheet\n",
        "import matplotlib as mpl\n",
        "mpl.rcParams.update(mpl.rcParamsDefault)"
      ],
      "execution_count": 307,
      "outputs": []
    },
    {
      "cell_type": "code",
      "metadata": {
        "id": "73HZGymlybP2"
      },
      "source": [
        "training_acc = history.history['accuracy']\n",
        "validation_acc = history.history['val_accuracy']\n",
        "training_loss  = history.history['loss']\n",
        "validation_loss = history.history['val_loss']"
      ],
      "execution_count": 308,
      "outputs": []
    },
    {
      "cell_type": "code",
      "metadata": {
        "colab": {
          "base_uri": "https://localhost:8080/",
          "height": 472
        },
        "id": "1jgMVKMDyxck",
        "outputId": "b7e5c3c1-fc56-43f4-fda6-634402d49545"
      },
      "source": [
        "epochs = history.epoch\n",
        "plt.plot(epochs, training_acc, color = '#17e6e6', label='Training Accuracy')\n",
        "plt.plot(epochs, validation_acc,color = '#e61771', label='Validation Accuracy')\n",
        "plt.title('Accuracy vs Epochs')\n",
        "plt.xlabel('Epochs')\n",
        "plt.ylabel('Accuracy')\n",
        "plt.legend()\n",
        "plt.savefig('AccuracyVsEpochs.png')\n",
        "plt.show()"
      ],
      "execution_count": 309,
      "outputs": [
        {
          "output_type": "display_data",
          "data": {
            "image/png": "[encoded data removed]",
            "text/plain": [
              "<Figure size 640x480 with 1 Axes>"
            ]
          },
          "metadata": {
            "tags": []
          }
        }
      ]
    }
  ]
}