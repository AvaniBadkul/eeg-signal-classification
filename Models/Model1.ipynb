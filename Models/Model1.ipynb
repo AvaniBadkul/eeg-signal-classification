{
  "nbformat": 4,
  "nbformat_minor": 0,
  "metadata": {
    "colab": {
      "name": "EEGSignalClassification.ipynb",
      "provenance": []
    },
    "kernelspec": {
      "name": "python3",
      "display_name": "Python 3"
    },
    "language_info": {
      "name": "python"
    }
  },
  "cells": [
    {
      "cell_type": "code",
      "metadata": {
        "id": "iuNWUJKJLY9T"
      },
      "source": [
        "%reset -f "
      ],
      "execution_count": 9,
      "outputs": []
    },
    {
      "cell_type": "code",
      "metadata": {
        "id": "yj4HfL7EcNRq"
      },
      "source": [
        "# libraries used\n",
        "#  https://stats.stackexchange.com/questions/181/how-to-choose-the-number-of-hidden-layers-and-nodes-in-a-feedforward-neural-netw\n",
        "import numpy as np\n",
        "import pandas as pd\n",
        "import seaborn as sns \n",
        "import matplotlib.pyplot as plt\n",
        "from sklearn.model_selection import train_test_split\n",
        "from sklearn.metrics import confusion_matrix, classification_report\n",
        "from sklearn import preprocessing\n",
        "import tensorflow as tf\n",
        "from tensorflow.keras import datasets, layers, models\n",
        "import keras \n",
        "from keras.models import Sequential\n",
        "from keras.layers import Dense, Dropout\n",
        "import itertools"
      ],
      "execution_count": 10,
      "outputs": []
    },
    {
      "cell_type": "code",
      "metadata": {
        "colab": {
          "base_uri": "https://localhost:8080/"
        },
        "id": "WYIp8Qr9ck8Z",
        "outputId": "23c0460e-cc99-4fb3-9c9d-7a6f28963cf0"
      },
      "source": [
        "emotions = pd.read_csv(\"drive/MyDrive/EEG/emotions.csv\")\n",
        "emotions.replace(['NEGATIVE', 'POSITIVE', 'NEUTRAL'], [2, 1, 0], inplace=True)\n",
        "emotions['label'].unique()"
      ],
      "execution_count": 11,
      "outputs": [
        {
          "output_type": "execute_result",
          "data": {
            "text/plain": [
              "array([2, 0, 1])"
            ]
          },
          "metadata": {
            "tags": []
          },
          "execution_count": 11
        }
      ]
    },
    {
      "cell_type": "code",
      "metadata": {
        "id": "PvT5tTotcoS3"
      },
      "source": [
        "X = emotions.drop('label', axis=1).copy()\n",
        "y = (emotions['label'].copy())"
      ],
      "execution_count": 12,
      "outputs": []
    },
    {
      "cell_type": "code",
      "metadata": {
        "id": "GUZOuZK7crNV"
      },
      "source": [
        "# Splitting data into training and testing as 80-20 \n",
        "X_train, X_test, y_train, y_test = train_test_split(X, y, test_size=0.2, random_state=1)\n",
        "\n",
        "x = X_train #returns a numpy array\n",
        "min_max_scaler = preprocessing.MinMaxScaler()\n",
        "x_scaled = min_max_scaler.fit_transform(x)\n",
        "df = pd.DataFrame(x_scaled)"
      ],
      "execution_count": 13,
      "outputs": []
    },
    {
      "cell_type": "code",
      "metadata": {
        "id": "BhRoXS4mj6CV"
      },
      "source": [
        "#  resetting the data - https://www.tensorflow.org/api_docs/python/tf/keras/backend/clear_session\n",
        "tf.keras.backend.clear_session()"
      ],
      "execution_count": 14,
      "outputs": []
    },
    {
      "cell_type": "code",
      "metadata": {
        "colab": {
          "base_uri": "https://localhost:8080/"
        },
        "id": "k4a4vwF5cxvU",
        "outputId": "66749581-2ce3-494e-d2d4-4edb9bceb0b4"
      },
      "source": [
        "model = Sequential()\n",
        "model.add(Dense((2*X_train.shape[1]/3), input_dim=X_train.shape[1], activation='relu'))\n",
        "model.add(Dense((2*X_train.shape[1]/3), activation='relu'))\n",
        "model.add(Dense((1*X_train.shape[1]/3), activation='relu'))\n",
        "model.add(Dense((1*X_train.shape[1]/3), activation='relu'))\n",
        "model.add(Dense(3, activation='softmax'))\n",
        "#model.compile(loss='categorical_crossentropy', optimizer='adam', metrics=['accuracy'])\n",
        "print(model.summary())\n",
        "\n",
        "\n",
        "\n"
      ],
      "execution_count": 15,
      "outputs": [
        {
          "output_type": "stream",
          "text": [
            "Model: \"sequential\"\n",
            "_________________________________________________________________\n",
            "Layer (type)                 Output Shape              Param #   \n",
            "=================================================================\n",
            "dense (Dense)                (None, 1698)              4328202   \n",
            "_________________________________________________________________\n",
            "dense_1 (Dense)              (None, 1698)              2884902   \n",
            "_________________________________________________________________\n",
            "dense_2 (Dense)              (None, 849)               1442451   \n",
            "_________________________________________________________________\n",
            "dense_3 (Dense)              (None, 849)               721650    \n",
            "_________________________________________________________________\n",
            "dense_4 (Dense)              (None, 3)                 2550      \n",
            "=================================================================\n",
            "Total params: 9,379,755\n",
            "Trainable params: 9,379,755\n",
            "Non-trainable params: 0\n",
            "_________________________________________________________________\n",
            "None\n"
          ],
          "name": "stdout"
        }
      ]
    },
    {
      "cell_type": "code",
      "metadata": {
        "id": "A2Q9BOrneeUM"
      },
      "source": [
        "# for categorical entropy\n",
        "# https://stackoverflow.com/questions/63211181/error-while-using-categorical-crossentropy\n",
        "from tensorflow.keras.utils import to_categorical\n",
        "Y_one_hot=to_categorical(y_train) # convert Y into an one-hot vector"
      ],
      "execution_count": 16,
      "outputs": []
    },
    {
      "cell_type": "code",
      "metadata": {
        "id": "NEs5ddrJeBeG"
      },
      "source": [
        "# https://stackoverflow.com/questions/59737875/keras-change-learning-rate\n",
        "#optimizer = tf.keras.optimizers.Adam(0.001)\n",
        "#optimizer.learning_rate.assign(0.01)\n",
        "\n",
        "opt = keras.optimizers.SGD(learning_rate=0.001)\n",
        "\n",
        "model.compile(\n",
        "    optimizer=opt,\n",
        "    loss='sparse_categorical_crossentropy',\n",
        "    metrics=['accuracy']\n",
        ")\n",
        "\n",
        "# to be run for categorical cross entropy\n",
        "# model.compile(loss='categorical_crossentropy', optimizer=tf.keras.optimizers.Adam(lr=0.01), metrics=['accuracy'])\n"
      ],
      "execution_count": 17,
      "outputs": []
    },
    {
      "cell_type": "code",
      "metadata": {
        "id": "ASdP3qvxes8r",
        "colab": {
          "base_uri": "https://localhost:8080/"
        },
        "outputId": "dcd0400a-78fd-4111-b7c3-04ba94eca5ed"
      },
      "source": [
        "# make sure that the input data is shuffled before hand so that the model doesn't notice patterns and generalizes well\n",
        "# change y_train to y_hot_encoded when using categorical cross entorpy\n",
        "import time\n",
        "start_time = time.time()\n",
        "history = model.fit(\n",
        "    df,\n",
        "    y_train,\n",
        "    validation_split=0.2,\n",
        "    batch_size=32,\n",
        "    epochs=75)"
      ],
      "execution_count": 18,
      "outputs": [
        {
          "output_type": "stream",
          "text": [
            "Epoch 1/75\n",
            "43/43 [==============================] - 19s 98ms/step - loss: 1.0647 - accuracy: 0.4674 - val_loss: 0.9889 - val_accuracy: 0.6276\n",
            "Epoch 2/75\n",
            "43/43 [==============================] - 4s 86ms/step - loss: 0.9688 - accuracy: 0.6759 - val_loss: 0.9256 - val_accuracy: 0.6628\n",
            "Epoch 3/75\n",
            "43/43 [==============================] - 4s 82ms/step - loss: 0.9109 - accuracy: 0.7651 - val_loss: 0.8764 - val_accuracy: 0.6745\n",
            "Epoch 4/75\n",
            "43/43 [==============================] - 3s 81ms/step - loss: 0.8584 - accuracy: 0.7435 - val_loss: 0.8362 - val_accuracy: 0.6686\n",
            "Epoch 5/75\n",
            "43/43 [==============================] - 4s 86ms/step - loss: 0.8198 - accuracy: 0.7301 - val_loss: 0.8015 - val_accuracy: 0.8592\n",
            "Epoch 6/75\n",
            "43/43 [==============================] - 3s 77ms/step - loss: 0.7809 - accuracy: 0.7941 - val_loss: 0.7720 - val_accuracy: 0.7097\n",
            "Epoch 7/75\n",
            "43/43 [==============================] - 3s 81ms/step - loss: 0.7447 - accuracy: 0.7312 - val_loss: 0.7482 - val_accuracy: 0.8563\n",
            "Epoch 8/75\n",
            "43/43 [==============================] - 4s 89ms/step - loss: 0.7183 - accuracy: 0.8620 - val_loss: 0.7136 - val_accuracy: 0.8387\n",
            "Epoch 9/75\n",
            "43/43 [==============================] - 4s 82ms/step - loss: 0.6896 - accuracy: 0.8170 - val_loss: 0.6884 - val_accuracy: 0.8886\n",
            "Epoch 10/75\n",
            "43/43 [==============================] - 3s 81ms/step - loss: 0.6672 - accuracy: 0.8504 - val_loss: 0.6698 - val_accuracy: 0.7625\n",
            "Epoch 11/75\n",
            "43/43 [==============================] - 4s 87ms/step - loss: 0.6718 - accuracy: 0.8402 - val_loss: 0.6443 - val_accuracy: 0.7918\n",
            "Epoch 12/75\n",
            "43/43 [==============================] - 3s 76ms/step - loss: 0.6350 - accuracy: 0.8240 - val_loss: 0.6259 - val_accuracy: 0.9032\n",
            "Epoch 13/75\n",
            "43/43 [==============================] - 3s 79ms/step - loss: 0.6144 - accuracy: 0.8720 - val_loss: 0.6050 - val_accuracy: 0.8915\n",
            "Epoch 14/75\n",
            "43/43 [==============================] - 4s 90ms/step - loss: 0.5928 - accuracy: 0.8611 - val_loss: 0.5861 - val_accuracy: 0.9208\n",
            "Epoch 15/75\n",
            "43/43 [==============================] - 3s 79ms/step - loss: 0.5655 - accuracy: 0.8712 - val_loss: 0.5727 - val_accuracy: 0.9091\n",
            "Epoch 16/75\n",
            "43/43 [==============================] - 3s 81ms/step - loss: 0.5752 - accuracy: 0.8759 - val_loss: 0.5589 - val_accuracy: 0.8065\n",
            "Epoch 17/75\n",
            "43/43 [==============================] - 3s 77ms/step - loss: 0.5354 - accuracy: 0.8735 - val_loss: 0.5386 - val_accuracy: 0.9179\n",
            "Epoch 18/75\n",
            "43/43 [==============================] - 4s 82ms/step - loss: 0.5399 - accuracy: 0.8801 - val_loss: 0.5235 - val_accuracy: 0.9208\n",
            "Epoch 19/75\n",
            "43/43 [==============================] - 3s 76ms/step - loss: 0.5196 - accuracy: 0.9038 - val_loss: 0.5123 - val_accuracy: 0.9150\n",
            "Epoch 20/75\n",
            "43/43 [==============================] - 3s 78ms/step - loss: 0.5036 - accuracy: 0.9031 - val_loss: 0.5006 - val_accuracy: 0.9062\n",
            "Epoch 21/75\n",
            "43/43 [==============================] - 4s 83ms/step - loss: 0.5171 - accuracy: 0.8802 - val_loss: 0.4842 - val_accuracy: 0.9238\n",
            "Epoch 22/75\n",
            "43/43 [==============================] - 4s 87ms/step - loss: 0.4977 - accuracy: 0.8930 - val_loss: 0.4750 - val_accuracy: 0.9208\n",
            "Epoch 23/75\n",
            "43/43 [==============================] - 3s 81ms/step - loss: 0.4797 - accuracy: 0.8928 - val_loss: 0.4605 - val_accuracy: 0.9208\n",
            "Epoch 24/75\n",
            "43/43 [==============================] - 4s 89ms/step - loss: 0.4469 - accuracy: 0.9129 - val_loss: 0.4589 - val_accuracy: 0.8974\n",
            "Epoch 25/75\n",
            "43/43 [==============================] - 4s 90ms/step - loss: 0.4680 - accuracy: 0.8979 - val_loss: 0.4412 - val_accuracy: 0.9238\n",
            "Epoch 26/75\n",
            "43/43 [==============================] - 4s 84ms/step - loss: 0.4502 - accuracy: 0.9040 - val_loss: 0.4333 - val_accuracy: 0.9120\n",
            "Epoch 27/75\n",
            "43/43 [==============================] - 4s 82ms/step - loss: 0.4429 - accuracy: 0.8976 - val_loss: 0.4239 - val_accuracy: 0.9150\n",
            "Epoch 28/75\n",
            "43/43 [==============================] - 4s 83ms/step - loss: 0.4495 - accuracy: 0.8903 - val_loss: 0.4219 - val_accuracy: 0.9179\n",
            "Epoch 29/75\n",
            "43/43 [==============================] - 4s 83ms/step - loss: 0.4139 - accuracy: 0.8979 - val_loss: 0.4072 - val_accuracy: 0.9150\n",
            "Epoch 30/75\n",
            "43/43 [==============================] - 4s 89ms/step - loss: 0.4198 - accuracy: 0.9005 - val_loss: 0.3997 - val_accuracy: 0.9120\n",
            "Epoch 31/75\n",
            "43/43 [==============================] - 4s 84ms/step - loss: 0.4020 - accuracy: 0.8977 - val_loss: 0.3879 - val_accuracy: 0.9238\n",
            "Epoch 32/75\n",
            "43/43 [==============================] - 3s 73ms/step - loss: 0.4077 - accuracy: 0.8924 - val_loss: 0.3824 - val_accuracy: 0.9150\n",
            "Epoch 33/75\n",
            "43/43 [==============================] - 3s 81ms/step - loss: 0.3956 - accuracy: 0.9012 - val_loss: 0.3769 - val_accuracy: 0.9326\n",
            "Epoch 34/75\n",
            "43/43 [==============================] - 3s 81ms/step - loss: 0.4061 - accuracy: 0.8885 - val_loss: 0.3673 - val_accuracy: 0.9208\n",
            "Epoch 35/75\n",
            "43/43 [==============================] - 3s 79ms/step - loss: 0.3906 - accuracy: 0.8880 - val_loss: 0.3627 - val_accuracy: 0.9179\n",
            "Epoch 36/75\n",
            "43/43 [==============================] - 4s 87ms/step - loss: 0.3942 - accuracy: 0.8920 - val_loss: 0.3575 - val_accuracy: 0.9267\n",
            "Epoch 37/75\n",
            "43/43 [==============================] - 3s 80ms/step - loss: 0.3683 - accuracy: 0.9012 - val_loss: 0.3714 - val_accuracy: 0.8915\n",
            "Epoch 38/75\n",
            "43/43 [==============================] - 4s 89ms/step - loss: 0.3914 - accuracy: 0.8870 - val_loss: 0.3466 - val_accuracy: 0.9267\n",
            "Epoch 39/75\n",
            "43/43 [==============================] - 4s 84ms/step - loss: 0.3492 - accuracy: 0.9064 - val_loss: 0.3404 - val_accuracy: 0.9179\n",
            "Epoch 40/75\n",
            "43/43 [==============================] - 4s 89ms/step - loss: 0.3753 - accuracy: 0.8912 - val_loss: 0.3383 - val_accuracy: 0.9150\n",
            "Epoch 41/75\n",
            "43/43 [==============================] - 3s 76ms/step - loss: 0.3572 - accuracy: 0.8960 - val_loss: 0.3308 - val_accuracy: 0.9208\n",
            "Epoch 42/75\n",
            "43/43 [==============================] - 4s 84ms/step - loss: 0.3457 - accuracy: 0.9018 - val_loss: 0.3304 - val_accuracy: 0.9150\n",
            "Epoch 43/75\n",
            "43/43 [==============================] - 4s 83ms/step - loss: 0.3321 - accuracy: 0.9152 - val_loss: 0.3216 - val_accuracy: 0.9267\n",
            "Epoch 44/75\n",
            "43/43 [==============================] - 4s 89ms/step - loss: 0.3551 - accuracy: 0.8906 - val_loss: 0.3308 - val_accuracy: 0.9032\n",
            "Epoch 45/75\n",
            "43/43 [==============================] - 3s 77ms/step - loss: 0.3597 - accuracy: 0.8926 - val_loss: 0.3164 - val_accuracy: 0.9150\n",
            "Epoch 46/75\n",
            "43/43 [==============================] - 4s 90ms/step - loss: 0.3285 - accuracy: 0.9063 - val_loss: 0.3129 - val_accuracy: 0.9150\n",
            "Epoch 47/75\n",
            "43/43 [==============================] - 4s 89ms/step - loss: 0.3373 - accuracy: 0.9072 - val_loss: 0.3120 - val_accuracy: 0.9091\n",
            "Epoch 48/75\n",
            "43/43 [==============================] - 4s 89ms/step - loss: 0.3359 - accuracy: 0.8964 - val_loss: 0.3031 - val_accuracy: 0.9238\n",
            "Epoch 49/75\n",
            "43/43 [==============================] - 4s 83ms/step - loss: 0.3175 - accuracy: 0.9050 - val_loss: 0.3069 - val_accuracy: 0.9120\n",
            "Epoch 50/75\n",
            "43/43 [==============================] - 3s 73ms/step - loss: 0.3252 - accuracy: 0.9026 - val_loss: 0.2972 - val_accuracy: 0.9296\n",
            "Epoch 51/75\n",
            "43/43 [==============================] - 3s 82ms/step - loss: 0.3291 - accuracy: 0.9015 - val_loss: 0.3012 - val_accuracy: 0.9091\n",
            "Epoch 52/75\n",
            "43/43 [==============================] - 3s 76ms/step - loss: 0.3410 - accuracy: 0.8839 - val_loss: 0.2961 - val_accuracy: 0.9091\n",
            "Epoch 53/75\n",
            "43/43 [==============================] - 4s 85ms/step - loss: 0.3132 - accuracy: 0.9046 - val_loss: 0.3048 - val_accuracy: 0.9003\n",
            "Epoch 54/75\n",
            "43/43 [==============================] - 3s 81ms/step - loss: 0.3301 - accuracy: 0.8878 - val_loss: 0.2855 - val_accuracy: 0.9238\n",
            "Epoch 55/75\n",
            "43/43 [==============================] - 4s 82ms/step - loss: 0.3101 - accuracy: 0.9036 - val_loss: 0.2878 - val_accuracy: 0.9150\n",
            "Epoch 56/75\n",
            "43/43 [==============================] - 3s 77ms/step - loss: 0.3244 - accuracy: 0.8921 - val_loss: 0.2898 - val_accuracy: 0.9062\n",
            "Epoch 57/75\n",
            "43/43 [==============================] - 3s 78ms/step - loss: 0.3231 - accuracy: 0.8942 - val_loss: 0.2811 - val_accuracy: 0.9179\n",
            "Epoch 58/75\n",
            "43/43 [==============================] - 4s 89ms/step - loss: 0.2931 - accuracy: 0.9099 - val_loss: 0.2855 - val_accuracy: 0.9238\n",
            "Epoch 59/75\n",
            "43/43 [==============================] - 4s 84ms/step - loss: 0.3047 - accuracy: 0.8996 - val_loss: 0.2729 - val_accuracy: 0.9267\n",
            "Epoch 60/75\n",
            "43/43 [==============================] - 4s 89ms/step - loss: 0.3182 - accuracy: 0.8941 - val_loss: 0.2750 - val_accuracy: 0.9150\n",
            "Epoch 61/75\n",
            "43/43 [==============================] - 4s 83ms/step - loss: 0.3105 - accuracy: 0.8972 - val_loss: 0.2734 - val_accuracy: 0.9120\n",
            "Epoch 62/75\n",
            "43/43 [==============================] - 4s 88ms/step - loss: 0.3221 - accuracy: 0.8958 - val_loss: 0.2664 - val_accuracy: 0.9296\n",
            "Epoch 63/75\n",
            "43/43 [==============================] - 3s 81ms/step - loss: 0.3004 - accuracy: 0.9050 - val_loss: 0.2658 - val_accuracy: 0.9238\n",
            "Epoch 64/75\n",
            "43/43 [==============================] - 3s 81ms/step - loss: 0.2846 - accuracy: 0.9119 - val_loss: 0.2728 - val_accuracy: 0.9120\n",
            "Epoch 65/75\n",
            "43/43 [==============================] - 3s 80ms/step - loss: 0.2950 - accuracy: 0.9019 - val_loss: 0.2608 - val_accuracy: 0.9238\n",
            "Epoch 66/75\n",
            "43/43 [==============================] - 4s 88ms/step - loss: 0.2795 - accuracy: 0.9178 - val_loss: 0.2641 - val_accuracy: 0.9296\n",
            "Epoch 67/75\n",
            "43/43 [==============================] - 4s 86ms/step - loss: 0.2974 - accuracy: 0.8991 - val_loss: 0.2701 - val_accuracy: 0.9062\n",
            "Epoch 68/75\n",
            "43/43 [==============================] - 3s 78ms/step - loss: 0.3046 - accuracy: 0.8902 - val_loss: 0.2551 - val_accuracy: 0.9267\n",
            "Epoch 69/75\n",
            "43/43 [==============================] - 4s 84ms/step - loss: 0.2865 - accuracy: 0.9057 - val_loss: 0.2536 - val_accuracy: 0.9238\n",
            "Epoch 70/75\n",
            "43/43 [==============================] - 4s 90ms/step - loss: 0.2814 - accuracy: 0.9094 - val_loss: 0.2575 - val_accuracy: 0.9120\n",
            "Epoch 71/75\n",
            "43/43 [==============================] - 4s 84ms/step - loss: 0.2981 - accuracy: 0.9017 - val_loss: 0.2513 - val_accuracy: 0.9238\n",
            "Epoch 72/75\n",
            "43/43 [==============================] - 4s 90ms/step - loss: 0.2837 - accuracy: 0.9047 - val_loss: 0.2510 - val_accuracy: 0.9179\n",
            "Epoch 73/75\n",
            "43/43 [==============================] - 4s 89ms/step - loss: 0.3074 - accuracy: 0.8956 - val_loss: 0.2493 - val_accuracy: 0.9267\n",
            "Epoch 74/75\n",
            "43/43 [==============================] - 4s 90ms/step - loss: 0.2589 - accuracy: 0.9214 - val_loss: 0.2462 - val_accuracy: 0.9267\n",
            "Epoch 75/75\n",
            "43/43 [==============================] - 3s 80ms/step - loss: 0.2717 - accuracy: 0.9099 - val_loss: 0.2474 - val_accuracy: 0.9208\n"
          ],
          "name": "stdout"
        }
      ]
    },
    {
      "cell_type": "code",
      "metadata": {
        "id": "vhwajgGzpvrD",
        "colab": {
          "base_uri": "https://localhost:8080/"
        },
        "outputId": "7e6244cb-4f7d-460e-b083-3d13fc22a4e2"
      },
      "source": [
        "history.history"
      ],
      "execution_count": 19,
      "outputs": [
        {
          "output_type": "execute_result",
          "data": {
            "text/plain": [
              "{'accuracy': [0.5395894646644592,\n",
              "  0.6766862273216248,\n",
              "  0.7543988227844238,\n",
              "  0.7507331371307373,\n",
              "  0.7434017658233643,\n",
              "  0.7829912304878235,\n",
              "  0.7434017658233643,\n",
              "  0.8174486756324768,\n",
              "  0.8079178929328918,\n",
              "  0.8401759266853333,\n",
              "  0.8445748090744019,\n",
              "  0.839442789554596,\n",
              "  0.8621701002120972,\n",
              "  0.8599706888198853,\n",
              "  0.8643695116043091,\n",
              "  0.8797653913497925,\n",
              "  0.8768328428268433,\n",
              "  0.8848973512649536,\n",
              "  0.8878298997879028,\n",
              "  0.8900293111801147,\n",
              "  0.892961859703064,\n",
              "  0.892961859703064,\n",
              "  0.8966275453567505,\n",
              "  0.8914955854415894,\n",
              "  0.8958944082260132,\n",
              "  0.900293231010437,\n",
              "  0.8966275453567505,\n",
              "  0.892961859703064,\n",
              "  0.8995600938796997,\n",
              "  0.9017595052719116,\n",
              "  0.8914955854415894,\n",
              "  0.8944281339645386,\n",
              "  0.8936949968338013,\n",
              "  0.9032257795333862,\n",
              "  0.892961859703064,\n",
              "  0.9024926424026489,\n",
              "  0.8980938196182251,\n",
              "  0.8980938196182251,\n",
              "  0.8914955854415894,\n",
              "  0.9017595052719116,\n",
              "  0.8988269567489624,\n",
              "  0.8973606824874878,\n",
              "  0.9017595052719116,\n",
              "  0.9010263681411743,\n",
              "  0.9024926424026489,\n",
              "  0.8980938196182251,\n",
              "  0.9017595052719116,\n",
              "  0.900293231010437,\n",
              "  0.8944281339645386,\n",
              "  0.9046920537948608,\n",
              "  0.9054251909255981,\n",
              "  0.8958944082260132,\n",
              "  0.9068915247917175,\n",
              "  0.8995600938796997,\n",
              "  0.9024926424026489,\n",
              "  0.8995600938796997,\n",
              "  0.9046920537948608,\n",
              "  0.9039589166641235,\n",
              "  0.9017595052719116,\n",
              "  0.9024926424026489,\n",
              "  0.9032257795333862,\n",
              "  0.9017595052719116,\n",
              "  0.9068915247917175,\n",
              "  0.9061583280563354,\n",
              "  0.9017595052719116,\n",
              "  0.9039589166641235,\n",
              "  0.9068915247917175,\n",
              "  0.9024926424026489,\n",
              "  0.9068915247917175,\n",
              "  0.9068915247917175,\n",
              "  0.9068915247917175,\n",
              "  0.9112903475761414,\n",
              "  0.9076246619224548,\n",
              "  0.9083577990531921,\n",
              "  0.9032257795333862],\n",
              " 'loss': [1.0424326658248901,\n",
              "  0.9554206132888794,\n",
              "  0.8977822065353394,\n",
              "  0.8532452583312988,\n",
              "  0.8136340975761414,\n",
              "  0.7804140448570251,\n",
              "  0.7501296401023865,\n",
              "  0.7239736318588257,\n",
              "  0.6981455087661743,\n",
              "  0.6748770475387573,\n",
              "  0.653631865978241,\n",
              "  0.6320437788963318,\n",
              "  0.6137689352035522,\n",
              "  0.5951954126358032,\n",
              "  0.5756354331970215,\n",
              "  0.5639018416404724,\n",
              "  0.5481076836585999,\n",
              "  0.5361378192901611,\n",
              "  0.5236000418663025,\n",
              "  0.5100992918014526,\n",
              "  0.49899160861968994,\n",
              "  0.48818156123161316,\n",
              "  0.47738516330718994,\n",
              "  0.46721151471138,\n",
              "  0.45972374081611633,\n",
              "  0.4477733373641968,\n",
              "  0.4408867359161377,\n",
              "  0.4327607750892639,\n",
              "  0.4253252446651459,\n",
              "  0.4165385365486145,\n",
              "  0.4106317460536957,\n",
              "  0.4045133590698242,\n",
              "  0.3992460370063782,\n",
              "  0.39149752259254456,\n",
              "  0.3875595033168793,\n",
              "  0.3808336853981018,\n",
              "  0.3753232955932617,\n",
              "  0.3713631331920624,\n",
              "  0.3673429489135742,\n",
              "  0.36261698603630066,\n",
              "  0.356681764125824,\n",
              "  0.35372331738471985,\n",
              "  0.3495173156261444,\n",
              "  0.34551405906677246,\n",
              "  0.34309813380241394,\n",
              "  0.3398717939853668,\n",
              "  0.3373439311981201,\n",
              "  0.33597007393836975,\n",
              "  0.3304738700389862,\n",
              "  0.3268730938434601,\n",
              "  0.32525894045829773,\n",
              "  0.3224600851535797,\n",
              "  0.31910017132759094,\n",
              "  0.31732091307640076,\n",
              "  0.3147510588169098,\n",
              "  0.3141357898712158,\n",
              "  0.3107738792896271,\n",
              "  0.3072231113910675,\n",
              "  0.30629900097846985,\n",
              "  0.3042367994785309,\n",
              "  0.30338191986083984,\n",
              "  0.30305594205856323,\n",
              "  0.3003828823566437,\n",
              "  0.29606887698173523,\n",
              "  0.29738304018974304,\n",
              "  0.29306960105895996,\n",
              "  0.2930488586425781,\n",
              "  0.291283518075943,\n",
              "  0.2882341146469116,\n",
              "  0.2865256369113922,\n",
              "  0.2857922315597534,\n",
              "  0.2827598452568054,\n",
              "  0.28564491868019104,\n",
              "  0.28129011392593384,\n",
              "  0.28115931153297424],\n",
              " 'val_accuracy': [0.6275659799575806,\n",
              "  0.662756621837616,\n",
              "  0.6744868159294128,\n",
              "  0.6686217188835144,\n",
              "  0.859237551689148,\n",
              "  0.7096773982048035,\n",
              "  0.8563050031661987,\n",
              "  0.8387096524238586,\n",
              "  0.8885630369186401,\n",
              "  0.7624633312225342,\n",
              "  0.7917888760566711,\n",
              "  0.9032257795333862,\n",
              "  0.8914955854415894,\n",
              "  0.9208211302757263,\n",
              "  0.9090909361839294,\n",
              "  0.8064516186714172,\n",
              "  0.9178885817527771,\n",
              "  0.9208211302757263,\n",
              "  0.9149560332298279,\n",
              "  0.9061583280563354,\n",
              "  0.9237536787986755,\n",
              "  0.9208211302757263,\n",
              "  0.9208211302757263,\n",
              "  0.8973606824874878,\n",
              "  0.9237536787986755,\n",
              "  0.9120234847068787,\n",
              "  0.9149560332298279,\n",
              "  0.9178885817527771,\n",
              "  0.9149560332298279,\n",
              "  0.9120234847068787,\n",
              "  0.9237536787986755,\n",
              "  0.9149560332298279,\n",
              "  0.9325513243675232,\n",
              "  0.9208211302757263,\n",
              "  0.9178885817527771,\n",
              "  0.9266862273216248,\n",
              "  0.8914955854415894,\n",
              "  0.9266862273216248,\n",
              "  0.9178885817527771,\n",
              "  0.9149560332298279,\n",
              "  0.9208211302757263,\n",
              "  0.9149560332298279,\n",
              "  0.9266862273216248,\n",
              "  0.9032257795333862,\n",
              "  0.9149560332298279,\n",
              "  0.9149560332298279,\n",
              "  0.9090909361839294,\n",
              "  0.9237536787986755,\n",
              "  0.9120234847068787,\n",
              "  0.929618775844574,\n",
              "  0.9090909361839294,\n",
              "  0.9090909361839294,\n",
              "  0.900293231010437,\n",
              "  0.9237536787986755,\n",
              "  0.9149560332298279,\n",
              "  0.9061583280563354,\n",
              "  0.9178885817527771,\n",
              "  0.9237536787986755,\n",
              "  0.9266862273216248,\n",
              "  0.9149560332298279,\n",
              "  0.9120234847068787,\n",
              "  0.929618775844574,\n",
              "  0.9237536787986755,\n",
              "  0.9120234847068787,\n",
              "  0.9237536787986755,\n",
              "  0.929618775844574,\n",
              "  0.9061583280563354,\n",
              "  0.9266862273216248,\n",
              "  0.9237536787986755,\n",
              "  0.9120234847068787,\n",
              "  0.9237536787986755,\n",
              "  0.9178885817527771,\n",
              "  0.9266862273216248,\n",
              "  0.9266862273216248,\n",
              "  0.9208211302757263],\n",
              " 'val_loss': [0.9888817667961121,\n",
              "  0.9255749583244324,\n",
              "  0.8763863444328308,\n",
              "  0.8361790180206299,\n",
              "  0.8015121221542358,\n",
              "  0.7719813585281372,\n",
              "  0.7481954097747803,\n",
              "  0.7135918736457825,\n",
              "  0.6884220838546753,\n",
              "  0.6698341965675354,\n",
              "  0.6442643404006958,\n",
              "  0.6259273886680603,\n",
              "  0.6049989461898804,\n",
              "  0.5860965251922607,\n",
              "  0.5727253556251526,\n",
              "  0.5589259266853333,\n",
              "  0.5386489629745483,\n",
              "  0.5235040187835693,\n",
              "  0.5123302936553955,\n",
              "  0.5006341934204102,\n",
              "  0.4842078387737274,\n",
              "  0.4749550521373749,\n",
              "  0.4605267345905304,\n",
              "  0.45892366766929626,\n",
              "  0.4411504864692688,\n",
              "  0.43329131603240967,\n",
              "  0.42390158772468567,\n",
              "  0.42191317677497864,\n",
              "  0.40719032287597656,\n",
              "  0.3996642529964447,\n",
              "  0.38792702555656433,\n",
              "  0.3823671340942383,\n",
              "  0.3769230544567108,\n",
              "  0.36733779311180115,\n",
              "  0.3627170920372009,\n",
              "  0.3574727475643158,\n",
              "  0.37142109870910645,\n",
              "  0.34660011529922485,\n",
              "  0.34042415022850037,\n",
              "  0.3383258283138275,\n",
              "  0.3307968080043793,\n",
              "  0.33044663071632385,\n",
              "  0.32160401344299316,\n",
              "  0.33082661032676697,\n",
              "  0.31637927889823914,\n",
              "  0.3129132091999054,\n",
              "  0.3120485842227936,\n",
              "  0.30311456322669983,\n",
              "  0.30686622858047485,\n",
              "  0.29718536138534546,\n",
              "  0.3012368083000183,\n",
              "  0.29608458280563354,\n",
              "  0.30479127168655396,\n",
              "  0.28546619415283203,\n",
              "  0.28777337074279785,\n",
              "  0.28981417417526245,\n",
              "  0.2811119854450226,\n",
              "  0.2855149805545807,\n",
              "  0.27285236120224,\n",
              "  0.2750287652015686,\n",
              "  0.27341318130493164,\n",
              "  0.2664492726325989,\n",
              "  0.26575493812561035,\n",
              "  0.2728327214717865,\n",
              "  0.2608458995819092,\n",
              "  0.26407837867736816,\n",
              "  0.2700626254081726,\n",
              "  0.25506630539894104,\n",
              "  0.2536320984363556,\n",
              "  0.25750213861465454,\n",
              "  0.25130632519721985,\n",
              "  0.25099509954452515,\n",
              "  0.2493096888065338,\n",
              "  0.24615821242332458,\n",
              "  0.24736528098583221]}"
            ]
          },
          "metadata": {
            "tags": []
          },
          "execution_count": 19
        }
      ]
    },
    {
      "cell_type": "code",
      "metadata": {
        "colab": {
          "base_uri": "https://localhost:8080/"
        },
        "id": "Kyn1dHRRJ5Wn",
        "outputId": "6759c652-602c-49c0-ea3f-47b31d66b4af"
      },
      "source": [
        "print(\"--- %s seconds ---\" % (time.time() - start_time))\n"
      ],
      "execution_count": 20,
      "outputs": [
        {
          "output_type": "stream",
          "text": [
            "--- 284.13894724845886 seconds ---\n"
          ],
          "name": "stdout"
        }
      ]
    },
    {
      "cell_type": "code",
      "metadata": {
        "id": "rOU0i1e6jhr3"
      },
      "source": [
        "x_test = X_test #returns a numpy array\n",
        "min_max_scaler = preprocessing.MinMaxScaler()\n",
        "x_scaled_test = min_max_scaler.fit_transform(x_test)\n",
        "df_test = pd.DataFrame(x_scaled_test)"
      ],
      "execution_count": 21,
      "outputs": []
    },
    {
      "cell_type": "code",
      "metadata": {
        "id": "OgeGekJ8lW6S"
      },
      "source": [
        "predictions = model.predict(x=df_test, batch_size=32)"
      ],
      "execution_count": 22,
      "outputs": []
    },
    {
      "cell_type": "code",
      "metadata": {
        "id": "1o6zqIsfl2QX"
      },
      "source": [
        "rounded_predictions = np.argmax(predictions, axis=-1)"
      ],
      "execution_count": 23,
      "outputs": []
    },
    {
      "cell_type": "code",
      "metadata": {
        "id": "NQTy4F7TmotU"
      },
      "source": [
        "cm = confusion_matrix(y_true=y_test, y_pred=rounded_predictions)"
      ],
      "execution_count": 24,
      "outputs": []
    },
    {
      "cell_type": "code",
      "metadata": {
        "colab": {
          "base_uri": "https://localhost:8080/",
          "height": 717
        },
        "id": "rieDywHXuA6R",
        "outputId": "361a5883-2810-4a09-b07f-1a73019a225f"
      },
      "source": [
        "label_mapping = {'NEGATIVE': 0, 'NEUTRAL': 1, 'POSITIVE': 2}\n",
        "# for diff dataset\n",
        "# label_mapping = {'NEGATIVE': 0, 'POSITIVE': 1}\n",
        "plt.figure(figsize=(8, 8))\n",
        "sns.heatmap(cm, annot=True, vmin=0, fmt='g', cbar=False, cmap='Blues')\n",
        "clr = classification_report(y_test, rounded_predictions, target_names=label_mapping.keys())\n",
        "plt.xticks(np.arange(3) + 0.5, label_mapping.keys())\n",
        "plt.yticks(np.arange(3) + 0.5, label_mapping.keys())\n",
        "plt.xlabel(\"Predicted\")\n",
        "plt.ylabel(\"Actual\")\n",
        "plt.title(\"Confusion Matrix\")\n",
        "plt.show()\n",
        "\n",
        "print(\"Classification Report:\\n----------------------\\n\", clr)\n",
        "\n"
      ],
      "execution_count": 25,
      "outputs": [
        {
          "output_type": "display_data",
          "data": {
            "image/png": "[encoded data removed]",
            "text/plain": [
              "<Figure size 576x576 with 1 Axes>"
            ]
          },
          "metadata": {
            "tags": [],
            "needs_background": "light"
          }
        },
        {
          "output_type": "stream",
          "text": [
            "Classification Report:\n",
            "----------------------\n",
            "               precision    recall  f1-score   support\n",
            "\n",
            "    NEGATIVE       0.96      0.71      0.82       137\n",
            "     NEUTRAL       0.75      0.80      0.77       147\n",
            "    POSITIVE       0.84      0.99      0.91       143\n",
            "\n",
            "    accuracy                           0.83       427\n",
            "   macro avg       0.85      0.83      0.83       427\n",
            "weighted avg       0.85      0.83      0.83       427\n",
            "\n"
          ],
          "name": "stdout"
        }
      ]
    },
    {
      "cell_type": "code",
      "metadata": {
        "id": "s5wbr_oav-Kb"
      },
      "source": [
        "# https://stackoverflow.com/questions/26413185/how-to-recover-matplotlib-defaults-after-setting-stylesheet\n",
        "import matplotlib as mpl\n",
        "mpl.rcParams.update(mpl.rcParamsDefault)"
      ],
      "execution_count": 26,
      "outputs": []
    },
    {
      "cell_type": "code",
      "metadata": {
        "id": "73HZGymlybP2"
      },
      "source": [
        "training_acc = history.history['accuracy']\n",
        "validation_acc = history.history['val_accuracy']\n",
        "training_loss  = history.history['loss']\n",
        "validation_loss = history.history['val_loss']"
      ],
      "execution_count": 27,
      "outputs": []
    },
    {
      "cell_type": "code",
      "metadata": {
        "colab": {
          "base_uri": "https://localhost:8080/",
          "height": 472
        },
        "id": "1jgMVKMDyxck",
        "outputId": "d3d696bb-ea35-4c52-84ec-3ce80a279997"
      },
      "source": [
        "epochs = history.epoch\n",
        "plt.plot(epochs, training_acc, color = '#17e6e6', label='Training Accuracy')\n",
        "plt.plot(epochs, validation_acc,color = '#e61771', label='Validation Accuracy')\n",
        "plt.title('Accuracy vs Epochs')\n",
        "plt.xlabel('Epochs')\n",
        "plt.ylabel('Accuracy')\n",
        "plt.legend()\n",
        "plt.savefig('AccuracyVsEpochs.png')\n",
        "plt.show()\n",
        "from google.colab import files\n",
        "files.download('AccuracyVsEpochs.png') \n"
      ],
      "execution_count": 28,
      "outputs": [
        {
          "output_type": "display_data",
          "data": {
            "image/png": "[encoded data removed]",
            "text/plain": [
              "<Figure size 640x480 with 1 Axes>"
            ]
          },
          "metadata": {
            "tags": []
          }
        },
        {
          "output_type": "display_data",
          "data": {
            "application/javascript": [
              "\n",
              "    async function download(id, filename, size) {\n",
              "      if (!google.colab.kernel.accessAllowed) {\n",
              "        return;\n",
              "      }\n",
              "      const div = document.createElement('div');\n",
              "      const label = document.createElement('label');\n",
              "      label.textContent = `Downloading \"${filename}\": `;\n",
              "      div.appendChild(label);\n",
              "      const progress = document.createElement('progress');\n",
              "      progress.max = size;\n",
              "      div.appendChild(progress);\n",
              "      document.body.appendChild(div);\n",
              "\n",
              "      const buffers = [];\n",
              "      let downloaded = 0;\n",
              "\n",
              "      const channel = await google.colab.kernel.comms.open(id);\n",
              "      // Send a message to notify the kernel that we're ready.\n",
              "      channel.send({})\n",
              "\n",
              "      for await (const message of channel.messages) {\n",
              "        // Send a message to notify the kernel that we're ready.\n",
              "        channel.send({})\n",
              "        if (message.buffers) {\n",
              "          for (const buffer of message.buffers) {\n",
              "            buffers.push(buffer);\n",
              "            downloaded += buffer.byteLength;\n",
              "            progress.value = downloaded;\n",
              "          }\n",
              "        }\n",
              "      }\n",
              "      const blob = new Blob(buffers, {type: 'application/binary'});\n",
              "      const a = document.createElement('a');\n",
              "      a.href = window.URL.createObjectURL(blob);\n",
              "      a.download = filename;\n",
              "      div.appendChild(a);\n",
              "      a.click();\n",
              "      div.remove();\n",
              "    }\n",
              "  "
            ],
            "text/plain": [
              "<IPython.core.display.Javascript object>"
            ]
          },
          "metadata": {
            "tags": []
          }
        },
        {
          "output_type": "display_data",
          "data": {
            "application/javascript": [
              "download(\"download_75cc914c-6f69-4845-bdbb-30b36ee7e35d\", \"AccuracyVsEpochs.png\", 44562)"
            ],
            "text/plain": [
              "<IPython.core.display.Javascript object>"
            ]
          },
          "metadata": {
            "tags": []
          }
        }
      ]
    }
  ]
}